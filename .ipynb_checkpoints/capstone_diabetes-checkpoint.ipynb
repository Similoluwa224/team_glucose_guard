{
 "cells": [
  {
   "cell_type": "markdown",
   "id": "a7ca0b1c",
   "metadata": {},
   "source": [
    "# **CASE STUDY II: HEALTHCARE – EARLY DETECTION OF DIABETES**\n",
    "### *TEAM GLUCOSE-GUARD DATA SCIENCE CAPSTONE PROJECT*"
   ]
  },
  {
   "cell_type": "markdown",
   "id": "4995f5e5",
   "metadata": {},
   "source": [
    "## **TEAM MEMBERS**"
   ]
  },
  {
   "cell_type": "markdown",
   "id": "5a7f619a",
   "metadata": {},
   "source": [
    "1. Similoluwa Okusanya (Team Lead)\n",
    "2. Abisade Adegboye\n",
    "3. Adeyanju Hassabat\n",
    "4. Ayodele Jewoola\n",
    "5. Shalom Doufodji\n",
    "6. Simisola Araba\n",
    "7. Tomiwa Ayankunle\n",
    "8. Wonder Munga"
   ]
  },
  {
   "cell_type": "markdown",
   "id": "d4ffe5bb",
   "metadata": {},
   "source": [
    "## **TABLE OF CONTENTS**"
   ]
  },
  {
   "cell_type": "markdown",
   "id": "d62b98d3",
   "metadata": {},
   "source": [
    "- [**1.0 INTRODUCTION**](#10-introduction)\n",
    "    - [1.1 Background](#11-background)\n",
    "    - [1.2 Objectives](#12-objectives)\n",
    "    - [1.3 Dataset Overview](#13-dataset-overview)\n",
    "- [**2.0 DATA PREPARATION**](#20-data-preparation)\n",
    "    - [2.1 Importation of Libraries](#21-importation-of-libraries)\n",
    "    - [2.2 Loading of Dataset](#22-loading-of-dataset)\n",
    "- [**3.0 DATA CLEANING**](#30-data-cleaning)\n",
    "    - [3.1 Identifying Columns where Zeros are Invalid](#31-identifying-columns-where-zeros-are-invalid)\n",
    "    - [3.2 Creating Missingness Indicator Flags](#32-creating-missingness-indicator-flags)\n",
    "    - [3.3 Replacing Zeros with NaN](#33-replacing-zeros-with-nan)\n",
    "    - [3.4 Applying Iterative Imputer (MICE)](#34-applying-iterative-imputer-multivariate-imputation-by-chained-equations-mice)\n",
    "    - [3.5 Comparison of Values Before and After](#35-comparison-of-values-before-and-after)\n",
    "    - [3.6 Combining Imputed Data with Target](#36-combining-imputed-data-with-target)\n",
    "    - [3.7 Final Imouted Dataset](#37-final-imputed-dataset)\n",
    "- [**4.0 DATA ANALYSIS**](#40-data-analysis)\n",
    "    - [4.1 Explorative Data Analysis (EDA)](#41-explorative-data-analysis-eda)\n",
    "    - [4.2 Descriptive Statistics](#42-descriptive-statistics)\n",
    "    - [4.3 Inferential Statistics](#43-inferential-statistics)\n",
    "    - [4.4 Summary of Key Findings from Data Analysis](#44-summary-of-key-findings-from-data-analysis)\n",
    "- [**5.0 FEATURE ENGINEERING**](#50-feature-engineering)\n",
    "    - [5.1 Setting the X and y Variables](#51-setting-the-x--y-variables)\n",
    "    - [5.2 Encoding the Categorical Variables](#52-encoding-the-categorical-variables)\n",
    "    - [5.3 Train-Test Split (80/20)](#53-train-test-split-8020)\n",
    "    - [5.4 Scaling Numeric Features with StandardScaler](#54-scaling-numeric-features-with-standardscaler)\n",
    "    - [5.5 Final Training & Testing Data](#55-final-training--testing-data)\n",
    "    - [5.6 Handling Class Imbalance](#56-handling-class-imbalance)\n",
    "- [**6.0 MODEL BUILDING & EVALUATION**](#60-model-building--evaluation)\n"
   ]
  },
  {
   "cell_type": "markdown",
   "id": "4a17c550",
   "metadata": {},
   "source": [
    "## **1.0 INTRODUCTION**"
   ]
  },
  {
   "cell_type": "markdown",
   "id": "893342a7",
   "metadata": {},
   "source": [
    "### 1.1 Background  \n",
    "A mobile health clinic aims to pre-screen patients for diabetes using basic health indicators. This initiative seeks to reduce hospital crowding and allow healthcare providers to focus resources on individuals at higher risk of developing diabetes.\n",
    "\n",
    "Using exploratory data analysis (EDA), this project uncovers the key factors that influence the risk of diabetes. Subsequently, classification models are developed to predict whether a person has diabetes based on clinical attributes such as body mass index (BMI), glucose levels, insulin levels, and age."
   ]
  },
  {
   "cell_type": "markdown",
   "id": "565fb849",
   "metadata": {},
   "source": [
    "### 1.2 Objectives\n",
    "1. Perform exploratory data analysis (EDA) to identify factors that greatly influence the risk of diabetes.\n",
    "\n",
    "2. Develop classification models to predict if a person has diabetes based on health attributes like BMI, glucose levels, insulin levels, and age."
   ]
  },
  {
   "cell_type": "markdown",
   "id": "59d36918",
   "metadata": {},
   "source": [
    "### 1.3 Dataset Overview\n",
    "The Pima Indians Diabetes Dataset, sourced from [Kaggle](https://www.kaggle.com/datasets/uciml/pima-indians-diabetes-database), contains 768 medical records of female patients of Pima Indian heritage. It includes 8 clinical features such as glucose concentration, blood pressure, BMI, insulin levels, and age.\n",
    "\n",
    "This dataset is widely used in diabetes prediction studies due to its clinical relevance and manageable size, making it ideal for exploratory data analysis and machine learning classification tasks."
   ]
  },
  {
   "cell_type": "markdown",
   "id": "4f6516aa",
   "metadata": {},
   "source": [
    "###\n",
    "Back to :\n",
    "\n",
    "- [Table of Contents](#table-of-contents)"
   ]
  },
  {
   "cell_type": "markdown",
   "id": "62c61caf",
   "metadata": {},
   "source": [
    "## **2.0 DATA PREPARATION**"
   ]
  },
  {
   "cell_type": "markdown",
   "id": "07fe00bd",
   "metadata": {},
   "source": [
    "### 2.1 Importation of Libraries"
   ]
  },
  {
   "cell_type": "code",
   "execution_count": 1,
   "id": "15b04c8c",
   "metadata": {},
   "outputs": [],
   "source": [
    "# Import Libaries\n",
    "\n",
    "## For data cleaning and descriptive statistics\n",
    "import pandas as pd # for data manipulation\n",
    "import numpy as np #for numerical operations\n",
    "from sklearn.experimental import enable_iterative_imputer\n",
    "from sklearn.impute import IterativeImputer # for advanced missing value imputation\n",
    "\n",
    "## For EDA\n",
    "import matplotlib.pyplot as plt # for plotting\n",
    "import seaborn as sns # for advanced plotting\n",
    "from scipy.stats import spearmanr, pearsonr # for correlation analysis\n",
    "from statsmodels.stats.outliers_influence import variance_inflation_factor # to detect multicollinearity\n",
    "import statsmodels.api as sm # to add a constant term (intercept) to the feature matrix\n",
    "sns.set(style='whitegrid') # Set seaborn style\n",
    "\n",
    "## For inferential statistics\n",
    "from scipy.stats import ttest_ind #for hypothesis testing across 2groups\n",
    "from scipy.stats import f_oneway #for hypothesis testing across 3 or more groups\n",
    "from scipy.stats import chi2_contingency #for testing for independence\n",
    "import statsmodels.api as sm #used for anova table\n",
    "from statsmodels.formula.api import ols #create a model and fitting\n",
    "\n",
    "## For feature engineering and model building & evaluation\n",
    "from sklearn.model_selection import train_test_split, GridSearchCV, StratifiedKFold\n",
    "from sklearn.preprocessing import StandardScaler\n",
    "from sklearn.preprocessing import LabelEncoder\n",
    "from sklearn.metrics import (\n",
    "    recall_score, f1_score, roc_auc_score,\n",
    "    confusion_matrix, ConfusionMatrixDisplay\n",
    ")\n",
    "from sklearn.linear_model import LogisticRegression\n",
    "from sklearn.ensemble import RandomForestClassifier\n",
    "from sklearn.neighbors import KNeighborsClassifier\n",
    "from sklearn.model_selection import train_test_split\n",
    "from imblearn.over_sampling import SMOTE\n",
    "import joblib"
   ]
  },
  {
   "cell_type": "markdown",
   "id": "5dae7f27",
   "metadata": {},
   "source": [
    "### 2.2 Loading of Dataset"
   ]
  },
  {
   "cell_type": "code",
   "execution_count": 2,
   "id": "dfa1bde9",
   "metadata": {
    "scrolled": true
   },
   "outputs": [
    {
     "data": {
      "text/html": [
       "<div>\n",
       "<style scoped>\n",
       "    .dataframe tbody tr th:only-of-type {\n",
       "        vertical-align: middle;\n",
       "    }\n",
       "\n",
       "    .dataframe tbody tr th {\n",
       "        vertical-align: top;\n",
       "    }\n",
       "\n",
       "    .dataframe thead th {\n",
       "        text-align: right;\n",
       "    }\n",
       "</style>\n",
       "<table border=\"1\" class=\"dataframe\">\n",
       "  <thead>\n",
       "    <tr style=\"text-align: right;\">\n",
       "      <th></th>\n",
       "      <th>Pregnancies</th>\n",
       "      <th>Glucose</th>\n",
       "      <th>BloodPressure</th>\n",
       "      <th>SkinThickness</th>\n",
       "      <th>Insulin</th>\n",
       "      <th>BMI</th>\n",
       "      <th>DiabetesPedigreeFunction</th>\n",
       "      <th>Age</th>\n",
       "      <th>Outcome</th>\n",
       "    </tr>\n",
       "  </thead>\n",
       "  <tbody>\n",
       "    <tr>\n",
       "      <th>0</th>\n",
       "      <td>6</td>\n",
       "      <td>148</td>\n",
       "      <td>72</td>\n",
       "      <td>35</td>\n",
       "      <td>0</td>\n",
       "      <td>33.6</td>\n",
       "      <td>0.627</td>\n",
       "      <td>50</td>\n",
       "      <td>1</td>\n",
       "    </tr>\n",
       "    <tr>\n",
       "      <th>1</th>\n",
       "      <td>1</td>\n",
       "      <td>85</td>\n",
       "      <td>66</td>\n",
       "      <td>29</td>\n",
       "      <td>0</td>\n",
       "      <td>26.6</td>\n",
       "      <td>0.351</td>\n",
       "      <td>31</td>\n",
       "      <td>0</td>\n",
       "    </tr>\n",
       "    <tr>\n",
       "      <th>2</th>\n",
       "      <td>8</td>\n",
       "      <td>183</td>\n",
       "      <td>64</td>\n",
       "      <td>0</td>\n",
       "      <td>0</td>\n",
       "      <td>23.3</td>\n",
       "      <td>0.672</td>\n",
       "      <td>32</td>\n",
       "      <td>1</td>\n",
       "    </tr>\n",
       "    <tr>\n",
       "      <th>3</th>\n",
       "      <td>1</td>\n",
       "      <td>89</td>\n",
       "      <td>66</td>\n",
       "      <td>23</td>\n",
       "      <td>94</td>\n",
       "      <td>28.1</td>\n",
       "      <td>0.167</td>\n",
       "      <td>21</td>\n",
       "      <td>0</td>\n",
       "    </tr>\n",
       "    <tr>\n",
       "      <th>4</th>\n",
       "      <td>0</td>\n",
       "      <td>137</td>\n",
       "      <td>40</td>\n",
       "      <td>35</td>\n",
       "      <td>168</td>\n",
       "      <td>43.1</td>\n",
       "      <td>2.288</td>\n",
       "      <td>33</td>\n",
       "      <td>1</td>\n",
       "    </tr>\n",
       "  </tbody>\n",
       "</table>\n",
       "</div>"
      ],
      "text/plain": [
       "   Pregnancies  Glucose  BloodPressure  SkinThickness  Insulin   BMI  \\\n",
       "0            6      148             72             35        0  33.6   \n",
       "1            1       85             66             29        0  26.6   \n",
       "2            8      183             64              0        0  23.3   \n",
       "3            1       89             66             23       94  28.1   \n",
       "4            0      137             40             35      168  43.1   \n",
       "\n",
       "   DiabetesPedigreeFunction  Age  Outcome  \n",
       "0                     0.627   50        1  \n",
       "1                     0.351   31        0  \n",
       "2                     0.672   32        1  \n",
       "3                     0.167   21        0  \n",
       "4                     2.288   33        1  "
      ]
     },
     "execution_count": 2,
     "metadata": {},
     "output_type": "execute_result"
    }
   ],
   "source": [
    "# Loading dataset\n",
    "df = pd.read_csv (\"./diabetes.csv\")\n",
    "\n",
    "# Return first 5 rows\n",
    "df.head()"
   ]
  },
  {
   "cell_type": "code",
   "execution_count": 3,
   "id": "a0a8e719",
   "metadata": {},
   "outputs": [
    {
     "name": "stdout",
     "output_type": "stream",
     "text": [
      "<class 'pandas.core.frame.DataFrame'>\n",
      "RangeIndex: 768 entries, 0 to 767\n",
      "Data columns (total 9 columns):\n",
      " #   Column                    Non-Null Count  Dtype  \n",
      "---  ------                    --------------  -----  \n",
      " 0   Pregnancies               768 non-null    int64  \n",
      " 1   Glucose                   768 non-null    int64  \n",
      " 2   BloodPressure             768 non-null    int64  \n",
      " 3   SkinThickness             768 non-null    int64  \n",
      " 4   Insulin                   768 non-null    int64  \n",
      " 5   BMI                       768 non-null    float64\n",
      " 6   DiabetesPedigreeFunction  768 non-null    float64\n",
      " 7   Age                       768 non-null    int64  \n",
      " 8   Outcome                   768 non-null    int64  \n",
      "dtypes: float64(2), int64(7)\n",
      "memory usage: 54.1 KB\n"
     ]
    }
   ],
   "source": [
    "# Summary of dataframe\n",
    "df.info()"
   ]
  },
  {
   "cell_type": "markdown",
   "id": "ec6f5a55",
   "metadata": {},
   "source": [
    "###\n",
    "Back to :\n",
    "\n",
    "- [Table of Contents](#table-of-contents)"
   ]
  },
  {
   "cell_type": "markdown",
   "id": "0f9ec1d3",
   "metadata": {},
   "source": [
    "## **3.0 DATA CLEANING**"
   ]
  },
  {
   "cell_type": "markdown",
   "id": "c4e545bb",
   "metadata": {},
   "source": [
    "### 3.1 Identifying columns where zeros are invalid"
   ]
  },
  {
   "cell_type": "code",
   "execution_count": 4,
   "id": "4c70e1f5",
   "metadata": {},
   "outputs": [
    {
     "name": "stdout",
     "output_type": "stream",
     "text": [
      "These features should not be zero for real patients:['Glucose', 'BloodPressure', 'SkinThickness', 'Insulin', 'BMI']\n"
     ]
    }
   ],
   "source": [
    "# Columns where 0 is likely a missing value\n",
    "zero_as_missing = [\"Glucose\", \"BloodPressure\", \"SkinThickness\", \"Insulin\", \"BMI\"]\n",
    "print (f\"These features should not be zero for real patients:{zero_as_missing}\")"
   ]
  },
  {
   "cell_type": "markdown",
   "id": "3b8189a9",
   "metadata": {},
   "source": [
    "### 3.2 Creating Missingness Indicator Flags"
   ]
  },
  {
   "cell_type": "code",
   "execution_count": 5,
   "id": "88419b78",
   "metadata": {},
   "outputs": [],
   "source": [
    "# Adding missingness flags\n",
    "for col in zero_as_missing:\n",
    "    df[col + \"_missing\"] = df [col] == 0"
   ]
  },
  {
   "cell_type": "code",
   "execution_count": 6,
   "id": "99c42970",
   "metadata": {},
   "outputs": [
    {
     "data": {
      "text/html": [
       "<div>\n",
       "<style scoped>\n",
       "    .dataframe tbody tr th:only-of-type {\n",
       "        vertical-align: middle;\n",
       "    }\n",
       "\n",
       "    .dataframe tbody tr th {\n",
       "        vertical-align: top;\n",
       "    }\n",
       "\n",
       "    .dataframe thead th {\n",
       "        text-align: right;\n",
       "    }\n",
       "</style>\n",
       "<table border=\"1\" class=\"dataframe\">\n",
       "  <thead>\n",
       "    <tr style=\"text-align: right;\">\n",
       "      <th></th>\n",
       "      <th>Insulin</th>\n",
       "      <th>Insulin_missing</th>\n",
       "    </tr>\n",
       "  </thead>\n",
       "  <tbody>\n",
       "    <tr>\n",
       "      <th>0</th>\n",
       "      <td>0</td>\n",
       "      <td>True</td>\n",
       "    </tr>\n",
       "    <tr>\n",
       "      <th>1</th>\n",
       "      <td>0</td>\n",
       "      <td>True</td>\n",
       "    </tr>\n",
       "    <tr>\n",
       "      <th>2</th>\n",
       "      <td>0</td>\n",
       "      <td>True</td>\n",
       "    </tr>\n",
       "    <tr>\n",
       "      <th>3</th>\n",
       "      <td>94</td>\n",
       "      <td>False</td>\n",
       "    </tr>\n",
       "    <tr>\n",
       "      <th>4</th>\n",
       "      <td>168</td>\n",
       "      <td>False</td>\n",
       "    </tr>\n",
       "    <tr>\n",
       "      <th>5</th>\n",
       "      <td>0</td>\n",
       "      <td>True</td>\n",
       "    </tr>\n",
       "    <tr>\n",
       "      <th>6</th>\n",
       "      <td>88</td>\n",
       "      <td>False</td>\n",
       "    </tr>\n",
       "    <tr>\n",
       "      <th>7</th>\n",
       "      <td>0</td>\n",
       "      <td>True</td>\n",
       "    </tr>\n",
       "    <tr>\n",
       "      <th>8</th>\n",
       "      <td>543</td>\n",
       "      <td>False</td>\n",
       "    </tr>\n",
       "    <tr>\n",
       "      <th>9</th>\n",
       "      <td>0</td>\n",
       "      <td>True</td>\n",
       "    </tr>\n",
       "  </tbody>\n",
       "</table>\n",
       "</div>"
      ],
      "text/plain": [
       "   Insulin  Insulin_missing\n",
       "0        0             True\n",
       "1        0             True\n",
       "2        0             True\n",
       "3       94            False\n",
       "4      168            False\n",
       "5        0             True\n",
       "6       88            False\n",
       "7        0             True\n",
       "8      543            False\n",
       "9        0             True"
      ]
     },
     "execution_count": 6,
     "metadata": {},
     "output_type": "execute_result"
    }
   ],
   "source": [
    "# To verify that the flags are being correctly created\n",
    "df[[\"Insulin\", \"Insulin_missing\"]].head(10)"
   ]
  },
  {
   "cell_type": "markdown",
   "id": "60bb13d2",
   "metadata": {},
   "source": [
    "### 3.3 Replacing Zeros with NaN"
   ]
  },
  {
   "cell_type": "code",
   "execution_count": 7,
   "id": "c6d20e62",
   "metadata": {},
   "outputs": [],
   "source": [
    "# Replace 0s with NaN\n",
    "df[zero_as_missing] = df[zero_as_missing].replace(0,np.nan)"
   ]
  },
  {
   "cell_type": "code",
   "execution_count": 8,
   "id": "1d79b8e3",
   "metadata": {},
   "outputs": [
    {
     "name": "stdout",
     "output_type": "stream",
     "text": [
      "This is the missing values existing in specified columns:\n"
     ]
    },
    {
     "data": {
      "text/plain": [
       "Glucose            5\n",
       "BloodPressure     35\n",
       "SkinThickness    227\n",
       "Insulin          374\n",
       "BMI               11\n",
       "dtype: int64"
      ]
     },
     "execution_count": 8,
     "metadata": {},
     "output_type": "execute_result"
    }
   ],
   "source": [
    "# To confirm how many missing values exist in each column\n",
    "print(\"This is the missing values existing in specified columns:\")\n",
    "df[zero_as_missing].isnull().sum()"
   ]
  },
  {
   "cell_type": "markdown",
   "id": "46f4d743",
   "metadata": {},
   "source": [
    "### 3.4 Applying Iterative Imputer (Multivariate Imputation by Chained Equations [MICE])"
   ]
  },
  {
   "cell_type": "markdown",
   "id": "2f0630ef",
   "metadata": {},
   "source": [
    "Iterative Imputer fills in missing values by modeling each feature with missing values as a function of the other features. It's based on Multiple Imputation by Chained Equations (MICE).\n",
    "\n",
    "So instead of guessing missing values with a mean or median, it:\n",
    "\n",
    "1. Picks one feature with missing values.\n",
    "\n",
    "2. Predicts those missing values using a regression model trained on the other columns.\n",
    "\n",
    "3. Repeats this process for each feature with missing values, in a cycle, until the values stabilize.\n",
    "\n",
    "This method preserves relationships between variables, which is critical in medical and clinical datasets."
   ]
  },
  {
   "cell_type": "code",
   "execution_count": 9,
   "id": "7b8482f0",
   "metadata": {},
   "outputs": [],
   "source": [
    "# Separating target from features\n",
    "X = df.drop(columns= \"Outcome\")\n",
    "y = df[\"Outcome\"]"
   ]
  },
  {
   "cell_type": "code",
   "execution_count": 10,
   "id": "317a81c6",
   "metadata": {},
   "outputs": [],
   "source": [
    "# Applying Iterative Imputer\n",
    "imputer = IterativeImputer(random_state=0)\n",
    "X_imputed = pd.DataFrame(imputer.fit_transform(X), columns=X.columns)"
   ]
  },
  {
   "cell_type": "code",
   "execution_count": 11,
   "id": "03a83c7a",
   "metadata": {},
   "outputs": [
    {
     "name": "stdout",
     "output_type": "stream",
     "text": [
      "Pregnancies                 0\n",
      "Glucose                     0\n",
      "BloodPressure               0\n",
      "SkinThickness               0\n",
      "Insulin                     0\n",
      "BMI                         0\n",
      "DiabetesPedigreeFunction    0\n",
      "Age                         0\n",
      "Glucose_missing             0\n",
      "BloodPressure_missing       0\n",
      "SkinThickness_missing       0\n",
      "Insulin_missing             0\n",
      "BMI_missing                 0\n",
      "dtype: int64\n"
     ]
    }
   ],
   "source": [
    "# Ensuring all NaNs are gone and imputation worked\n",
    "print(X_imputed.isnull().sum())"
   ]
  },
  {
   "cell_type": "markdown",
   "id": "31580bb1",
   "metadata": {},
   "source": [
    "### 3.5 Comparison of Values Before and After"
   ]
  },
  {
   "cell_type": "code",
   "execution_count": 12,
   "id": "ee948e02",
   "metadata": {},
   "outputs": [
    {
     "name": "stdout",
     "output_type": "stream",
     "text": [
      "These features should not be zero for real patients:['Glucose', 'BloodPressure', 'SkinThickness', 'Insulin', 'BMI']\n"
     ]
    }
   ],
   "source": [
    "# Reprinting columns where 0 is likely a missing value\n",
    "zero_as_missing = [\"Glucose\", \"BloodPressure\", \"SkinThickness\", \"Insulin\", \"BMI\"]\n",
    "print (f\"These features should not be zero for real patients:{zero_as_missing}\")"
   ]
  },
  {
   "cell_type": "markdown",
   "id": "74908946",
   "metadata": {},
   "source": [
    "#### 3.5.1 Glucose Comparison"
   ]
  },
  {
   "cell_type": "code",
   "execution_count": 13,
   "id": "efc2bf04",
   "metadata": {},
   "outputs": [
    {
     "data": {
      "text/html": [
       "<div>\n",
       "<style scoped>\n",
       "    .dataframe tbody tr th:only-of-type {\n",
       "        vertical-align: middle;\n",
       "    }\n",
       "\n",
       "    .dataframe tbody tr th {\n",
       "        vertical-align: top;\n",
       "    }\n",
       "\n",
       "    .dataframe thead th {\n",
       "        text-align: right;\n",
       "    }\n",
       "</style>\n",
       "<table border=\"1\" class=\"dataframe\">\n",
       "  <thead>\n",
       "    <tr style=\"text-align: right;\">\n",
       "      <th></th>\n",
       "      <th>Metric</th>\n",
       "      <th>Before Imputation</th>\n",
       "      <th>After Imputation</th>\n",
       "    </tr>\n",
       "  </thead>\n",
       "  <tbody>\n",
       "    <tr>\n",
       "      <th>0</th>\n",
       "      <td>count</td>\n",
       "      <td>763.000000</td>\n",
       "      <td>768.000000</td>\n",
       "    </tr>\n",
       "    <tr>\n",
       "      <th>1</th>\n",
       "      <td>mean</td>\n",
       "      <td>121.686763</td>\n",
       "      <td>121.641747</td>\n",
       "    </tr>\n",
       "    <tr>\n",
       "      <th>2</th>\n",
       "      <td>std</td>\n",
       "      <td>30.535641</td>\n",
       "      <td>30.466564</td>\n",
       "    </tr>\n",
       "    <tr>\n",
       "      <th>3</th>\n",
       "      <td>min</td>\n",
       "      <td>44.000000</td>\n",
       "      <td>44.000000</td>\n",
       "    </tr>\n",
       "    <tr>\n",
       "      <th>4</th>\n",
       "      <td>25%</td>\n",
       "      <td>99.000000</td>\n",
       "      <td>99.000000</td>\n",
       "    </tr>\n",
       "    <tr>\n",
       "      <th>5</th>\n",
       "      <td>50%</td>\n",
       "      <td>117.000000</td>\n",
       "      <td>117.000000</td>\n",
       "    </tr>\n",
       "    <tr>\n",
       "      <th>6</th>\n",
       "      <td>75%</td>\n",
       "      <td>141.000000</td>\n",
       "      <td>140.250000</td>\n",
       "    </tr>\n",
       "    <tr>\n",
       "      <th>7</th>\n",
       "      <td>max</td>\n",
       "      <td>199.000000</td>\n",
       "      <td>199.000000</td>\n",
       "    </tr>\n",
       "  </tbody>\n",
       "</table>\n",
       "</div>"
      ],
      "text/plain": [
       "  Metric  Before Imputation  After Imputation\n",
       "0  count         763.000000        768.000000\n",
       "1   mean         121.686763        121.641747\n",
       "2    std          30.535641         30.466564\n",
       "3    min          44.000000         44.000000\n",
       "4    25%          99.000000         99.000000\n",
       "5    50%         117.000000        117.000000\n",
       "6    75%         141.000000        140.250000\n",
       "7    max         199.000000        199.000000"
      ]
     },
     "execution_count": 13,
     "metadata": {},
     "output_type": "execute_result"
    }
   ],
   "source": [
    "# Comparing values before and after for Glucose\n",
    "\n",
    "# Get the describe() outputs\n",
    "before_desc_glucose = df[\"Glucose\"].describe()\n",
    "after_desc_glucose = X_imputed[\"Glucose\"].describe()\n",
    "\n",
    "# Combine into a DataFrame\n",
    "glucose_comparison = pd.DataFrame({\n",
    "    \"Metric\": before_desc_glucose.index,\n",
    "    \"Before Imputation\": before_desc_glucose.values,\n",
    "    \"After Imputation\": after_desc_glucose.values\n",
    "})\n",
    "\n",
    "# Display as a table\n",
    "glucose_comparison"
   ]
  },
  {
   "cell_type": "markdown",
   "id": "16c856ff",
   "metadata": {},
   "source": [
    "#### 3.5.2 Blood Pressure Comparison"
   ]
  },
  {
   "cell_type": "code",
   "execution_count": 14,
   "id": "b51b5bee",
   "metadata": {},
   "outputs": [
    {
     "data": {
      "text/html": [
       "<div>\n",
       "<style scoped>\n",
       "    .dataframe tbody tr th:only-of-type {\n",
       "        vertical-align: middle;\n",
       "    }\n",
       "\n",
       "    .dataframe tbody tr th {\n",
       "        vertical-align: top;\n",
       "    }\n",
       "\n",
       "    .dataframe thead th {\n",
       "        text-align: right;\n",
       "    }\n",
       "</style>\n",
       "<table border=\"1\" class=\"dataframe\">\n",
       "  <thead>\n",
       "    <tr style=\"text-align: right;\">\n",
       "      <th></th>\n",
       "      <th>Metric</th>\n",
       "      <th>Before Imputation</th>\n",
       "      <th>After Imputation</th>\n",
       "    </tr>\n",
       "  </thead>\n",
       "  <tbody>\n",
       "    <tr>\n",
       "      <th>0</th>\n",
       "      <td>count</td>\n",
       "      <td>733.000000</td>\n",
       "      <td>768.000000</td>\n",
       "    </tr>\n",
       "    <tr>\n",
       "      <th>1</th>\n",
       "      <td>mean</td>\n",
       "      <td>72.405184</td>\n",
       "      <td>72.361292</td>\n",
       "    </tr>\n",
       "    <tr>\n",
       "      <th>2</th>\n",
       "      <td>std</td>\n",
       "      <td>12.382158</td>\n",
       "      <td>12.147518</td>\n",
       "    </tr>\n",
       "    <tr>\n",
       "      <th>3</th>\n",
       "      <td>min</td>\n",
       "      <td>24.000000</td>\n",
       "      <td>24.000000</td>\n",
       "    </tr>\n",
       "    <tr>\n",
       "      <th>4</th>\n",
       "      <td>25%</td>\n",
       "      <td>64.000000</td>\n",
       "      <td>64.000000</td>\n",
       "    </tr>\n",
       "    <tr>\n",
       "      <th>5</th>\n",
       "      <td>50%</td>\n",
       "      <td>72.000000</td>\n",
       "      <td>72.000000</td>\n",
       "    </tr>\n",
       "    <tr>\n",
       "      <th>6</th>\n",
       "      <td>75%</td>\n",
       "      <td>80.000000</td>\n",
       "      <td>80.000000</td>\n",
       "    </tr>\n",
       "    <tr>\n",
       "      <th>7</th>\n",
       "      <td>max</td>\n",
       "      <td>122.000000</td>\n",
       "      <td>122.000000</td>\n",
       "    </tr>\n",
       "  </tbody>\n",
       "</table>\n",
       "</div>"
      ],
      "text/plain": [
       "  Metric  Before Imputation  After Imputation\n",
       "0  count         733.000000        768.000000\n",
       "1   mean          72.405184         72.361292\n",
       "2    std          12.382158         12.147518\n",
       "3    min          24.000000         24.000000\n",
       "4    25%          64.000000         64.000000\n",
       "5    50%          72.000000         72.000000\n",
       "6    75%          80.000000         80.000000\n",
       "7    max         122.000000        122.000000"
      ]
     },
     "execution_count": 14,
     "metadata": {},
     "output_type": "execute_result"
    }
   ],
   "source": [
    "# Comparing values before and after for Blood Pressure\n",
    "\n",
    "# Get the describe() outputs\n",
    "before_desc_BloodPressure = df[\"BloodPressure\"].describe()\n",
    "after_desc_BloodPressure = X_imputed[\"BloodPressure\"].describe()\n",
    "\n",
    "# Combine into a DataFrame\n",
    "BloodPressure_comparison = pd.DataFrame({\n",
    "    \"Metric\": before_desc_BloodPressure.index,\n",
    "    \"Before Imputation\": before_desc_BloodPressure.values,\n",
    "    \"After Imputation\": after_desc_BloodPressure.values\n",
    "})\n",
    "\n",
    "# Display as a table\n",
    "BloodPressure_comparison"
   ]
  },
  {
   "cell_type": "markdown",
   "id": "79e991a8",
   "metadata": {},
   "source": [
    "#### 3.5.3 Skin Thickness"
   ]
  },
  {
   "cell_type": "code",
   "execution_count": 15,
   "id": "dbd618aa",
   "metadata": {},
   "outputs": [
    {
     "data": {
      "text/html": [
       "<div>\n",
       "<style scoped>\n",
       "    .dataframe tbody tr th:only-of-type {\n",
       "        vertical-align: middle;\n",
       "    }\n",
       "\n",
       "    .dataframe tbody tr th {\n",
       "        vertical-align: top;\n",
       "    }\n",
       "\n",
       "    .dataframe thead th {\n",
       "        text-align: right;\n",
       "    }\n",
       "</style>\n",
       "<table border=\"1\" class=\"dataframe\">\n",
       "  <thead>\n",
       "    <tr style=\"text-align: right;\">\n",
       "      <th></th>\n",
       "      <th>Metric</th>\n",
       "      <th>Before Imputation</th>\n",
       "      <th>After Imputation</th>\n",
       "    </tr>\n",
       "  </thead>\n",
       "  <tbody>\n",
       "    <tr>\n",
       "      <th>0</th>\n",
       "      <td>count</td>\n",
       "      <td>541.000000</td>\n",
       "      <td>768.000000</td>\n",
       "    </tr>\n",
       "    <tr>\n",
       "      <th>1</th>\n",
       "      <td>mean</td>\n",
       "      <td>29.153420</td>\n",
       "      <td>28.926373</td>\n",
       "    </tr>\n",
       "    <tr>\n",
       "      <th>2</th>\n",
       "      <td>std</td>\n",
       "      <td>10.476982</td>\n",
       "      <td>9.521595</td>\n",
       "    </tr>\n",
       "    <tr>\n",
       "      <th>3</th>\n",
       "      <td>min</td>\n",
       "      <td>7.000000</td>\n",
       "      <td>7.000000</td>\n",
       "    </tr>\n",
       "    <tr>\n",
       "      <th>4</th>\n",
       "      <td>25%</td>\n",
       "      <td>22.000000</td>\n",
       "      <td>22.217409</td>\n",
       "    </tr>\n",
       "    <tr>\n",
       "      <th>5</th>\n",
       "      <td>50%</td>\n",
       "      <td>29.000000</td>\n",
       "      <td>28.442091</td>\n",
       "    </tr>\n",
       "    <tr>\n",
       "      <th>6</th>\n",
       "      <td>75%</td>\n",
       "      <td>36.000000</td>\n",
       "      <td>35.000000</td>\n",
       "    </tr>\n",
       "    <tr>\n",
       "      <th>7</th>\n",
       "      <td>max</td>\n",
       "      <td>99.000000</td>\n",
       "      <td>99.000000</td>\n",
       "    </tr>\n",
       "  </tbody>\n",
       "</table>\n",
       "</div>"
      ],
      "text/plain": [
       "  Metric  Before Imputation  After Imputation\n",
       "0  count         541.000000        768.000000\n",
       "1   mean          29.153420         28.926373\n",
       "2    std          10.476982          9.521595\n",
       "3    min           7.000000          7.000000\n",
       "4    25%          22.000000         22.217409\n",
       "5    50%          29.000000         28.442091\n",
       "6    75%          36.000000         35.000000\n",
       "7    max          99.000000         99.000000"
      ]
     },
     "execution_count": 15,
     "metadata": {},
     "output_type": "execute_result"
    }
   ],
   "source": [
    "# Comparing values before and after for Skin Thickness\n",
    "\n",
    "# Get the describe() outputs\n",
    "before_desc_SkinThickness = df[\"SkinThickness\"].describe()\n",
    "after_desc_SkinThickness = X_imputed[\"SkinThickness\"].describe()\n",
    "\n",
    "# Combine into a DataFrame\n",
    "SkinThickness_comparison = pd.DataFrame({\n",
    "    \"Metric\": before_desc_SkinThickness.index,\n",
    "    \"Before Imputation\": before_desc_SkinThickness.values,\n",
    "    \"After Imputation\": after_desc_SkinThickness.values\n",
    "})\n",
    "\n",
    "# Display as a table\n",
    "SkinThickness_comparison"
   ]
  },
  {
   "cell_type": "markdown",
   "id": "f7899e20",
   "metadata": {},
   "source": [
    "#### 3.5.4 Insulin Comparison"
   ]
  },
  {
   "cell_type": "code",
   "execution_count": 16,
   "id": "57d10efd",
   "metadata": {},
   "outputs": [
    {
     "data": {
      "text/html": [
       "<div>\n",
       "<style scoped>\n",
       "    .dataframe tbody tr th:only-of-type {\n",
       "        vertical-align: middle;\n",
       "    }\n",
       "\n",
       "    .dataframe tbody tr th {\n",
       "        vertical-align: top;\n",
       "    }\n",
       "\n",
       "    .dataframe thead th {\n",
       "        text-align: right;\n",
       "    }\n",
       "</style>\n",
       "<table border=\"1\" class=\"dataframe\">\n",
       "  <thead>\n",
       "    <tr style=\"text-align: right;\">\n",
       "      <th></th>\n",
       "      <th>Metric</th>\n",
       "      <th>Before Imputation</th>\n",
       "      <th>After Imputation</th>\n",
       "    </tr>\n",
       "  </thead>\n",
       "  <tbody>\n",
       "    <tr>\n",
       "      <th>0</th>\n",
       "      <td>count</td>\n",
       "      <td>394.000000</td>\n",
       "      <td>768.000000</td>\n",
       "    </tr>\n",
       "    <tr>\n",
       "      <th>1</th>\n",
       "      <td>mean</td>\n",
       "      <td>155.548223</td>\n",
       "      <td>152.640510</td>\n",
       "    </tr>\n",
       "    <tr>\n",
       "      <th>2</th>\n",
       "      <td>std</td>\n",
       "      <td>118.775855</td>\n",
       "      <td>97.347662</td>\n",
       "    </tr>\n",
       "    <tr>\n",
       "      <th>3</th>\n",
       "      <td>min</td>\n",
       "      <td>14.000000</td>\n",
       "      <td>-19.487740</td>\n",
       "    </tr>\n",
       "    <tr>\n",
       "      <th>4</th>\n",
       "      <td>25%</td>\n",
       "      <td>76.250000</td>\n",
       "      <td>89.986466</td>\n",
       "    </tr>\n",
       "    <tr>\n",
       "      <th>5</th>\n",
       "      <td>50%</td>\n",
       "      <td>125.000000</td>\n",
       "      <td>130.196342</td>\n",
       "    </tr>\n",
       "    <tr>\n",
       "      <th>6</th>\n",
       "      <td>75%</td>\n",
       "      <td>190.000000</td>\n",
       "      <td>190.000000</td>\n",
       "    </tr>\n",
       "    <tr>\n",
       "      <th>7</th>\n",
       "      <td>max</td>\n",
       "      <td>846.000000</td>\n",
       "      <td>846.000000</td>\n",
       "    </tr>\n",
       "  </tbody>\n",
       "</table>\n",
       "</div>"
      ],
      "text/plain": [
       "  Metric  Before Imputation  After Imputation\n",
       "0  count         394.000000        768.000000\n",
       "1   mean         155.548223        152.640510\n",
       "2    std         118.775855         97.347662\n",
       "3    min          14.000000        -19.487740\n",
       "4    25%          76.250000         89.986466\n",
       "5    50%         125.000000        130.196342\n",
       "6    75%         190.000000        190.000000\n",
       "7    max         846.000000        846.000000"
      ]
     },
     "execution_count": 16,
     "metadata": {},
     "output_type": "execute_result"
    }
   ],
   "source": [
    "# Comparing values before and after for Insulin\n",
    "\n",
    "# Get the describe() outputs\n",
    "before_desc_insulin = df[\"Insulin\"].describe()\n",
    "after_desc_insulin = X_imputed[\"Insulin\"].describe()\n",
    "\n",
    "# Combine into a DataFrame\n",
    "insulin_comparison = pd.DataFrame({\n",
    "    \"Metric\": before_desc_insulin.index,\n",
    "    \"Before Imputation\": before_desc_insulin.values,\n",
    "    \"After Imputation\": after_desc_insulin.values\n",
    "})\n",
    "\n",
    "# Display as a table\n",
    "insulin_comparison"
   ]
  },
  {
   "cell_type": "markdown",
   "id": "8c4f3cd0",
   "metadata": {},
   "source": [
    "All descriptive statistics are similar except **min** whose after imputation value is negative, which is not physiologically valid for Insulin.\n",
    "\n",
    "To fix this, we will clip negative values to a realistic minimum"
   ]
  },
  {
   "cell_type": "code",
   "execution_count": 17,
   "id": "376df833",
   "metadata": {},
   "outputs": [],
   "source": [
    "# Clipping insulin negative values to a realistic minimum of 14\n",
    "X_imputed['Insulin'] = X_imputed['Insulin'].clip(lower=14)"
   ]
  },
  {
   "cell_type": "markdown",
   "id": "007c496b",
   "metadata": {},
   "source": [
    "##### 3.5.4.1 Updated Insulin Comparison"
   ]
  },
  {
   "cell_type": "code",
   "execution_count": 18,
   "id": "98310f68",
   "metadata": {},
   "outputs": [
    {
     "data": {
      "text/html": [
       "<div>\n",
       "<style scoped>\n",
       "    .dataframe tbody tr th:only-of-type {\n",
       "        vertical-align: middle;\n",
       "    }\n",
       "\n",
       "    .dataframe tbody tr th {\n",
       "        vertical-align: top;\n",
       "    }\n",
       "\n",
       "    .dataframe thead th {\n",
       "        text-align: right;\n",
       "    }\n",
       "</style>\n",
       "<table border=\"1\" class=\"dataframe\">\n",
       "  <thead>\n",
       "    <tr style=\"text-align: right;\">\n",
       "      <th></th>\n",
       "      <th>Metric</th>\n",
       "      <th>Before Imputation</th>\n",
       "      <th>After Imputation &amp; Clipping</th>\n",
       "    </tr>\n",
       "  </thead>\n",
       "  <tbody>\n",
       "    <tr>\n",
       "      <th>0</th>\n",
       "      <td>count</td>\n",
       "      <td>394.000000</td>\n",
       "      <td>768.000000</td>\n",
       "    </tr>\n",
       "    <tr>\n",
       "      <th>1</th>\n",
       "      <td>mean</td>\n",
       "      <td>155.548223</td>\n",
       "      <td>152.684350</td>\n",
       "    </tr>\n",
       "    <tr>\n",
       "      <th>2</th>\n",
       "      <td>std</td>\n",
       "      <td>118.775855</td>\n",
       "      <td>97.277600</td>\n",
       "    </tr>\n",
       "    <tr>\n",
       "      <th>3</th>\n",
       "      <td>min</td>\n",
       "      <td>14.000000</td>\n",
       "      <td>14.000000</td>\n",
       "    </tr>\n",
       "    <tr>\n",
       "      <th>4</th>\n",
       "      <td>25%</td>\n",
       "      <td>76.250000</td>\n",
       "      <td>89.986466</td>\n",
       "    </tr>\n",
       "    <tr>\n",
       "      <th>5</th>\n",
       "      <td>50%</td>\n",
       "      <td>125.000000</td>\n",
       "      <td>130.196342</td>\n",
       "    </tr>\n",
       "    <tr>\n",
       "      <th>6</th>\n",
       "      <td>75%</td>\n",
       "      <td>190.000000</td>\n",
       "      <td>190.000000</td>\n",
       "    </tr>\n",
       "    <tr>\n",
       "      <th>7</th>\n",
       "      <td>max</td>\n",
       "      <td>846.000000</td>\n",
       "      <td>846.000000</td>\n",
       "    </tr>\n",
       "  </tbody>\n",
       "</table>\n",
       "</div>"
      ],
      "text/plain": [
       "  Metric  Before Imputation  After Imputation & Clipping\n",
       "0  count         394.000000                   768.000000\n",
       "1   mean         155.548223                   152.684350\n",
       "2    std         118.775855                    97.277600\n",
       "3    min          14.000000                    14.000000\n",
       "4    25%          76.250000                    89.986466\n",
       "5    50%         125.000000                   130.196342\n",
       "6    75%         190.000000                   190.000000\n",
       "7    max         846.000000                   846.000000"
      ]
     },
     "execution_count": 18,
     "metadata": {},
     "output_type": "execute_result"
    }
   ],
   "source": [
    "# Get updated describe() output\n",
    "after_clipping_desc_insulin = X_imputed[\"Insulin\"].describe()\n",
    "\n",
    "# Re-create the comparison table\n",
    "insulin_comparison_clipped = pd.DataFrame({\n",
    "    \"Metric\": before_desc_insulin.index,\n",
    "    \"Before Imputation\": before_desc_insulin.values,\n",
    "    \"After Imputation & Clipping\": after_clipping_desc_insulin.values\n",
    "})\n",
    "\n",
    "# Display the new comparison table\n",
    "insulin_comparison_clipped"
   ]
  },
  {
   "cell_type": "markdown",
   "id": "a1c95f93",
   "metadata": {},
   "source": [
    "#### 3.5.5 Body Mass Index (BMI) Comparison"
   ]
  },
  {
   "cell_type": "code",
   "execution_count": 19,
   "id": "bd46394e",
   "metadata": {},
   "outputs": [
    {
     "data": {
      "text/html": [
       "<div>\n",
       "<style scoped>\n",
       "    .dataframe tbody tr th:only-of-type {\n",
       "        vertical-align: middle;\n",
       "    }\n",
       "\n",
       "    .dataframe tbody tr th {\n",
       "        vertical-align: top;\n",
       "    }\n",
       "\n",
       "    .dataframe thead th {\n",
       "        text-align: right;\n",
       "    }\n",
       "</style>\n",
       "<table border=\"1\" class=\"dataframe\">\n",
       "  <thead>\n",
       "    <tr style=\"text-align: right;\">\n",
       "      <th></th>\n",
       "      <th>Metric</th>\n",
       "      <th>Before Imputation</th>\n",
       "      <th>After Imputation</th>\n",
       "    </tr>\n",
       "  </thead>\n",
       "  <tbody>\n",
       "    <tr>\n",
       "      <th>0</th>\n",
       "      <td>count</td>\n",
       "      <td>757.000000</td>\n",
       "      <td>768.000000</td>\n",
       "    </tr>\n",
       "    <tr>\n",
       "      <th>1</th>\n",
       "      <td>mean</td>\n",
       "      <td>32.457464</td>\n",
       "      <td>32.436839</td>\n",
       "    </tr>\n",
       "    <tr>\n",
       "      <th>2</th>\n",
       "      <td>std</td>\n",
       "      <td>6.924988</td>\n",
       "      <td>6.879242</td>\n",
       "    </tr>\n",
       "    <tr>\n",
       "      <th>3</th>\n",
       "      <td>min</td>\n",
       "      <td>18.200000</td>\n",
       "      <td>18.200000</td>\n",
       "    </tr>\n",
       "    <tr>\n",
       "      <th>4</th>\n",
       "      <td>25%</td>\n",
       "      <td>27.500000</td>\n",
       "      <td>27.500000</td>\n",
       "    </tr>\n",
       "    <tr>\n",
       "      <th>5</th>\n",
       "      <td>50%</td>\n",
       "      <td>32.300000</td>\n",
       "      <td>32.000000</td>\n",
       "    </tr>\n",
       "    <tr>\n",
       "      <th>6</th>\n",
       "      <td>75%</td>\n",
       "      <td>36.600000</td>\n",
       "      <td>36.600000</td>\n",
       "    </tr>\n",
       "    <tr>\n",
       "      <th>7</th>\n",
       "      <td>max</td>\n",
       "      <td>67.100000</td>\n",
       "      <td>67.100000</td>\n",
       "    </tr>\n",
       "  </tbody>\n",
       "</table>\n",
       "</div>"
      ],
      "text/plain": [
       "  Metric  Before Imputation  After Imputation\n",
       "0  count         757.000000        768.000000\n",
       "1   mean          32.457464         32.436839\n",
       "2    std           6.924988          6.879242\n",
       "3    min          18.200000         18.200000\n",
       "4    25%          27.500000         27.500000\n",
       "5    50%          32.300000         32.000000\n",
       "6    75%          36.600000         36.600000\n",
       "7    max          67.100000         67.100000"
      ]
     },
     "execution_count": 19,
     "metadata": {},
     "output_type": "execute_result"
    }
   ],
   "source": [
    "# Get the describe() outputs\n",
    "before_desc_BMI = df[\"BMI\"].describe()\n",
    "after_desc_BMI = X_imputed[\"BMI\"].describe()\n",
    "\n",
    "# Combine into a DataFrame\n",
    "BMI_comparison = pd.DataFrame({\n",
    "    \"Metric\": before_desc_BMI.index,\n",
    "    \"Before Imputation\": before_desc_BMI.values,\n",
    "    \"After Imputation\": after_desc_BMI.values\n",
    "})\n",
    "\n",
    "# Display as a table\n",
    "BMI_comparison"
   ]
  },
  {
   "cell_type": "markdown",
   "id": "249cdb51",
   "metadata": {},
   "source": [
    "### 3.6 Combining Imputed Data with Target"
   ]
  },
  {
   "cell_type": "code",
   "execution_count": 20,
   "id": "a11e4cce",
   "metadata": {},
   "outputs": [],
   "source": [
    "# Combine Imputed Data with Target\n",
    "df_imputed = X_imputed.copy()\n",
    "df_imputed['Outcome'] = y.values # to ensure proper alignment"
   ]
  },
  {
   "cell_type": "code",
   "execution_count": 21,
   "id": "4f36125a",
   "metadata": {},
   "outputs": [
    {
     "name": "stdout",
     "output_type": "stream",
     "text": [
      "Target column added. Final DataFrame shape: (768, 14)\n",
      "Column names: ['Pregnancies', 'Glucose', 'BloodPressure', 'SkinThickness', 'Insulin', 'BMI', 'DiabetesPedigreeFunction', 'Age', 'Glucose_missing', 'BloodPressure_missing', 'SkinThickness_missing', 'Insulin_missing', 'BMI_missing', 'Outcome']\n"
     ]
    }
   ],
   "source": [
    "# Confirming combination\n",
    "print(\"Target column added. Final DataFrame shape:\", df_imputed.shape)\n",
    "print(\"Column names:\", df_imputed.columns.tolist())"
   ]
  },
  {
   "cell_type": "code",
   "execution_count": 22,
   "id": "cd31fab6",
   "metadata": {},
   "outputs": [
    {
     "name": "stdout",
     "output_type": "stream",
     "text": [
      "Preview of final dataset:\n"
     ]
    },
    {
     "data": {
      "text/html": [
       "<div>\n",
       "<style scoped>\n",
       "    .dataframe tbody tr th:only-of-type {\n",
       "        vertical-align: middle;\n",
       "    }\n",
       "\n",
       "    .dataframe tbody tr th {\n",
       "        vertical-align: top;\n",
       "    }\n",
       "\n",
       "    .dataframe thead th {\n",
       "        text-align: right;\n",
       "    }\n",
       "</style>\n",
       "<table border=\"1\" class=\"dataframe\">\n",
       "  <thead>\n",
       "    <tr style=\"text-align: right;\">\n",
       "      <th></th>\n",
       "      <th>Pregnancies</th>\n",
       "      <th>Glucose</th>\n",
       "      <th>BloodPressure</th>\n",
       "      <th>SkinThickness</th>\n",
       "      <th>Insulin</th>\n",
       "      <th>BMI</th>\n",
       "      <th>DiabetesPedigreeFunction</th>\n",
       "      <th>Age</th>\n",
       "      <th>Glucose_missing</th>\n",
       "      <th>BloodPressure_missing</th>\n",
       "      <th>SkinThickness_missing</th>\n",
       "      <th>Insulin_missing</th>\n",
       "      <th>BMI_missing</th>\n",
       "      <th>Outcome</th>\n",
       "    </tr>\n",
       "  </thead>\n",
       "  <tbody>\n",
       "    <tr>\n",
       "      <th>0</th>\n",
       "      <td>6.0</td>\n",
       "      <td>148.0</td>\n",
       "      <td>72.0</td>\n",
       "      <td>35.000000</td>\n",
       "      <td>218.923435</td>\n",
       "      <td>33.6</td>\n",
       "      <td>0.627</td>\n",
       "      <td>50.0</td>\n",
       "      <td>0.0</td>\n",
       "      <td>0.0</td>\n",
       "      <td>0.0</td>\n",
       "      <td>1.0</td>\n",
       "      <td>0.0</td>\n",
       "      <td>1</td>\n",
       "    </tr>\n",
       "    <tr>\n",
       "      <th>1</th>\n",
       "      <td>1.0</td>\n",
       "      <td>85.0</td>\n",
       "      <td>66.0</td>\n",
       "      <td>29.000000</td>\n",
       "      <td>70.306082</td>\n",
       "      <td>26.6</td>\n",
       "      <td>0.351</td>\n",
       "      <td>31.0</td>\n",
       "      <td>0.0</td>\n",
       "      <td>0.0</td>\n",
       "      <td>0.0</td>\n",
       "      <td>1.0</td>\n",
       "      <td>0.0</td>\n",
       "      <td>0</td>\n",
       "    </tr>\n",
       "    <tr>\n",
       "      <th>2</th>\n",
       "      <td>8.0</td>\n",
       "      <td>183.0</td>\n",
       "      <td>64.0</td>\n",
       "      <td>21.640837</td>\n",
       "      <td>268.531745</td>\n",
       "      <td>23.3</td>\n",
       "      <td>0.672</td>\n",
       "      <td>32.0</td>\n",
       "      <td>0.0</td>\n",
       "      <td>0.0</td>\n",
       "      <td>1.0</td>\n",
       "      <td>1.0</td>\n",
       "      <td>0.0</td>\n",
       "      <td>1</td>\n",
       "    </tr>\n",
       "    <tr>\n",
       "      <th>3</th>\n",
       "      <td>1.0</td>\n",
       "      <td>89.0</td>\n",
       "      <td>66.0</td>\n",
       "      <td>23.000000</td>\n",
       "      <td>94.000000</td>\n",
       "      <td>28.1</td>\n",
       "      <td>0.167</td>\n",
       "      <td>21.0</td>\n",
       "      <td>0.0</td>\n",
       "      <td>0.0</td>\n",
       "      <td>0.0</td>\n",
       "      <td>0.0</td>\n",
       "      <td>0.0</td>\n",
       "      <td>0</td>\n",
       "    </tr>\n",
       "    <tr>\n",
       "      <th>4</th>\n",
       "      <td>0.0</td>\n",
       "      <td>137.0</td>\n",
       "      <td>40.0</td>\n",
       "      <td>35.000000</td>\n",
       "      <td>168.000000</td>\n",
       "      <td>43.1</td>\n",
       "      <td>2.288</td>\n",
       "      <td>33.0</td>\n",
       "      <td>0.0</td>\n",
       "      <td>0.0</td>\n",
       "      <td>0.0</td>\n",
       "      <td>0.0</td>\n",
       "      <td>0.0</td>\n",
       "      <td>1</td>\n",
       "    </tr>\n",
       "  </tbody>\n",
       "</table>\n",
       "</div>"
      ],
      "text/plain": [
       "   Pregnancies  Glucose  BloodPressure  SkinThickness     Insulin   BMI  \\\n",
       "0          6.0    148.0           72.0      35.000000  218.923435  33.6   \n",
       "1          1.0     85.0           66.0      29.000000   70.306082  26.6   \n",
       "2          8.0    183.0           64.0      21.640837  268.531745  23.3   \n",
       "3          1.0     89.0           66.0      23.000000   94.000000  28.1   \n",
       "4          0.0    137.0           40.0      35.000000  168.000000  43.1   \n",
       "\n",
       "   DiabetesPedigreeFunction   Age  Glucose_missing  BloodPressure_missing  \\\n",
       "0                     0.627  50.0              0.0                    0.0   \n",
       "1                     0.351  31.0              0.0                    0.0   \n",
       "2                     0.672  32.0              0.0                    0.0   \n",
       "3                     0.167  21.0              0.0                    0.0   \n",
       "4                     2.288  33.0              0.0                    0.0   \n",
       "\n",
       "   SkinThickness_missing  Insulin_missing  BMI_missing  Outcome  \n",
       "0                    0.0              1.0          0.0        1  \n",
       "1                    0.0              1.0          0.0        0  \n",
       "2                    1.0              1.0          0.0        1  \n",
       "3                    0.0              0.0          0.0        0  \n",
       "4                    0.0              0.0          0.0        1  "
      ]
     },
     "execution_count": 22,
     "metadata": {},
     "output_type": "execute_result"
    }
   ],
   "source": [
    "# Ensuring final dataframe is assembled properly\n",
    "print(\"Preview of final dataset:\")\n",
    "df_imputed.head()"
   ]
  },
  {
   "cell_type": "markdown",
   "id": "cfc9fd9a",
   "metadata": {},
   "source": [
    "### 3.7 Final Imputed Dataset"
   ]
  },
  {
   "cell_type": "code",
   "execution_count": 23,
   "id": "cd7810df",
   "metadata": {},
   "outputs": [],
   "source": [
    "# Round imputed dataset to 2 decimal places\n",
    "df_imputed = df_imputed.round(2)"
   ]
  },
  {
   "cell_type": "code",
   "execution_count": 24,
   "id": "8e253fc1",
   "metadata": {},
   "outputs": [
    {
     "name": "stdout",
     "output_type": "stream",
     "text": [
      "Dataset saved as 'diabetes_imputed.csv'\n"
     ]
    }
   ],
   "source": [
    "# Save the imputed dataset\n",
    "df_imputed.to_csv(\"diabetes_imputed.csv\", index=False)\n",
    "print(\"Dataset saved as 'diabetes_imputed.csv'\")"
   ]
  },
  {
   "cell_type": "markdown",
   "id": "986ddbd6",
   "metadata": {},
   "source": [
    "This is the dataset we will be using for our EDA"
   ]
  },
  {
   "cell_type": "markdown",
   "id": "3bb7aaee",
   "metadata": {},
   "source": [
    "###\n",
    "Back to :\n",
    "\n",
    "- [Table of Contents](#table-of-contents)"
   ]
  },
  {
   "cell_type": "markdown",
   "id": "0bc165f7",
   "metadata": {},
   "source": [
    "## **4.0 DATA ANALYSIS**"
   ]
  },
  {
   "cell_type": "markdown",
   "id": "711984dd",
   "metadata": {},
   "source": [
    "### 4.1 EXPLORATIVE DATA ANALYSIS (EDA)"
   ]
  },
  {
   "cell_type": "markdown",
   "id": "e26b6723",
   "metadata": {},
   "source": [
    "#### 4.1.1 Inspection of Imputed dataset"
   ]
  },
  {
   "cell_type": "code",
   "execution_count": 25,
   "id": "f4237a75",
   "metadata": {},
   "outputs": [
    {
     "data": {
      "text/html": [
       "<div>\n",
       "<style scoped>\n",
       "    .dataframe tbody tr th:only-of-type {\n",
       "        vertical-align: middle;\n",
       "    }\n",
       "\n",
       "    .dataframe tbody tr th {\n",
       "        vertical-align: top;\n",
       "    }\n",
       "\n",
       "    .dataframe thead th {\n",
       "        text-align: right;\n",
       "    }\n",
       "</style>\n",
       "<table border=\"1\" class=\"dataframe\">\n",
       "  <thead>\n",
       "    <tr style=\"text-align: right;\">\n",
       "      <th></th>\n",
       "      <th>Pregnancies</th>\n",
       "      <th>Glucose</th>\n",
       "      <th>BloodPressure</th>\n",
       "      <th>SkinThickness</th>\n",
       "      <th>Insulin</th>\n",
       "      <th>BMI</th>\n",
       "      <th>DiabetesPedigreeFunction</th>\n",
       "      <th>Age</th>\n",
       "      <th>Glucose_missing</th>\n",
       "      <th>BloodPressure_missing</th>\n",
       "      <th>SkinThickness_missing</th>\n",
       "      <th>Insulin_missing</th>\n",
       "      <th>BMI_missing</th>\n",
       "      <th>Outcome</th>\n",
       "    </tr>\n",
       "  </thead>\n",
       "  <tbody>\n",
       "    <tr>\n",
       "      <th>0</th>\n",
       "      <td>6.0</td>\n",
       "      <td>148.0</td>\n",
       "      <td>72.0</td>\n",
       "      <td>35.00</td>\n",
       "      <td>218.92</td>\n",
       "      <td>33.6</td>\n",
       "      <td>0.63</td>\n",
       "      <td>50.0</td>\n",
       "      <td>0.0</td>\n",
       "      <td>0.0</td>\n",
       "      <td>0.0</td>\n",
       "      <td>1.0</td>\n",
       "      <td>0.0</td>\n",
       "      <td>1</td>\n",
       "    </tr>\n",
       "    <tr>\n",
       "      <th>1</th>\n",
       "      <td>1.0</td>\n",
       "      <td>85.0</td>\n",
       "      <td>66.0</td>\n",
       "      <td>29.00</td>\n",
       "      <td>70.31</td>\n",
       "      <td>26.6</td>\n",
       "      <td>0.35</td>\n",
       "      <td>31.0</td>\n",
       "      <td>0.0</td>\n",
       "      <td>0.0</td>\n",
       "      <td>0.0</td>\n",
       "      <td>1.0</td>\n",
       "      <td>0.0</td>\n",
       "      <td>0</td>\n",
       "    </tr>\n",
       "    <tr>\n",
       "      <th>2</th>\n",
       "      <td>8.0</td>\n",
       "      <td>183.0</td>\n",
       "      <td>64.0</td>\n",
       "      <td>21.64</td>\n",
       "      <td>268.53</td>\n",
       "      <td>23.3</td>\n",
       "      <td>0.67</td>\n",
       "      <td>32.0</td>\n",
       "      <td>0.0</td>\n",
       "      <td>0.0</td>\n",
       "      <td>1.0</td>\n",
       "      <td>1.0</td>\n",
       "      <td>0.0</td>\n",
       "      <td>1</td>\n",
       "    </tr>\n",
       "    <tr>\n",
       "      <th>3</th>\n",
       "      <td>1.0</td>\n",
       "      <td>89.0</td>\n",
       "      <td>66.0</td>\n",
       "      <td>23.00</td>\n",
       "      <td>94.00</td>\n",
       "      <td>28.1</td>\n",
       "      <td>0.17</td>\n",
       "      <td>21.0</td>\n",
       "      <td>0.0</td>\n",
       "      <td>0.0</td>\n",
       "      <td>0.0</td>\n",
       "      <td>0.0</td>\n",
       "      <td>0.0</td>\n",
       "      <td>0</td>\n",
       "    </tr>\n",
       "    <tr>\n",
       "      <th>4</th>\n",
       "      <td>0.0</td>\n",
       "      <td>137.0</td>\n",
       "      <td>40.0</td>\n",
       "      <td>35.00</td>\n",
       "      <td>168.00</td>\n",
       "      <td>43.1</td>\n",
       "      <td>2.29</td>\n",
       "      <td>33.0</td>\n",
       "      <td>0.0</td>\n",
       "      <td>0.0</td>\n",
       "      <td>0.0</td>\n",
       "      <td>0.0</td>\n",
       "      <td>0.0</td>\n",
       "      <td>1</td>\n",
       "    </tr>\n",
       "  </tbody>\n",
       "</table>\n",
       "</div>"
      ],
      "text/plain": [
       "   Pregnancies  Glucose  BloodPressure  SkinThickness  Insulin   BMI  \\\n",
       "0          6.0    148.0           72.0          35.00   218.92  33.6   \n",
       "1          1.0     85.0           66.0          29.00    70.31  26.6   \n",
       "2          8.0    183.0           64.0          21.64   268.53  23.3   \n",
       "3          1.0     89.0           66.0          23.00    94.00  28.1   \n",
       "4          0.0    137.0           40.0          35.00   168.00  43.1   \n",
       "\n",
       "   DiabetesPedigreeFunction   Age  Glucose_missing  BloodPressure_missing  \\\n",
       "0                      0.63  50.0              0.0                    0.0   \n",
       "1                      0.35  31.0              0.0                    0.0   \n",
       "2                      0.67  32.0              0.0                    0.0   \n",
       "3                      0.17  21.0              0.0                    0.0   \n",
       "4                      2.29  33.0              0.0                    0.0   \n",
       "\n",
       "   SkinThickness_missing  Insulin_missing  BMI_missing  Outcome  \n",
       "0                    0.0              1.0          0.0        1  \n",
       "1                    0.0              1.0          0.0        0  \n",
       "2                    1.0              1.0          0.0        1  \n",
       "3                    0.0              0.0          0.0        0  \n",
       "4                    0.0              0.0          0.0        1  "
      ]
     },
     "execution_count": 25,
     "metadata": {},
     "output_type": "execute_result"
    }
   ],
   "source": [
    "# Display first 5 rows of dataset\n",
    "df_imputed.head()"
   ]
  },
  {
   "cell_type": "code",
   "execution_count": 26,
   "id": "2c0a926f",
   "metadata": {},
   "outputs": [
    {
     "name": "stdout",
     "output_type": "stream",
     "text": [
      "<class 'pandas.core.frame.DataFrame'>\n",
      "RangeIndex: 768 entries, 0 to 767\n",
      "Data columns (total 14 columns):\n",
      " #   Column                    Non-Null Count  Dtype  \n",
      "---  ------                    --------------  -----  \n",
      " 0   Pregnancies               768 non-null    float64\n",
      " 1   Glucose                   768 non-null    float64\n",
      " 2   BloodPressure             768 non-null    float64\n",
      " 3   SkinThickness             768 non-null    float64\n",
      " 4   Insulin                   768 non-null    float64\n",
      " 5   BMI                       768 non-null    float64\n",
      " 6   DiabetesPedigreeFunction  768 non-null    float64\n",
      " 7   Age                       768 non-null    float64\n",
      " 8   Glucose_missing           768 non-null    float64\n",
      " 9   BloodPressure_missing     768 non-null    float64\n",
      " 10  SkinThickness_missing     768 non-null    float64\n",
      " 11  Insulin_missing           768 non-null    float64\n",
      " 12  BMI_missing               768 non-null    float64\n",
      " 13  Outcome                   768 non-null    int64  \n",
      "dtypes: float64(13), int64(1)\n",
      "memory usage: 84.1 KB\n"
     ]
    }
   ],
   "source": [
    "# Overview of data types and non-null counts\n",
    "df_imputed.info()"
   ]
  },
  {
   "cell_type": "code",
   "execution_count": 27,
   "id": "eb05bff4",
   "metadata": {},
   "outputs": [
    {
     "name": "stdout",
     "output_type": "stream",
     "text": [
      "Shape: (768, 14)\n"
     ]
    }
   ],
   "source": [
    "# Shape\n",
    "print(\"Shape:\", df_imputed.shape)"
   ]
  },
  {
   "cell_type": "markdown",
   "id": "1436f1be",
   "metadata": {},
   "source": [
    "#### 4.1.2 Class Distribution using Countplot\n",
    "Is the dataset balanced?\n",
    "\n",
    "Are there more diabetic or non-diabetic patients?"
   ]
  },
  {
   "cell_type": "code",
   "execution_count": 28,
   "id": "88d0a218",
   "metadata": {},
   "outputs": [
    {
     "data": {
      "image/png": "[encoded data removed]",
      "text/plain": [
       "<Figure size 640x480 with 1 Axes>"
      ]
     },
     "metadata": {},
     "output_type": "display_data"
    }
   ],
   "source": [
    "# Countplot\n",
    "sns.countplot(x='Outcome', data=df_imputed)\n",
    "plt.title(\"Distribution of Diabetes Outcome\")\n",
    "plt.xlabel(\"Diabetes Status (0 = No, 1 = Yes)\")\n",
    "plt.ylabel(\"Count\")\n",
    "plt.show()"
   ]
  },
  {
   "cell_type": "markdown",
   "id": "8920ce41",
   "metadata": {},
   "source": [
    "**Interpretation**\n",
    "\n",
    "The dataset shows a **class imbalance** in the target variable (Outcome), with more individuals labeled as non-diabetic (Outcome = 0) compared to diabetic (Outcome = 1)."
   ]
  },
  {
   "cell_type": "markdown",
   "id": "04b143af",
   "metadata": {},
   "source": [
    "#### 4.1.3 Pregnancies and Diabetes Risk\n",
    "Effect of number of pregnancies on diabetes outcome."
   ]
  },
  {
   "cell_type": "markdown",
   "id": "e3bc0a49",
   "metadata": {},
   "source": [
    "##### 4.1.3.1 Distribution Plot (Histogram) for Pregnancies"
   ]
  },
  {
   "cell_type": "code",
   "execution_count": 29,
   "id": "63fa7f3d",
   "metadata": {},
   "outputs": [
    {
     "data": {
      "image/png": "[encoded data removed]",
      "text/plain": [
       "<Figure size 800x500 with 1 Axes>"
      ]
     },
     "metadata": {},
     "output_type": "display_data"
    }
   ],
   "source": [
    "# Histogram\n",
    "plt.figure(figsize=(8,5))\n",
    "sns.histplot(df_imputed['Pregnancies'], kde=True, bins=30)\n",
    "plt.title('Distribution of Pregnancies')\n",
    "plt.xlabel('Number of Pregnancies')\n",
    "plt.ylabel('Count')\n",
    "plt.show()"
   ]
  },
  {
   "cell_type": "markdown",
   "id": "18178425",
   "metadata": {},
   "source": [
    "##### 4.1.3.2 Group Comparison Box Plot (Pregnancies vs Outcome)"
   ]
  },
  {
   "cell_type": "code",
   "execution_count": 30,
   "id": "f1ef4772",
   "metadata": {},
   "outputs": [
    {
     "data": {
      "image/png": "[encoded data removed]",
      "text/plain": [
       "<Figure size 800x500 with 1 Axes>"
      ]
     },
     "metadata": {},
     "output_type": "display_data"
    }
   ],
   "source": [
    "# Box Plot\n",
    "plt.figure(figsize=(8,5))\n",
    "sns.boxplot(x='Outcome', y='Pregnancies', data=df_imputed)\n",
    "plt.title('Pregnancies by Diabetes Outcome')\n",
    "plt.xlabel('Diabetes Outcome (0=No, 1=Yes)')\n",
    "plt.ylabel('Pregnancies')\n",
    "plt.show()"
   ]
  },
  {
   "cell_type": "markdown",
   "id": "079fba4e",
   "metadata": {},
   "source": [
    "##### 4.1.3.3 Interpretation\n",
    "Pregnancies show a right-skewed distribution with slightly higher counts among diabetics."
   ]
  },
  {
   "cell_type": "markdown",
   "id": "ad916b68",
   "metadata": {},
   "source": [
    "#### 4.1.4 Glucose Level Distribution and Impact\n",
    "Glucose levels and their relationship with diabetes."
   ]
  },
  {
   "cell_type": "markdown",
   "id": "a7847c8b",
   "metadata": {},
   "source": [
    "##### 4.1.4.1 Distribution Plot (Histogram) for Glucose Levels"
   ]
  },
  {
   "cell_type": "code",
   "execution_count": 31,
   "id": "d942bd34",
   "metadata": {},
   "outputs": [
    {
     "data": {
      "image/png": "[encoded data removed]",
      "text/plain": [
       "<Figure size 800x500 with 1 Axes>"
      ]
     },
     "metadata": {},
     "output_type": "display_data"
    }
   ],
   "source": [
    "# Histogram\n",
    "plt.figure(figsize=(8,5))\n",
    "sns.histplot(df_imputed['Glucose'], kde=True, bins=30)\n",
    "plt.title('Distribution of Glucose Levels')\n",
    "plt.xlabel('Glucose Level')\n",
    "plt.ylabel('Count')\n",
    "plt.show()"
   ]
  },
  {
   "cell_type": "markdown",
   "id": "b04c7b8b",
   "metadata": {},
   "source": [
    "##### 4.1.4.2 Group Comparison Box Plot (Glucose vs Outcome)"
   ]
  },
  {
   "cell_type": "code",
   "execution_count": 32,
   "id": "41ebc7fa",
   "metadata": {},
   "outputs": [
    {
     "data": {
      "image/png": "[encoded data removed]",
      "text/plain": [
       "<Figure size 800x500 with 1 Axes>"
      ]
     },
     "metadata": {},
     "output_type": "display_data"
    }
   ],
   "source": [
    "# Box Plot\n",
    "plt.figure(figsize=(8,5))\n",
    "sns.boxplot(x='Outcome', y='Glucose', data=df_imputed)\n",
    "plt.title('Glucosw by Diabetes Outcome')\n",
    "plt.xlabel('Diabetes Outcome (0=No, 1=Yes)')\n",
    "plt.ylabel('Glucose')\n",
    "plt.show()"
   ]
  },
  {
   "cell_type": "markdown",
   "id": "00541ffe",
   "metadata": {},
   "source": [
    "##### 4.1.4.3 Interpretation\n",
    "Glucose has visibly higher distributions among diabetic patients."
   ]
  },
  {
   "cell_type": "markdown",
   "id": "f0e83a7f",
   "metadata": {},
   "source": [
    "#### 4.1.5 Blood Pressure and Diabetes Association\n",
    "Blood pressure patterns and relationship with diabetes."
   ]
  },
  {
   "cell_type": "markdown",
   "id": "ed49ac0c",
   "metadata": {},
   "source": [
    "##### 4.1.5.1 Distribution Plot (Histogram) for Blood Pressure"
   ]
  },
  {
   "cell_type": "code",
   "execution_count": 33,
   "id": "2c2d0c86",
   "metadata": {},
   "outputs": [
    {
     "data": {
      "image/png": "[encoded data removed]",
      "text/plain": [
       "<Figure size 800x500 with 1 Axes>"
      ]
     },
     "metadata": {},
     "output_type": "display_data"
    }
   ],
   "source": [
    "# Histogram\n",
    "plt.figure(figsize=(8,5))\n",
    "sns.histplot(df_imputed['BloodPressure'], kde=True, bins=30)\n",
    "plt.title('Distribution of Blood Pressure')\n",
    "plt.xlabel('Blood Pressure (mm/Hg)')\n",
    "plt.ylabel('Count')\n",
    "plt.show()"
   ]
  },
  {
   "cell_type": "markdown",
   "id": "7e0e02ce",
   "metadata": {},
   "source": [
    "##### 4.1.5.2 Group Comparison Box Plot (Blood Pressure vs Outcome)"
   ]
  },
  {
   "cell_type": "code",
   "execution_count": 34,
   "id": "41c63ea6",
   "metadata": {},
   "outputs": [
    {
     "data": {
      "image/png": "[encoded data removed]",
      "text/plain": [
       "<Figure size 800x500 with 1 Axes>"
      ]
     },
     "metadata": {},
     "output_type": "display_data"
    }
   ],
   "source": [
    "# Box Plot\n",
    "plt.figure(figsize=(8,5))\n",
    "sns.boxplot(x='Outcome', y='BloodPressure', data=df_imputed)\n",
    "plt.title('Blood Pressure by Diabetes Outcome')\n",
    "plt.xlabel('Diabetes Outcome (0=No, 1=Yes)')\n",
    "plt.ylabel('Blood Pressure')\n",
    "plt.show()"
   ]
  },
  {
   "cell_type": "markdown",
   "id": "276f87db",
   "metadata": {},
   "source": [
    "##### 4.1.5.3 Interpretation\n",
    "Blood Pressure has overlapping distributions across classes, suggesting weaker predictive power."
   ]
  },
  {
   "cell_type": "markdown",
   "id": "8a6b9363",
   "metadata": {},
   "source": [
    "#### 4.1.6 Skin Thickness and Diabetes\n",
    "Skin thickness measurements in diabetic vs. non-diabetic groups."
   ]
  },
  {
   "cell_type": "markdown",
   "id": "10174b40",
   "metadata": {},
   "source": [
    "##### 4.1.6.1 Distribution Plot (Histogram) for Skin Thickness"
   ]
  },
  {
   "cell_type": "code",
   "execution_count": 35,
   "id": "b6b86770",
   "metadata": {},
   "outputs": [
    {
     "data": {
      "image/png": "[encoded data removed]",
      "text/plain": [
       "<Figure size 800x500 with 1 Axes>"
      ]
     },
     "metadata": {},
     "output_type": "display_data"
    }
   ],
   "source": [
    "# Histogram\n",
    "plt.figure(figsize=(8,5))\n",
    "sns.histplot(df_imputed['SkinThickness'], kde=True, bins=30)\n",
    "plt.title('Distribution of Skin Thickness')\n",
    "plt.xlabel('Skin Thickness')\n",
    "plt.ylabel('Count')\n",
    "plt.show()"
   ]
  },
  {
   "cell_type": "markdown",
   "id": "5d7069e5",
   "metadata": {},
   "source": [
    "##### 4.1.6.2 Group Comparison Box Plot (Skin Thickness vs Outcome)"
   ]
  },
  {
   "cell_type": "code",
   "execution_count": 36,
   "id": "4b052231",
   "metadata": {},
   "outputs": [
    {
     "data": {
      "image/png": "[encoded data removed]",
      "text/plain": [
       "<Figure size 800x500 with 1 Axes>"
      ]
     },
     "metadata": {},
     "output_type": "display_data"
    }
   ],
   "source": [
    "# Box Plot\n",
    "plt.figure(figsize=(8,5))\n",
    "sns.boxplot(x='Outcome', y='SkinThickness', data=df_imputed)\n",
    "plt.title('Skin Thickness by Diabetes Outcome')\n",
    "plt.xlabel('Diabetes Outcome (0=No, 1=Yes)')\n",
    "plt.ylabel('Skin Thickness')\n",
    "plt.show()"
   ]
  },
  {
   "cell_type": "markdown",
   "id": "7fe83d71",
   "metadata": {},
   "source": [
    "##### 4.1.6.3 Interpretation\n",
    "Skin Thickness has overlapping distributions across classes, suggesting weaker predictive power."
   ]
  },
  {
   "cell_type": "markdown",
   "id": "9d1fe2e1",
   "metadata": {},
   "source": [
    "#### 4.1.7 Insulin Levels and Impact on Diabetes"
   ]
  },
  {
   "cell_type": "markdown",
   "id": "3268b27d",
   "metadata": {},
   "source": [
    "##### 4.1.7.1 Distribution Plot (Histogram) for Insulin Levels"
   ]
  },
  {
   "cell_type": "code",
   "execution_count": 37,
   "id": "2c37625f",
   "metadata": {},
   "outputs": [
    {
     "data": {
      "image/png": "[encoded data removed]",
      "text/plain": [
       "<Figure size 800x500 with 1 Axes>"
      ]
     },
     "metadata": {},
     "output_type": "display_data"
    }
   ],
   "source": [
    "# Histogram\n",
    "plt.figure(figsize=(8,5))\n",
    "sns.histplot(df_imputed['Insulin'], kde=True, bins=30)\n",
    "plt.title('Distribution of Insulin Levels')\n",
    "plt.xlabel('Insulin Levels')\n",
    "plt.ylabel('Count')\n",
    "plt.show()"
   ]
  },
  {
   "cell_type": "markdown",
   "id": "66ad533d",
   "metadata": {},
   "source": [
    "##### 4.1.7.2 Group Comparison Box Plot (Insulin vs Outcome)"
   ]
  },
  {
   "cell_type": "code",
   "execution_count": 38,
   "id": "0c7cab30",
   "metadata": {},
   "outputs": [
    {
     "data": {
      "image/png": "[encoded data removed]",
      "text/plain": [
       "<Figure size 800x500 with 1 Axes>"
      ]
     },
     "metadata": {},
     "output_type": "display_data"
    }
   ],
   "source": [
    "# Box Plot\n",
    "plt.figure(figsize=(8,5))\n",
    "sns.boxplot(x='Outcome', y='Insulin', data=df_imputed)\n",
    "plt.title('Insulin by Diabetes Outcome')\n",
    "plt.xlabel('Diabetes Outcome (0=No, 1=Yes)')\n",
    "plt.ylabel('Insulin')\n",
    "plt.show()"
   ]
  },
  {
   "cell_type": "markdown",
   "id": "0320e373",
   "metadata": {},
   "source": [
    "##### 4.1.7.3 Interpretation\n",
    "Insulin shows a right-skewed distribution, suggesting that while most individuals have moderate insulin levels, a few have extremely high values. It also show shifts between diabetic and non-diabetic groups."
   ]
  },
  {
   "cell_type": "markdown",
   "id": "d19478b9",
   "metadata": {},
   "source": [
    "#### 4.1.8 Body Mass Index (BMI) and Diabetes\n",
    "BMI’s influence on diabetes risk."
   ]
  },
  {
   "cell_type": "markdown",
   "id": "3a0e849b",
   "metadata": {},
   "source": [
    "##### 4.1.8.1 Distribution Plot (Histogram) for BMI"
   ]
  },
  {
   "cell_type": "code",
   "execution_count": 39,
   "id": "5d5aebb0",
   "metadata": {},
   "outputs": [
    {
     "data": {
      "image/png": "[encoded data removed]",
      "text/plain": [
       "<Figure size 800x500 with 1 Axes>"
      ]
     },
     "metadata": {},
     "output_type": "display_data"
    }
   ],
   "source": [
    "# Histogram\n",
    "plt.figure(figsize=(8,5))\n",
    "sns.histplot(df_imputed['BMI'], kde=True, bins=30)\n",
    "plt.title('Distribution of BMI')\n",
    "plt.xlabel('BMI')\n",
    "plt.ylabel('Count')\n",
    "plt.show()"
   ]
  },
  {
   "cell_type": "markdown",
   "id": "921314d7",
   "metadata": {},
   "source": [
    "##### 4.1.8.2 Group Comparison Box Plot (BMI vs Outcome)"
   ]
  },
  {
   "cell_type": "code",
   "execution_count": 40,
   "id": "c2a98fda",
   "metadata": {},
   "outputs": [
    {
     "data": {
      "image/png": "[encoded data removed]",
      "text/plain": [
       "<Figure size 800x500 with 1 Axes>"
      ]
     },
     "metadata": {},
     "output_type": "display_data"
    }
   ],
   "source": [
    "# Box Plot\n",
    "plt.figure(figsize=(8,5))\n",
    "sns.boxplot(x='Outcome', y='BMI', data=df_imputed)\n",
    "plt.title('BMI by Diabetes Outcome')\n",
    "plt.xlabel('Diabetes Outcome (0=No, 1=Yes)')\n",
    "plt.ylabel('BMI')\n",
    "plt.show()"
   ]
  },
  {
   "cell_type": "markdown",
   "id": "e5965ea7",
   "metadata": {},
   "source": [
    "##### 4.1.8.3 Interpretation\n",
    "BMI has visibly higher distributions among diabetic patients."
   ]
  },
  {
   "cell_type": "markdown",
   "id": "3f218ac4",
   "metadata": {},
   "source": [
    "#### 4.1.9 Diabetes Pedigree Function (Genetic Risk)\n",
    "Genetic predisposition to diabetes through pedigree function."
   ]
  },
  {
   "cell_type": "markdown",
   "id": "00eade68",
   "metadata": {},
   "source": [
    "##### 4.1.9.1 Distribution Plot (Histogram) for Diabetes Pedigree Function"
   ]
  },
  {
   "cell_type": "code",
   "execution_count": 41,
   "id": "d057b008",
   "metadata": {},
   "outputs": [
    {
     "data": {
      "image/png": "[encoded data removed]",
      "text/plain": [
       "<Figure size 800x500 with 1 Axes>"
      ]
     },
     "metadata": {},
     "output_type": "display_data"
    }
   ],
   "source": [
    "# Histogram\n",
    "plt.figure(figsize=(8,5))\n",
    "sns.histplot(df_imputed['DiabetesPedigreeFunction'], kde=True, bins=30)\n",
    "plt.title('Distribution of Diabetes Pedigree Function')\n",
    "plt.xlabel('Diabetes Pedigree Function')\n",
    "plt.ylabel('Count')\n",
    "plt.show()"
   ]
  },
  {
   "cell_type": "markdown",
   "id": "833e5306",
   "metadata": {},
   "source": [
    "##### 4.1.9.2 Group Comparison Box Plot (Diabetes Pedigree Function vs Outcome)"
   ]
  },
  {
   "cell_type": "code",
   "execution_count": 42,
   "id": "f4efa371",
   "metadata": {},
   "outputs": [
    {
     "data": {
      "image/png": "[encoded data removed]",
      "text/plain": [
       "<Figure size 800x500 with 1 Axes>"
      ]
     },
     "metadata": {},
     "output_type": "display_data"
    }
   ],
   "source": [
    "# Box Plot\n",
    "plt.figure(figsize=(8,5))\n",
    "sns.boxplot(x='Outcome', y='DiabetesPedigreeFunction', data=df_imputed)\n",
    "plt.title('Diabetes Pedigree Function by Diabetes Outcome')\n",
    "plt.xlabel('Diabetes Outcome (0=No, 1=Yes)')\n",
    "plt.ylabel('Diabetes Pedigree Function')\n",
    "plt.show()"
   ]
  },
  {
   "cell_type": "markdown",
   "id": "4fae470b",
   "metadata": {},
   "source": [
    "##### 4.1.9.3 Interpretation\n",
    "Diabetes Pedigree Function (DPF) shows shifts between diabetic and non-diabetic groups."
   ]
  },
  {
   "cell_type": "markdown",
   "id": "8391d0ac",
   "metadata": {},
   "source": [
    "#### 4.1.10 Age Distribution and Diabetes Prevalence\n",
    "Age-related trends in diabetes occurrence."
   ]
  },
  {
   "cell_type": "markdown",
   "id": "bc00ae4a",
   "metadata": {},
   "source": [
    "##### 4.1.10.1 Distribution Plot (Histogram) for Age"
   ]
  },
  {
   "cell_type": "code",
   "execution_count": 43,
   "id": "aabb3137",
   "metadata": {},
   "outputs": [
    {
     "data": {
      "image/png": "[encoded data removed]",
      "text/plain": [
       "<Figure size 800x500 with 1 Axes>"
      ]
     },
     "metadata": {},
     "output_type": "display_data"
    }
   ],
   "source": [
    "# Histogram\n",
    "plt.figure(figsize=(8,5))\n",
    "sns.histplot(df_imputed['Age'], kde=True, bins=30)\n",
    "plt.title('Distribution of Age')\n",
    "plt.xlabel('Age')\n",
    "plt.ylabel('Count')\n",
    "plt.show()"
   ]
  },
  {
   "cell_type": "markdown",
   "id": "53201b51",
   "metadata": {},
   "source": [
    "##### 4.1.10.2 Group Comparison Box Plot (Age vs Outcome)"
   ]
  },
  {
   "cell_type": "code",
   "execution_count": 44,
   "id": "068961d6",
   "metadata": {},
   "outputs": [
    {
     "data": {
      "image/png": "[encoded data removed]",
      "text/plain": [
       "<Figure size 800x500 with 1 Axes>"
      ]
     },
     "metadata": {},
     "output_type": "display_data"
    }
   ],
   "source": [
    "# Box Plot\n",
    "plt.figure(figsize=(8,5))\n",
    "sns.boxplot(x='Outcome', y='Age', data=df_imputed)\n",
    "plt.title('Age by Diabetes Outcome')\n",
    "plt.xlabel('Diabetes Outcome (0=No, 1=Yes)')\n",
    "plt.ylabel('Age')\n",
    "plt.show()"
   ]
  },
  {
   "cell_type": "markdown",
   "id": "2899dbae",
   "metadata": {},
   "source": [
    "##### 4.1.10.3 Interpretation\n",
    "Age shows shifts between diabetic and non-diabetic groups."
   ]
  },
  {
   "cell_type": "markdown",
   "id": "11c490f5",
   "metadata": {},
   "source": [
    "#### 4.1.11 Correlation Matrix and Multicollinearity Check"
   ]
  },
  {
   "cell_type": "markdown",
   "id": "b03599ef",
   "metadata": {},
   "source": [
    "##### 4.1.11.1 Correlation Matrix demonstrated using Heatmap"
   ]
  },
  {
   "cell_type": "code",
   "execution_count": 45,
   "id": "ec91a843",
   "metadata": {},
   "outputs": [
    {
     "data": {
      "image/png": "[encoded data removed]",
      "text/plain": [
       "<Figure size 1000x800 with 2 Axes>"
      ]
     },
     "metadata": {},
     "output_type": "display_data"
    }
   ],
   "source": [
    "# Select numeric columns\n",
    "columns = ['Pregnancies', 'Glucose', 'BloodPressure', 'BMI', 'Age',\n",
    "           'Insulin', 'SkinThickness', 'DiabetesPedigreeFunction', 'Outcome']\n",
    "\n",
    "# Compute Spearman correlation matrix\n",
    "corr_matrix = df_imputed[columns].corr(method='spearman')\n",
    "\n",
    "# Create the heatmap\n",
    "plt.figure(figsize=(10, 8))\n",
    "sns.heatmap(corr_matrix, annot=True, cmap='coolwarm', center=0, linewidths=0.5)\n",
    "plt.title('Correlation Heatmap of Diabetes Dataset')\n",
    "plt.show()\n"
   ]
  },
  {
   "cell_type": "markdown",
   "id": "90bf99c7",
   "metadata": {},
   "source": [
    "**Intepretation**\n",
    "\n",
    "The strongest positive correlation is between glucose and insulin levels.\n",
    "\n",
    "Glucose has the strongest positive correlation with Outcome.\n",
    "\n",
    "BMI and SkinThickness correlation indicate a strong positive linear relationship.\n",
    "\n",
    "Pregnancies and Age correlation indicates a moderate to strong postive linear relationship.\n",
    "\n",
    "DPF may show weak-to-moderate correlation but still contributes."
   ]
  },
  {
   "cell_type": "markdown",
   "id": "da916038",
   "metadata": {},
   "source": [
    "##### 4.1.11.2 Multicollinearity Check using Variance Inflation Factor (VIF)\n",
    "VIF does quantitative measure of multicollinearity"
   ]
  },
  {
   "cell_type": "code",
   "execution_count": 46,
   "id": "bbedb3aa",
   "metadata": {},
   "outputs": [
    {
     "data": {
      "text/html": [
       "<div>\n",
       "<style scoped>\n",
       "    .dataframe tbody tr th:only-of-type {\n",
       "        vertical-align: middle;\n",
       "    }\n",
       "\n",
       "    .dataframe tbody tr th {\n",
       "        vertical-align: top;\n",
       "    }\n",
       "\n",
       "    .dataframe thead th {\n",
       "        text-align: right;\n",
       "    }\n",
       "</style>\n",
       "<table border=\"1\" class=\"dataframe\">\n",
       "  <thead>\n",
       "    <tr style=\"text-align: right;\">\n",
       "      <th></th>\n",
       "      <th>feature</th>\n",
       "      <th>VIF</th>\n",
       "    </tr>\n",
       "  </thead>\n",
       "  <tbody>\n",
       "    <tr>\n",
       "      <th>0</th>\n",
       "      <td>Pregnancies</td>\n",
       "      <td>1.435900</td>\n",
       "    </tr>\n",
       "    <tr>\n",
       "      <th>1</th>\n",
       "      <td>Glucose</td>\n",
       "      <td>2.070584</td>\n",
       "    </tr>\n",
       "    <tr>\n",
       "      <th>2</th>\n",
       "      <td>BloodPressure</td>\n",
       "      <td>1.269819</td>\n",
       "    </tr>\n",
       "    <tr>\n",
       "      <th>3</th>\n",
       "      <td>BMI</td>\n",
       "      <td>2.210755</td>\n",
       "    </tr>\n",
       "    <tr>\n",
       "      <th>4</th>\n",
       "      <td>Age</td>\n",
       "      <td>1.649578</td>\n",
       "    </tr>\n",
       "    <tr>\n",
       "      <th>5</th>\n",
       "      <td>Insulin</td>\n",
       "      <td>2.035444</td>\n",
       "    </tr>\n",
       "    <tr>\n",
       "      <th>6</th>\n",
       "      <td>SkinThickness</td>\n",
       "      <td>2.078679</td>\n",
       "    </tr>\n",
       "    <tr>\n",
       "      <th>7</th>\n",
       "      <td>DiabetesPedigreeFunction</td>\n",
       "      <td>1.045059</td>\n",
       "    </tr>\n",
       "  </tbody>\n",
       "</table>\n",
       "</div>"
      ],
      "text/plain": [
       "                    feature       VIF\n",
       "0               Pregnancies  1.435900\n",
       "1                   Glucose  2.070584\n",
       "2             BloodPressure  1.269819\n",
       "3                       BMI  2.210755\n",
       "4                       Age  1.649578\n",
       "5                   Insulin  2.035444\n",
       "6             SkinThickness  2.078679\n",
       "7  DiabetesPedigreeFunction  1.045059"
      ]
     },
     "execution_count": 46,
     "metadata": {},
     "output_type": "execute_result"
    }
   ],
   "source": [
    "features = ['Pregnancies', 'Glucose', 'BloodPressure', 'BMI', 'Age', 'Insulin', 'SkinThickness', 'DiabetesPedigreeFunction']\n",
    "\n",
    "X = df_imputed[features]\n",
    "X_const = sm.add_constant(X)\n",
    "\n",
    "vif_data = pd.DataFrame()\n",
    "vif_data['feature'] = X.columns\n",
    "vif_data['VIF'] = [variance_inflation_factor(X_const.values, i+1) for i in range(len(X.columns))]\n",
    "\n",
    "vif_data"
   ]
  },
  {
   "cell_type": "markdown",
   "id": "c4f62c08",
   "metadata": {},
   "source": [
    "**Interpretation**\n",
    "\n",
    "All VIF values are well below 5, which is commonly used as a threshold for concern.\n",
    "\n",
    "This means multicollinearity is not a serious problem in this dataset.\n",
    "\n",
    "All features can be safely kept in the classification model to be built without worrying about multicollinearity inflating variances."
   ]
  },
  {
   "cell_type": "markdown",
   "id": "6438bd39",
   "metadata": {},
   "source": [
    "#### 4.1.12 Key Findings from EDA"
   ]
  },
  {
   "cell_type": "markdown",
   "id": "20c3a225",
   "metadata": {},
   "source": [
    "##### 1. Glucose\n",
    "Patients with diabetes have **significantly higher glucose levels**, as shown by histograms and boxplots.\n",
    "Glucose also shows one of the **strongest positive correlations with the Outcome variable**. Higher glucose levels are **strongly associated** with diabetic cases. It is a **key predictor of diabetes risk** and should be prioritized in model development.\n",
    "##### 2. BMI (Body Mass Index)\n",
    "Diabetic patients tend to have a **higher BMI distribution** compared to non-diabetics. Boxplots indicate a clear upward shift in BMI for the diabetic group. This supports the established medical link between **obesity and diabetes**. Higher BMI correlates with increased diabetes risk, as obesity is a **known contributor** to insulin resistance.\n",
    "##### 3. Insulin\n",
    "The insulin levels of diabetics are **more varied and generally higher**.\n",
    "Some imputed values exist, but the trend remains visible.\n",
    "Though slightly less correlated to the outcome variable than glucose or BMI, insulin still adds **predictive value**.\n",
    "##### 4. Age\n",
    "The average age of diabetic patients is higher, and age has a **moderate correlation** with the diabetes outcome.\n",
    "This implies that **increasing age is associated with increased risk**. Older age groups show higher diabetes incidence, likely due to cumulative metabolic stress and declining insulin sensitivity.\n",
    "##### 5. Diabetes Pedigree Function (DPF)\n",
    "Diabetics exhibit **higher DPF values**.\n",
    "While its correlation with Outcome is weaker than glucose or BMI, it still contributes to **risk profiling based on family history**, highlighting the role of heredity.\n",
    "##### 6. Pregnancies\n",
    "The variable is skewed, with a long tail, but still shows potential as a **contributing feature**, especially in this female-only dataset. Higher pregnancy counts correlate with increased diabetes risk, potentially due to gestational diabetes history or metabolic changes post-pregnancy.\n",
    "##### 7. Skin Thickness & Blood Pressure\n",
    "These features showed **less distinct separation** between diabetic and non-diabetic groups in boxplots.\n",
    "They may carry **limited individual predictive power**, but could still add value in combination with stronger predictors.\n",
    "**Higher skinfold thickness** (a proxy for body fat) correlates with **insulin resistance** and **diabetes risk**.\n",
    "##### 8. Correlation of Insulin and Glucose\n",
    "There is a **strong positive correlation** between glucose and insulin levels. Correlation heatmap shows that as glucose levels increase, insulin levels tend to increase as well. This relationship is expected, as insulin is the hormone responsible for lowering blood glucose, and higher glucose often triggers higher insulin production (unless insulin resistance or deficiency is present).\n",
    "##### 9. Correlation between BMI and Skin Thickness\n",
    "There is a **strong positive linear relationship** between BMI and skin thickness. This suggests that individuals with **higher BMI** tend to have **thicker skinfolds**, which aligns with the fact that both are **indicators of body fat**. Both BMI and SkinThickness are **biologically relevant** to **diabetes risk** (they relate to body fat and insulin resistance), so including them can improve model accuracy.\n",
    "##### 10. Correlation between Pregnancies and Age\n",
    "There is a **moderate to strong positive linear relationship** between age and the number of pregnancies. Older individuals tend to report more pregnancies, which is logically expected due to increased reproductive time. Both features are **logically linked to diabetes risk** — age is a major risk factor, and number of pregnancies (especially gestational diabetes) is also relevant.\n",
    "##### 11. Multicollinearity (VIF Analysis)\n",
    "All features had **VIF < 5**, indicating **no problematic multicollinearity**.\n",
    "This means the features are not redundant and can be **safely included together** in the model.\n",
    "##### 12. Outcome\n",
    "There is **class imbalance**. The dataset is skewed: 500 non-diabetic (Class 0) vs. 268 diabetic (Class 1) cases. This imbalance may affect model accuracy if unaddressed."
   ]
  },
  {
   "cell_type": "markdown",
   "id": "e3ffb748",
   "metadata": {},
   "source": [
    "### 4.2 DESCRIPTIVE STATISTICS"
   ]
  },
  {
   "cell_type": "markdown",
   "id": "bb6ed258",
   "metadata": {},
   "source": [
    "#### 4.2.1 Overall Descriptive Analysis"
   ]
  },
  {
   "cell_type": "code",
   "execution_count": 47,
   "id": "895edf73",
   "metadata": {},
   "outputs": [
    {
     "name": "stdout",
     "output_type": "stream",
     "text": [
      "\n",
      "Overall Descriptive Analysis:\n"
     ]
    },
    {
     "data": {
      "text/html": [
       "<div>\n",
       "<style scoped>\n",
       "    .dataframe tbody tr th:only-of-type {\n",
       "        vertical-align: middle;\n",
       "    }\n",
       "\n",
       "    .dataframe tbody tr th {\n",
       "        vertical-align: top;\n",
       "    }\n",
       "\n",
       "    .dataframe thead th {\n",
       "        text-align: right;\n",
       "    }\n",
       "</style>\n",
       "<table border=\"1\" class=\"dataframe\">\n",
       "  <thead>\n",
       "    <tr style=\"text-align: right;\">\n",
       "      <th></th>\n",
       "      <th>count</th>\n",
       "      <th>mean</th>\n",
       "      <th>std</th>\n",
       "      <th>min</th>\n",
       "      <th>25%</th>\n",
       "      <th>50%</th>\n",
       "      <th>75%</th>\n",
       "      <th>max</th>\n",
       "    </tr>\n",
       "  </thead>\n",
       "  <tbody>\n",
       "    <tr>\n",
       "      <th>Pregnancies</th>\n",
       "      <td>768.0</td>\n",
       "      <td>3.85</td>\n",
       "      <td>3.37</td>\n",
       "      <td>0.00</td>\n",
       "      <td>1.00</td>\n",
       "      <td>3.00</td>\n",
       "      <td>6.00</td>\n",
       "      <td>17.00</td>\n",
       "    </tr>\n",
       "    <tr>\n",
       "      <th>BloodPressure</th>\n",
       "      <td>768.0</td>\n",
       "      <td>72.36</td>\n",
       "      <td>12.15</td>\n",
       "      <td>24.00</td>\n",
       "      <td>64.00</td>\n",
       "      <td>72.00</td>\n",
       "      <td>80.00</td>\n",
       "      <td>122.00</td>\n",
       "    </tr>\n",
       "    <tr>\n",
       "      <th>SkinThickness</th>\n",
       "      <td>768.0</td>\n",
       "      <td>28.93</td>\n",
       "      <td>9.52</td>\n",
       "      <td>7.00</td>\n",
       "      <td>22.22</td>\n",
       "      <td>28.44</td>\n",
       "      <td>35.00</td>\n",
       "      <td>99.00</td>\n",
       "    </tr>\n",
       "    <tr>\n",
       "      <th>Glucose</th>\n",
       "      <td>768.0</td>\n",
       "      <td>121.64</td>\n",
       "      <td>30.47</td>\n",
       "      <td>44.00</td>\n",
       "      <td>99.00</td>\n",
       "      <td>117.00</td>\n",
       "      <td>140.25</td>\n",
       "      <td>199.00</td>\n",
       "    </tr>\n",
       "    <tr>\n",
       "      <th>Insulin</th>\n",
       "      <td>768.0</td>\n",
       "      <td>152.68</td>\n",
       "      <td>97.28</td>\n",
       "      <td>14.00</td>\n",
       "      <td>89.99</td>\n",
       "      <td>130.20</td>\n",
       "      <td>190.00</td>\n",
       "      <td>846.00</td>\n",
       "    </tr>\n",
       "    <tr>\n",
       "      <th>BMI</th>\n",
       "      <td>768.0</td>\n",
       "      <td>32.44</td>\n",
       "      <td>6.88</td>\n",
       "      <td>18.20</td>\n",
       "      <td>27.50</td>\n",
       "      <td>32.00</td>\n",
       "      <td>36.60</td>\n",
       "      <td>67.10</td>\n",
       "    </tr>\n",
       "    <tr>\n",
       "      <th>DiabetesPedigreeFunction</th>\n",
       "      <td>768.0</td>\n",
       "      <td>0.47</td>\n",
       "      <td>0.33</td>\n",
       "      <td>0.08</td>\n",
       "      <td>0.24</td>\n",
       "      <td>0.37</td>\n",
       "      <td>0.63</td>\n",
       "      <td>2.42</td>\n",
       "    </tr>\n",
       "    <tr>\n",
       "      <th>Age</th>\n",
       "      <td>768.0</td>\n",
       "      <td>33.24</td>\n",
       "      <td>11.76</td>\n",
       "      <td>21.00</td>\n",
       "      <td>24.00</td>\n",
       "      <td>29.00</td>\n",
       "      <td>41.00</td>\n",
       "      <td>81.00</td>\n",
       "    </tr>\n",
       "  </tbody>\n",
       "</table>\n",
       "</div>"
      ],
      "text/plain": [
       "                          count    mean    std    min    25%     50%     75%  \\\n",
       "Pregnancies               768.0    3.85   3.37   0.00   1.00    3.00    6.00   \n",
       "BloodPressure             768.0   72.36  12.15  24.00  64.00   72.00   80.00   \n",
       "SkinThickness             768.0   28.93   9.52   7.00  22.22   28.44   35.00   \n",
       "Glucose                   768.0  121.64  30.47  44.00  99.00  117.00  140.25   \n",
       "Insulin                   768.0  152.68  97.28  14.00  89.99  130.20  190.00   \n",
       "BMI                       768.0   32.44   6.88  18.20  27.50   32.00   36.60   \n",
       "DiabetesPedigreeFunction  768.0    0.47   0.33   0.08   0.24    0.37    0.63   \n",
       "Age                       768.0   33.24  11.76  21.00  24.00   29.00   41.00   \n",
       "\n",
       "                             max  \n",
       "Pregnancies                17.00  \n",
       "BloodPressure             122.00  \n",
       "SkinThickness              99.00  \n",
       "Glucose                   199.00  \n",
       "Insulin                   846.00  \n",
       "BMI                        67.10  \n",
       "DiabetesPedigreeFunction    2.42  \n",
       "Age                        81.00  "
      ]
     },
     "execution_count": 47,
     "metadata": {},
     "output_type": "execute_result"
    }
   ],
   "source": [
    "features = [\"Pregnancies\", \"BloodPressure\", \"SkinThickness\", \n",
    "            \"Glucose\", \"Insulin\", \"BMI\", \"DiabetesPedigreeFunction\", \"Age\"]\n",
    "\n",
    "# Get the descriptive stats\n",
    "combined_desc = df_imputed[features].describe().round(2).transpose()\n",
    "\n",
    "# Display the table\n",
    "print(\"\\nOverall Descriptive Analysis:\")\n",
    "combined_desc"
   ]
  },
  {
   "cell_type": "markdown",
   "id": "b856b9d9",
   "metadata": {},
   "source": [
    "#### 4.2.2 Descriptive Analysis based on Diabetic Status"
   ]
  },
  {
   "cell_type": "code",
   "execution_count": 48,
   "id": "b072b783",
   "metadata": {},
   "outputs": [
    {
     "name": "stdout",
     "output_type": "stream",
     "text": [
      "Descriptive Statistics for Non-Diabetics:\n",
      "\n",
      "Descriptive Statistics for Diabetics:\n"
     ]
    },
    {
     "data": {
      "text/html": [
       "<div>\n",
       "<style scoped>\n",
       "    .dataframe tbody tr th:only-of-type {\n",
       "        vertical-align: middle;\n",
       "    }\n",
       "\n",
       "    .dataframe tbody tr th {\n",
       "        vertical-align: top;\n",
       "    }\n",
       "\n",
       "    .dataframe thead th {\n",
       "        text-align: right;\n",
       "    }\n",
       "</style>\n",
       "<table border=\"1\" class=\"dataframe\">\n",
       "  <thead>\n",
       "    <tr style=\"text-align: right;\">\n",
       "      <th>Statistic</th>\n",
       "      <th>Feature</th>\n",
       "      <th>25%</th>\n",
       "      <th>50%</th>\n",
       "      <th>75%</th>\n",
       "      <th>count</th>\n",
       "      <th>max</th>\n",
       "      <th>mean</th>\n",
       "      <th>min</th>\n",
       "      <th>std</th>\n",
       "    </tr>\n",
       "  </thead>\n",
       "  <tbody>\n",
       "    <tr>\n",
       "      <th>0</th>\n",
       "      <td>Age</td>\n",
       "      <td>28.00</td>\n",
       "      <td>36.00</td>\n",
       "      <td>44.00</td>\n",
       "      <td>268.0</td>\n",
       "      <td>70.00</td>\n",
       "      <td>37.07</td>\n",
       "      <td>21.00</td>\n",
       "      <td>10.97</td>\n",
       "    </tr>\n",
       "    <tr>\n",
       "      <th>1</th>\n",
       "      <td>BMI</td>\n",
       "      <td>30.90</td>\n",
       "      <td>34.30</td>\n",
       "      <td>38.78</td>\n",
       "      <td>268.0</td>\n",
       "      <td>67.10</td>\n",
       "      <td>35.39</td>\n",
       "      <td>22.90</td>\n",
       "      <td>6.59</td>\n",
       "    </tr>\n",
       "    <tr>\n",
       "      <th>2</th>\n",
       "      <td>BloodPressure</td>\n",
       "      <td>68.00</td>\n",
       "      <td>74.00</td>\n",
       "      <td>82.00</td>\n",
       "      <td>268.0</td>\n",
       "      <td>114.00</td>\n",
       "      <td>75.27</td>\n",
       "      <td>30.00</td>\n",
       "      <td>11.98</td>\n",
       "    </tr>\n",
       "    <tr>\n",
       "      <th>3</th>\n",
       "      <td>DiabetesPedigreeFunction</td>\n",
       "      <td>0.26</td>\n",
       "      <td>0.45</td>\n",
       "      <td>0.73</td>\n",
       "      <td>268.0</td>\n",
       "      <td>2.42</td>\n",
       "      <td>0.55</td>\n",
       "      <td>0.09</td>\n",
       "      <td>0.37</td>\n",
       "    </tr>\n",
       "    <tr>\n",
       "      <th>4</th>\n",
       "      <td>Glucose</td>\n",
       "      <td>119.00</td>\n",
       "      <td>140.00</td>\n",
       "      <td>167.00</td>\n",
       "      <td>268.0</td>\n",
       "      <td>199.00</td>\n",
       "      <td>142.24</td>\n",
       "      <td>78.00</td>\n",
       "      <td>29.50</td>\n",
       "    </tr>\n",
       "    <tr>\n",
       "      <th>5</th>\n",
       "      <td>Insulin</td>\n",
       "      <td>130.98</td>\n",
       "      <td>178.11</td>\n",
       "      <td>240.16</td>\n",
       "      <td>268.0</td>\n",
       "      <td>846.00</td>\n",
       "      <td>200.49</td>\n",
       "      <td>14.00</td>\n",
       "      <td>103.19</td>\n",
       "    </tr>\n",
       "    <tr>\n",
       "      <th>6</th>\n",
       "      <td>Pregnancies</td>\n",
       "      <td>1.75</td>\n",
       "      <td>4.00</td>\n",
       "      <td>8.00</td>\n",
       "      <td>268.0</td>\n",
       "      <td>17.00</td>\n",
       "      <td>4.87</td>\n",
       "      <td>0.00</td>\n",
       "      <td>3.74</td>\n",
       "    </tr>\n",
       "    <tr>\n",
       "      <th>7</th>\n",
       "      <td>SkinThickness</td>\n",
       "      <td>27.00</td>\n",
       "      <td>32.00</td>\n",
       "      <td>37.95</td>\n",
       "      <td>268.0</td>\n",
       "      <td>99.00</td>\n",
       "      <td>32.55</td>\n",
       "      <td>7.00</td>\n",
       "      <td>9.17</td>\n",
       "    </tr>\n",
       "  </tbody>\n",
       "</table>\n",
       "</div>"
      ],
      "text/plain": [
       "Statistic                   Feature     25%     50%     75%  count     max  \\\n",
       "0                               Age   28.00   36.00   44.00  268.0   70.00   \n",
       "1                               BMI   30.90   34.30   38.78  268.0   67.10   \n",
       "2                     BloodPressure   68.00   74.00   82.00  268.0  114.00   \n",
       "3          DiabetesPedigreeFunction    0.26    0.45    0.73  268.0    2.42   \n",
       "4                           Glucose  119.00  140.00  167.00  268.0  199.00   \n",
       "5                           Insulin  130.98  178.11  240.16  268.0  846.00   \n",
       "6                       Pregnancies    1.75    4.00    8.00  268.0   17.00   \n",
       "7                     SkinThickness   27.00   32.00   37.95  268.0   99.00   \n",
       "\n",
       "Statistic    mean    min     std  \n",
       "0           37.07  21.00   10.97  \n",
       "1           35.39  22.90    6.59  \n",
       "2           75.27  30.00   11.98  \n",
       "3            0.55   0.09    0.37  \n",
       "4          142.24  78.00   29.50  \n",
       "5          200.49  14.00  103.19  \n",
       "6            4.87   0.00    3.74  \n",
       "7           32.55   7.00    9.17  "
      ]
     },
     "execution_count": 48,
     "metadata": {},
     "output_type": "execute_result"
    }
   ],
   "source": [
    "# Step 1: Define the features to analyze\n",
    "features = [\"Pregnancies\", \"BloodPressure\", \"SkinThickness\", \n",
    "            \"Glucose\", \"Insulin\", \"BMI\", \"DiabetesPedigreeFunction\", \"Age\"]\n",
    "\n",
    "# Step 2: Compute grouped descriptive statistics by Outcome\n",
    "grouped_desc = df_imputed.groupby(\"Outcome\")[features].describe().round(2)\n",
    "\n",
    "# Step 3: For Non-Diabetics (Outcome = 0)\n",
    "non_diabetic_desc = grouped_desc.loc[0].T.reset_index()\n",
    "non_diabetic_desc.columns = ['Feature', 'Statistic', 'Value']\n",
    "non_diabetic_table = non_diabetic_desc.pivot(index='Feature', columns='Statistic', values='Value').reset_index()\n",
    "non_diabetic_table = non_diabetic_table.round(2)\n",
    "\n",
    "# Step 4: For Diabetics (Outcome = 1)\n",
    "diabetic_desc = grouped_desc.loc[1].T.reset_index()\n",
    "diabetic_desc.columns = ['Feature', 'Statistic', 'Value']\n",
    "diabetic_table = diabetic_desc.pivot(index='Feature', columns='Statistic', values='Value').reset_index()\n",
    "diabetic_table = diabetic_table.round(2)\n",
    "\n",
    "# Step 5: Print both tables\n",
    "print(\"Descriptive Statistics for Non-Diabetics:\")\n",
    "non_diabetic_table\n",
    "\n",
    "print(\"\\nDescriptive Statistics for Diabetics:\")\n",
    "diabetic_table"
   ]
  },
  {
   "cell_type": "markdown",
   "id": "19a8611b",
   "metadata": {},
   "source": [
    "#### 4.2.3 Save Descriptive Statistics into Excel Workbook"
   ]
  },
  {
   "cell_type": "code",
   "execution_count": 49,
   "id": "fd29409e",
   "metadata": {},
   "outputs": [
    {
     "name": "stdout",
     "output_type": "stream",
     "text": [
      "Dataset saved as 'diabetes_descriptive_stats.xlsx'\n"
     ]
    }
   ],
   "source": [
    "with pd.ExcelWriter(\"diabetes_descriptive_stats.xlsx\") as writer:\n",
    "    combined_desc.to_excel(writer, sheet_name=\"Overall Descriptive Analysis\", index=False)\n",
    "    non_diabetic_table.to_excel(writer, sheet_name=\"Non-Diabetics\", index=False)\n",
    "    diabetic_table.to_excel(writer, sheet_name=\"Diabetics\", index=False)\n",
    "\n",
    "print(\"Dataset saved as 'diabetes_descriptive_stats.xlsx'\")"
   ]
  },
  {
   "cell_type": "markdown",
   "id": "a6f27f37",
   "metadata": {},
   "source": [
    "#### 4.2.4 Key Findings from Descriptive Statistics"
   ]
  },
  {
   "cell_type": "markdown",
   "id": "07cd07b5",
   "metadata": {},
   "source": [
    "##### 1. Glucose Levels\n",
    "Diabetic patients have a **significantly higher mean glucose** (approx. 141 mg/dL) than non-diabetics (approx. 110 mg/dL).\n",
    "This confirms that **glucose is a strong predictor** of diabetes.\n",
    "##### 2. Insulin Levels\n",
    "Though there are missing/imputed values, the **mean insulin** level is higher in diabetics.\n",
    "There's also **greater variance** in insulin values among diabetics, suggesting that abnormal insulin response is a factor.\n",
    "##### 3. BMI (Body Mass Index)\n",
    "Diabetics tend to have **higher average BMI** than non-diabetics.\n",
    "This supports the known link between obesity and diabetes risk.\n",
    "##### 4. Age\n",
    "The average age of diabetics is **significantly higher** than non-diabetics.\n",
    "This indicates increasing age is associated with greater diabetes risk.\n",
    "##### 5. Diabetes Pedigree Function (DPF)\n",
    "Diabetics show a **higher average DPF**, suggesting **family history is also a contributing factor**.\n",
    "##### 6. Other Features (like Pregnancies, Blood Pressure, Skin Thickness)\n",
    "Some differences exist but are **less distinct** than glucose or BMI.\n",
    "They may contribute moderately to prediction but likely **less influential individually**."
   ]
  },
  {
   "cell_type": "markdown",
   "id": "c80f7141",
   "metadata": {},
   "source": [
    "### 4.3 INFERENTIAL STATISTICS"
   ]
  },
  {
   "cell_type": "markdown",
   "id": "990ce64a",
   "metadata": {},
   "source": [
    "#### 4.3.1 Grouping Pregnancy and Age columns"
   ]
  },
  {
   "cell_type": "code",
   "execution_count": 50,
   "id": "5e68e0e2",
   "metadata": {},
   "outputs": [
    {
     "data": {
      "text/html": [
       "<div>\n",
       "<style scoped>\n",
       "    .dataframe tbody tr th:only-of-type {\n",
       "        vertical-align: middle;\n",
       "    }\n",
       "\n",
       "    .dataframe tbody tr th {\n",
       "        vertical-align: top;\n",
       "    }\n",
       "\n",
       "    .dataframe thead th {\n",
       "        text-align: right;\n",
       "    }\n",
       "</style>\n",
       "<table border=\"1\" class=\"dataframe\">\n",
       "  <thead>\n",
       "    <tr style=\"text-align: right;\">\n",
       "      <th></th>\n",
       "      <th>Pregnancies</th>\n",
       "      <th>PregnancyGroup</th>\n",
       "      <th>Age</th>\n",
       "      <th>AgeGroup</th>\n",
       "    </tr>\n",
       "  </thead>\n",
       "  <tbody>\n",
       "    <tr>\n",
       "      <th>0</th>\n",
       "      <td>6.0</td>\n",
       "      <td>High</td>\n",
       "      <td>50.0</td>\n",
       "      <td>Middle-aged</td>\n",
       "    </tr>\n",
       "    <tr>\n",
       "      <th>1</th>\n",
       "      <td>1.0</td>\n",
       "      <td>Low</td>\n",
       "      <td>31.0</td>\n",
       "      <td>Middle-aged</td>\n",
       "    </tr>\n",
       "    <tr>\n",
       "      <th>2</th>\n",
       "      <td>8.0</td>\n",
       "      <td>High</td>\n",
       "      <td>32.0</td>\n",
       "      <td>Middle-aged</td>\n",
       "    </tr>\n",
       "    <tr>\n",
       "      <th>3</th>\n",
       "      <td>1.0</td>\n",
       "      <td>Low</td>\n",
       "      <td>21.0</td>\n",
       "      <td>Young</td>\n",
       "    </tr>\n",
       "    <tr>\n",
       "      <th>4</th>\n",
       "      <td>0.0</td>\n",
       "      <td>None</td>\n",
       "      <td>33.0</td>\n",
       "      <td>Middle-aged</td>\n",
       "    </tr>\n",
       "  </tbody>\n",
       "</table>\n",
       "</div>"
      ],
      "text/plain": [
       "   Pregnancies PregnancyGroup   Age     AgeGroup\n",
       "0          6.0           High  50.0  Middle-aged\n",
       "1          1.0            Low  31.0  Middle-aged\n",
       "2          8.0           High  32.0  Middle-aged\n",
       "3          1.0            Low  21.0        Young\n",
       "4          0.0           None  33.0  Middle-aged"
      ]
     },
     "execution_count": 50,
     "metadata": {},
     "output_type": "execute_result"
    }
   ],
   "source": [
    "# Group Age into categories\n",
    "def age_group(age):\n",
    "    if age < 30:\n",
    "        return \"Young\"\n",
    "    elif 30 <= age <= 50:\n",
    "        return \"Middle-aged\"\n",
    "    else:\n",
    "        return \"Old\"\n",
    "df_imputed['AgeGroup'] = df_imputed['Age'].apply(age_group)\n",
    "\n",
    "# Group Pregnancies into categories\n",
    "def pregnancy_group(preg):\n",
    "    if preg == 0:\n",
    "        return \"None\"\n",
    "    elif preg == 1:\n",
    "        return \"Low\"\n",
    "    elif 2<= preg <= 4:\n",
    "        return \"Medium\"\n",
    "    else:\n",
    "        return \"High\"\n",
    "\n",
    "df_imputed['PregnancyGroup'] = df_imputed['Pregnancies'].apply(pregnancy_group)\n",
    "\n",
    "df_imputed[['Pregnancies', 'PregnancyGroup', 'Age', 'AgeGroup']].head()"
   ]
  },
  {
   "cell_type": "markdown",
   "id": "bb8695bb",
   "metadata": {},
   "source": [
    "#### 4.3.2 Hypothesis Testing"
   ]
  },
  {
   "cell_type": "markdown",
   "id": "1ccfc325",
   "metadata": {},
   "source": [
    "##### 4.3.2.1 Mean Glucose (Diabetic vs Non-Diabetic)"
   ]
  },
  {
   "cell_type": "markdown",
   "id": "96f64450",
   "metadata": {},
   "source": [
    "The goal is to compare the glucose mean across the 2 groups (diabetic and non-diabetic) and see if there's a difference\n",
    "\n",
    "null hypothesis: There is no significant difference in the glucose mean across the 2 groups.\n",
    "\n",
    "alternative hypothesis: There is a significant difference in the glucose mean across the 2 groups\n",
    "\n",
    "Decision rule: Reject null hypothesis if p-value is lesser than the significant level."
   ]
  },
  {
   "cell_type": "code",
   "execution_count": 51,
   "id": "8237c225",
   "metadata": {},
   "outputs": [
    {
     "name": "stdout",
     "output_type": "stream",
     "text": [
      "The T-test result for glucose includes: t-statistic= 15.7753453996013 and the p-value= 9.311170769268823e-49.\n",
      "Reject the null hypothesis. \n",
      "There is a significant difference in the glucose mean across the 2 groups\n"
     ]
    }
   ],
   "source": [
    "# At 95% level of significance\n",
    "glucose1 = df_imputed[df_imputed['Outcome'] == 1]['Glucose']\n",
    "glucose2 = df_imputed[df_imputed['Outcome'] == 0]['Glucose']\n",
    "\n",
    "# Using t-test because it's between 2 groups\n",
    "t_stat_glucose, p_val_glucose = ttest_ind(glucose1, glucose2)\n",
    "print(f\"The T-test result for glucose includes: t-statistic= {t_stat_glucose} and the p-value= {p_val_glucose}.\")\n",
    "\n",
    "if p_val_glucose < 0.05: # level of significance\n",
    "    print(\"Reject the null hypothesis. \\nThere is a significant difference in the glucose mean across the 2 groups\")\n",
    "else:\n",
    "    print(\"Fail to reject the null hypothesis. \\nThere is no significant difference in the glucose mean across the 2 groups\")"
   ]
  },
  {
   "cell_type": "markdown",
   "id": "24af6be7",
   "metadata": {},
   "source": [
    "##### 4.3.2.2 Mean Insulin (Diabetic vs Non-Diabetic)\n"
   ]
  },
  {
   "cell_type": "markdown",
   "id": "36d19d90",
   "metadata": {},
   "source": [
    "The goal is to compare the insulin mean across the 2 groups (diabetic and non-diabetic) and see if there's a difference\n",
    "\n",
    "null hypothesis: There is no significant difference in the insulin mean across the 2 groups.\n",
    "\n",
    "alternative hypothesis: There is a significant difference in the insulin mean across the 2 groups\n",
    "\n",
    "Decision rule: Reject null hypothesis if p-value is lesser than the significant level."
   ]
  },
  {
   "cell_type": "code",
   "execution_count": 52,
   "id": "6d8d9255",
   "metadata": {},
   "outputs": [
    {
     "name": "stdout",
     "output_type": "stream",
     "text": [
      "The T-test result for insulin includes: t-statistic= 10.680239235848315 and the p-value= 6.451165748791912e-25.\n",
      "Reject the null hypothesis. \n",
      "There is a significant difference in the insulin mean across the 2 groups\n"
     ]
    }
   ],
   "source": [
    "# At 95% level of significance\n",
    "insulin1 = df_imputed[df_imputed['Outcome'] == 1]['Insulin']\n",
    "insulin2 = df_imputed[df_imputed['Outcome'] == 0]['Insulin']\n",
    "\n",
    "# Using t-test because it's between 2 groups\n",
    "t_stat_insulin, p_val_insulin = ttest_ind(insulin1, insulin2)\n",
    "print(f\"The T-test result for insulin includes: t-statistic= {t_stat_insulin} and the p-value= {p_val_insulin}.\")\n",
    "\n",
    "if p_val_insulin < 0.05: # level of significance\n",
    "    print(\"Reject the null hypothesis. \\nThere is a significant difference in the insulin mean across the 2 groups\")\n",
    "else:\n",
    "    print(\"Fail to reject the null hypothesis. \\nThere is no significant difference in the insulin mean across the 2 groups\")"
   ]
  },
  {
   "cell_type": "markdown",
   "id": "17a832ef",
   "metadata": {},
   "source": [
    "##### 4.3.2.3 Mean BloodPressure (Diabetic vs Non-Diabetic)"
   ]
  },
  {
   "cell_type": "markdown",
   "id": "1904e5fb",
   "metadata": {},
   "source": [
    "The goal is to compare the bloodpressure mean across the 2 groups (diabetic and non-diabetic) and see if there's a difference\n",
    "\n",
    "null hypothesis: There is no significant difference in the bloodpressure mean across the 2 groups.\n",
    "\n",
    "alternative hypothesis: There is a significant difference in the bloodpressure mean across the 2 groups\n",
    "\n",
    "Decision rule: Reject null hypothesis if p-value is lesser than the significant level."
   ]
  },
  {
   "cell_type": "code",
   "execution_count": 53,
   "id": "28592df8",
   "metadata": {},
   "outputs": [
    {
     "name": "stdout",
     "output_type": "stream",
     "text": [
      "The T-test result for bloodpressure includes: t-statistic= 4.924388666257176 and the p-value= 1.0370248194518666e-06.\n",
      "Reject the null hypothesis. \n",
      "There is a significant difference in the bloodpressure mean across the 2 groups\n"
     ]
    }
   ],
   "source": [
    "# At 95% level of significance\n",
    "bp1 = df_imputed[df_imputed['Outcome'] == 1]['BloodPressure']\n",
    "bp2 = df_imputed[df_imputed['Outcome'] == 0]['BloodPressure']\n",
    "\n",
    "# Using t-test because it's between 2 groups\n",
    "t_stat_bp, p_val_bp = ttest_ind(bp1, bp2)\n",
    "print(f\"The T-test result for bloodpressure includes: t-statistic= {t_stat_bp} and the p-value= {p_val_bp}.\")\n",
    "\n",
    "if p_val_bp < 0.05: # level of significance\n",
    "    print(\"Reject the null hypothesis. \\nThere is a significant difference in the bloodpressure mean across the 2 groups\")\n",
    "else:\n",
    "    print(\"Fail to reject the null hypothesis. \\nThere is no significant difference in the bloodpressure mean across the 2 groups\")"
   ]
  },
  {
   "cell_type": "markdown",
   "id": "b703850b",
   "metadata": {},
   "source": [
    "##### 4.3.2.4 Mean DiabetesPedigreeFunction (Diabetic vs Non-Diabetic)"
   ]
  },
  {
   "cell_type": "markdown",
   "id": "cb3ff8be",
   "metadata": {},
   "source": [
    "The goal is to compare the DiabetesPedigreeFunction mean across the 2 groups (diabetic and non-diabetic) and see if there's a difference\n",
    "\n",
    "null hypothesis: There is no significant difference in the DiabetesPedigreeFunction mean across the 2 groups.\n",
    "\n",
    "alternative hypothesis: There is a significant difference in the DiabetesPedigreeFunction mean across the 2 groups\n",
    "\n",
    "Decision rule: Reject null hypothesis if p-value is lesser than the significant level."
   ]
  },
  {
   "cell_type": "code",
   "execution_count": 54,
   "id": "83afdc71",
   "metadata": {},
   "outputs": [
    {
     "name": "stdout",
     "output_type": "stream",
     "text": [
      "The T-test result for DiabetesPedigreeFunction includes: t-statistic= 4.8697072359831095 and the p-value= 1.3580536117813747e-06.\n",
      "Reject the null hypothesis. \n",
      "There is a significant difference in the DiabetesPedigreeFunction mean across the 2 groups\n"
     ]
    }
   ],
   "source": [
    "# At 95% level of significance\n",
    "DPF1 = df_imputed[df_imputed['Outcome'] == 1]['DiabetesPedigreeFunction']\n",
    "DPF2 = df_imputed[df_imputed['Outcome'] == 0]['DiabetesPedigreeFunction']\n",
    "\n",
    "# Using t-test because it's between 2 groups\n",
    "t_stat_DPF, p_val_DPF = ttest_ind(DPF1, DPF2)\n",
    "print(f\"The T-test result for DiabetesPedigreeFunction includes: t-statistic= {t_stat_DPF} and the p-value= {p_val_DPF}.\")\n",
    "\n",
    "if p_val_DPF < 0.05: # level of significance\n",
    "    print(\"Reject the null hypothesis. \\nThere is a significant difference in the DiabetesPedigreeFunction mean across the 2 groups\")\n",
    "else:\n",
    "    print(\"Fail to reject the null hypothesis. \\nThere is no significant difference in the DiabetesPedigreeFunction mean across the 2 groups\")"
   ]
  },
  {
   "cell_type": "markdown",
   "id": "95daffee",
   "metadata": {},
   "source": [
    "##### 4.3.2.5 Mean BMI across age groups"
   ]
  },
  {
   "cell_type": "markdown",
   "id": "043cd3c4",
   "metadata": {},
   "source": [
    "The goal is to see if the BMI mean across the different age groups(Youth-Old) differ.\n",
    "\n",
    "null hypothesis: BMI mean is equal across age groups\n",
    "\n",
    "alternative hypothesis: At least one age group has a BMI mean different from the others.\n",
    "\n",
    "Decision rule: Reject null hypothesis if p-value is lesser than the significant level."
   ]
  },
  {
   "cell_type": "code",
   "execution_count": 55,
   "id": "5cc99745",
   "metadata": {},
   "outputs": [
    {
     "name": "stdout",
     "output_type": "stream",
     "text": [
      "ANOVA result for BMI: F-statistic= 5.497811874361184 and p-value= 0.004259193665760479\n",
      "Reject the null hypothesis. \n",
      "At least one age group BMI mean differs from the others\n"
     ]
    }
   ],
   "source": [
    "# At 95% significant level\n",
    "BMI_young = df_imputed[df_imputed['AgeGroup'] == 'Young']['BMI']\n",
    "BMI_middle_aged = df_imputed[df_imputed['AgeGroup'] == 'Middle-aged']['BMI']\n",
    "BMI_old = df_imputed[df_imputed['AgeGroup'] == 'Old']['BMI']\n",
    "\n",
    "# Using ANOVA because the groups are more than 2\n",
    "f_stat_BMI, p_val_BMI = f_oneway(BMI_young, BMI_middle_aged, BMI_old)\n",
    "print(f\"ANOVA result for BMI: F-statistic= {f_stat_BMI} and p-value= {p_val_BMI}\")\n",
    "\n",
    "if p_val_BMI < 0.05: # level of significance\n",
    "    print(\"Reject the null hypothesis. \\nAt least one age group BMI mean differs from the others\")\n",
    "else:\n",
    "    print(\"Fail to reject the null hypothesis. \\nBMI mean is not equal across the age groups\")"
   ]
  },
  {
   "cell_type": "markdown",
   "id": "b2b9ac4d",
   "metadata": {},
   "source": [
    "##### 4.3.2.6 Mean BloodPressure across age groups"
   ]
  },
  {
   "cell_type": "markdown",
   "id": "02654f91",
   "metadata": {},
   "source": [
    "The goal is to see if the mean bloodpressure across the different age groups(Youth-Old) are differ.\n",
    "\n",
    "null hypothesis: Bloodpressure mean is equal across age groups\n",
    "\n",
    "alternative hypothesis: At least one age group has a BloodPressure mean different from the others.\n",
    "\n",
    "Decision rule: Reject null hypothesis if p-value is lesser than the significant level."
   ]
  },
  {
   "cell_type": "code",
   "execution_count": 56,
   "id": "581db8bc",
   "metadata": {},
   "outputs": [
    {
     "name": "stdout",
     "output_type": "stream",
     "text": [
      "ANOVA result for BloodPressure: F-statistic= 42.583462404422214 and p-value= 2.9183711799708068e-18\n",
      "Reject the null hypothesis. \n",
      "At least one age group BloodPressure mean differs from the others\n"
     ]
    }
   ],
   "source": [
    "# At 95% significant level\n",
    "bp_young = df_imputed[df_imputed['AgeGroup'] == 'Young']['BloodPressure']\n",
    "bp_middle_aged = df_imputed[df_imputed['AgeGroup'] == 'Middle-aged']['BloodPressure']\n",
    "bp_old = df_imputed[df_imputed['AgeGroup'] == 'Old']['BloodPressure']\n",
    "\n",
    "# Using ANOVA because the groups are more than 2\n",
    "f_stat_BP, p_val_BP = f_oneway(bp_young, bp_middle_aged, bp_old)\n",
    "print(f\"ANOVA result for BloodPressure: F-statistic= {f_stat_BP} and p-value= {p_val_BP}\")\n",
    "\n",
    "if p_val_BP < 0.05: # level of significance\n",
    "    print(\"Reject the null hypothesis. \\nAt least one age group BloodPressure mean differs from the others\")\n",
    "else:\n",
    "    print(\"Fail to reject the null hypothesis. \\nBloodPressure mean is not equal across the age groups\")"
   ]
  },
  {
   "cell_type": "markdown",
   "id": "7eba5efe",
   "metadata": {},
   "source": [
    "##### 4.3.2.7 Mean SkinThickness across pregnancy groups"
   ]
  },
  {
   "cell_type": "markdown",
   "id": "0fe9775b",
   "metadata": {},
   "source": [
    "The goal is to see if the mean skinthickness across the different pregnancy groups(none-high) are equal.\n",
    "\n",
    "null hypothesis: Skinthickness mean is equal across pregnancy groups\n",
    "\n",
    "alternative hypothesis: At least one pregnancy group has a SkinThickness mean different from the others.\n",
    "\n",
    "Decision rule: Reject null hypothesis if p-value is lesser than the significant level."
   ]
  },
  {
   "cell_type": "code",
   "execution_count": 57,
   "id": "dd00ce07",
   "metadata": {},
   "outputs": [
    {
     "name": "stdout",
     "output_type": "stream",
     "text": [
      "ANOVA result for SkinThickness: F-statistic= 8.269489406245441 and p-value= 2.0312583168446416e-05\n",
      "Reject the null hypothesis. \n",
      "At least one pregnancy group SkinThickness mean differs from the others\n"
     ]
    }
   ],
   "source": [
    "# At 95% significant level\n",
    "skinthickness_none = df_imputed[df_imputed['PregnancyGroup'] == 'None']['SkinThickness']\n",
    "skinthickness_low = df_imputed[df_imputed['PregnancyGroup'] == 'Low']['SkinThickness']\n",
    "skinthickness_medium = df_imputed[df_imputed['PregnancyGroup'] == 'Medium']['SkinThickness']\n",
    "skinthickness_high = df_imputed[df_imputed['PregnancyGroup'] == 'High']['SkinThickness']\n",
    "\n",
    "# Using ANOVA because the groups are more than 2\n",
    "f_stat_skinThi, p_val_skinThi = f_oneway(skinthickness_none, skinthickness_low, skinthickness_medium, skinthickness_high)\n",
    "print(f\"ANOVA result for SkinThickness: F-statistic= {f_stat_skinThi} and p-value= {p_val_skinThi}\")\n",
    "\n",
    "if p_val_skinThi < 0.05: # level of significance\n",
    "    print(\"Reject the null hypothesis. \\nAt least one pregnancy group SkinThickness mean differs from the others\")\n",
    "else:\n",
    "    print(\"Fail to reject the null hypothesis. \\nSkinThickness mean is not equal across the pregnancy groups\")"
   ]
  },
  {
   "cell_type": "markdown",
   "id": "de29802f",
   "metadata": {},
   "source": [
    "##### 4.3.2.8 Mean Glucose across pregnancy groups"
   ]
  },
  {
   "cell_type": "markdown",
   "id": "046bd42f",
   "metadata": {},
   "source": [
    "The goal is to see if the mean glucose across the different pregnancy groups(none-high) are equal.\n",
    "\n",
    "null hypothesis: Glucose mean is equal across pregnancy groups\n",
    "\n",
    "alternative hypothesis: At least one pregnancy group has a Glucose mean different from the others.\n",
    "\n",
    "Decision rule: Reject null hypothesis if p-value is lesser than the significant level."
   ]
  },
  {
   "cell_type": "code",
   "execution_count": 58,
   "id": "839ab0d9",
   "metadata": {},
   "outputs": [
    {
     "name": "stdout",
     "output_type": "stream",
     "text": [
      "ANOVA result for Glucose: F-statistic= 5.897417839872992 and p-value= 0.0005571319906963779\n",
      "Reject the null hypothesis. \n",
      "At least one pregnancy group Glucose mean differs from the others\n"
     ]
    }
   ],
   "source": [
    "# At 95% significant level\n",
    "glucose_none = df_imputed[df_imputed['PregnancyGroup'] == 'None']['Glucose']\n",
    "glucose_low = df_imputed[df_imputed['PregnancyGroup'] == 'Low']['Glucose']\n",
    "glucose_medium = df_imputed[df_imputed['PregnancyGroup'] == 'Medium']['Glucose']\n",
    "glucose_high = df_imputed[df_imputed['PregnancyGroup'] == 'High']['Glucose']\n",
    "\n",
    "# Using ANOVA because the groups are more than 2\n",
    "f_stat_gluc, p_val_gluc = f_oneway(glucose_none, glucose_low, glucose_medium, glucose_high)\n",
    "print(f\"ANOVA result for Glucose: F-statistic= {f_stat_gluc} and p-value= {p_val_gluc}\")\n",
    "\n",
    "if p_val_gluc < 0.05: # level of significance\n",
    "    print(\"Reject the null hypothesis. \\nAt least one pregnancy group Glucose mean differs from the others\")\n",
    "else:\n",
    "    print(\"Fail to reject the null hypothesis. \\nGlucose mean is not equal across the pregnancy groups\")"
   ]
  },
  {
   "cell_type": "markdown",
   "id": "e8bd0890",
   "metadata": {},
   "source": [
    "##### 4.3.2.9 Mean BloodPressure across pregnancy groups"
   ]
  },
  {
   "cell_type": "markdown",
   "id": "f41056ae",
   "metadata": {},
   "source": [
    "The goal is to see if the mean bloodpressure across the different pregnancy groups(none-high) are equal.\n",
    "\n",
    "null hypothesis: BloodPressure mean is equal across pregnancy groups\n",
    "\n",
    "alternative hypothesis: At least one pregnancy group has a BloodPressure mean different from the others.\n",
    "\n",
    "Decision rule: Reject null hypothesis if p-value is lesser than the significant level."
   ]
  },
  {
   "cell_type": "code",
   "execution_count": 59,
   "id": "a11b1184",
   "metadata": {},
   "outputs": [
    {
     "name": "stdout",
     "output_type": "stream",
     "text": [
      "ANOVA result for BloodPressure: F-statistic= 18.57829091214917 and p-value= 1.219362867332646e-11\n",
      "Reject the null hypothesis. \n",
      "At least one pregnancy group BloodPressure mean differs from the others\n"
     ]
    }
   ],
   "source": [
    "# At 95% significant level\n",
    "BP_none = df_imputed[df_imputed['PregnancyGroup'] == 'None']['BloodPressure']\n",
    "BP_low = df_imputed[df_imputed['PregnancyGroup'] == 'Low']['BloodPressure']\n",
    "BP_medium = df_imputed[df_imputed['PregnancyGroup'] == 'Medium']['BloodPressure']\n",
    "BP_high = df_imputed[df_imputed['PregnancyGroup'] == 'High']['BloodPressure']\n",
    "\n",
    "# Using ANOVA because the groups are more than 2\n",
    "f_stat_bloodP, p_val_bloodP = f_oneway(BP_none, BP_low, BP_medium, BP_high)\n",
    "print(f\"ANOVA result for BloodPressure: F-statistic= {f_stat_bloodP} and p-value= {p_val_bloodP}\")\n",
    "\n",
    "if p_val_gluc < 0.05: # level of significance\n",
    "    print(\"Reject the null hypothesis. \\nAt least one pregnancy group BloodPressure mean differs from the others\")\n",
    "else:\n",
    "    print(\"Fail to reject the null hypothesis. \\nBloodPressure mean is not equal across the pregnancy groups\")"
   ]
  },
  {
   "cell_type": "markdown",
   "id": "fa9b344a",
   "metadata": {},
   "source": [
    "#### 4.3.3 Test of Independence"
   ]
  },
  {
   "cell_type": "markdown",
   "id": "c978e3ee",
   "metadata": {},
   "source": [
    "##### 4.3.3.1 AgeGroup and Outcome"
   ]
  },
  {
   "cell_type": "markdown",
   "id": "06c6eaa6",
   "metadata": {},
   "source": [
    "The goal is to test if the 2 categorical variables are independent.\n",
    "\n",
    "null hypothesis: AgeGroup and Outcome are independent\n",
    "\n",
    "alternative hypothesis: AgeGroup and Outcome are dependent\n",
    "\n",
    "Decision rule: Reject null hypothesis if p-value is lesser than the significant level."
   ]
  },
  {
   "cell_type": "code",
   "execution_count": 60,
   "id": "2b2517a0",
   "metadata": {},
   "outputs": [
    {
     "name": "stdout",
     "output_type": "stream",
     "text": [
      "Chi-square test result: 67.67732168274529 2.0139854171655205e-15\n",
      "Reject the null hypothesis. \n",
      "AgeGroup and Outcome are dependent\n"
     ]
    }
   ],
   "source": [
    "# Cross-tab for AgeGroup vs Outcome\n",
    "contingency_ageGroup = pd.crosstab(df_imputed['AgeGroup'], df_imputed['Outcome'])\n",
    "\n",
    "# At 95% level of confidence\n",
    "chi2_age, p_age, dof_age, expected_age = chi2_contingency(contingency_ageGroup)\n",
    "print(\"Chi-square test result:\", chi2_age, p_age)\n",
    "\n",
    "if p_age < 0.05: # level of significance\n",
    "    print(\"Reject the null hypothesis. \\nAgeGroup and Outcome are dependent\")\n",
    "else:\n",
    "    print(\"Fail to reject the null hypothesis. \\nAgeGroup and Outcome are independent\")"
   ]
  },
  {
   "cell_type": "markdown",
   "id": "423058e9",
   "metadata": {},
   "source": [
    "##### 4.3.3.2 PregnancyGroup and Outcome"
   ]
  },
  {
   "cell_type": "markdown",
   "id": "4a61ca7f",
   "metadata": {},
   "source": [
    "The goal is to test if the 2 categorical variables are independent.\n",
    "\n",
    "null hypothesis: PregnancyGroup and Outcome are independent\n",
    "\n",
    "alternative hypothesis: PregnancyGroup and Outcome are dependent\n",
    "\n",
    "Decision rule: Reject null hypothesis if p-value is lesser than the significant level."
   ]
  },
  {
   "cell_type": "code",
   "execution_count": 61,
   "id": "386b0aac",
   "metadata": {},
   "outputs": [
    {
     "name": "stdout",
     "output_type": "stream",
     "text": [
      "Chi-square test result: 67.67732168274529 2.0139854171655205e-15\n",
      "Reject the null hypothesis. \n",
      "PregnancyGroup and Outcome are dependent\n"
     ]
    }
   ],
   "source": [
    "# Cross-tab for PregnancyGroup vs Outcome\n",
    "contingency_pregnancyGroup = pd.crosstab(df_imputed['PregnancyGroup'], df_imputed['Outcome'])\n",
    "\n",
    "# At 95% level of confidence\n",
    "chi2_pregnancy, p_pregnancy, dof_pregnancy, expected_pregnancy = chi2_contingency(contingency_ageGroup)\n",
    "print(\"Chi-square test result:\", chi2_pregnancy, p_pregnancy)\n",
    "\n",
    "if p_pregnancy < 0.05: # level of significance\n",
    "    print(\"Reject the null hypothesis. \\nPregnancyGroup and Outcome are dependent\")\n",
    "else:\n",
    "    print(\"Fail to reject the null hypothesis. \\nPregnancyGroup and Outcome are independent\")"
   ]
  },
  {
   "cell_type": "markdown",
   "id": "f5045168",
   "metadata": {},
   "source": [
    "#### 4.3.4 Key Findings from Inferential Statistics"
   ]
  },
  {
   "cell_type": "markdown",
   "id": "378e4172",
   "metadata": {},
   "source": [
    "##### 1. Mean Glucose (Diabetic vs Non-Diabetic)\n",
    "We rejected the null hypothesis, concluding that there's a significant difference in the glucose mean across the 2 groups. Therefore, diabetics tend to have higher glucose levels than non-diabetics — a strong indicator that Glucose is a key predictor of diabetes.\n",
    "\n",
    "##### 2. Mean Insulin (Diabetic vs Non-Diabetic)\n",
    "We rejected the null hypothesis, concluding that there's a significant difference in the insulin mean across the 2 groups. Therefore, Insulin levels differ significantly between diabetic and non-diabetic individuals, suggesting insulin could help the model distinguish outcomes.\n",
    "\n",
    "##### 3. Mean Blood Pressure (Diabetic vs Non-Diabetic)\n",
    "We rejected the null hypothesis, concluding that there's a significant difference in the blood pressure mean across the 2 groups. Therefore, BloodPressure may contribute modestly to diabetes classification.\n",
    "\n",
    "##### 4. Mean Diabetes Pedigree Function (Diabetic vs Non-Diabetic)\n",
    "We rejected the null hypothesis, concluding that there's a significant difference in the diabetes pedigree function mean across the 2 groups, Therefore, Family history (DPF) is statistically associated with diabetes status.\n",
    "\n",
    "##### 5. Mean BMI across Age Groups\n",
    "We rejected the null hypothesis, concluding that at least one age group has a BMI mean different from the others. BMI changes across age groups and might suggest that age moderates the effect of BMI on diabetes. It could be useful for model interactions.\n",
    "\n",
    "##### 6. Mean Blood Pressure across Age Groups\n",
    "We rejected the null hypothesis, concluding that at least one age group has a BloodPressure mean different from the others. If BP increases with age, this reflects real-world health patterns and supports age as a strong contextual variable.\n",
    "\n",
    "##### 7. Mean SkinThickness across Pregnancy Groups\n",
    "We rejected the null hypothesis, concluding that at least one pregnancy group has a SkinThickness mean different from the others. It may be worth including as a feature in age-adjusted or pregnancy-adjusted models. This suggests that metabolic changes associated with pregnancy count may influence subcutaneous fat storage, reflected in skin thickness measurements. While skin thickness may not be a direct predictor of diabetes on its own, it could serve as a supporting feature in models when combined with variables like BMI, insulin, or pregnancy count.\n",
    "\n",
    "##### 8. Mean Glucose across Pregnancy Groups\n",
    "We rejected the null hypothesis, concluding that at least one pregnancy group has a glucose mean different from the others. Glucose increases with pregnancy, this supports the idea that higher pregnancies may correlate with higher glucose/diabetes risk.\n",
    "\n",
    "##### 9. Mean BloodPressure across Pregnancy Groups\n",
    "We rejected the null hypothesis, concluding that at least one pregnancy group has a bloodpressure mean different from the others. The difference was statistically significant, this suggests that pregnancy count may influence cardiovascular health, making blood pressure a potentially useful variable in combination with pregnancy-related features.\n",
    "\n",
    "##### 10. AgeGroup and Outcome\n",
    "We rejected the null hypothesis, concluding that AgeGroups and Outcome show a statistically significant association, indicating that the likelihood of having diabetes varies across age groups. Older age groups tended to have a higher proportion of diabetic cases, reflecting known clinical risk patterns. This supports the inclusion of Age or AgeGroup as a predictive feature in the model, either as a continuous variable or a binned categorical one. It may also justify interaction terms with features like BMI or Glucose in more complex models.\n",
    "\n",
    "##### 11. PregnancyGroup and Outcome\n",
    "We rejected the null hypothesis, concluding that PregnancyGroup and Outcome show a significant relationship, suggesting that individuals with higher pregnancy counts are more likely to have diabetes. This pattern aligns with clinical insights about gestational diabetes and metabolic changes with multiple pregnancies. As a result, the PregnancyGroup variable can serve as a useful categorical predictor in classification models. This also highlights the value of binning numerical variables to uncover hidden associations that raw counts might not reveal."
   ]
  },
  {
   "cell_type": "markdown",
   "id": "72b0f014",
   "metadata": {},
   "source": [
    "### 4.4 SUMMARY OF KEY FINDINGS FROM DATA ANALYSIS"
   ]
  },
  {
   "cell_type": "markdown",
   "id": "86aab5ea",
   "metadata": {},
   "source": [
    "**Exploratory data analysis (EDA)** identified Glucose, BMI, Insulin, and Age as the most influential features in assessing diabetes risk. These variables demonstrated distinct distributions across diabetic and non-diabetic groups, with moderate correlations to the diabetes outcome. The absence of multicollinearity (all Variance Inflation Factors below 5) indicates that these features can be reliably incorporated together in predictive classification models. This evidence provides a strong foundation for informed feature selection and enhances model interpretability.\n",
    "\n",
    "**Descriptive statistics** confirmed that individuals with diabetes consistently present higher levels of glucose, BMI, insulin, age, and diabetes pedigree function compared to non-diabetics. These findings are consistent with established medical knowledge, validating the dataset’s reliability and supporting the selection of these variables as key predictors in further modeling efforts.\n",
    "\n",
    "**Inferential statistics** further revealed statistically significant differences between diabetic and non-diabetic groups across multiple clinical and demographic variables. Elevated glucose and insulin levels, alongside differences in blood pressure and family history, underscore their relevance in diabetes classification. Additionally, BMI and blood pressure were shown to vary significantly by age group, suggesting that age moderates their influence on diabetes risk. Pregnancy count was also associated with variations in skin thickness, glucose, and blood pressure, reflecting metabolic and cardiovascular changes linked to pregnancy history. Both age and pregnancy group demonstrated strong associations with diabetes outcomes, reinforcing their importance as predictive features.\n",
    "\n",
    "Together, these insights directly inform feature engineering by highlighting key variables and their interactions —such as **Glucose**, **BMI**, **Insulin**, **Age**, and **Diabetes Pedigree Function** —that should be incorporated or transformed to improve model accuracy. Incorporating these variables and their interactions enables the development of more robust and interpretable classification models, ultimately enhancing diabetes risk prediction and supporting clinical decision-making."
   ]
  },
  {
   "cell_type": "markdown",
   "id": "0d07bb2a",
   "metadata": {},
   "source": [
    "###\n",
    "Back to :\n",
    "\n",
    "- [Table of Contents](#table-of-contents)"
   ]
  },
  {
   "cell_type": "markdown",
   "id": "2f0bab7d",
   "metadata": {},
   "source": [
    "## **5.0 FEATURE ENGINEERING**"
   ]
  },
  {
   "cell_type": "markdown",
   "id": "55366791",
   "metadata": {},
   "source": [
    "### 5.1 Setting the X & y variables"
   ]
  },
  {
   "cell_type": "code",
   "execution_count": 62,
   "id": "4dbc640d",
   "metadata": {},
   "outputs": [],
   "source": [
    "# Dropping the columns not to be used\n",
    "X=df_imputed.drop(columns=['Pregnancies', 'Age', 'Outcome', 'Glucose_missing', 'BloodPressure_missing',\n",
    "                          'SkinThickness_missing', 'Insulin_missing', 'BMI_missing'])\n",
    "y=df_imputed['Outcome']"
   ]
  },
  {
   "cell_type": "markdown",
   "id": "f5077d6f",
   "metadata": {},
   "source": [
    "### 5.2 Encoding the Categorical Variables"
   ]
  },
  {
   "cell_type": "code",
   "execution_count": 63,
   "id": "13e910aa",
   "metadata": {},
   "outputs": [
    {
     "data": {
      "text/html": [
       "<div>\n",
       "<style scoped>\n",
       "    .dataframe tbody tr th:only-of-type {\n",
       "        vertical-align: middle;\n",
       "    }\n",
       "\n",
       "    .dataframe tbody tr th {\n",
       "        vertical-align: top;\n",
       "    }\n",
       "\n",
       "    .dataframe thead th {\n",
       "        text-align: right;\n",
       "    }\n",
       "</style>\n",
       "<table border=\"1\" class=\"dataframe\">\n",
       "  <thead>\n",
       "    <tr style=\"text-align: right;\">\n",
       "      <th></th>\n",
       "      <th>Glucose</th>\n",
       "      <th>BloodPressure</th>\n",
       "      <th>SkinThickness</th>\n",
       "      <th>Insulin</th>\n",
       "      <th>BMI</th>\n",
       "      <th>DiabetesPedigreeFunction</th>\n",
       "      <th>AgeGroup_Old</th>\n",
       "      <th>AgeGroup_Young</th>\n",
       "      <th>PregnancyGroup_Low</th>\n",
       "      <th>PregnancyGroup_Medium</th>\n",
       "      <th>PregnancyGroup_None</th>\n",
       "    </tr>\n",
       "  </thead>\n",
       "  <tbody>\n",
       "    <tr>\n",
       "      <th>0</th>\n",
       "      <td>148.0</td>\n",
       "      <td>72.0</td>\n",
       "      <td>35.00</td>\n",
       "      <td>218.92</td>\n",
       "      <td>33.6</td>\n",
       "      <td>0.63</td>\n",
       "      <td>False</td>\n",
       "      <td>False</td>\n",
       "      <td>False</td>\n",
       "      <td>False</td>\n",
       "      <td>False</td>\n",
       "    </tr>\n",
       "    <tr>\n",
       "      <th>1</th>\n",
       "      <td>85.0</td>\n",
       "      <td>66.0</td>\n",
       "      <td>29.00</td>\n",
       "      <td>70.31</td>\n",
       "      <td>26.6</td>\n",
       "      <td>0.35</td>\n",
       "      <td>False</td>\n",
       "      <td>False</td>\n",
       "      <td>True</td>\n",
       "      <td>False</td>\n",
       "      <td>False</td>\n",
       "    </tr>\n",
       "    <tr>\n",
       "      <th>2</th>\n",
       "      <td>183.0</td>\n",
       "      <td>64.0</td>\n",
       "      <td>21.64</td>\n",
       "      <td>268.53</td>\n",
       "      <td>23.3</td>\n",
       "      <td>0.67</td>\n",
       "      <td>False</td>\n",
       "      <td>False</td>\n",
       "      <td>False</td>\n",
       "      <td>False</td>\n",
       "      <td>False</td>\n",
       "    </tr>\n",
       "    <tr>\n",
       "      <th>3</th>\n",
       "      <td>89.0</td>\n",
       "      <td>66.0</td>\n",
       "      <td>23.00</td>\n",
       "      <td>94.00</td>\n",
       "      <td>28.1</td>\n",
       "      <td>0.17</td>\n",
       "      <td>False</td>\n",
       "      <td>True</td>\n",
       "      <td>True</td>\n",
       "      <td>False</td>\n",
       "      <td>False</td>\n",
       "    </tr>\n",
       "    <tr>\n",
       "      <th>4</th>\n",
       "      <td>137.0</td>\n",
       "      <td>40.0</td>\n",
       "      <td>35.00</td>\n",
       "      <td>168.00</td>\n",
       "      <td>43.1</td>\n",
       "      <td>2.29</td>\n",
       "      <td>False</td>\n",
       "      <td>False</td>\n",
       "      <td>False</td>\n",
       "      <td>False</td>\n",
       "      <td>True</td>\n",
       "    </tr>\n",
       "    <tr>\n",
       "      <th>...</th>\n",
       "      <td>...</td>\n",
       "      <td>...</td>\n",
       "      <td>...</td>\n",
       "      <td>...</td>\n",
       "      <td>...</td>\n",
       "      <td>...</td>\n",
       "      <td>...</td>\n",
       "      <td>...</td>\n",
       "      <td>...</td>\n",
       "      <td>...</td>\n",
       "      <td>...</td>\n",
       "    </tr>\n",
       "    <tr>\n",
       "      <th>763</th>\n",
       "      <td>101.0</td>\n",
       "      <td>76.0</td>\n",
       "      <td>48.00</td>\n",
       "      <td>180.00</td>\n",
       "      <td>32.9</td>\n",
       "      <td>0.17</td>\n",
       "      <td>True</td>\n",
       "      <td>False</td>\n",
       "      <td>False</td>\n",
       "      <td>False</td>\n",
       "      <td>False</td>\n",
       "    </tr>\n",
       "    <tr>\n",
       "      <th>764</th>\n",
       "      <td>122.0</td>\n",
       "      <td>70.0</td>\n",
       "      <td>27.00</td>\n",
       "      <td>158.72</td>\n",
       "      <td>36.8</td>\n",
       "      <td>0.34</td>\n",
       "      <td>False</td>\n",
       "      <td>True</td>\n",
       "      <td>False</td>\n",
       "      <td>True</td>\n",
       "      <td>False</td>\n",
       "    </tr>\n",
       "    <tr>\n",
       "      <th>765</th>\n",
       "      <td>121.0</td>\n",
       "      <td>72.0</td>\n",
       "      <td>23.00</td>\n",
       "      <td>112.00</td>\n",
       "      <td>26.2</td>\n",
       "      <td>0.24</td>\n",
       "      <td>False</td>\n",
       "      <td>False</td>\n",
       "      <td>False</td>\n",
       "      <td>False</td>\n",
       "      <td>False</td>\n",
       "    </tr>\n",
       "    <tr>\n",
       "      <th>766</th>\n",
       "      <td>126.0</td>\n",
       "      <td>60.0</td>\n",
       "      <td>27.98</td>\n",
       "      <td>173.53</td>\n",
       "      <td>30.1</td>\n",
       "      <td>0.35</td>\n",
       "      <td>False</td>\n",
       "      <td>False</td>\n",
       "      <td>True</td>\n",
       "      <td>False</td>\n",
       "      <td>False</td>\n",
       "    </tr>\n",
       "    <tr>\n",
       "      <th>767</th>\n",
       "      <td>93.0</td>\n",
       "      <td>70.0</td>\n",
       "      <td>31.00</td>\n",
       "      <td>87.29</td>\n",
       "      <td>30.4</td>\n",
       "      <td>0.32</td>\n",
       "      <td>False</td>\n",
       "      <td>True</td>\n",
       "      <td>True</td>\n",
       "      <td>False</td>\n",
       "      <td>False</td>\n",
       "    </tr>\n",
       "  </tbody>\n",
       "</table>\n",
       "<p>768 rows × 11 columns</p>\n",
       "</div>"
      ],
      "text/plain": [
       "     Glucose  BloodPressure  SkinThickness  Insulin   BMI  \\\n",
       "0      148.0           72.0          35.00   218.92  33.6   \n",
       "1       85.0           66.0          29.00    70.31  26.6   \n",
       "2      183.0           64.0          21.64   268.53  23.3   \n",
       "3       89.0           66.0          23.00    94.00  28.1   \n",
       "4      137.0           40.0          35.00   168.00  43.1   \n",
       "..       ...            ...            ...      ...   ...   \n",
       "763    101.0           76.0          48.00   180.00  32.9   \n",
       "764    122.0           70.0          27.00   158.72  36.8   \n",
       "765    121.0           72.0          23.00   112.00  26.2   \n",
       "766    126.0           60.0          27.98   173.53  30.1   \n",
       "767     93.0           70.0          31.00    87.29  30.4   \n",
       "\n",
       "     DiabetesPedigreeFunction  AgeGroup_Old  AgeGroup_Young  \\\n",
       "0                        0.63         False           False   \n",
       "1                        0.35         False           False   \n",
       "2                        0.67         False           False   \n",
       "3                        0.17         False            True   \n",
       "4                        2.29         False           False   \n",
       "..                        ...           ...             ...   \n",
       "763                      0.17          True           False   \n",
       "764                      0.34         False            True   \n",
       "765                      0.24         False           False   \n",
       "766                      0.35         False           False   \n",
       "767                      0.32         False            True   \n",
       "\n",
       "     PregnancyGroup_Low  PregnancyGroup_Medium  PregnancyGroup_None  \n",
       "0                 False                  False                False  \n",
       "1                  True                  False                False  \n",
       "2                 False                  False                False  \n",
       "3                  True                  False                False  \n",
       "4                 False                  False                 True  \n",
       "..                  ...                    ...                  ...  \n",
       "763               False                  False                False  \n",
       "764               False                   True                False  \n",
       "765               False                  False                False  \n",
       "766                True                  False                False  \n",
       "767                True                  False                False  \n",
       "\n",
       "[768 rows x 11 columns]"
      ]
     },
     "execution_count": 63,
     "metadata": {},
     "output_type": "execute_result"
    }
   ],
   "source": [
    "# Convert categories into binary\n",
    "X_encoded = pd.get_dummies(X, columns=['AgeGroup', 'PregnancyGroup'], drop_first=True)\n",
    "X_encoded"
   ]
  },
  {
   "cell_type": "markdown",
   "id": "7983202f-27cf-4abb-8165-24c2e8c10523",
   "metadata": {},
   "source": [
    "### 5.3 Train-Test Split (80/20)"
   ]
  },
  {
   "cell_type": "code",
   "execution_count": 64,
   "id": "397928f9-7a19-49fc-a3aa-fe484c39c397",
   "metadata": {},
   "outputs": [
    {
     "name": "stdout",
     "output_type": "stream",
     "text": [
      "Training set: (614, 11) (614,)\n",
      "Test set: (154, 11) (154,)\n"
     ]
    }
   ],
   "source": [
    "# Split data: 80% training, 20% testing\n",
    "X_encoded_train, X_encoded_test, y_train, y_test = train_test_split( X_encoded, y, test_size=0.2, random_state=42, stratify=y)\n",
    "# Check the shape\n",
    "print(\"Training set:\", X_encoded_train.shape, y_train.shape)\n",
    "print(\"Test set:\", X_encoded_test.shape, y_test.shape)"
   ]
  },
  {
   "cell_type": "markdown",
   "id": "a29b0804-5cf9-4f9e-9b86-aceb10b89120",
   "metadata": {},
   "source": [
    "### 5.4 Scaling Numeric Features with StandardScaler"
   ]
  },
  {
   "cell_type": "code",
   "execution_count": 65,
   "id": "a9431c0d",
   "metadata": {},
   "outputs": [
    {
     "name": "stdout",
     "output_type": "stream",
     "text": [
      "Numeric columns: Index(['Glucose', 'BloodPressure', 'SkinThickness', 'Insulin', 'BMI',\n",
      "       'DiabetesPedigreeFunction'],\n",
      "      dtype='object')\n"
     ]
    }
   ],
   "source": [
    "# Select only numeric columns from the feature set\n",
    "numeric_cols = [('Glucose', 'BloodPressure', 'SkinThickness', 'Insulin', 'BMI', 'DiabetesPedigreeFunction')]\n",
    "numeric_cols = X_encoded.select_dtypes(include=['number']).columns\n",
    "\n",
    "# to print numeric columns to confirm\n",
    "print(\"Numeric columns:\", numeric_cols)"
   ]
  },
  {
   "cell_type": "code",
   "execution_count": 66,
   "id": "956b093c-f54e-4a10-b9e9-bba6cf74739c",
   "metadata": {},
   "outputs": [],
   "source": [
    "# Initialize the scaler\n",
    "scaler = StandardScaler()\n",
    "\n",
    "# Fit on training data and transform both train and test sets\n",
    "X_encoded_train_scaled = X_encoded_train.copy()\n",
    "\n",
    "X_encoded_test_scaled = X_encoded_test.copy()\n",
    "\n",
    "X_encoded_train_scaled[numeric_cols] = scaler.fit_transform(X_encoded_train[numeric_cols])\n",
    "X_encoded_test_scaled[numeric_cols] = scaler.transform(X_encoded_test[numeric_cols])"
   ]
  },
  {
   "cell_type": "code",
   "execution_count": 67,
   "id": "a3ad2474-9ea3-43b1-8faa-455910551d82",
   "metadata": {},
   "outputs": [
    {
     "data": {
      "text/html": [
       "<div>\n",
       "<style scoped>\n",
       "    .dataframe tbody tr th:only-of-type {\n",
       "        vertical-align: middle;\n",
       "    }\n",
       "\n",
       "    .dataframe tbody tr th {\n",
       "        vertical-align: top;\n",
       "    }\n",
       "\n",
       "    .dataframe thead th {\n",
       "        text-align: right;\n",
       "    }\n",
       "</style>\n",
       "<table border=\"1\" class=\"dataframe\">\n",
       "  <thead>\n",
       "    <tr style=\"text-align: right;\">\n",
       "      <th></th>\n",
       "      <th>Glucose</th>\n",
       "      <th>BloodPressure</th>\n",
       "      <th>SkinThickness</th>\n",
       "      <th>Insulin</th>\n",
       "      <th>BMI</th>\n",
       "      <th>DiabetesPedigreeFunction</th>\n",
       "    </tr>\n",
       "  </thead>\n",
       "  <tbody>\n",
       "    <tr>\n",
       "      <th>353</th>\n",
       "      <td>-1.055570</td>\n",
       "      <td>-0.825585</td>\n",
       "      <td>-1.773534</td>\n",
       "      <td>-1.179524</td>\n",
       "      <td>-0.767021</td>\n",
       "      <td>0.310978</td>\n",
       "    </tr>\n",
       "    <tr>\n",
       "      <th>711</th>\n",
       "      <td>0.144148</td>\n",
       "      <td>0.475563</td>\n",
       "      <td>-0.204947</td>\n",
       "      <td>-1.412455</td>\n",
       "      <td>-0.415207</td>\n",
       "      <td>-0.113267</td>\n",
       "    </tr>\n",
       "    <tr>\n",
       "      <th>373</th>\n",
       "      <td>-0.555688</td>\n",
       "      <td>-1.150872</td>\n",
       "      <td>1.154495</td>\n",
       "      <td>-0.613834</td>\n",
       "      <td>0.361714</td>\n",
       "      <td>-0.779937</td>\n",
       "    </tr>\n",
       "    <tr>\n",
       "      <th>46</th>\n",
       "      <td>0.810658</td>\n",
       "      <td>-1.313516</td>\n",
       "      <td>-0.266644</td>\n",
       "      <td>0.650649</td>\n",
       "      <td>-0.400548</td>\n",
       "      <td>0.250372</td>\n",
       "    </tr>\n",
       "    <tr>\n",
       "      <th>682</th>\n",
       "      <td>-0.888943</td>\n",
       "      <td>-0.662942</td>\n",
       "      <td>1.049923</td>\n",
       "      <td>-0.491823</td>\n",
       "      <td>1.783627</td>\n",
       "      <td>-0.325389</td>\n",
       "    </tr>\n",
       "    <tr>\n",
       "      <th>...</th>\n",
       "      <td>...</td>\n",
       "      <td>...</td>\n",
       "      <td>...</td>\n",
       "      <td>...</td>\n",
       "      <td>...</td>\n",
       "      <td>...</td>\n",
       "    </tr>\n",
       "    <tr>\n",
       "      <th>451</th>\n",
       "      <td>0.410752</td>\n",
       "      <td>-0.175011</td>\n",
       "      <td>-0.430823</td>\n",
       "      <td>0.230707</td>\n",
       "      <td>-0.517819</td>\n",
       "      <td>0.189765</td>\n",
       "    </tr>\n",
       "    <tr>\n",
       "      <th>113</th>\n",
       "      <td>-1.522127</td>\n",
       "      <td>-0.825585</td>\n",
       "      <td>0.018838</td>\n",
       "      <td>-1.004493</td>\n",
       "      <td>0.229784</td>\n",
       "      <td>-0.264783</td>\n",
       "    </tr>\n",
       "    <tr>\n",
       "      <th>556</th>\n",
       "      <td>-0.822292</td>\n",
       "      <td>-0.175011</td>\n",
       "      <td>1.154495</td>\n",
       "      <td>-0.406082</td>\n",
       "      <td>0.830799</td>\n",
       "      <td>-0.779937</td>\n",
       "    </tr>\n",
       "    <tr>\n",
       "      <th>667</th>\n",
       "      <td>-0.355735</td>\n",
       "      <td>-0.175011</td>\n",
       "      <td>-0.204947</td>\n",
       "      <td>-0.299599</td>\n",
       "      <td>-0.723044</td>\n",
       "      <td>-1.022363</td>\n",
       "    </tr>\n",
       "    <tr>\n",
       "      <th>107</th>\n",
       "      <td>0.744007</td>\n",
       "      <td>-1.150872</td>\n",
       "      <td>-0.100374</td>\n",
       "      <td>-0.103604</td>\n",
       "      <td>-0.429866</td>\n",
       "      <td>-0.567815</td>\n",
       "    </tr>\n",
       "  </tbody>\n",
       "</table>\n",
       "<p>614 rows × 6 columns</p>\n",
       "</div>"
      ],
      "text/plain": [
       "      Glucose  BloodPressure  SkinThickness   Insulin       BMI  \\\n",
       "353 -1.055570      -0.825585      -1.773534 -1.179524 -0.767021   \n",
       "711  0.144148       0.475563      -0.204947 -1.412455 -0.415207   \n",
       "373 -0.555688      -1.150872       1.154495 -0.613834  0.361714   \n",
       "46   0.810658      -1.313516      -0.266644  0.650649 -0.400548   \n",
       "682 -0.888943      -0.662942       1.049923 -0.491823  1.783627   \n",
       "..        ...            ...            ...       ...       ...   \n",
       "451  0.410752      -0.175011      -0.430823  0.230707 -0.517819   \n",
       "113 -1.522127      -0.825585       0.018838 -1.004493  0.229784   \n",
       "556 -0.822292      -0.175011       1.154495 -0.406082  0.830799   \n",
       "667 -0.355735      -0.175011      -0.204947 -0.299599 -0.723044   \n",
       "107  0.744007      -1.150872      -0.100374 -0.103604 -0.429866   \n",
       "\n",
       "     DiabetesPedigreeFunction  \n",
       "353                  0.310978  \n",
       "711                 -0.113267  \n",
       "373                 -0.779937  \n",
       "46                   0.250372  \n",
       "682                 -0.325389  \n",
       "..                        ...  \n",
       "451                  0.189765  \n",
       "113                 -0.264783  \n",
       "556                 -0.779937  \n",
       "667                 -1.022363  \n",
       "107                 -0.567815  \n",
       "\n",
       "[614 rows x 6 columns]"
      ]
     },
     "execution_count": 67,
     "metadata": {},
     "output_type": "execute_result"
    }
   ],
   "source": [
    "# Numeric columns of X-Training Data\n",
    "X_encoded_train_scaled[numeric_cols]"
   ]
  },
  {
   "cell_type": "code",
   "execution_count": 68,
   "id": "f53ce41b-cfd5-4732-aaac-499571dad087",
   "metadata": {},
   "outputs": [
    {
     "data": {
      "text/html": [
       "<div>\n",
       "<style scoped>\n",
       "    .dataframe tbody tr th:only-of-type {\n",
       "        vertical-align: middle;\n",
       "    }\n",
       "\n",
       "    .dataframe tbody tr th {\n",
       "        vertical-align: top;\n",
       "    }\n",
       "\n",
       "    .dataframe thead th {\n",
       "        text-align: right;\n",
       "    }\n",
       "</style>\n",
       "<table border=\"1\" class=\"dataframe\">\n",
       "  <thead>\n",
       "    <tr style=\"text-align: right;\">\n",
       "      <th></th>\n",
       "      <th>Glucose</th>\n",
       "      <th>BloodPressure</th>\n",
       "      <th>SkinThickness</th>\n",
       "      <th>Insulin</th>\n",
       "      <th>BMI</th>\n",
       "      <th>DiabetesPedigreeFunction</th>\n",
       "    </tr>\n",
       "  </thead>\n",
       "  <tbody>\n",
       "    <tr>\n",
       "      <th>44</th>\n",
       "      <td>1.243890</td>\n",
       "      <td>-0.662942</td>\n",
       "      <td>-0.335662</td>\n",
       "      <td>0.886020</td>\n",
       "      <td>-0.737703</td>\n",
       "      <td>-0.567815</td>\n",
       "    </tr>\n",
       "    <tr>\n",
       "      <th>672</th>\n",
       "      <td>-1.788731</td>\n",
       "      <td>2.752571</td>\n",
       "      <td>-0.623237</td>\n",
       "      <td>-1.112972</td>\n",
       "      <td>0.449667</td>\n",
       "      <td>-0.598118</td>\n",
       "    </tr>\n",
       "    <tr>\n",
       "      <th>700</th>\n",
       "      <td>0.010846</td>\n",
       "      <td>0.312919</td>\n",
       "      <td>-0.204947</td>\n",
       "      <td>0.561913</td>\n",
       "      <td>0.508303</td>\n",
       "      <td>0.007946</td>\n",
       "    </tr>\n",
       "    <tr>\n",
       "      <th>630</th>\n",
       "      <td>-0.255758</td>\n",
       "      <td>-0.662942</td>\n",
       "      <td>-0.467424</td>\n",
       "      <td>-0.212084</td>\n",
       "      <td>-0.737703</td>\n",
       "      <td>0.765526</td>\n",
       "    </tr>\n",
       "    <tr>\n",
       "      <th>81</th>\n",
       "      <td>-1.588778</td>\n",
       "      <td>-0.492166</td>\n",
       "      <td>-0.491475</td>\n",
       "      <td>-1.161998</td>\n",
       "      <td>-0.438661</td>\n",
       "      <td>-1.143575</td>\n",
       "    </tr>\n",
       "    <tr>\n",
       "      <th>...</th>\n",
       "      <td>...</td>\n",
       "      <td>...</td>\n",
       "      <td>...</td>\n",
       "      <td>...</td>\n",
       "      <td>...</td>\n",
       "      <td>...</td>\n",
       "    </tr>\n",
       "    <tr>\n",
       "      <th>32</th>\n",
       "      <td>-1.122221</td>\n",
       "      <td>-1.150872</td>\n",
       "      <td>-1.878106</td>\n",
       "      <td>-1.057512</td>\n",
       "      <td>-1.118834</td>\n",
       "      <td>-0.628421</td>\n",
       "    </tr>\n",
       "    <tr>\n",
       "      <th>637</th>\n",
       "      <td>-0.922268</td>\n",
       "      <td>0.312919</td>\n",
       "      <td>-1.146099</td>\n",
       "      <td>-0.924409</td>\n",
       "      <td>-0.122029</td>\n",
       "      <td>0.523100</td>\n",
       "    </tr>\n",
       "    <tr>\n",
       "      <th>593</th>\n",
       "      <td>-1.322174</td>\n",
       "      <td>-1.638802</td>\n",
       "      <td>-0.727809</td>\n",
       "      <td>-0.380903</td>\n",
       "      <td>-0.576455</td>\n",
       "      <td>3.704936</td>\n",
       "    </tr>\n",
       "    <tr>\n",
       "      <th>425</th>\n",
       "      <td>2.077027</td>\n",
       "      <td>0.475563</td>\n",
       "      <td>1.049923</td>\n",
       "      <td>1.415993</td>\n",
       "      <td>0.669551</td>\n",
       "      <td>-0.658724</td>\n",
       "    </tr>\n",
       "    <tr>\n",
       "      <th>273</th>\n",
       "      <td>-1.688755</td>\n",
       "      <td>0.475563</td>\n",
       "      <td>2.200220</td>\n",
       "      <td>-1.157340</td>\n",
       "      <td>0.112513</td>\n",
       "      <td>-0.173873</td>\n",
       "    </tr>\n",
       "  </tbody>\n",
       "</table>\n",
       "<p>154 rows × 6 columns</p>\n",
       "</div>"
      ],
      "text/plain": [
       "      Glucose  BloodPressure  SkinThickness   Insulin       BMI  \\\n",
       "44   1.243890      -0.662942      -0.335662  0.886020 -0.737703   \n",
       "672 -1.788731       2.752571      -0.623237 -1.112972  0.449667   \n",
       "700  0.010846       0.312919      -0.204947  0.561913  0.508303   \n",
       "630 -0.255758      -0.662942      -0.467424 -0.212084 -0.737703   \n",
       "81  -1.588778      -0.492166      -0.491475 -1.161998 -0.438661   \n",
       "..        ...            ...            ...       ...       ...   \n",
       "32  -1.122221      -1.150872      -1.878106 -1.057512 -1.118834   \n",
       "637 -0.922268       0.312919      -1.146099 -0.924409 -0.122029   \n",
       "593 -1.322174      -1.638802      -0.727809 -0.380903 -0.576455   \n",
       "425  2.077027       0.475563       1.049923  1.415993  0.669551   \n",
       "273 -1.688755       0.475563       2.200220 -1.157340  0.112513   \n",
       "\n",
       "     DiabetesPedigreeFunction  \n",
       "44                  -0.567815  \n",
       "672                 -0.598118  \n",
       "700                  0.007946  \n",
       "630                  0.765526  \n",
       "81                  -1.143575  \n",
       "..                        ...  \n",
       "32                  -0.628421  \n",
       "637                  0.523100  \n",
       "593                  3.704936  \n",
       "425                 -0.658724  \n",
       "273                 -0.173873  \n",
       "\n",
       "[154 rows x 6 columns]"
      ]
     },
     "execution_count": 68,
     "metadata": {},
     "output_type": "execute_result"
    }
   ],
   "source": [
    "# Numeric columns of X-Testing Data\n",
    "X_encoded_test_scaled[numeric_cols]"
   ]
  },
  {
   "cell_type": "markdown",
   "id": "75fad1ab",
   "metadata": {},
   "source": [
    "### 5.5 Final Training & Testing Data"
   ]
  },
  {
   "cell_type": "code",
   "execution_count": 69,
   "id": "1dd2586b",
   "metadata": {},
   "outputs": [
    {
     "data": {
      "text/html": [
       "<div>\n",
       "<style scoped>\n",
       "    .dataframe tbody tr th:only-of-type {\n",
       "        vertical-align: middle;\n",
       "    }\n",
       "\n",
       "    .dataframe tbody tr th {\n",
       "        vertical-align: top;\n",
       "    }\n",
       "\n",
       "    .dataframe thead th {\n",
       "        text-align: right;\n",
       "    }\n",
       "</style>\n",
       "<table border=\"1\" class=\"dataframe\">\n",
       "  <thead>\n",
       "    <tr style=\"text-align: right;\">\n",
       "      <th></th>\n",
       "      <th>Glucose</th>\n",
       "      <th>BloodPressure</th>\n",
       "      <th>SkinThickness</th>\n",
       "      <th>Insulin</th>\n",
       "      <th>BMI</th>\n",
       "      <th>DiabetesPedigreeFunction</th>\n",
       "      <th>AgeGroup_Old</th>\n",
       "      <th>AgeGroup_Young</th>\n",
       "      <th>PregnancyGroup_Low</th>\n",
       "      <th>PregnancyGroup_Medium</th>\n",
       "      <th>PregnancyGroup_None</th>\n",
       "    </tr>\n",
       "  </thead>\n",
       "  <tbody>\n",
       "    <tr>\n",
       "      <th>353</th>\n",
       "      <td>-1.055570</td>\n",
       "      <td>-0.825585</td>\n",
       "      <td>-1.773534</td>\n",
       "      <td>-1.179524</td>\n",
       "      <td>-0.767021</td>\n",
       "      <td>0.310978</td>\n",
       "      <td>False</td>\n",
       "      <td>True</td>\n",
       "      <td>True</td>\n",
       "      <td>False</td>\n",
       "      <td>False</td>\n",
       "    </tr>\n",
       "    <tr>\n",
       "      <th>711</th>\n",
       "      <td>0.144148</td>\n",
       "      <td>0.475563</td>\n",
       "      <td>-0.204947</td>\n",
       "      <td>-1.412455</td>\n",
       "      <td>-0.415207</td>\n",
       "      <td>-0.113267</td>\n",
       "      <td>False</td>\n",
       "      <td>False</td>\n",
       "      <td>False</td>\n",
       "      <td>False</td>\n",
       "      <td>False</td>\n",
       "    </tr>\n",
       "    <tr>\n",
       "      <th>373</th>\n",
       "      <td>-0.555688</td>\n",
       "      <td>-1.150872</td>\n",
       "      <td>1.154495</td>\n",
       "      <td>-0.613834</td>\n",
       "      <td>0.361714</td>\n",
       "      <td>-0.779937</td>\n",
       "      <td>False</td>\n",
       "      <td>True</td>\n",
       "      <td>False</td>\n",
       "      <td>True</td>\n",
       "      <td>False</td>\n",
       "    </tr>\n",
       "    <tr>\n",
       "      <th>46</th>\n",
       "      <td>0.810658</td>\n",
       "      <td>-1.313516</td>\n",
       "      <td>-0.266644</td>\n",
       "      <td>0.650649</td>\n",
       "      <td>-0.400548</td>\n",
       "      <td>0.250372</td>\n",
       "      <td>False</td>\n",
       "      <td>True</td>\n",
       "      <td>True</td>\n",
       "      <td>False</td>\n",
       "      <td>False</td>\n",
       "    </tr>\n",
       "    <tr>\n",
       "      <th>682</th>\n",
       "      <td>-0.888943</td>\n",
       "      <td>-0.662942</td>\n",
       "      <td>1.049923</td>\n",
       "      <td>-0.491823</td>\n",
       "      <td>1.783627</td>\n",
       "      <td>-0.325389</td>\n",
       "      <td>False</td>\n",
       "      <td>True</td>\n",
       "      <td>False</td>\n",
       "      <td>False</td>\n",
       "      <td>True</td>\n",
       "    </tr>\n",
       "    <tr>\n",
       "      <th>...</th>\n",
       "      <td>...</td>\n",
       "      <td>...</td>\n",
       "      <td>...</td>\n",
       "      <td>...</td>\n",
       "      <td>...</td>\n",
       "      <td>...</td>\n",
       "      <td>...</td>\n",
       "      <td>...</td>\n",
       "      <td>...</td>\n",
       "      <td>...</td>\n",
       "      <td>...</td>\n",
       "    </tr>\n",
       "    <tr>\n",
       "      <th>451</th>\n",
       "      <td>0.410752</td>\n",
       "      <td>-0.175011</td>\n",
       "      <td>-0.430823</td>\n",
       "      <td>0.230707</td>\n",
       "      <td>-0.517819</td>\n",
       "      <td>0.189765</td>\n",
       "      <td>False</td>\n",
       "      <td>True</td>\n",
       "      <td>False</td>\n",
       "      <td>True</td>\n",
       "      <td>False</td>\n",
       "    </tr>\n",
       "    <tr>\n",
       "      <th>113</th>\n",
       "      <td>-1.522127</td>\n",
       "      <td>-0.825585</td>\n",
       "      <td>0.018838</td>\n",
       "      <td>-1.004493</td>\n",
       "      <td>0.229784</td>\n",
       "      <td>-0.264783</td>\n",
       "      <td>False</td>\n",
       "      <td>True</td>\n",
       "      <td>False</td>\n",
       "      <td>True</td>\n",
       "      <td>False</td>\n",
       "    </tr>\n",
       "    <tr>\n",
       "      <th>556</th>\n",
       "      <td>-0.822292</td>\n",
       "      <td>-0.175011</td>\n",
       "      <td>1.154495</td>\n",
       "      <td>-0.406082</td>\n",
       "      <td>0.830799</td>\n",
       "      <td>-0.779937</td>\n",
       "      <td>False</td>\n",
       "      <td>False</td>\n",
       "      <td>True</td>\n",
       "      <td>False</td>\n",
       "      <td>False</td>\n",
       "    </tr>\n",
       "    <tr>\n",
       "      <th>667</th>\n",
       "      <td>-0.355735</td>\n",
       "      <td>-0.175011</td>\n",
       "      <td>-0.204947</td>\n",
       "      <td>-0.299599</td>\n",
       "      <td>-0.723044</td>\n",
       "      <td>-1.022363</td>\n",
       "      <td>False</td>\n",
       "      <td>False</td>\n",
       "      <td>False</td>\n",
       "      <td>False</td>\n",
       "      <td>False</td>\n",
       "    </tr>\n",
       "    <tr>\n",
       "      <th>107</th>\n",
       "      <td>0.744007</td>\n",
       "      <td>-1.150872</td>\n",
       "      <td>-0.100374</td>\n",
       "      <td>-0.103604</td>\n",
       "      <td>-0.429866</td>\n",
       "      <td>-0.567815</td>\n",
       "      <td>False</td>\n",
       "      <td>False</td>\n",
       "      <td>False</td>\n",
       "      <td>True</td>\n",
       "      <td>False</td>\n",
       "    </tr>\n",
       "  </tbody>\n",
       "</table>\n",
       "<p>614 rows × 11 columns</p>\n",
       "</div>"
      ],
      "text/plain": [
       "      Glucose  BloodPressure  SkinThickness   Insulin       BMI  \\\n",
       "353 -1.055570      -0.825585      -1.773534 -1.179524 -0.767021   \n",
       "711  0.144148       0.475563      -0.204947 -1.412455 -0.415207   \n",
       "373 -0.555688      -1.150872       1.154495 -0.613834  0.361714   \n",
       "46   0.810658      -1.313516      -0.266644  0.650649 -0.400548   \n",
       "682 -0.888943      -0.662942       1.049923 -0.491823  1.783627   \n",
       "..        ...            ...            ...       ...       ...   \n",
       "451  0.410752      -0.175011      -0.430823  0.230707 -0.517819   \n",
       "113 -1.522127      -0.825585       0.018838 -1.004493  0.229784   \n",
       "556 -0.822292      -0.175011       1.154495 -0.406082  0.830799   \n",
       "667 -0.355735      -0.175011      -0.204947 -0.299599 -0.723044   \n",
       "107  0.744007      -1.150872      -0.100374 -0.103604 -0.429866   \n",
       "\n",
       "     DiabetesPedigreeFunction  AgeGroup_Old  AgeGroup_Young  \\\n",
       "353                  0.310978         False            True   \n",
       "711                 -0.113267         False           False   \n",
       "373                 -0.779937         False            True   \n",
       "46                   0.250372         False            True   \n",
       "682                 -0.325389         False            True   \n",
       "..                        ...           ...             ...   \n",
       "451                  0.189765         False            True   \n",
       "113                 -0.264783         False            True   \n",
       "556                 -0.779937         False           False   \n",
       "667                 -1.022363         False           False   \n",
       "107                 -0.567815         False           False   \n",
       "\n",
       "     PregnancyGroup_Low  PregnancyGroup_Medium  PregnancyGroup_None  \n",
       "353                True                  False                False  \n",
       "711               False                  False                False  \n",
       "373               False                   True                False  \n",
       "46                 True                  False                False  \n",
       "682               False                  False                 True  \n",
       "..                  ...                    ...                  ...  \n",
       "451               False                   True                False  \n",
       "113               False                   True                False  \n",
       "556                True                  False                False  \n",
       "667               False                  False                False  \n",
       "107               False                   True                False  \n",
       "\n",
       "[614 rows x 11 columns]"
      ]
     },
     "execution_count": 69,
     "metadata": {},
     "output_type": "execute_result"
    }
   ],
   "source": [
    "# Full X-training data\n",
    "X_encoded_train_scaled"
   ]
  },
  {
   "cell_type": "code",
   "execution_count": 70,
   "id": "0307c497",
   "metadata": {},
   "outputs": [
    {
     "data": {
      "text/html": [
       "<div>\n",
       "<style scoped>\n",
       "    .dataframe tbody tr th:only-of-type {\n",
       "        vertical-align: middle;\n",
       "    }\n",
       "\n",
       "    .dataframe tbody tr th {\n",
       "        vertical-align: top;\n",
       "    }\n",
       "\n",
       "    .dataframe thead th {\n",
       "        text-align: right;\n",
       "    }\n",
       "</style>\n",
       "<table border=\"1\" class=\"dataframe\">\n",
       "  <thead>\n",
       "    <tr style=\"text-align: right;\">\n",
       "      <th></th>\n",
       "      <th>Glucose</th>\n",
       "      <th>BloodPressure</th>\n",
       "      <th>SkinThickness</th>\n",
       "      <th>Insulin</th>\n",
       "      <th>BMI</th>\n",
       "      <th>DiabetesPedigreeFunction</th>\n",
       "      <th>AgeGroup_Old</th>\n",
       "      <th>AgeGroup_Young</th>\n",
       "      <th>PregnancyGroup_Low</th>\n",
       "      <th>PregnancyGroup_Medium</th>\n",
       "      <th>PregnancyGroup_None</th>\n",
       "    </tr>\n",
       "  </thead>\n",
       "  <tbody>\n",
       "    <tr>\n",
       "      <th>44</th>\n",
       "      <td>1.243890</td>\n",
       "      <td>-0.662942</td>\n",
       "      <td>-0.335662</td>\n",
       "      <td>0.886020</td>\n",
       "      <td>-0.737703</td>\n",
       "      <td>-0.567815</td>\n",
       "      <td>False</td>\n",
       "      <td>False</td>\n",
       "      <td>False</td>\n",
       "      <td>False</td>\n",
       "      <td>False</td>\n",
       "    </tr>\n",
       "    <tr>\n",
       "      <th>672</th>\n",
       "      <td>-1.788731</td>\n",
       "      <td>2.752571</td>\n",
       "      <td>-0.623237</td>\n",
       "      <td>-1.112972</td>\n",
       "      <td>0.449667</td>\n",
       "      <td>-0.598118</td>\n",
       "      <td>False</td>\n",
       "      <td>False</td>\n",
       "      <td>False</td>\n",
       "      <td>False</td>\n",
       "      <td>False</td>\n",
       "    </tr>\n",
       "    <tr>\n",
       "      <th>700</th>\n",
       "      <td>0.010846</td>\n",
       "      <td>0.312919</td>\n",
       "      <td>-0.204947</td>\n",
       "      <td>0.561913</td>\n",
       "      <td>0.508303</td>\n",
       "      <td>0.007946</td>\n",
       "      <td>False</td>\n",
       "      <td>True</td>\n",
       "      <td>False</td>\n",
       "      <td>True</td>\n",
       "      <td>False</td>\n",
       "    </tr>\n",
       "    <tr>\n",
       "      <th>630</th>\n",
       "      <td>-0.255758</td>\n",
       "      <td>-0.662942</td>\n",
       "      <td>-0.467424</td>\n",
       "      <td>-0.212084</td>\n",
       "      <td>-0.737703</td>\n",
       "      <td>0.765526</td>\n",
       "      <td>False</td>\n",
       "      <td>False</td>\n",
       "      <td>False</td>\n",
       "      <td>False</td>\n",
       "      <td>False</td>\n",
       "    </tr>\n",
       "    <tr>\n",
       "      <th>81</th>\n",
       "      <td>-1.588778</td>\n",
       "      <td>-0.492166</td>\n",
       "      <td>-0.491475</td>\n",
       "      <td>-1.161998</td>\n",
       "      <td>-0.438661</td>\n",
       "      <td>-1.143575</td>\n",
       "      <td>False</td>\n",
       "      <td>True</td>\n",
       "      <td>False</td>\n",
       "      <td>True</td>\n",
       "      <td>False</td>\n",
       "    </tr>\n",
       "    <tr>\n",
       "      <th>...</th>\n",
       "      <td>...</td>\n",
       "      <td>...</td>\n",
       "      <td>...</td>\n",
       "      <td>...</td>\n",
       "      <td>...</td>\n",
       "      <td>...</td>\n",
       "      <td>...</td>\n",
       "      <td>...</td>\n",
       "      <td>...</td>\n",
       "      <td>...</td>\n",
       "      <td>...</td>\n",
       "    </tr>\n",
       "    <tr>\n",
       "      <th>32</th>\n",
       "      <td>-1.122221</td>\n",
       "      <td>-1.150872</td>\n",
       "      <td>-1.878106</td>\n",
       "      <td>-1.057512</td>\n",
       "      <td>-1.118834</td>\n",
       "      <td>-0.628421</td>\n",
       "      <td>False</td>\n",
       "      <td>True</td>\n",
       "      <td>False</td>\n",
       "      <td>True</td>\n",
       "      <td>False</td>\n",
       "    </tr>\n",
       "    <tr>\n",
       "      <th>637</th>\n",
       "      <td>-0.922268</td>\n",
       "      <td>0.312919</td>\n",
       "      <td>-1.146099</td>\n",
       "      <td>-0.924409</td>\n",
       "      <td>-0.122029</td>\n",
       "      <td>0.523100</td>\n",
       "      <td>False</td>\n",
       "      <td>True</td>\n",
       "      <td>False</td>\n",
       "      <td>True</td>\n",
       "      <td>False</td>\n",
       "    </tr>\n",
       "    <tr>\n",
       "      <th>593</th>\n",
       "      <td>-1.322174</td>\n",
       "      <td>-1.638802</td>\n",
       "      <td>-0.727809</td>\n",
       "      <td>-0.380903</td>\n",
       "      <td>-0.576455</td>\n",
       "      <td>3.704936</td>\n",
       "      <td>False</td>\n",
       "      <td>True</td>\n",
       "      <td>False</td>\n",
       "      <td>True</td>\n",
       "      <td>False</td>\n",
       "    </tr>\n",
       "    <tr>\n",
       "      <th>425</th>\n",
       "      <td>2.077027</td>\n",
       "      <td>0.475563</td>\n",
       "      <td>1.049923</td>\n",
       "      <td>1.415993</td>\n",
       "      <td>0.669551</td>\n",
       "      <td>-0.658724</td>\n",
       "      <td>False</td>\n",
       "      <td>False</td>\n",
       "      <td>False</td>\n",
       "      <td>True</td>\n",
       "      <td>False</td>\n",
       "    </tr>\n",
       "    <tr>\n",
       "      <th>273</th>\n",
       "      <td>-1.688755</td>\n",
       "      <td>0.475563</td>\n",
       "      <td>2.200220</td>\n",
       "      <td>-1.157340</td>\n",
       "      <td>0.112513</td>\n",
       "      <td>-0.173873</td>\n",
       "      <td>False</td>\n",
       "      <td>True</td>\n",
       "      <td>True</td>\n",
       "      <td>False</td>\n",
       "      <td>False</td>\n",
       "    </tr>\n",
       "  </tbody>\n",
       "</table>\n",
       "<p>154 rows × 11 columns</p>\n",
       "</div>"
      ],
      "text/plain": [
       "      Glucose  BloodPressure  SkinThickness   Insulin       BMI  \\\n",
       "44   1.243890      -0.662942      -0.335662  0.886020 -0.737703   \n",
       "672 -1.788731       2.752571      -0.623237 -1.112972  0.449667   \n",
       "700  0.010846       0.312919      -0.204947  0.561913  0.508303   \n",
       "630 -0.255758      -0.662942      -0.467424 -0.212084 -0.737703   \n",
       "81  -1.588778      -0.492166      -0.491475 -1.161998 -0.438661   \n",
       "..        ...            ...            ...       ...       ...   \n",
       "32  -1.122221      -1.150872      -1.878106 -1.057512 -1.118834   \n",
       "637 -0.922268       0.312919      -1.146099 -0.924409 -0.122029   \n",
       "593 -1.322174      -1.638802      -0.727809 -0.380903 -0.576455   \n",
       "425  2.077027       0.475563       1.049923  1.415993  0.669551   \n",
       "273 -1.688755       0.475563       2.200220 -1.157340  0.112513   \n",
       "\n",
       "     DiabetesPedigreeFunction  AgeGroup_Old  AgeGroup_Young  \\\n",
       "44                  -0.567815         False           False   \n",
       "672                 -0.598118         False           False   \n",
       "700                  0.007946         False            True   \n",
       "630                  0.765526         False           False   \n",
       "81                  -1.143575         False            True   \n",
       "..                        ...           ...             ...   \n",
       "32                  -0.628421         False            True   \n",
       "637                  0.523100         False            True   \n",
       "593                  3.704936         False            True   \n",
       "425                 -0.658724         False           False   \n",
       "273                 -0.173873         False            True   \n",
       "\n",
       "     PregnancyGroup_Low  PregnancyGroup_Medium  PregnancyGroup_None  \n",
       "44                False                  False                False  \n",
       "672               False                  False                False  \n",
       "700               False                   True                False  \n",
       "630               False                  False                False  \n",
       "81                False                   True                False  \n",
       "..                  ...                    ...                  ...  \n",
       "32                False                   True                False  \n",
       "637               False                   True                False  \n",
       "593               False                   True                False  \n",
       "425               False                   True                False  \n",
       "273                True                  False                False  \n",
       "\n",
       "[154 rows x 11 columns]"
      ]
     },
     "execution_count": 70,
     "metadata": {},
     "output_type": "execute_result"
    }
   ],
   "source": [
    "# Full X-testing data\n",
    "X_encoded_test_scaled"
   ]
  },
  {
   "cell_type": "code",
   "execution_count": 71,
   "id": "4b6386fc",
   "metadata": {},
   "outputs": [
    {
     "data": {
      "text/plain": [
       "353    0\n",
       "711    0\n",
       "373    0\n",
       "46     0\n",
       "682    0\n",
       "      ..\n",
       "451    1\n",
       "113    0\n",
       "556    0\n",
       "667    1\n",
       "107    0\n",
       "Name: Outcome, Length: 614, dtype: int64"
      ]
     },
     "execution_count": 71,
     "metadata": {},
     "output_type": "execute_result"
    }
   ],
   "source": [
    "# Full y-training data\n",
    "y_train"
   ]
  },
  {
   "cell_type": "code",
   "execution_count": 72,
   "id": "b98dcf30",
   "metadata": {},
   "outputs": [
    {
     "data": {
      "text/plain": [
       "44     0\n",
       "672    0\n",
       "700    0\n",
       "630    1\n",
       "81     0\n",
       "      ..\n",
       "32     0\n",
       "637    0\n",
       "593    0\n",
       "425    1\n",
       "273    0\n",
       "Name: Outcome, Length: 154, dtype: int64"
      ]
     },
     "execution_count": 72,
     "metadata": {},
     "output_type": "execute_result"
    }
   ],
   "source": [
    "# Full y-testing data\n",
    "y_test"
   ]
  },
  {
   "cell_type": "markdown",
   "id": "c574679d",
   "metadata": {},
   "source": [
    "These **three classification models** will be built using the above data:\n",
    "\n",
    "1. Logistic Regression (LR)\n",
    "2. Random Forest (RF)\n",
    "3. K-Nearest Neighbours (KNN)"
   ]
  },
  {
   "cell_type": "markdown",
   "id": "be72dd5d",
   "metadata": {},
   "source": [
    "### 5.6 Handling Class Imbalance"
   ]
  },
  {
   "cell_type": "markdown",
   "id": "45198761",
   "metadata": {},
   "source": [
    "#### 5.6.1 For Logistic Regression & Random Forest"
   ]
  },
  {
   "cell_type": "code",
   "execution_count": 73,
   "id": "47ef3148",
   "metadata": {},
   "outputs": [
    {
     "name": "stdout",
     "output_type": "stream",
     "text": [
      "Class distribution before handling (for LR & RF):\n",
      "Outcome\n",
      "0    400\n",
      "1    214\n",
      "Name: count, dtype: int64\n"
     ]
    }
   ],
   "source": [
    "# Check original class distribution\n",
    "print(\"Class distribution before handling (for LR & RF):\")\n",
    "print(y_train.value_counts())"
   ]
  },
  {
   "cell_type": "code",
   "execution_count": 74,
   "id": "bf374ab8",
   "metadata": {},
   "outputs": [],
   "source": [
    "# Use class_weight = 'balanced' for handling class imbalance\n",
    "class_weight = 'balanced'"
   ]
  },
  {
   "cell_type": "markdown",
   "id": "8f3631e9",
   "metadata": {},
   "source": [
    "#### 5.6.2 Applying SMOTE for KNN"
   ]
  },
  {
   "cell_type": "code",
   "execution_count": 75,
   "id": "63104487",
   "metadata": {},
   "outputs": [
    {
     "name": "stdout",
     "output_type": "stream",
     "text": [
      "Class distribution Before SMOTE:\n",
      "Outcome\n",
      "0    400\n",
      "1    214\n",
      "Name: count, dtype: int64\n"
     ]
    }
   ],
   "source": [
    "# Check original class distribution before SMOTE\n",
    "print(\"Class distribution Before SMOTE:\")\n",
    "print(y_train.value_counts())"
   ]
  },
  {
   "cell_type": "code",
   "execution_count": 76,
   "id": "5070e433",
   "metadata": {},
   "outputs": [],
   "source": [
    "# Apply SMOTE only to training set for KNN\n",
    "smote = SMOTE(random_state=42)\n",
    "X_knn, y_knn = smote.fit_resample(X_encoded_train_scaled, y_train)"
   ]
  },
  {
   "cell_type": "code",
   "execution_count": 77,
   "id": "9b69fe78",
   "metadata": {},
   "outputs": [
    {
     "name": "stdout",
     "output_type": "stream",
     "text": [
      "\n",
      "Class distribution After SMOTE:\n",
      "Outcome\n",
      "0    400\n",
      "1    400\n",
      "Name: count, dtype: int64\n"
     ]
    }
   ],
   "source": [
    "# Check class distribution after SMOTE\n",
    "print(\"\\nClass distribution After SMOTE:\")\n",
    "print(y_knn.value_counts())"
   ]
  },
  {
   "cell_type": "markdown",
   "id": "5c6cb564",
   "metadata": {},
   "source": [
    "###\n",
    "Back to :\n",
    "\n",
    "- [Table of Contents](#table-of-contents)"
   ]
  },
  {
   "cell_type": "markdown",
   "id": "d5509f4a",
   "metadata": {},
   "source": [
    "## **6.0 MODEL BUILDING & EVALUATION**"
   ]
  },
  {
   "cell_type": "markdown",
   "id": "192affb9",
   "metadata": {},
   "source": [
    "### 6.1 Baseline Model Training"
   ]
  },
  {
   "cell_type": "code",
   "execution_count": 78,
   "id": "0cca3f21",
   "metadata": {},
   "outputs": [],
   "source": [
    "# Logistic Regression\n",
    "log_model = LogisticRegression(class_weight='balanced', random_state=42)\n",
    "log_model.fit(X_encoded_train_scaled, y_train)\n",
    "y_pred_log = log_model.predict(X_encoded_test_scaled)"
   ]
  },
  {
   "cell_type": "code",
   "execution_count": 79,
   "id": "6f23cfdb",
   "metadata": {},
   "outputs": [],
   "source": [
    "# Random Forest\n",
    "rf_model = RandomForestClassifier(class_weight='balanced', random_state=42)\n",
    "rf_model.fit(X_encoded_train_scaled, y_train)\n",
    "y_pred_rf = rf_model.predict(X_encoded_test_scaled)"
   ]
  },
  {
   "cell_type": "code",
   "execution_count": 80,
   "id": "92999c84",
   "metadata": {},
   "outputs": [],
   "source": [
    "# K-Nearest Neighbours (KNN)\n",
    "knn_model = KNeighborsClassifier()\n",
    "knn_model.fit(X_knn, y_knn)\n",
    "y_pred_knn = knn_model.predict(X_encoded_test_scaled)"
   ]
  },
  {
   "cell_type": "markdown",
   "id": "e0bdf926",
   "metadata": {},
   "source": [
    "### 6.2 Baseline Model Evaluation"
   ]
  },
  {
   "cell_type": "code",
   "execution_count": 81,
   "id": "ad0bfb11",
   "metadata": {},
   "outputs": [],
   "source": [
    "# Evaluating metrics (Recall, F1 Score, ROC AUC)\n",
    "metrics = {\n",
    "    'Model': ['Logistic Regression', 'Random Forest', 'KNN'],\n",
    "    'Recall': [\n",
    "        recall_score(y_test, y_pred_log),\n",
    "        recall_score(y_test, y_pred_rf),\n",
    "        recall_score(y_test, y_pred_knn)\n",
    "    ],\n",
    "    'F1 Score': [\n",
    "        f1_score(y_test, y_pred_log),\n",
    "        f1_score(y_test, y_pred_rf),\n",
    "        f1_score(y_test, y_pred_knn)\n",
    "    ],\n",
    "    'ROC AUC': [\n",
    "        roc_auc_score(y_test, log_model.predict_proba(X_encoded_test_scaled)[:, 1]),\n",
    "        roc_auc_score(y_test, rf_model.predict_proba(X_encoded_test_scaled)[:, 1]),\n",
    "        roc_auc_score(y_test, knn_model.predict_proba(X_encoded_test_scaled)[:, 1])\n",
    "    ]\n",
    "}"
   ]
  },
  {
   "cell_type": "code",
   "execution_count": 82,
   "id": "737afced",
   "metadata": {},
   "outputs": [
    {
     "name": "stdout",
     "output_type": "stream",
     "text": [
      "\n",
      "Baseline Model Performance Comparison:\n",
      "              Model   Recall  F1 Score  ROC AUC\n",
      "Logistic Regression 0.703704  0.649573 0.822037\n",
      "                KNN 0.703704  0.608000 0.755741\n",
      "      Random Forest 0.537037  0.552381 0.788704\n"
     ]
    }
   ],
   "source": [
    "# Evaluation Results\n",
    "results_df = pd.DataFrame(metrics)\n",
    "print(\"\\nBaseline Model Performance Comparison:\")\n",
    "print(results_df.sort_values(by='Recall', ascending=False).to_string(index=False))"
   ]
  },
  {
   "cell_type": "code",
   "execution_count": 83,
   "id": "e1497ac4",
   "metadata": {},
   "outputs": [
    {
     "data": {
      "image/png": "[encoded data removed]",
      "text/plain": [
       "<Figure size 1200x600 with 3 Axes>"
      ]
     },
     "metadata": {},
     "output_type": "display_data"
    }
   ],
   "source": [
    "# Visualising Baseline Metrics Results\n",
    "plt.figure(figsize=(12, 6))\n",
    "for i, metric in enumerate(['Recall', 'F1 Score', 'ROC AUC']):\n",
    "    plt.subplot(1, 3, i+1)\n",
    "    sns.barplot(data=results_df, x='Model', y=metric, hue='Model', palette='Set2', legend=False)\n",
    "    plt.title(f'Baseline {metric}')\n",
    "    plt.ylim(0, 1)\n",
    "    plt.xticks(rotation=20)\n",
    "plt.tight_layout()\n",
    "plt.show()"
   ]
  },
  {
   "cell_type": "markdown",
   "id": "971b0325",
   "metadata": {},
   "source": [
    "### 6.3 Best Model (Based on Metrics)"
   ]
  },
  {
   "cell_type": "markdown",
   "id": "66852117",
   "metadata": {},
   "source": [
    "##\n",
    "Back to :\n",
    "\n",
    "- [Table of Contents](#table-of-contents)\n",
    "\n"
   ]
  }
 ],
 "metadata": {
  "kernelspec": {
   "display_name": "base",
   "language": "python",
   "name": "python3"
  },
  "language_info": {
   "codemirror_mode": {
    "name": "ipython",
    "version": 3
   },
   "file_extension": ".py",
   "mimetype": "text/x-python",
   "name": "python",
   "nbconvert_exporter": "python",
   "pygments_lexer": "ipython3",
   "version": "3.12.7"
  }
 },
 "nbformat": 4,
 "nbformat_minor": 5
}
