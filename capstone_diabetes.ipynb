{
 "cells": [
  {
   "cell_type": "markdown",
   "id": "a7ca0b1c",
   "metadata": {},
   "source": [
    "# **CASE STUDY II: HEALTHCARE – EARLY DETECTION OF DIABETES**\n",
    "### *TEAM GLUCOSE-GUARD DATA SCIENCE CAPSTONE PROJECT*"
   ]
  },
  {
   "cell_type": "markdown",
   "id": "4995f5e5",
   "metadata": {},
   "source": [
    "## **TEAM MEMBERS**"
   ]
  },
  {
   "cell_type": "markdown",
   "id": "5a7f619a",
   "metadata": {},
   "source": [
    "1. Similoluwa Okusanya (Team Lead)\n",
    "2. Abisade Adegboye\n",
    "3. Adeyanju Hassabat\n",
    "4. Ayodele Jewoola\n",
    "5. Shalom Doufodji\n",
    "6. Simisola Araba\n",
    "7. Tomiwa Ayankunle\n",
    "8. Wonder Munga"
   ]
  },
  {
   "cell_type": "markdown",
   "id": "d4ffe5bb",
   "metadata": {},
   "source": [
    "## **TABLE OF CONTENTS**"
   ]
  },
  {
   "cell_type": "markdown",
   "id": "d62b98d3",
   "metadata": {},
   "source": [
    "- [**1.0 INTRODUCTION**](#10-introduction)\n",
    "    - [1.1 Background](#11-background)\n",
    "    - [1.2 Objectives](#12-objectives)\n",
    "    - [1.3 Dataset Overview](#13-dataset-overview)\n",
    "- [**2.0 DATA PREPARATION**](#20-data-preparation)\n",
    "    - [2.1 Importation of Libraries](#21-importation-of-libraries)\n",
    "    - [2.2 Loading of Dataset](#22-loading-of-dataset)\n",
    "- [**3.0 DATA CLEANING**](#30-data-cleaning)\n",
    "    - [3.1 Identifying Columns where Zeros are Invalid](#31-identifying-columns-where-zeros-are-invalid)\n",
    "    - [3.2 Creating Missingness Indicator Flags](#32-creating-missingness-indicator-flags)\n",
    "    - [3.3 Replacing Zeros with NaN](#33-replacing-zeros-with-nan)\n",
    "    - [3.4 Applying Iterative Imputer (MICE)](#34-applying-iterative-imputer-multivariate-imputation-by-chained-equations-mice)\n",
    "    - [3.5 Comparison of Values Before and After](#35-comparison-of-values-before-and-after)\n",
    "    - [3.6 Combining Imputed Data with Target](#36-combining-imputed-data-with-target)\n",
    "    - [3.7 Final Imouted Dataset](#37-final-imputed-dataset)\n",
    "- [**4.0 DATA ANALYSIS**](#40-data-analysis)\n",
    "    - [4.1 Explorative Data Analysis (EDA)](#41-explorative-data-analysis-eda)\n",
    "    - [4.2 Descriptive Statistics](#42-descriptive-statistics)\n",
    "    - [4.3 Inferential Statistics](#43-inferential-statistics)\n",
    "    - [4.4 Summary of Key Findings from Data Analysis](#44-summary-of-key-findings-from-data-analysis)\n",
    "- [**5.0 FEATURE ENGINEERING**](#50-feature-engineering)\n",
    "    - [5.1 Setting the X and y Variables](#51-setting-the-x--y-variables)\n",
    "    - [5.2 Encoding the Categorical Variables](#52-encoding-the-categorical-variables)\n",
    "    - [5.3 Train-Test Split (80/20)](#53-train-test-split-8020)\n",
    "    - [5.4 Scaling Numeric Features with StandardScaler](#54-scaling-numeric-features-with-standardscaler)\n",
    "    - [5.5 Final Training & Testing Data](#55-final-training--testing-data)\n",
    "    - [5.6 Handling Class Imbalance](#56-handling-class-imbalance)\n",
    "- [**6.0 MODEL BUILDING & EVALUATION**](#60-model-building--evaluation)\n"
   ]
  },
  {
   "cell_type": "markdown",
   "id": "4a17c550",
   "metadata": {},
   "source": [
    "## **1.0 INTRODUCTION**"
   ]
  },
  {
   "cell_type": "markdown",
   "id": "893342a7",
   "metadata": {},
   "source": [
    "### 1.1 Background  \n",
    "A mobile health clinic aims to pre-screen patients for diabetes using basic health indicators. This initiative seeks to reduce hospital crowding and allow healthcare providers to focus resources on individuals at higher risk of developing diabetes.\n",
    "\n",
    "Using exploratory data analysis (EDA), this project uncovers the key factors that influence the risk of diabetes. Subsequently, classification models are developed to predict whether a person has diabetes based on clinical attributes such as body mass index (BMI), glucose levels, insulin levels, and age."
   ]
  },
  {
   "cell_type": "markdown",
   "id": "565fb849",
   "metadata": {},
   "source": [
    "### 1.2 Objectives\n",
    "1. Perform exploratory data analysis (EDA) to identify factors that greatly influence the risk of diabetes.\n",
    "\n",
    "2. Develop classification models to predict if a person has diabetes based on health attributes like BMI, glucose levels, insulin levels, and age."
   ]
  },
  {
   "cell_type": "markdown",
   "id": "59d36918",
   "metadata": {},
   "source": [
    "### 1.3 Dataset Overview\n",
    "The Pima Indians Diabetes Dataset, sourced from [Kaggle](https://www.kaggle.com/datasets/uciml/pima-indians-diabetes-database), contains 768 medical records of female patients of Pima Indian heritage. It includes 8 clinical features such as glucose concentration, blood pressure, BMI, insulin levels, and age.\n",
    "\n",
    "This dataset is widely used in diabetes prediction studies due to its clinical relevance and manageable size, making it ideal for exploratory data analysis and machine learning classification tasks."
   ]
  },
  {
   "cell_type": "markdown",
   "id": "4f6516aa",
   "metadata": {},
   "source": [
    "###\n",
    "Back to :\n",
    "\n",
    "- [Table of Contents](#table-of-contents)"
   ]
  },
  {
   "cell_type": "markdown",
   "id": "62c61caf",
   "metadata": {},
   "source": [
    "## **2.0 DATA PREPARATION**"
   ]
  },
  {
   "cell_type": "markdown",
   "id": "07fe00bd",
   "metadata": {},
   "source": [
    "### 2.1 Importation of Libraries"
   ]
  },
  {
   "cell_type": "code",
   "execution_count": 1,
   "id": "15b04c8c",
   "metadata": {},
   "outputs": [],
   "source": [
    "# Import Libaries\n",
    "\n",
    "## For data cleaning and descriptive statistics\n",
    "import pandas as pd # for data manipulation\n",
    "import numpy as np #for numerical operations\n",
    "from sklearn.experimental import enable_iterative_imputer\n",
    "from sklearn.impute import IterativeImputer # for advanced missing value imputation\n",
    "\n",
    "## For EDA\n",
    "import matplotlib.pyplot as plt # for plotting\n",
    "import seaborn as sns # for advanced plotting\n",
    "from scipy.stats import spearmanr, pearsonr # for correlation analysis\n",
    "from statsmodels.stats.outliers_influence import variance_inflation_factor # to detect multicollinearity\n",
    "import statsmodels.api as sm # to add a constant term (intercept) to the feature matrix\n",
    "sns.set(style='whitegrid') # Set seaborn style\n",
    "\n",
    "## For inferential statistics\n",
    "from scipy.stats import ttest_ind #for hypothesis testing across 2groups\n",
    "from scipy.stats import f_oneway #for hypothesis testing across 3 or more groups\n",
    "from scipy.stats import chi2_contingency #for testing for independence\n",
    "import statsmodels.api as sm #used for anova table\n",
    "from statsmodels.formula.api import ols #create a model and fitting\n",
    "\n",
    "## For feature engineering and model building & evaluation\n",
    "from sklearn.model_selection import train_test_split, GridSearchCV, StratifiedKFold\n",
    "from sklearn.preprocessing import StandardScaler\n",
    "from sklearn.preprocessing import LabelEncoder\n",
    "from sklearn.metrics import (\n",
    "    recall_score, f1_score, roc_auc_score,\n",
    "    confusion_matrix, ConfusionMatrixDisplay\n",
    ")\n",
    "from sklearn.linear_model import LogisticRegression\n",
    "from sklearn.ensemble import RandomForestClassifier\n",
    "from sklearn.neighbors import KNeighborsClassifier\n",
    "from sklearn.model_selection import train_test_split\n",
    "from imblearn.over_sampling import SMOTE\n",
    "import joblib"
   ]
  },
  {
   "cell_type": "markdown",
   "id": "5dae7f27",
   "metadata": {},
   "source": [
    "### 2.2 Loading of Dataset"
   ]
  },
  {
   "cell_type": "code",
   "execution_count": 2,
   "id": "dfa1bde9",
   "metadata": {
    "scrolled": true
   },
   "outputs": [
    {
     "data": {
      "text/html": [
       "<div>\n",
       "<style scoped>\n",
       "    .dataframe tbody tr th:only-of-type {\n",
       "        vertical-align: middle;\n",
       "    }\n",
       "\n",
       "    .dataframe tbody tr th {\n",
       "        vertical-align: top;\n",
       "    }\n",
       "\n",
       "    .dataframe thead th {\n",
       "        text-align: right;\n",
       "    }\n",
       "</style>\n",
       "<table border=\"1\" class=\"dataframe\">\n",
       "  <thead>\n",
       "    <tr style=\"text-align: right;\">\n",
       "      <th></th>\n",
       "      <th>Pregnancies</th>\n",
       "      <th>Glucose</th>\n",
       "      <th>BloodPressure</th>\n",
       "      <th>SkinThickness</th>\n",
       "      <th>Insulin</th>\n",
       "      <th>BMI</th>\n",
       "      <th>DiabetesPedigreeFunction</th>\n",
       "      <th>Age</th>\n",
       "      <th>Outcome</th>\n",
       "    </tr>\n",
       "  </thead>\n",
       "  <tbody>\n",
       "    <tr>\n",
       "      <th>0</th>\n",
       "      <td>6</td>\n",
       "      <td>148</td>\n",
       "      <td>72</td>\n",
       "      <td>35</td>\n",
       "      <td>0</td>\n",
       "      <td>33.6</td>\n",
       "      <td>0.627</td>\n",
       "      <td>50</td>\n",
       "      <td>1</td>\n",
       "    </tr>\n",
       "    <tr>\n",
       "      <th>1</th>\n",
       "      <td>1</td>\n",
       "      <td>85</td>\n",
       "      <td>66</td>\n",
       "      <td>29</td>\n",
       "      <td>0</td>\n",
       "      <td>26.6</td>\n",
       "      <td>0.351</td>\n",
       "      <td>31</td>\n",
       "      <td>0</td>\n",
       "    </tr>\n",
       "    <tr>\n",
       "      <th>2</th>\n",
       "      <td>8</td>\n",
       "      <td>183</td>\n",
       "      <td>64</td>\n",
       "      <td>0</td>\n",
       "      <td>0</td>\n",
       "      <td>23.3</td>\n",
       "      <td>0.672</td>\n",
       "      <td>32</td>\n",
       "      <td>1</td>\n",
       "    </tr>\n",
       "    <tr>\n",
       "      <th>3</th>\n",
       "      <td>1</td>\n",
       "      <td>89</td>\n",
       "      <td>66</td>\n",
       "      <td>23</td>\n",
       "      <td>94</td>\n",
       "      <td>28.1</td>\n",
       "      <td>0.167</td>\n",
       "      <td>21</td>\n",
       "      <td>0</td>\n",
       "    </tr>\n",
       "    <tr>\n",
       "      <th>4</th>\n",
       "      <td>0</td>\n",
       "      <td>137</td>\n",
       "      <td>40</td>\n",
       "      <td>35</td>\n",
       "      <td>168</td>\n",
       "      <td>43.1</td>\n",
       "      <td>2.288</td>\n",
       "      <td>33</td>\n",
       "      <td>1</td>\n",
       "    </tr>\n",
       "  </tbody>\n",
       "</table>\n",
       "</div>"
      ],
      "text/plain": [
       "   Pregnancies  Glucose  BloodPressure  SkinThickness  Insulin   BMI  \\\n",
       "0            6      148             72             35        0  33.6   \n",
       "1            1       85             66             29        0  26.6   \n",
       "2            8      183             64              0        0  23.3   \n",
       "3            1       89             66             23       94  28.1   \n",
       "4            0      137             40             35      168  43.1   \n",
       "\n",
       "   DiabetesPedigreeFunction  Age  Outcome  \n",
       "0                     0.627   50        1  \n",
       "1                     0.351   31        0  \n",
       "2                     0.672   32        1  \n",
       "3                     0.167   21        0  \n",
       "4                     2.288   33        1  "
      ]
     },
     "execution_count": 2,
     "metadata": {},
     "output_type": "execute_result"
    }
   ],
   "source": [
    "# Loading dataset\n",
    "df = pd.read_csv (\"./diabetes.csv\")\n",
    "\n",
    "# Return first 5 rows\n",
    "df.head()"
   ]
  },
  {
   "cell_type": "code",
   "execution_count": 3,
   "id": "a0a8e719",
   "metadata": {},
   "outputs": [
    {
     "name": "stdout",
     "output_type": "stream",
     "text": [
      "<class 'pandas.core.frame.DataFrame'>\n",
      "RangeIndex: 768 entries, 0 to 767\n",
      "Data columns (total 9 columns):\n",
      " #   Column                    Non-Null Count  Dtype  \n",
      "---  ------                    --------------  -----  \n",
      " 0   Pregnancies               768 non-null    int64  \n",
      " 1   Glucose                   768 non-null    int64  \n",
      " 2   BloodPressure             768 non-null    int64  \n",
      " 3   SkinThickness             768 non-null    int64  \n",
      " 4   Insulin                   768 non-null    int64  \n",
      " 5   BMI                       768 non-null    float64\n",
      " 6   DiabetesPedigreeFunction  768 non-null    float64\n",
      " 7   Age                       768 non-null    int64  \n",
      " 8   Outcome                   768 non-null    int64  \n",
      "dtypes: float64(2), int64(7)\n",
      "memory usage: 54.1 KB\n"
     ]
    }
   ],
   "source": [
    "# Summary of dataframe\n",
    "df.info()"
   ]
  },
  {
   "cell_type": "markdown",
   "id": "ec6f5a55",
   "metadata": {},
   "source": [
    "###\n",
    "Back to :\n",
    "\n",
    "- [Table of Contents](#table-of-contents)"
   ]
  },
  {
   "cell_type": "markdown",
   "id": "0f9ec1d3",
   "metadata": {},
   "source": [
    "## **3.0 DATA CLEANING**"
   ]
  },
  {
   "cell_type": "markdown",
   "id": "c4e545bb",
   "metadata": {},
   "source": [
    "### 3.1 Identifying columns where zeros are invalid"
   ]
  },
  {
   "cell_type": "code",
   "execution_count": 4,
   "id": "4c70e1f5",
   "metadata": {},
   "outputs": [
    {
     "name": "stdout",
     "output_type": "stream",
     "text": [
      "These features should not be zero for real patients:['Glucose', 'BloodPressure', 'SkinThickness', 'Insulin', 'BMI']\n"
     ]
    }
   ],
   "source": [
    "# Columns where 0 is likely a missing value\n",
    "zero_as_missing = [\"Glucose\", \"BloodPressure\", \"SkinThickness\", \"Insulin\", \"BMI\"]\n",
    "print (f\"These features should not be zero for real patients:{zero_as_missing}\")"
   ]
  },
  {
   "cell_type": "markdown",
   "id": "3b8189a9",
   "metadata": {},
   "source": [
    "### 3.2 Creating Missingness Indicator Flags"
   ]
  },
  {
   "cell_type": "code",
   "execution_count": 5,
   "id": "88419b78",
   "metadata": {},
   "outputs": [],
   "source": [
    "# Adding missingness flags\n",
    "for col in zero_as_missing:\n",
    "    df[col + \"_missing\"] = df [col] == 0"
   ]
  },
  {
   "cell_type": "code",
   "execution_count": 6,
   "id": "99c42970",
   "metadata": {},
   "outputs": [
    {
     "data": {
      "text/html": [
       "<div>\n",
       "<style scoped>\n",
       "    .dataframe tbody tr th:only-of-type {\n",
       "        vertical-align: middle;\n",
       "    }\n",
       "\n",
       "    .dataframe tbody tr th {\n",
       "        vertical-align: top;\n",
       "    }\n",
       "\n",
       "    .dataframe thead th {\n",
       "        text-align: right;\n",
       "    }\n",
       "</style>\n",
       "<table border=\"1\" class=\"dataframe\">\n",
       "  <thead>\n",
       "    <tr style=\"text-align: right;\">\n",
       "      <th></th>\n",
       "      <th>Insulin</th>\n",
       "      <th>Insulin_missing</th>\n",
       "    </tr>\n",
       "  </thead>\n",
       "  <tbody>\n",
       "    <tr>\n",
       "      <th>0</th>\n",
       "      <td>0</td>\n",
       "      <td>True</td>\n",
       "    </tr>\n",
       "    <tr>\n",
       "      <th>1</th>\n",
       "      <td>0</td>\n",
       "      <td>True</td>\n",
       "    </tr>\n",
       "    <tr>\n",
       "      <th>2</th>\n",
       "      <td>0</td>\n",
       "      <td>True</td>\n",
       "    </tr>\n",
       "    <tr>\n",
       "      <th>3</th>\n",
       "      <td>94</td>\n",
       "      <td>False</td>\n",
       "    </tr>\n",
       "    <tr>\n",
       "      <th>4</th>\n",
       "      <td>168</td>\n",
       "      <td>False</td>\n",
       "    </tr>\n",
       "    <tr>\n",
       "      <th>5</th>\n",
       "      <td>0</td>\n",
       "      <td>True</td>\n",
       "    </tr>\n",
       "    <tr>\n",
       "      <th>6</th>\n",
       "      <td>88</td>\n",
       "      <td>False</td>\n",
       "    </tr>\n",
       "    <tr>\n",
       "      <th>7</th>\n",
       "      <td>0</td>\n",
       "      <td>True</td>\n",
       "    </tr>\n",
       "    <tr>\n",
       "      <th>8</th>\n",
       "      <td>543</td>\n",
       "      <td>False</td>\n",
       "    </tr>\n",
       "    <tr>\n",
       "      <th>9</th>\n",
       "      <td>0</td>\n",
       "      <td>True</td>\n",
       "    </tr>\n",
       "  </tbody>\n",
       "</table>\n",
       "</div>"
      ],
      "text/plain": [
       "   Insulin  Insulin_missing\n",
       "0        0             True\n",
       "1        0             True\n",
       "2        0             True\n",
       "3       94            False\n",
       "4      168            False\n",
       "5        0             True\n",
       "6       88            False\n",
       "7        0             True\n",
       "8      543            False\n",
       "9        0             True"
      ]
     },
     "execution_count": 6,
     "metadata": {},
     "output_type": "execute_result"
    }
   ],
   "source": [
    "# To verify that the flags are being correctly created\n",
    "df[[\"Insulin\", \"Insulin_missing\"]].head(10)"
   ]
  },
  {
   "cell_type": "markdown",
   "id": "60bb13d2",
   "metadata": {},
   "source": [
    "### 3.3 Replacing Zeros with NaN"
   ]
  },
  {
   "cell_type": "code",
   "execution_count": 7,
   "id": "c6d20e62",
   "metadata": {},
   "outputs": [],
   "source": [
    "# Replace 0s with NaN\n",
    "df[zero_as_missing] = df[zero_as_missing].replace(0,np.nan)"
   ]
  },
  {
   "cell_type": "code",
   "execution_count": 8,
   "id": "1d79b8e3",
   "metadata": {},
   "outputs": [
    {
     "name": "stdout",
     "output_type": "stream",
     "text": [
      "This is the missing values existing in specified columns:\n"
     ]
    },
    {
     "data": {
      "text/plain": [
       "Glucose            5\n",
       "BloodPressure     35\n",
       "SkinThickness    227\n",
       "Insulin          374\n",
       "BMI               11\n",
       "dtype: int64"
      ]
     },
     "execution_count": 8,
     "metadata": {},
     "output_type": "execute_result"
    }
   ],
   "source": [
    "# To confirm how many missing values exist in each column\n",
    "print(\"This is the missing values existing in specified columns:\")\n",
    "df[zero_as_missing].isnull().sum()"
   ]
  },
  {
   "cell_type": "markdown",
   "id": "46f4d743",
   "metadata": {},
   "source": [
    "### 3.4 Applying Iterative Imputer (Multivariate Imputation by Chained Equations [MICE])"
   ]
  },
  {
   "cell_type": "markdown",
   "id": "2f0630ef",
   "metadata": {},
   "source": [
    "Iterative Imputer fills in missing values by modeling each feature with missing values as a function of the other features. It's based on Multiple Imputation by Chained Equations (MICE).\n",
    "\n",
    "So instead of guessing missing values with a mean or median, it:\n",
    "\n",
    "1. Picks one feature with missing values.\n",
    "\n",
    "2. Predicts those missing values using a regression model trained on the other columns.\n",
    "\n",
    "3. Repeats this process for each feature with missing values, in a cycle, until the values stabilize.\n",
    "\n",
    "This method preserves relationships between variables, which is critical in medical and clinical datasets."
   ]
  },
  {
   "cell_type": "code",
   "execution_count": null,
   "id": "7b8482f0",
   "metadata": {},
   "outputs": [],
   "source": [
    "# Separating target from features\n",
    "X = df.drop(columns= \"Outcome\")\n",
    "y = df[\"Outcome\"]"
   ]
  },
  {
   "cell_type": "code",
   "execution_count": null,
   "id": "317a81c6",
   "metadata": {},
   "outputs": [],
   "source": [
    "# Applying Iterative Imputer\n",
    "imputer = IterativeImputer(random_state=0)\n",
    "X_imputed = pd.DataFrame(imputer.fit_transform(X), columns=X.columns)"
   ]
  },
  {
   "cell_type": "code",
   "execution_count": null,
   "id": "03a83c7a",
   "metadata": {},
   "outputs": [],
   "source": [
    "# Ensuring all NaNs are gone and imputation worked\n",
    "print(X_imputed.isnull().sum())"
   ]
  },
  {
   "cell_type": "markdown",
   "id": "31580bb1",
   "metadata": {},
   "source": [
    "### 3.5 Comparison of Values Before and After"
   ]
  },
  {
   "cell_type": "code",
   "execution_count": null,
   "id": "ee948e02",
   "metadata": {},
   "outputs": [],
   "source": [
    "# Reprinting columns where 0 is likely a missing value\n",
    "zero_as_missing = [\"Glucose\", \"BloodPressure\", \"SkinThickness\", \"Insulin\", \"BMI\"]\n",
    "print (f\"These features should not be zero for real patients:{zero_as_missing}\")"
   ]
  },
  {
   "cell_type": "markdown",
   "id": "74908946",
   "metadata": {},
   "source": [
    "#### 3.5.1 Glucose Comparison"
   ]
  },
  {
   "cell_type": "code",
   "execution_count": null,
   "id": "efc2bf04",
   "metadata": {},
   "outputs": [],
   "source": [
    "# Comparing values before and after for Glucose\n",
    "\n",
    "# Get the describe() outputs\n",
    "before_desc_glucose = df[\"Glucose\"].describe()\n",
    "after_desc_glucose = X_imputed[\"Glucose\"].describe()\n",
    "\n",
    "# Combine into a DataFrame\n",
    "glucose_comparison = pd.DataFrame({\n",
    "    \"Metric\": before_desc_glucose.index,\n",
    "    \"Before Imputation\": before_desc_glucose.values,\n",
    "    \"After Imputation\": after_desc_glucose.values\n",
    "})\n",
    "\n",
    "# Display as a table\n",
    "glucose_comparison"
   ]
  },
  {
   "cell_type": "markdown",
   "id": "16c856ff",
   "metadata": {},
   "source": [
    "#### 3.5.2 Blood Pressure Comparison"
   ]
  },
  {
   "cell_type": "code",
   "execution_count": null,
   "id": "b51b5bee",
   "metadata": {},
   "outputs": [],
   "source": [
    "# Comparing values before and after for Blood Pressure\n",
    "\n",
    "# Get the describe() outputs\n",
    "before_desc_BloodPressure = df[\"BloodPressure\"].describe()\n",
    "after_desc_BloodPressure = X_imputed[\"BloodPressure\"].describe()\n",
    "\n",
    "# Combine into a DataFrame\n",
    "BloodPressure_comparison = pd.DataFrame({\n",
    "    \"Metric\": before_desc_BloodPressure.index,\n",
    "    \"Before Imputation\": before_desc_BloodPressure.values,\n",
    "    \"After Imputation\": after_desc_BloodPressure.values\n",
    "})\n",
    "\n",
    "# Display as a table\n",
    "BloodPressure_comparison"
   ]
  },
  {
   "cell_type": "markdown",
   "id": "79e991a8",
   "metadata": {},
   "source": [
    "#### 3.5.3 Skin Thickness"
   ]
  },
  {
   "cell_type": "code",
   "execution_count": null,
   "id": "dbd618aa",
   "metadata": {},
   "outputs": [],
   "source": [
    "# Comparing values before and after for Skin Thickness\n",
    "\n",
    "# Get the describe() outputs\n",
    "before_desc_SkinThickness = df[\"SkinThickness\"].describe()\n",
    "after_desc_SkinThickness = X_imputed[\"SkinThickness\"].describe()\n",
    "\n",
    "# Combine into a DataFrame\n",
    "SkinThickness_comparison = pd.DataFrame({\n",
    "    \"Metric\": before_desc_SkinThickness.index,\n",
    "    \"Before Imputation\": before_desc_SkinThickness.values,\n",
    "    \"After Imputation\": after_desc_SkinThickness.values\n",
    "})\n",
    "\n",
    "# Display as a table\n",
    "SkinThickness_comparison"
   ]
  },
  {
   "cell_type": "markdown",
   "id": "f7899e20",
   "metadata": {},
   "source": [
    "#### 3.5.4 Insulin Comparison"
   ]
  },
  {
   "cell_type": "code",
   "execution_count": null,
   "id": "57d10efd",
   "metadata": {},
   "outputs": [],
   "source": [
    "# Comparing values before and after for Insulin\n",
    "\n",
    "# Get the describe() outputs\n",
    "before_desc_insulin = df[\"Insulin\"].describe()\n",
    "after_desc_insulin = X_imputed[\"Insulin\"].describe()\n",
    "\n",
    "# Combine into a DataFrame\n",
    "insulin_comparison = pd.DataFrame({\n",
    "    \"Metric\": before_desc_insulin.index,\n",
    "    \"Before Imputation\": before_desc_insulin.values,\n",
    "    \"After Imputation\": after_desc_insulin.values\n",
    "})\n",
    "\n",
    "# Display as a table\n",
    "insulin_comparison"
   ]
  },
  {
   "cell_type": "markdown",
   "id": "8c4f3cd0",
   "metadata": {},
   "source": [
    "All descriptive statistics are similar except **min** whose after imputation value is negative, which is not physiologically valid for Insulin.\n",
    "\n",
    "To fix this, we will clip negative values to a realistic minimum"
   ]
  },
  {
   "cell_type": "code",
   "execution_count": null,
   "id": "376df833",
   "metadata": {},
   "outputs": [],
   "source": [
    "# Clipping insulin negative values to a realistic minimum of 14\n",
    "X_imputed['Insulin'] = X_imputed['Insulin'].clip(lower=14)"
   ]
  },
  {
   "cell_type": "markdown",
   "id": "007c496b",
   "metadata": {},
   "source": [
    "##### 3.5.4.1 Updated Insulin Comparison"
   ]
  },
  {
   "cell_type": "code",
   "execution_count": null,
   "id": "98310f68",
   "metadata": {},
   "outputs": [],
   "source": [
    "# Get updated describe() output\n",
    "after_clipping_desc_insulin = X_imputed[\"Insulin\"].describe()\n",
    "\n",
    "# Re-create the comparison table\n",
    "insulin_comparison_clipped = pd.DataFrame({\n",
    "    \"Metric\": before_desc_insulin.index,\n",
    "    \"Before Imputation\": before_desc_insulin.values,\n",
    "    \"After Imputation & Clipping\": after_clipping_desc_insulin.values\n",
    "})\n",
    "\n",
    "# Display the new comparison table\n",
    "insulin_comparison_clipped"
   ]
  },
  {
   "cell_type": "markdown",
   "id": "a1c95f93",
   "metadata": {},
   "source": [
    "#### 3.5.5 Body Mass Index (BMI) Comparison"
   ]
  },
  {
   "cell_type": "code",
   "execution_count": null,
   "id": "bd46394e",
   "metadata": {},
   "outputs": [],
   "source": [
    "# Get the describe() outputs\n",
    "before_desc_BMI = df[\"BMI\"].describe()\n",
    "after_desc_BMI = X_imputed[\"BMI\"].describe()\n",
    "\n",
    "# Combine into a DataFrame\n",
    "BMI_comparison = pd.DataFrame({\n",
    "    \"Metric\": before_desc_BMI.index,\n",
    "    \"Before Imputation\": before_desc_BMI.values,\n",
    "    \"After Imputation\": after_desc_BMI.values\n",
    "})\n",
    "\n",
    "# Display as a table\n",
    "BMI_comparison"
   ]
  },
  {
   "cell_type": "markdown",
   "id": "249cdb51",
   "metadata": {},
   "source": [
    "### 3.6 Combining Imputed Data with Target"
   ]
  },
  {
   "cell_type": "code",
   "execution_count": null,
   "id": "a11e4cce",
   "metadata": {},
   "outputs": [],
   "source": [
    "# Combine Imputed Data with Target\n",
    "df_imputed = X_imputed.copy()\n",
    "df_imputed['Outcome'] = y.values # to ensure proper alignment"
   ]
  },
  {
   "cell_type": "code",
   "execution_count": null,
   "id": "4f36125a",
   "metadata": {},
   "outputs": [],
   "source": [
    "# Confirming combination\n",
    "print(\"Target column added. Final DataFrame shape:\", df_imputed.shape)\n",
    "print(\"Column names:\", df_imputed.columns.tolist())"
   ]
  },
  {
   "cell_type": "code",
   "execution_count": null,
   "id": "cd31fab6",
   "metadata": {},
   "outputs": [],
   "source": [
    "# Ensuring final dataframe is assembled properly\n",
    "print(\"Preview of final dataset:\")\n",
    "df_imputed.head()"
   ]
  },
  {
   "cell_type": "markdown",
   "id": "cfc9fd9a",
   "metadata": {},
   "source": [
    "### 3.7 Final Imputed Dataset"
   ]
  },
  {
   "cell_type": "code",
   "execution_count": null,
   "id": "cd7810df",
   "metadata": {},
   "outputs": [],
   "source": [
    "# Round imputed dataset to 2 decimal places\n",
    "df_imputed = df_imputed.round(2)"
   ]
  },
  {
   "cell_type": "code",
   "execution_count": null,
   "id": "8e253fc1",
   "metadata": {},
   "outputs": [],
   "source": [
    "# Save the imputed dataset\n",
    "df_imputed.to_csv(\"diabetes_imputed.csv\", index=False)\n",
    "print(\"Dataset saved as 'diabetes_imputed.csv'\")"
   ]
  },
  {
   "cell_type": "markdown",
   "id": "986ddbd6",
   "metadata": {},
   "source": [
    "This is the dataset we will be using for our EDA"
   ]
  },
  {
   "cell_type": "markdown",
   "id": "3bb7aaee",
   "metadata": {},
   "source": [
    "###\n",
    "Back to :\n",
    "\n",
    "- [Table of Contents](#table-of-contents)"
   ]
  },
  {
   "cell_type": "markdown",
   "id": "0bc165f7",
   "metadata": {},
   "source": [
    "## **4.0 DATA ANALYSIS**"
   ]
  },
  {
   "cell_type": "markdown",
   "id": "711984dd",
   "metadata": {},
   "source": [
    "### 4.1 EXPLORATIVE DATA ANALYSIS (EDA)"
   ]
  },
  {
   "cell_type": "markdown",
   "id": "e26b6723",
   "metadata": {},
   "source": [
    "#### 4.1.1 Inspection of Imputed dataset"
   ]
  },
  {
   "cell_type": "code",
   "execution_count": null,
   "id": "f4237a75",
   "metadata": {},
   "outputs": [],
   "source": [
    "# Display first 5 rows of dataset\n",
    "df_imputed.head()"
   ]
  },
  {
   "cell_type": "code",
   "execution_count": null,
   "id": "2c0a926f",
   "metadata": {},
   "outputs": [],
   "source": [
    "# Overview of data types and non-null counts\n",
    "df_imputed.info()"
   ]
  },
  {
   "cell_type": "code",
   "execution_count": null,
   "id": "eb05bff4",
   "metadata": {},
   "outputs": [],
   "source": [
    "# Shape\n",
    "print(\"Shape:\", df_imputed.shape)"
   ]
  },
  {
   "cell_type": "markdown",
   "id": "1436f1be",
   "metadata": {},
   "source": [
    "#### 4.1.2 Class Distribution using Countplot\n",
    "Is the dataset balanced?\n",
    "\n",
    "Are there more diabetic or non-diabetic patients?"
   ]
  },
  {
   "cell_type": "code",
   "execution_count": null,
   "id": "88d0a218",
   "metadata": {},
   "outputs": [],
   "source": [
    "# Countplot\n",
    "sns.countplot(x='Outcome', data=df_imputed)\n",
    "plt.title(\"Distribution of Diabetes Outcome\")\n",
    "plt.xlabel(\"Diabetes Status (0 = No, 1 = Yes)\")\n",
    "plt.ylabel(\"Count\")\n",
    "plt.show()"
   ]
  },
  {
   "cell_type": "markdown",
   "id": "8920ce41",
   "metadata": {},
   "source": [
    "**Interpretation**\n",
    "\n",
    "The dataset shows a **class imbalance** in the target variable (Outcome), with more individuals labeled as non-diabetic (Outcome = 0) compared to diabetic (Outcome = 1)."
   ]
  },
  {
   "cell_type": "markdown",
   "id": "04b143af",
   "metadata": {},
   "source": [
    "#### 4.1.3 Pregnancies and Diabetes Risk\n",
    "Effect of number of pregnancies on diabetes outcome."
   ]
  },
  {
   "cell_type": "markdown",
   "id": "e3bc0a49",
   "metadata": {},
   "source": [
    "##### 4.1.3.1 Distribution Plot (Histogram) for Pregnancies"
   ]
  },
  {
   "cell_type": "code",
   "execution_count": null,
   "id": "63fa7f3d",
   "metadata": {},
   "outputs": [],
   "source": [
    "# Histogram\n",
    "plt.figure(figsize=(8,5))\n",
    "sns.histplot(df_imputed['Pregnancies'], kde=True, bins=30)\n",
    "plt.title('Distribution of Pregnancies')\n",
    "plt.xlabel('Number of Pregnancies')\n",
    "plt.ylabel('Count')\n",
    "plt.show()"
   ]
  },
  {
   "cell_type": "markdown",
   "id": "18178425",
   "metadata": {},
   "source": [
    "##### 4.1.3.2 Group Comparison Box Plot (Pregnancies vs Outcome)"
   ]
  },
  {
   "cell_type": "code",
   "execution_count": null,
   "id": "f1ef4772",
   "metadata": {},
   "outputs": [],
   "source": [
    "# Box Plot\n",
    "plt.figure(figsize=(8,5))\n",
    "sns.boxplot(x='Outcome', y='Pregnancies', data=df_imputed)\n",
    "plt.title('Pregnancies by Diabetes Outcome')\n",
    "plt.xlabel('Diabetes Outcome (0=No, 1=Yes)')\n",
    "plt.ylabel('Pregnancies')\n",
    "plt.show()"
   ]
  },
  {
   "cell_type": "markdown",
   "id": "079fba4e",
   "metadata": {},
   "source": [
    "##### 4.1.3.3 Interpretation\n",
    "Pregnancies show a right-skewed distribution with slightly higher counts among diabetics."
   ]
  },
  {
   "cell_type": "markdown",
   "id": "ad916b68",
   "metadata": {},
   "source": [
    "#### 4.1.4 Glucose Level Distribution and Impact\n",
    "Glucose levels and their relationship with diabetes."
   ]
  },
  {
   "cell_type": "markdown",
   "id": "a7847c8b",
   "metadata": {},
   "source": [
    "##### 4.1.4.1 Distribution Plot (Histogram) for Glucose Levels"
   ]
  },
  {
   "cell_type": "code",
   "execution_count": null,
   "id": "d942bd34",
   "metadata": {},
   "outputs": [],
   "source": [
    "# Histogram\n",
    "plt.figure(figsize=(8,5))\n",
    "sns.histplot(df_imputed['Glucose'], kde=True, bins=30)\n",
    "plt.title('Distribution of Glucose Levels')\n",
    "plt.xlabel('Glucose Level')\n",
    "plt.ylabel('Count')\n",
    "plt.show()"
   ]
  },
  {
   "cell_type": "markdown",
   "id": "b04c7b8b",
   "metadata": {},
   "source": [
    "##### 4.1.4.2 Group Comparison Box Plot (Glucose vs Outcome)"
   ]
  },
  {
   "cell_type": "code",
   "execution_count": null,
   "id": "41ebc7fa",
   "metadata": {},
   "outputs": [],
   "source": [
    "# Box Plot\n",
    "plt.figure(figsize=(8,5))\n",
    "sns.boxplot(x='Outcome', y='Glucose', data=df_imputed)\n",
    "plt.title('Glucosw by Diabetes Outcome')\n",
    "plt.xlabel('Diabetes Outcome (0=No, 1=Yes)')\n",
    "plt.ylabel('Glucose')\n",
    "plt.show()"
   ]
  },
  {
   "cell_type": "markdown",
   "id": "00541ffe",
   "metadata": {},
   "source": [
    "##### 4.1.4.3 Interpretation\n",
    "Glucose has visibly higher distributions among diabetic patients."
   ]
  },
  {
   "cell_type": "markdown",
   "id": "f0e83a7f",
   "metadata": {},
   "source": [
    "#### 4.1.5 Blood Pressure and Diabetes Association\n",
    "Blood pressure patterns and relationship with diabetes."
   ]
  },
  {
   "cell_type": "markdown",
   "id": "ed49ac0c",
   "metadata": {},
   "source": [
    "##### 4.1.5.1 Distribution Plot (Histogram) for Blood Pressure"
   ]
  },
  {
   "cell_type": "code",
   "execution_count": null,
   "id": "2c2d0c86",
   "metadata": {},
   "outputs": [],
   "source": [
    "# Histogram\n",
    "plt.figure(figsize=(8,5))\n",
    "sns.histplot(df_imputed['BloodPressure'], kde=True, bins=30)\n",
    "plt.title('Distribution of Blood Pressure')\n",
    "plt.xlabel('Blood Pressure (mm/Hg)')\n",
    "plt.ylabel('Count')\n",
    "plt.show()"
   ]
  },
  {
   "cell_type": "markdown",
   "id": "7e0e02ce",
   "metadata": {},
   "source": [
    "##### 4.1.5.2 Group Comparison Box Plot (Blood Pressure vs Outcome)"
   ]
  },
  {
   "cell_type": "code",
   "execution_count": null,
   "id": "41c63ea6",
   "metadata": {},
   "outputs": [],
   "source": [
    "# Box Plot\n",
    "plt.figure(figsize=(8,5))\n",
    "sns.boxplot(x='Outcome', y='BloodPressure', data=df_imputed)\n",
    "plt.title('Blood Pressure by Diabetes Outcome')\n",
    "plt.xlabel('Diabetes Outcome (0=No, 1=Yes)')\n",
    "plt.ylabel('Blood Pressure')\n",
    "plt.show()"
   ]
  },
  {
   "cell_type": "markdown",
   "id": "276f87db",
   "metadata": {},
   "source": [
    "##### 4.1.5.3 Interpretation\n",
    "Blood Pressure has overlapping distributions across classes, suggesting weaker predictive power."
   ]
  },
  {
   "cell_type": "markdown",
   "id": "8a6b9363",
   "metadata": {},
   "source": [
    "#### 4.1.6 Skin Thickness and Diabetes\n",
    "Skin thickness measurements in diabetic vs. non-diabetic groups."
   ]
  },
  {
   "cell_type": "markdown",
   "id": "10174b40",
   "metadata": {},
   "source": [
    "##### 4.1.6.1 Distribution Plot (Histogram) for Skin Thickness"
   ]
  },
  {
   "cell_type": "code",
   "execution_count": null,
   "id": "b6b86770",
   "metadata": {},
   "outputs": [],
   "source": [
    "# Histogram\n",
    "plt.figure(figsize=(8,5))\n",
    "sns.histplot(df_imputed['SkinThickness'], kde=True, bins=30)\n",
    "plt.title('Distribution of Skin Thickness')\n",
    "plt.xlabel('Skin Thickness')\n",
    "plt.ylabel('Count')\n",
    "plt.show()"
   ]
  },
  {
   "cell_type": "markdown",
   "id": "5d7069e5",
   "metadata": {},
   "source": [
    "##### 4.1.6.2 Group Comparison Box Plot (Skin Thickness vs Outcome)"
   ]
  },
  {
   "cell_type": "code",
   "execution_count": null,
   "id": "4b052231",
   "metadata": {},
   "outputs": [],
   "source": [
    "# Box Plot\n",
    "plt.figure(figsize=(8,5))\n",
    "sns.boxplot(x='Outcome', y='SkinThickness', data=df_imputed)\n",
    "plt.title('Skin Thickness by Diabetes Outcome')\n",
    "plt.xlabel('Diabetes Outcome (0=No, 1=Yes)')\n",
    "plt.ylabel('Skin Thickness')\n",
    "plt.show()"
   ]
  },
  {
   "cell_type": "markdown",
   "id": "7fe83d71",
   "metadata": {},
   "source": [
    "##### 4.1.6.3 Interpretation\n",
    "Skin Thickness has overlapping distributions across classes, suggesting weaker predictive power."
   ]
  },
  {
   "cell_type": "markdown",
   "id": "9d1fe2e1",
   "metadata": {},
   "source": [
    "#### 4.1.7 Insulin Levels and Impact on Diabetes"
   ]
  },
  {
   "cell_type": "markdown",
   "id": "3268b27d",
   "metadata": {},
   "source": [
    "##### 4.1.7.1 Distribution Plot (Histogram) for Insulin Levels"
   ]
  },
  {
   "cell_type": "code",
   "execution_count": null,
   "id": "2c37625f",
   "metadata": {},
   "outputs": [],
   "source": [
    "# Histogram\n",
    "plt.figure(figsize=(8,5))\n",
    "sns.histplot(df_imputed['Insulin'], kde=True, bins=30)\n",
    "plt.title('Distribution of Insulin Levels')\n",
    "plt.xlabel('Insulin Levels')\n",
    "plt.ylabel('Count')\n",
    "plt.show()"
   ]
  },
  {
   "cell_type": "markdown",
   "id": "66ad533d",
   "metadata": {},
   "source": [
    "##### 4.1.7.2 Group Comparison Box Plot (Insulin vs Outcome)"
   ]
  },
  {
   "cell_type": "code",
   "execution_count": null,
   "id": "0c7cab30",
   "metadata": {},
   "outputs": [],
   "source": [
    "# Box Plot\n",
    "plt.figure(figsize=(8,5))\n",
    "sns.boxplot(x='Outcome', y='Insulin', data=df_imputed)\n",
    "plt.title('Insulin by Diabetes Outcome')\n",
    "plt.xlabel('Diabetes Outcome (0=No, 1=Yes)')\n",
    "plt.ylabel('Insulin')\n",
    "plt.show()"
   ]
  },
  {
   "cell_type": "markdown",
   "id": "0320e373",
   "metadata": {},
   "source": [
    "##### 4.1.7.3 Interpretation\n",
    "Insulin shows a right-skewed distribution, suggesting that while most individuals have moderate insulin levels, a few have extremely high values. It also show shifts between diabetic and non-diabetic groups."
   ]
  },
  {
   "cell_type": "markdown",
   "id": "d19478b9",
   "metadata": {},
   "source": [
    "#### 4.1.8 Body Mass Index (BMI) and Diabetes\n",
    "BMI’s influence on diabetes risk."
   ]
  },
  {
   "cell_type": "markdown",
   "id": "3a0e849b",
   "metadata": {},
   "source": [
    "##### 4.1.8.1 Distribution Plot (Histogram) for BMI"
   ]
  },
  {
   "cell_type": "code",
   "execution_count": null,
   "id": "5d5aebb0",
   "metadata": {},
   "outputs": [],
   "source": [
    "# Histogram\n",
    "plt.figure(figsize=(8,5))\n",
    "sns.histplot(df_imputed['BMI'], kde=True, bins=30)\n",
    "plt.title('Distribution of BMI')\n",
    "plt.xlabel('BMI')\n",
    "plt.ylabel('Count')\n",
    "plt.show()"
   ]
  },
  {
   "cell_type": "markdown",
   "id": "921314d7",
   "metadata": {},
   "source": [
    "##### 4.1.8.2 Group Comparison Box Plot (BMI vs Outcome)"
   ]
  },
  {
   "cell_type": "code",
   "execution_count": null,
   "id": "c2a98fda",
   "metadata": {},
   "outputs": [],
   "source": [
    "# Box Plot\n",
    "plt.figure(figsize=(8,5))\n",
    "sns.boxplot(x='Outcome', y='BMI', data=df_imputed)\n",
    "plt.title('BMI by Diabetes Outcome')\n",
    "plt.xlabel('Diabetes Outcome (0=No, 1=Yes)')\n",
    "plt.ylabel('BMI')\n",
    "plt.show()"
   ]
  },
  {
   "cell_type": "markdown",
   "id": "e5965ea7",
   "metadata": {},
   "source": [
    "##### 4.1.8.3 Interpretation\n",
    "BMI has visibly higher distributions among diabetic patients."
   ]
  },
  {
   "cell_type": "markdown",
   "id": "3f218ac4",
   "metadata": {},
   "source": [
    "#### 4.1.9 Diabetes Pedigree Function (Genetic Risk)\n",
    "Genetic predisposition to diabetes through pedigree function."
   ]
  },
  {
   "cell_type": "markdown",
   "id": "00eade68",
   "metadata": {},
   "source": [
    "##### 4.1.9.1 Distribution Plot (Histogram) for Diabetes Pedigree Function"
   ]
  },
  {
   "cell_type": "code",
   "execution_count": null,
   "id": "d057b008",
   "metadata": {},
   "outputs": [],
   "source": [
    "# Histogram\n",
    "plt.figure(figsize=(8,5))\n",
    "sns.histplot(df_imputed['DiabetesPedigreeFunction'], kde=True, bins=30)\n",
    "plt.title('Distribution of Diabetes Pedigree Function')\n",
    "plt.xlabel('Diabetes Pedigree Function')\n",
    "plt.ylabel('Count')\n",
    "plt.show()"
   ]
  },
  {
   "cell_type": "markdown",
   "id": "833e5306",
   "metadata": {},
   "source": [
    "##### 4.1.9.2 Group Comparison Box Plot (Diabetes Pedigree Function vs Outcome)"
   ]
  },
  {
   "cell_type": "code",
   "execution_count": null,
   "id": "f4efa371",
   "metadata": {},
   "outputs": [],
   "source": [
    "# Box Plot\n",
    "plt.figure(figsize=(8,5))\n",
    "sns.boxplot(x='Outcome', y='DiabetesPedigreeFunction', data=df_imputed)\n",
    "plt.title('Diabetes Pedigree Function by Diabetes Outcome')\n",
    "plt.xlabel('Diabetes Outcome (0=No, 1=Yes)')\n",
    "plt.ylabel('Diabetes Pedigree Function')\n",
    "plt.show()"
   ]
  },
  {
   "cell_type": "markdown",
   "id": "4fae470b",
   "metadata": {},
   "source": [
    "##### 4.1.9.3 Interpretation\n",
    "Diabetes Pedigree Function (DPF) shows shifts between diabetic and non-diabetic groups."
   ]
  },
  {
   "cell_type": "markdown",
   "id": "8391d0ac",
   "metadata": {},
   "source": [
    "#### 4.1.10 Age Distribution and Diabetes Prevalence\n",
    "Age-related trends in diabetes occurrence."
   ]
  },
  {
   "cell_type": "markdown",
   "id": "bc00ae4a",
   "metadata": {},
   "source": [
    "##### 4.1.10.1 Distribution Plot (Histogram) for Age"
   ]
  },
  {
   "cell_type": "code",
   "execution_count": null,
   "id": "aabb3137",
   "metadata": {},
   "outputs": [],
   "source": [
    "# Histogram\n",
    "plt.figure(figsize=(8,5))\n",
    "sns.histplot(df_imputed['Age'], kde=True, bins=30)\n",
    "plt.title('Distribution of Age')\n",
    "plt.xlabel('Age')\n",
    "plt.ylabel('Count')\n",
    "plt.show()"
   ]
  },
  {
   "cell_type": "markdown",
   "id": "53201b51",
   "metadata": {},
   "source": [
    "##### 4.1.10.2 Group Comparison Box Plot (Age vs Outcome)"
   ]
  },
  {
   "cell_type": "code",
   "execution_count": null,
   "id": "068961d6",
   "metadata": {},
   "outputs": [],
   "source": [
    "# Box Plot\n",
    "plt.figure(figsize=(8,5))\n",
    "sns.boxplot(x='Outcome', y='Age', data=df_imputed)\n",
    "plt.title('Age by Diabetes Outcome')\n",
    "plt.xlabel('Diabetes Outcome (0=No, 1=Yes)')\n",
    "plt.ylabel('Age')\n",
    "plt.show()"
   ]
  },
  {
   "cell_type": "markdown",
   "id": "2899dbae",
   "metadata": {},
   "source": [
    "##### 4.1.10.3 Interpretation\n",
    "Age shows shifts between diabetic and non-diabetic groups."
   ]
  },
  {
   "cell_type": "markdown",
   "id": "11c490f5",
   "metadata": {},
   "source": [
    "#### 4.1.11 Correlation Matrix and Multicollinearity Check"
   ]
  },
  {
   "cell_type": "markdown",
   "id": "b03599ef",
   "metadata": {},
   "source": [
    "##### 4.1.11.1 Correlation Matrix demonstrated using Heatmap"
   ]
  },
  {
   "cell_type": "code",
   "execution_count": null,
   "id": "ec91a843",
   "metadata": {},
   "outputs": [],
   "source": [
    "# Select numeric columns\n",
    "columns = ['Pregnancies', 'Glucose', 'BloodPressure', 'BMI', 'Age',\n",
    "           'Insulin', 'SkinThickness', 'DiabetesPedigreeFunction', 'Outcome']\n",
    "\n",
    "# Compute Spearman correlation matrix\n",
    "corr_matrix = df_imputed[columns].corr(method='spearman')\n",
    "\n",
    "# Create the heatmap\n",
    "plt.figure(figsize=(10, 8))\n",
    "sns.heatmap(corr_matrix, annot=True, cmap='coolwarm', center=0, linewidths=0.5)\n",
    "plt.title('Correlation Heatmap of Diabetes Dataset')\n",
    "plt.show()\n"
   ]
  },
  {
   "cell_type": "markdown",
   "id": "90bf99c7",
   "metadata": {},
   "source": [
    "**Intepretation**\n",
    "\n",
    "The strongest positive correlation is between glucose and insulin levels.\n",
    "\n",
    "Glucose has the strongest positive correlation with Outcome.\n",
    "\n",
    "BMI and SkinThickness correlation indicate a strong positive linear relationship.\n",
    "\n",
    "Pregnancies and Age correlation indicates a moderate to strong postive linear relationship.\n",
    "\n",
    "DPF may show weak-to-moderate correlation but still contributes."
   ]
  },
  {
   "cell_type": "markdown",
   "id": "da916038",
   "metadata": {},
   "source": [
    "##### 4.1.11.2 Multicollinearity Check using Variance Inflation Factor (VIF)\n",
    "VIF does quantitative measure of multicollinearity"
   ]
  },
  {
   "cell_type": "code",
   "execution_count": null,
   "id": "bbedb3aa",
   "metadata": {},
   "outputs": [],
   "source": [
    "features = ['Pregnancies', 'Glucose', 'BloodPressure', 'BMI', 'Age', 'Insulin', 'SkinThickness', 'DiabetesPedigreeFunction']\n",
    "\n",
    "X = df_imputed[features]\n",
    "X_const = sm.add_constant(X)\n",
    "\n",
    "vif_data = pd.DataFrame()\n",
    "vif_data['feature'] = X.columns\n",
    "vif_data['VIF'] = [variance_inflation_factor(X_const.values, i+1) for i in range(len(X.columns))]\n",
    "\n",
    "vif_data"
   ]
  },
  {
   "cell_type": "markdown",
   "id": "c4f62c08",
   "metadata": {},
   "source": [
    "**Interpretation**\n",
    "\n",
    "All VIF values are well below 5, which is commonly used as a threshold for concern.\n",
    "\n",
    "This means multicollinearity is not a serious problem in this dataset.\n",
    "\n",
    "All features can be safely kept in the classification model to be built without worrying about multicollinearity inflating variances."
   ]
  },
  {
   "cell_type": "markdown",
   "id": "6438bd39",
   "metadata": {},
   "source": [
    "#### 4.1.12 Key Findings from EDA"
   ]
  },
  {
   "cell_type": "markdown",
   "id": "20c3a225",
   "metadata": {},
   "source": [
    "##### 1. Glucose\n",
    "Patients with diabetes have **significantly higher glucose levels**, as shown by histograms and boxplots.\n",
    "Glucose also shows one of the **strongest positive correlations with the Outcome variable**. Higher glucose levels are **strongly associated** with diabetic cases. It is a **key predictor of diabetes risk** and should be prioritized in model development.\n",
    "##### 2. BMI (Body Mass Index)\n",
    "Diabetic patients tend to have a **higher BMI distribution** compared to non-diabetics. Boxplots indicate a clear upward shift in BMI for the diabetic group. This supports the established medical link between **obesity and diabetes**. Higher BMI correlates with increased diabetes risk, as obesity is a **known contributor** to insulin resistance.\n",
    "##### 3. Insulin\n",
    "The insulin levels of diabetics are **more varied and generally higher**.\n",
    "Some imputed values exist, but the trend remains visible.\n",
    "Though slightly less correlated to the outcome variable than glucose or BMI, insulin still adds **predictive value**.\n",
    "##### 4. Age\n",
    "The average age of diabetic patients is higher, and age has a **moderate correlation** with the diabetes outcome.\n",
    "This implies that **increasing age is associated with increased risk**. Older age groups show higher diabetes incidence, likely due to cumulative metabolic stress and declining insulin sensitivity.\n",
    "##### 5. Diabetes Pedigree Function (DPF)\n",
    "Diabetics exhibit **higher DPF values**.\n",
    "While its correlation with Outcome is weaker than glucose or BMI, it still contributes to **risk profiling based on family history**, highlighting the role of heredity.\n",
    "##### 6. Pregnancies\n",
    "The variable is skewed, with a long tail, but still shows potential as a **contributing feature**, especially in this female-only dataset. Higher pregnancy counts correlate with increased diabetes risk, potentially due to gestational diabetes history or metabolic changes post-pregnancy.\n",
    "##### 7. Skin Thickness & Blood Pressure\n",
    "These features showed **less distinct separation** between diabetic and non-diabetic groups in boxplots.\n",
    "They may carry **limited individual predictive power**, but could still add value in combination with stronger predictors.\n",
    "**Higher skinfold thickness** (a proxy for body fat) correlates with **insulin resistance** and **diabetes risk**.\n",
    "##### 8. Correlation of Insulin and Glucose\n",
    "There is a **strong positive correlation** between glucose and insulin levels. Correlation heatmap shows that as glucose levels increase, insulin levels tend to increase as well. This relationship is expected, as insulin is the hormone responsible for lowering blood glucose, and higher glucose often triggers higher insulin production (unless insulin resistance or deficiency is present).\n",
    "##### 9. Correlation between BMI and Skin Thickness\n",
    "There is a **strong positive linear relationship** between BMI and skin thickness. This suggests that individuals with **higher BMI** tend to have **thicker skinfolds**, which aligns with the fact that both are **indicators of body fat**. Both BMI and SkinThickness are **biologically relevant** to **diabetes risk** (they relate to body fat and insulin resistance), so including them can improve model accuracy.\n",
    "##### 10. Correlation between Pregnancies and Age\n",
    "There is a **moderate to strong positive linear relationship** between age and the number of pregnancies. Older individuals tend to report more pregnancies, which is logically expected due to increased reproductive time. Both features are **logically linked to diabetes risk** — age is a major risk factor, and number of pregnancies (especially gestational diabetes) is also relevant.\n",
    "##### 11. Multicollinearity (VIF Analysis)\n",
    "All features had **VIF < 5**, indicating **no problematic multicollinearity**.\n",
    "This means the features are not redundant and can be **safely included together** in the model.\n",
    "##### 12. Outcome\n",
    "There is **class imbalance**. The dataset is skewed: 500 non-diabetic (Class 0) vs. 268 diabetic (Class 1) cases. This imbalance may affect model accuracy if unaddressed."
   ]
  },
  {
   "cell_type": "markdown",
   "id": "e3ffb748",
   "metadata": {},
   "source": [
    "### 4.2 DESCRIPTIVE STATISTICS"
   ]
  },
  {
   "cell_type": "markdown",
   "id": "bb6ed258",
   "metadata": {},
   "source": [
    "#### 4.2.1 Overall Descriptive Analysis"
   ]
  },
  {
   "cell_type": "code",
   "execution_count": null,
   "id": "895edf73",
   "metadata": {},
   "outputs": [],
   "source": [
    "features = [\"Pregnancies\", \"BloodPressure\", \"SkinThickness\", \n",
    "            \"Glucose\", \"Insulin\", \"BMI\", \"DiabetesPedigreeFunction\", \"Age\"]\n",
    "\n",
    "# Get the descriptive stats\n",
    "combined_desc = df_imputed[features].describe().round(2).transpose()\n",
    "\n",
    "# Display the table\n",
    "print(\"\\nOverall Descriptive Analysis:\")\n",
    "combined_desc"
   ]
  },
  {
   "cell_type": "markdown",
   "id": "b856b9d9",
   "metadata": {},
   "source": [
    "#### 4.2.2 Descriptive Analysis based on Diabetic Status"
   ]
  },
  {
   "cell_type": "code",
   "execution_count": null,
   "id": "b072b783",
   "metadata": {},
   "outputs": [],
   "source": [
    "# Step 1: Define the features to analyze\n",
    "features = [\"Pregnancies\", \"BloodPressure\", \"SkinThickness\", \n",
    "            \"Glucose\", \"Insulin\", \"BMI\", \"DiabetesPedigreeFunction\", \"Age\"]\n",
    "\n",
    "# Step 2: Compute grouped descriptive statistics by Outcome\n",
    "grouped_desc = df_imputed.groupby(\"Outcome\")[features].describe().round(2)\n",
    "\n",
    "# Step 3: For Non-Diabetics (Outcome = 0)\n",
    "non_diabetic_desc = grouped_desc.loc[0].T.reset_index()\n",
    "non_diabetic_desc.columns = ['Feature', 'Statistic', 'Value']\n",
    "non_diabetic_table = non_diabetic_desc.pivot(index='Feature', columns='Statistic', values='Value').reset_index()\n",
    "non_diabetic_table = non_diabetic_table.round(2)\n",
    "\n",
    "# Step 4: For Diabetics (Outcome = 1)\n",
    "diabetic_desc = grouped_desc.loc[1].T.reset_index()\n",
    "diabetic_desc.columns = ['Feature', 'Statistic', 'Value']\n",
    "diabetic_table = diabetic_desc.pivot(index='Feature', columns='Statistic', values='Value').reset_index()\n",
    "diabetic_table = diabetic_table.round(2)\n",
    "\n",
    "# Step 5: Print both tables\n",
    "print(\"Descriptive Statistics for Non-Diabetics:\")\n",
    "non_diabetic_table\n",
    "\n",
    "print(\"\\nDescriptive Statistics for Diabetics:\")\n",
    "diabetic_table"
   ]
  },
  {
   "cell_type": "markdown",
   "id": "19a8611b",
   "metadata": {},
   "source": [
    "#### 4.2.3 Save Descriptive Statistics into Excel Workbook"
   ]
  },
  {
   "cell_type": "code",
   "execution_count": null,
   "id": "fd29409e",
   "metadata": {},
   "outputs": [],
   "source": [
    "with pd.ExcelWriter(\"diabetes_descriptive_stats.xlsx\") as writer:\n",
    "    combined_desc.to_excel(writer, sheet_name=\"Overall Descriptive Analysis\", index=False)\n",
    "    non_diabetic_table.to_excel(writer, sheet_name=\"Non-Diabetics\", index=False)\n",
    "    diabetic_table.to_excel(writer, sheet_name=\"Diabetics\", index=False)\n",
    "\n",
    "print(\"Dataset saved as 'diabetes_descriptive_stats.xlsx'\")"
   ]
  },
  {
   "cell_type": "markdown",
   "id": "a6f27f37",
   "metadata": {},
   "source": [
    "#### 4.2.4 Key Findings from Descriptive Statistics"
   ]
  },
  {
   "cell_type": "markdown",
   "id": "07cd07b5",
   "metadata": {},
   "source": [
    "##### 1. Glucose Levels\n",
    "Diabetic patients have a **significantly higher mean glucose** (approx. 141 mg/dL) than non-diabetics (approx. 110 mg/dL).\n",
    "This confirms that **glucose is a strong predictor** of diabetes.\n",
    "##### 2. Insulin Levels\n",
    "Though there are missing/imputed values, the **mean insulin** level is higher in diabetics.\n",
    "There's also **greater variance** in insulin values among diabetics, suggesting that abnormal insulin response is a factor.\n",
    "##### 3. BMI (Body Mass Index)\n",
    "Diabetics tend to have **higher average BMI** than non-diabetics.\n",
    "This supports the known link between obesity and diabetes risk.\n",
    "##### 4. Age\n",
    "The average age of diabetics is **significantly higher** than non-diabetics.\n",
    "This indicates increasing age is associated with greater diabetes risk.\n",
    "##### 5. Diabetes Pedigree Function (DPF)\n",
    "Diabetics show a **higher average DPF**, suggesting **family history is also a contributing factor**.\n",
    "##### 6. Other Features (like Pregnancies, Blood Pressure, Skin Thickness)\n",
    "Some differences exist but are **less distinct** than glucose or BMI.\n",
    "They may contribute moderately to prediction but likely **less influential individually**."
   ]
  },
  {
   "cell_type": "markdown",
   "id": "c80f7141",
   "metadata": {},
   "source": [
    "### 4.3 INFERENTIAL STATISTICS"
   ]
  },
  {
   "cell_type": "markdown",
   "id": "990ce64a",
   "metadata": {},
   "source": [
    "#### 4.3.1 Grouping Pregnancy and Age columns"
   ]
  },
  {
   "cell_type": "code",
   "execution_count": null,
   "id": "5e68e0e2",
   "metadata": {},
   "outputs": [],
   "source": [
    "# Group Age into categories\n",
    "def age_group(age):\n",
    "    if age < 30:\n",
    "        return \"Young\"\n",
    "    elif 30 <= age <= 50:\n",
    "        return \"Middle-aged\"\n",
    "    else:\n",
    "        return \"Old\"\n",
    "df_imputed['AgeGroup'] = df_imputed['Age'].apply(age_group)\n",
    "\n",
    "# Group Pregnancies into categories\n",
    "def pregnancy_group(preg):\n",
    "    if preg == 0:\n",
    "        return \"None\"\n",
    "    elif preg == 1:\n",
    "        return \"Low\"\n",
    "    elif 2<= preg <= 4:\n",
    "        return \"Medium\"\n",
    "    else:\n",
    "        return \"High\"\n",
    "\n",
    "df_imputed['PregnancyGroup'] = df_imputed['Pregnancies'].apply(pregnancy_group)\n",
    "\n",
    "df_imputed[['Pregnancies', 'PregnancyGroup', 'Age', 'AgeGroup']].head()"
   ]
  },
  {
   "cell_type": "markdown",
   "id": "bb8695bb",
   "metadata": {},
   "source": [
    "#### 4.3.2 Hypothesis Testing"
   ]
  },
  {
   "cell_type": "markdown",
   "id": "1ccfc325",
   "metadata": {},
   "source": [
    "##### 4.3.2.1 Mean Glucose (Diabetic vs Non-Diabetic)"
   ]
  },
  {
   "cell_type": "markdown",
   "id": "96f64450",
   "metadata": {},
   "source": [
    "The goal is to compare the glucose mean across the 2 groups (diabetic and non-diabetic) and see if there's a difference\n",
    "\n",
    "null hypothesis: There is no significant difference in the glucose mean across the 2 groups.\n",
    "\n",
    "alternative hypothesis: There is a significant difference in the glucose mean across the 2 groups\n",
    "\n",
    "Decision rule: Reject null hypothesis if p-value is lesser than the significant level."
   ]
  },
  {
   "cell_type": "code",
   "execution_count": null,
   "id": "8237c225",
   "metadata": {},
   "outputs": [],
   "source": [
    "# At 95% level of significance\n",
    "glucose1 = df_imputed[df_imputed['Outcome'] == 1]['Glucose']\n",
    "glucose2 = df_imputed[df_imputed['Outcome'] == 0]['Glucose']\n",
    "\n",
    "# Using t-test because it's between 2 groups\n",
    "t_stat_glucose, p_val_glucose = ttest_ind(glucose1, glucose2)\n",
    "print(f\"The T-test result for glucose includes: t-statistic= {t_stat_glucose} and the p-value= {p_val_glucose}.\")\n",
    "\n",
    "if p_val_glucose < 0.05: # level of significance\n",
    "    print(\"Reject the null hypothesis. \\nThere is a significant difference in the glucose mean across the 2 groups\")\n",
    "else:\n",
    "    print(\"Fail to reject the null hypothesis. \\nThere is no significant difference in the glucose mean across the 2 groups\")"
   ]
  },
  {
   "cell_type": "markdown",
   "id": "24af6be7",
   "metadata": {},
   "source": [
    "##### 4.3.2.2 Mean Insulin (Diabetic vs Non-Diabetic)\n"
   ]
  },
  {
   "cell_type": "markdown",
   "id": "36d19d90",
   "metadata": {},
   "source": [
    "The goal is to compare the insulin mean across the 2 groups (diabetic and non-diabetic) and see if there's a difference\n",
    "\n",
    "null hypothesis: There is no significant difference in the insulin mean across the 2 groups.\n",
    "\n",
    "alternative hypothesis: There is a significant difference in the insulin mean across the 2 groups\n",
    "\n",
    "Decision rule: Reject null hypothesis if p-value is lesser than the significant level."
   ]
  },
  {
   "cell_type": "code",
   "execution_count": null,
   "id": "6d8d9255",
   "metadata": {},
   "outputs": [],
   "source": [
    "# At 95% level of significance\n",
    "insulin1 = df_imputed[df_imputed['Outcome'] == 1]['Insulin']\n",
    "insulin2 = df_imputed[df_imputed['Outcome'] == 0]['Insulin']\n",
    "\n",
    "# Using t-test because it's between 2 groups\n",
    "t_stat_insulin, p_val_insulin = ttest_ind(insulin1, insulin2)\n",
    "print(f\"The T-test result for insulin includes: t-statistic= {t_stat_insulin} and the p-value= {p_val_insulin}.\")\n",
    "\n",
    "if p_val_insulin < 0.05: # level of significance\n",
    "    print(\"Reject the null hypothesis. \\nThere is a significant difference in the insulin mean across the 2 groups\")\n",
    "else:\n",
    "    print(\"Fail to reject the null hypothesis. \\nThere is no significant difference in the insulin mean across the 2 groups\")"
   ]
  },
  {
   "cell_type": "markdown",
   "id": "17a832ef",
   "metadata": {},
   "source": [
    "##### 4.3.2.3 Mean BloodPressure (Diabetic vs Non-Diabetic)"
   ]
  },
  {
   "cell_type": "markdown",
   "id": "1904e5fb",
   "metadata": {},
   "source": [
    "The goal is to compare the bloodpressure mean across the 2 groups (diabetic and non-diabetic) and see if there's a difference\n",
    "\n",
    "null hypothesis: There is no significant difference in the bloodpressure mean across the 2 groups.\n",
    "\n",
    "alternative hypothesis: There is a significant difference in the bloodpressure mean across the 2 groups\n",
    "\n",
    "Decision rule: Reject null hypothesis if p-value is lesser than the significant level."
   ]
  },
  {
   "cell_type": "code",
   "execution_count": null,
   "id": "28592df8",
   "metadata": {},
   "outputs": [],
   "source": [
    "# At 95% level of significance\n",
    "bp1 = df_imputed[df_imputed['Outcome'] == 1]['BloodPressure']\n",
    "bp2 = df_imputed[df_imputed['Outcome'] == 0]['BloodPressure']\n",
    "\n",
    "# Using t-test because it's between 2 groups\n",
    "t_stat_bp, p_val_bp = ttest_ind(bp1, bp2)\n",
    "print(f\"The T-test result for bloodpressure includes: t-statistic= {t_stat_bp} and the p-value= {p_val_bp}.\")\n",
    "\n",
    "if p_val_bp < 0.05: # level of significance\n",
    "    print(\"Reject the null hypothesis. \\nThere is a significant difference in the bloodpressure mean across the 2 groups\")\n",
    "else:\n",
    "    print(\"Fail to reject the null hypothesis. \\nThere is no significant difference in the bloodpressure mean across the 2 groups\")"
   ]
  },
  {
   "cell_type": "markdown",
   "id": "b703850b",
   "metadata": {},
   "source": [
    "##### 4.3.2.4 Mean DiabetesPedigreeFunction (Diabetic vs Non-Diabetic)"
   ]
  },
  {
   "cell_type": "markdown",
   "id": "cb3ff8be",
   "metadata": {},
   "source": [
    "The goal is to compare the DiabetesPedigreeFunction mean across the 2 groups (diabetic and non-diabetic) and see if there's a difference\n",
    "\n",
    "null hypothesis: There is no significant difference in the DiabetesPedigreeFunction mean across the 2 groups.\n",
    "\n",
    "alternative hypothesis: There is a significant difference in the DiabetesPedigreeFunction mean across the 2 groups\n",
    "\n",
    "Decision rule: Reject null hypothesis if p-value is lesser than the significant level."
   ]
  },
  {
   "cell_type": "code",
   "execution_count": null,
   "id": "83afdc71",
   "metadata": {},
   "outputs": [],
   "source": [
    "# At 95% level of significance\n",
    "DPF1 = df_imputed[df_imputed['Outcome'] == 1]['DiabetesPedigreeFunction']\n",
    "DPF2 = df_imputed[df_imputed['Outcome'] == 0]['DiabetesPedigreeFunction']\n",
    "\n",
    "# Using t-test because it's between 2 groups\n",
    "t_stat_DPF, p_val_DPF = ttest_ind(DPF1, DPF2)\n",
    "print(f\"The T-test result for DiabetesPedigreeFunction includes: t-statistic= {t_stat_DPF} and the p-value= {p_val_DPF}.\")\n",
    "\n",
    "if p_val_DPF < 0.05: # level of significance\n",
    "    print(\"Reject the null hypothesis. \\nThere is a significant difference in the DiabetesPedigreeFunction mean across the 2 groups\")\n",
    "else:\n",
    "    print(\"Fail to reject the null hypothesis. \\nThere is no significant difference in the DiabetesPedigreeFunction mean across the 2 groups\")"
   ]
  },
  {
   "cell_type": "markdown",
   "id": "95daffee",
   "metadata": {},
   "source": [
    "##### 4.3.2.5 Mean BMI across age groups"
   ]
  },
  {
   "cell_type": "markdown",
   "id": "043cd3c4",
   "metadata": {},
   "source": [
    "The goal is to see if the BMI mean across the different age groups(Youth-Old) differ.\n",
    "\n",
    "null hypothesis: BMI mean is equal across age groups\n",
    "\n",
    "alternative hypothesis: At least one age group has a BMI mean different from the others.\n",
    "\n",
    "Decision rule: Reject null hypothesis if p-value is lesser than the significant level."
   ]
  },
  {
   "cell_type": "code",
   "execution_count": null,
   "id": "5cc99745",
   "metadata": {},
   "outputs": [],
   "source": [
    "# At 95% significant level\n",
    "BMI_young = df_imputed[df_imputed['AgeGroup'] == 'Young']['BMI']\n",
    "BMI_middle_aged = df_imputed[df_imputed['AgeGroup'] == 'Middle-aged']['BMI']\n",
    "BMI_old = df_imputed[df_imputed['AgeGroup'] == 'Old']['BMI']\n",
    "\n",
    "# Using ANOVA because the groups are more than 2\n",
    "f_stat_BMI, p_val_BMI = f_oneway(BMI_young, BMI_middle_aged, BMI_old)\n",
    "print(f\"ANOVA result for BMI: F-statistic= {f_stat_BMI} and p-value= {p_val_BMI}\")\n",
    "\n",
    "if p_val_BMI < 0.05: # level of significance\n",
    "    print(\"Reject the null hypothesis. \\nAt least one age group BMI mean differs from the others\")\n",
    "else:\n",
    "    print(\"Fail to reject the null hypothesis. \\nBMI mean is not equal across the age groups\")"
   ]
  },
  {
   "cell_type": "markdown",
   "id": "b2b9ac4d",
   "metadata": {},
   "source": [
    "##### 4.3.2.6 Mean BloodPressure across age groups"
   ]
  },
  {
   "cell_type": "markdown",
   "id": "02654f91",
   "metadata": {},
   "source": [
    "The goal is to see if the mean bloodpressure across the different age groups(Youth-Old) are differ.\n",
    "\n",
    "null hypothesis: Bloodpressure mean is equal across age groups\n",
    "\n",
    "alternative hypothesis: At least one age group has a BloodPressure mean different from the others.\n",
    "\n",
    "Decision rule: Reject null hypothesis if p-value is lesser than the significant level."
   ]
  },
  {
   "cell_type": "code",
   "execution_count": null,
   "id": "581db8bc",
   "metadata": {},
   "outputs": [],
   "source": [
    "# At 95% significant level\n",
    "bp_young = df_imputed[df_imputed['AgeGroup'] == 'Young']['BloodPressure']\n",
    "bp_middle_aged = df_imputed[df_imputed['AgeGroup'] == 'Middle-aged']['BloodPressure']\n",
    "bp_old = df_imputed[df_imputed['AgeGroup'] == 'Old']['BloodPressure']\n",
    "\n",
    "# Using ANOVA because the groups are more than 2\n",
    "f_stat_BP, p_val_BP = f_oneway(bp_young, bp_middle_aged, bp_old)\n",
    "print(f\"ANOVA result for BloodPressure: F-statistic= {f_stat_BP} and p-value= {p_val_BP}\")\n",
    "\n",
    "if p_val_BP < 0.05: # level of significance\n",
    "    print(\"Reject the null hypothesis. \\nAt least one age group BloodPressure mean differs from the others\")\n",
    "else:\n",
    "    print(\"Fail to reject the null hypothesis. \\nBloodPressure mean is not equal across the age groups\")"
   ]
  },
  {
   "cell_type": "markdown",
   "id": "7eba5efe",
   "metadata": {},
   "source": [
    "##### 4.3.2.7 Mean SkinThickness across pregnancy groups"
   ]
  },
  {
   "cell_type": "markdown",
   "id": "0fe9775b",
   "metadata": {},
   "source": [
    "The goal is to see if the mean skinthickness across the different pregnancy groups(none-high) are equal.\n",
    "\n",
    "null hypothesis: Skinthickness mean is equal across pregnancy groups\n",
    "\n",
    "alternative hypothesis: At least one pregnancy group has a SkinThickness mean different from the others.\n",
    "\n",
    "Decision rule: Reject null hypothesis if p-value is lesser than the significant level."
   ]
  },
  {
   "cell_type": "code",
   "execution_count": null,
   "id": "dd00ce07",
   "metadata": {},
   "outputs": [],
   "source": [
    "# At 95% significant level\n",
    "skinthickness_none = df_imputed[df_imputed['PregnancyGroup'] == 'None']['SkinThickness']\n",
    "skinthickness_low = df_imputed[df_imputed['PregnancyGroup'] == 'Low']['SkinThickness']\n",
    "skinthickness_medium = df_imputed[df_imputed['PregnancyGroup'] == 'Medium']['SkinThickness']\n",
    "skinthickness_high = df_imputed[df_imputed['PregnancyGroup'] == 'High']['SkinThickness']\n",
    "\n",
    "# Using ANOVA because the groups are more than 2\n",
    "f_stat_skinThi, p_val_skinThi = f_oneway(skinthickness_none, skinthickness_low, skinthickness_medium, skinthickness_high)\n",
    "print(f\"ANOVA result for SkinThickness: F-statistic= {f_stat_skinThi} and p-value= {p_val_skinThi}\")\n",
    "\n",
    "if p_val_skinThi < 0.05: # level of significance\n",
    "    print(\"Reject the null hypothesis. \\nAt least one pregnancy group SkinThickness mean differs from the others\")\n",
    "else:\n",
    "    print(\"Fail to reject the null hypothesis. \\nSkinThickness mean is not equal across the pregnancy groups\")"
   ]
  },
  {
   "cell_type": "markdown",
   "id": "de29802f",
   "metadata": {},
   "source": [
    "##### 4.3.2.8 Mean Glucose across pregnancy groups"
   ]
  },
  {
   "cell_type": "markdown",
   "id": "046bd42f",
   "metadata": {},
   "source": [
    "The goal is to see if the mean glucose across the different pregnancy groups(none-high) are equal.\n",
    "\n",
    "null hypothesis: Glucose mean is equal across pregnancy groups\n",
    "\n",
    "alternative hypothesis: At least one pregnancy group has a Glucose mean different from the others.\n",
    "\n",
    "Decision rule: Reject null hypothesis if p-value is lesser than the significant level."
   ]
  },
  {
   "cell_type": "code",
   "execution_count": null,
   "id": "839ab0d9",
   "metadata": {},
   "outputs": [],
   "source": [
    "# At 95% significant level\n",
    "glucose_none = df_imputed[df_imputed['PregnancyGroup'] == 'None']['Glucose']\n",
    "glucose_low = df_imputed[df_imputed['PregnancyGroup'] == 'Low']['Glucose']\n",
    "glucose_medium = df_imputed[df_imputed['PregnancyGroup'] == 'Medium']['Glucose']\n",
    "glucose_high = df_imputed[df_imputed['PregnancyGroup'] == 'High']['Glucose']\n",
    "\n",
    "# Using ANOVA because the groups are more than 2\n",
    "f_stat_gluc, p_val_gluc = f_oneway(glucose_none, glucose_low, glucose_medium, glucose_high)\n",
    "print(f\"ANOVA result for Glucose: F-statistic= {f_stat_gluc} and p-value= {p_val_gluc}\")\n",
    "\n",
    "if p_val_gluc < 0.05: # level of significance\n",
    "    print(\"Reject the null hypothesis. \\nAt least one pregnancy group Glucose mean differs from the others\")\n",
    "else:\n",
    "    print(\"Fail to reject the null hypothesis. \\nGlucose mean is not equal across the pregnancy groups\")"
   ]
  },
  {
   "cell_type": "markdown",
   "id": "e8bd0890",
   "metadata": {},
   "source": [
    "##### 4.3.2.9 Mean BloodPressure across pregnancy groups"
   ]
  },
  {
   "cell_type": "markdown",
   "id": "f41056ae",
   "metadata": {},
   "source": [
    "The goal is to see if the mean bloodpressure across the different pregnancy groups(none-high) are equal.\n",
    "\n",
    "null hypothesis: BloodPressure mean is equal across pregnancy groups\n",
    "\n",
    "alternative hypothesis: At least one pregnancy group has a BloodPressure mean different from the others.\n",
    "\n",
    "Decision rule: Reject null hypothesis if p-value is lesser than the significant level."
   ]
  },
  {
   "cell_type": "code",
   "execution_count": null,
   "id": "a11b1184",
   "metadata": {},
   "outputs": [],
   "source": [
    "# At 95% significant level\n",
    "BP_none = df_imputed[df_imputed['PregnancyGroup'] == 'None']['BloodPressure']\n",
    "BP_low = df_imputed[df_imputed['PregnancyGroup'] == 'Low']['BloodPressure']\n",
    "BP_medium = df_imputed[df_imputed['PregnancyGroup'] == 'Medium']['BloodPressure']\n",
    "BP_high = df_imputed[df_imputed['PregnancyGroup'] == 'High']['BloodPressure']\n",
    "\n",
    "# Using ANOVA because the groups are more than 2\n",
    "f_stat_bloodP, p_val_bloodP = f_oneway(BP_none, BP_low, BP_medium, BP_high)\n",
    "print(f\"ANOVA result for BloodPressure: F-statistic= {f_stat_bloodP} and p-value= {p_val_bloodP}\")\n",
    "\n",
    "if p_val_gluc < 0.05: # level of significance\n",
    "    print(\"Reject the null hypothesis. \\nAt least one pregnancy group BloodPressure mean differs from the others\")\n",
    "else:\n",
    "    print(\"Fail to reject the null hypothesis. \\nBloodPressure mean is not equal across the pregnancy groups\")"
   ]
  },
  {
   "cell_type": "markdown",
   "id": "fa9b344a",
   "metadata": {},
   "source": [
    "#### 4.3.3 Test of Independence"
   ]
  },
  {
   "cell_type": "markdown",
   "id": "c978e3ee",
   "metadata": {},
   "source": [
    "##### 4.3.3.1 AgeGroup and Outcome"
   ]
  },
  {
   "cell_type": "markdown",
   "id": "06c6eaa6",
   "metadata": {},
   "source": [
    "The goal is to test if the 2 categorical variables are independent.\n",
    "\n",
    "null hypothesis: AgeGroup and Outcome are independent\n",
    "\n",
    "alternative hypothesis: AgeGroup and Outcome are dependent\n",
    "\n",
    "Decision rule: Reject null hypothesis if p-value is lesser than the significant level."
   ]
  },
  {
   "cell_type": "code",
   "execution_count": null,
   "id": "2b2517a0",
   "metadata": {},
   "outputs": [],
   "source": [
    "# Cross-tab for AgeGroup vs Outcome\n",
    "contingency_ageGroup = pd.crosstab(df_imputed['AgeGroup'], df_imputed['Outcome'])\n",
    "\n",
    "# At 95% level of confidence\n",
    "chi2_age, p_age, dof_age, expected_age = chi2_contingency(contingency_ageGroup)\n",
    "print(\"Chi-square test result:\", chi2_age, p_age)\n",
    "\n",
    "if p_age < 0.05: # level of significance\n",
    "    print(\"Reject the null hypothesis. \\nAgeGroup and Outcome are dependent\")\n",
    "else:\n",
    "    print(\"Fail to reject the null hypothesis. \\nAgeGroup and Outcome are independent\")"
   ]
  },
  {
   "cell_type": "markdown",
   "id": "423058e9",
   "metadata": {},
   "source": [
    "##### 4.3.3.2 PregnancyGroup and Outcome"
   ]
  },
  {
   "cell_type": "markdown",
   "id": "4a61ca7f",
   "metadata": {},
   "source": [
    "The goal is to test if the 2 categorical variables are independent.\n",
    "\n",
    "null hypothesis: PregnancyGroup and Outcome are independent\n",
    "\n",
    "alternative hypothesis: PregnancyGroup and Outcome are dependent\n",
    "\n",
    "Decision rule: Reject null hypothesis if p-value is lesser than the significant level."
   ]
  },
  {
   "cell_type": "code",
   "execution_count": null,
   "id": "386b0aac",
   "metadata": {},
   "outputs": [],
   "source": [
    "# Cross-tab for PregnancyGroup vs Outcome\n",
    "contingency_pregnancyGroup = pd.crosstab(df_imputed['PregnancyGroup'], df_imputed['Outcome'])\n",
    "\n",
    "# At 95% level of confidence\n",
    "chi2_pregnancy, p_pregnancy, dof_pregnancy, expected_pregnancy = chi2_contingency(contingency_ageGroup)\n",
    "print(\"Chi-square test result:\", chi2_pregnancy, p_pregnancy)\n",
    "\n",
    "if p_pregnancy < 0.05: # level of significance\n",
    "    print(\"Reject the null hypothesis. \\nPregnancyGroup and Outcome are dependent\")\n",
    "else:\n",
    "    print(\"Fail to reject the null hypothesis. \\nPregnancyGroup and Outcome are independent\")"
   ]
  },
  {
   "cell_type": "markdown",
   "id": "f5045168",
   "metadata": {},
   "source": [
    "#### 4.3.4 Key Findings from Inferential Statistics"
   ]
  },
  {
   "cell_type": "markdown",
   "id": "378e4172",
   "metadata": {},
   "source": [
    "##### 1. Mean Glucose (Diabetic vs Non-Diabetic)\n",
    "We rejected the null hypothesis, concluding that there's a significant difference in the glucose mean across the 2 groups. Therefore, diabetics tend to have higher glucose levels than non-diabetics — a strong indicator that Glucose is a key predictor of diabetes.\n",
    "\n",
    "##### 2. Mean Insulin (Diabetic vs Non-Diabetic)\n",
    "We rejected the null hypothesis, concluding that there's a significant difference in the insulin mean across the 2 groups. Therefore, Insulin levels differ significantly between diabetic and non-diabetic individuals, suggesting insulin could help the model distinguish outcomes.\n",
    "\n",
    "##### 3. Mean Blood Pressure (Diabetic vs Non-Diabetic)\n",
    "We rejected the null hypothesis, concluding that there's a significant difference in the blood pressure mean across the 2 groups. Therefore, BloodPressure may contribute modestly to diabetes classification.\n",
    "\n",
    "##### 4. Mean Diabetes Pedigree Function (Diabetic vs Non-Diabetic)\n",
    "We rejected the null hypothesis, concluding that there's a significant difference in the diabetes pedigree function mean across the 2 groups, Therefore, Family history (DPF) is statistically associated with diabetes status.\n",
    "\n",
    "##### 5. Mean BMI across Age Groups\n",
    "We rejected the null hypothesis, concluding that at least one age group has a BMI mean different from the others. BMI changes across age groups and might suggest that age moderates the effect of BMI on diabetes. It could be useful for model interactions.\n",
    "\n",
    "##### 6. Mean Blood Pressure across Age Groups\n",
    "We rejected the null hypothesis, concluding that at least one age group has a BloodPressure mean different from the others. If BP increases with age, this reflects real-world health patterns and supports age as a strong contextual variable.\n",
    "\n",
    "##### 7. Mean SkinThickness across Pregnancy Groups\n",
    "We rejected the null hypothesis, concluding that at least one pregnancy group has a SkinThickness mean different from the others. It may be worth including as a feature in age-adjusted or pregnancy-adjusted models. This suggests that metabolic changes associated with pregnancy count may influence subcutaneous fat storage, reflected in skin thickness measurements. While skin thickness may not be a direct predictor of diabetes on its own, it could serve as a supporting feature in models when combined with variables like BMI, insulin, or pregnancy count.\n",
    "\n",
    "##### 8. Mean Glucose across Pregnancy Groups\n",
    "We rejected the null hypothesis, concluding that at least one pregnancy group has a glucose mean different from the others. Glucose increases with pregnancy, this supports the idea that higher pregnancies may correlate with higher glucose/diabetes risk.\n",
    "\n",
    "##### 9. Mean BloodPressure across Pregnancy Groups\n",
    "We rejected the null hypothesis, concluding that at least one pregnancy group has a bloodpressure mean different from the others. The difference was statistically significant, this suggests that pregnancy count may influence cardiovascular health, making blood pressure a potentially useful variable in combination with pregnancy-related features.\n",
    "\n",
    "##### 10. AgeGroup and Outcome\n",
    "We rejected the null hypothesis, concluding that AgeGroups and Outcome show a statistically significant association, indicating that the likelihood of having diabetes varies across age groups. Older age groups tended to have a higher proportion of diabetic cases, reflecting known clinical risk patterns. This supports the inclusion of Age or AgeGroup as a predictive feature in the model, either as a continuous variable or a binned categorical one. It may also justify interaction terms with features like BMI or Glucose in more complex models.\n",
    "\n",
    "##### 11. PregnancyGroup and Outcome\n",
    "We rejected the null hypothesis, concluding that PregnancyGroup and Outcome show a significant relationship, suggesting that individuals with higher pregnancy counts are more likely to have diabetes. This pattern aligns with clinical insights about gestational diabetes and metabolic changes with multiple pregnancies. As a result, the PregnancyGroup variable can serve as a useful categorical predictor in classification models. This also highlights the value of binning numerical variables to uncover hidden associations that raw counts might not reveal."
   ]
  },
  {
   "cell_type": "markdown",
   "id": "72b0f014",
   "metadata": {},
   "source": [
    "### 4.4 SUMMARY OF KEY FINDINGS FROM DATA ANALYSIS"
   ]
  },
  {
   "cell_type": "markdown",
   "id": "86aab5ea",
   "metadata": {},
   "source": [
    "**Exploratory data analysis (EDA)** identified Glucose, BMI, Insulin, and Age as the most influential features in assessing diabetes risk. These variables demonstrated distinct distributions across diabetic and non-diabetic groups, with moderate correlations to the diabetes outcome. The absence of multicollinearity (all Variance Inflation Factors below 5) indicates that these features can be reliably incorporated together in predictive classification models. This evidence provides a strong foundation for informed feature selection and enhances model interpretability.\n",
    "\n",
    "**Descriptive statistics** confirmed that individuals with diabetes consistently present higher levels of glucose, BMI, insulin, age, and diabetes pedigree function compared to non-diabetics. These findings are consistent with established medical knowledge, validating the dataset’s reliability and supporting the selection of these variables as key predictors in further modeling efforts.\n",
    "\n",
    "**Inferential statistics** further revealed statistically significant differences between diabetic and non-diabetic groups across multiple clinical and demographic variables. Elevated glucose and insulin levels, alongside differences in blood pressure and family history, underscore their relevance in diabetes classification. Additionally, BMI and blood pressure were shown to vary significantly by age group, suggesting that age moderates their influence on diabetes risk. Pregnancy count was also associated with variations in skin thickness, glucose, and blood pressure, reflecting metabolic and cardiovascular changes linked to pregnancy history. Both age and pregnancy group demonstrated strong associations with diabetes outcomes, reinforcing their importance as predictive features.\n",
    "\n",
    "Together, these insights directly inform feature engineering by highlighting key variables and their interactions —such as **Glucose**, **BMI**, **Insulin**, **Age**, and **Diabetes Pedigree Function** —that should be incorporated or transformed to improve model accuracy. Incorporating these variables and their interactions enables the development of more robust and interpretable classification models, ultimately enhancing diabetes risk prediction and supporting clinical decision-making."
   ]
  },
  {
   "cell_type": "markdown",
   "id": "0d07bb2a",
   "metadata": {},
   "source": [
    "###\n",
    "Back to :\n",
    "\n",
    "- [Table of Contents](#table-of-contents)"
   ]
  },
  {
   "cell_type": "markdown",
   "id": "2f0bab7d",
   "metadata": {},
   "source": [
    "## **5.0 FEATURE ENGINEERING**"
   ]
  },
  {
   "cell_type": "markdown",
   "id": "55366791",
   "metadata": {},
   "source": [
    "### 5.1 Setting the X & y variables"
   ]
  },
  {
   "cell_type": "code",
   "execution_count": null,
   "id": "4dbc640d",
   "metadata": {},
   "outputs": [],
   "source": [
    "# Dropping the columns not to be used\n",
    "X=df_imputed.drop(columns=['Pregnancies', 'Age', 'Outcome', 'Glucose_missing', 'BloodPressure_missing',\n",
    "                          'SkinThickness_missing', 'Insulin_missing', 'BMI_missing'])\n",
    "y=df_imputed['Outcome']"
   ]
  },
  {
   "cell_type": "markdown",
   "id": "f5077d6f",
   "metadata": {},
   "source": [
    "### 5.2 Encoding the Categorical Variables"
   ]
  },
  {
   "cell_type": "code",
   "execution_count": null,
   "id": "13e910aa",
   "metadata": {},
   "outputs": [],
   "source": [
    "# Convert categories into binary\n",
    "X_encoded = pd.get_dummies(X, columns=['AgeGroup', 'PregnancyGroup'], drop_first=True)\n",
    "X_encoded"
   ]
  },
  {
   "cell_type": "markdown",
   "id": "7983202f-27cf-4abb-8165-24c2e8c10523",
   "metadata": {},
   "source": [
    "### 5.3 Train-Test Split (80/20)"
   ]
  },
  {
   "cell_type": "code",
   "execution_count": null,
   "id": "397928f9-7a19-49fc-a3aa-fe484c39c397",
   "metadata": {},
   "outputs": [],
   "source": [
    "# Split data: 80% training, 20% testing\n",
    "X_encoded_train, X_encoded_test, y_train, y_test = train_test_split( X_encoded, y, test_size=0.2, random_state=42, stratify=y)\n",
    "# Check the shape\n",
    "print(\"Training set:\", X_encoded_train.shape, y_train.shape)\n",
    "print(\"Test set:\", X_encoded_test.shape, y_test.shape)"
   ]
  },
  {
   "cell_type": "markdown",
   "id": "a29b0804-5cf9-4f9e-9b86-aceb10b89120",
   "metadata": {},
   "source": [
    "### 5.4 Scaling Numeric Features with StandardScaler"
   ]
  },
  {
   "cell_type": "code",
   "execution_count": null,
   "id": "a9431c0d",
   "metadata": {},
   "outputs": [],
   "source": [
    "# Select only numeric columns from the feature set\n",
    "numeric_cols = [('Glucose', 'BloodPressure', 'SkinThickness', 'Insulin', 'BMI', 'DiabetesPedigreeFunction')]\n",
    "numeric_cols = X_encoded.select_dtypes(include=['number']).columns\n",
    "\n",
    "# to print numeric columns to confirm\n",
    "print(\"Numeric columns:\", numeric_cols)"
   ]
  },
  {
   "cell_type": "code",
   "execution_count": null,
   "id": "956b093c-f54e-4a10-b9e9-bba6cf74739c",
   "metadata": {},
   "outputs": [],
   "source": [
    "# Initialize the scaler\n",
    "scaler = StandardScaler()\n",
    "\n",
    "# Fit on training data and transform both train and test sets\n",
    "X_encoded_train_scaled = X_encoded_train.copy()\n",
    "\n",
    "X_encoded_test_scaled = X_encoded_test.copy()\n",
    "\n",
    "X_encoded_train_scaled[numeric_cols] = scaler.fit_transform(X_encoded_train[numeric_cols])\n",
    "X_encoded_test_scaled[numeric_cols] = scaler.transform(X_encoded_test[numeric_cols])"
   ]
  },
  {
   "cell_type": "code",
   "execution_count": null,
   "id": "a3ad2474-9ea3-43b1-8faa-455910551d82",
   "metadata": {},
   "outputs": [],
   "source": [
    "# Numeric columns of X-Training Data\n",
    "X_encoded_train_scaled[numeric_cols]"
   ]
  },
  {
   "cell_type": "code",
   "execution_count": null,
   "id": "f53ce41b-cfd5-4732-aaac-499571dad087",
   "metadata": {},
   "outputs": [],
   "source": [
    "# Numeric columns of X-Testing Data\n",
    "X_encoded_test_scaled[numeric_cols]"
   ]
  },
  {
   "cell_type": "markdown",
   "id": "75fad1ab",
   "metadata": {},
   "source": [
    "### 5.5 Final Training & Testing Data"
   ]
  },
  {
   "cell_type": "code",
   "execution_count": 50,
   "id": "1dd2586b",
   "metadata": {},
   "outputs": [
    {
     "ename": "NameError",
     "evalue": "name 'X_encoded_train_scaled' is not defined",
     "output_type": "error",
     "traceback": [
      "\u001b[31m---------------------------------------------------------------------------\u001b[39m",
      "\u001b[31mNameError\u001b[39m                                 Traceback (most recent call last)",
      "\u001b[36mCell\u001b[39m\u001b[36m \u001b[39m\u001b[32mIn[50]\u001b[39m\u001b[32m, line 2\u001b[39m\n\u001b[32m      1\u001b[39m \u001b[38;5;66;03m# Full X-training data\u001b[39;00m\n\u001b[32m----> \u001b[39m\u001b[32m2\u001b[39m \u001b[43mX_encoded_train_scaled\u001b[49m\n",
      "\u001b[31mNameError\u001b[39m: name 'X_encoded_train_scaled' is not defined"
     ]
    }
   ],
   "source": [
    "# Full X-training data\n",
    "X_encoded_train_scaled"
   ]
  },
  {
   "cell_type": "code",
   "execution_count": null,
   "id": "0307c497",
   "metadata": {},
   "outputs": [],
   "source": [
    "# Full X-testing data\n",
    "X_encoded_test_scaled"
   ]
  },
  {
   "cell_type": "code",
   "execution_count": 51,
   "id": "4b6386fc",
   "metadata": {},
   "outputs": [
    {
     "ename": "NameError",
     "evalue": "name 'y_train' is not defined",
     "output_type": "error",
     "traceback": [
      "\u001b[31m---------------------------------------------------------------------------\u001b[39m",
      "\u001b[31mNameError\u001b[39m                                 Traceback (most recent call last)",
      "\u001b[36mCell\u001b[39m\u001b[36m \u001b[39m\u001b[32mIn[51]\u001b[39m\u001b[32m, line 2\u001b[39m\n\u001b[32m      1\u001b[39m \u001b[38;5;66;03m# Full y-training data\u001b[39;00m\n\u001b[32m----> \u001b[39m\u001b[32m2\u001b[39m \u001b[43my_train\u001b[49m\n",
      "\u001b[31mNameError\u001b[39m: name 'y_train' is not defined"
     ]
    }
   ],
   "source": [
    "# Full y-training data\n",
    "y_train"
   ]
  },
  {
   "cell_type": "code",
   "execution_count": null,
   "id": "b98dcf30",
   "metadata": {},
   "outputs": [],
   "source": [
    "# Full y-testing data\n",
    "y_test"
   ]
  },
  {
   "cell_type": "markdown",
   "id": "c574679d",
   "metadata": {},
   "source": [
    "These **three classification models** will be built using the above data:\n",
    "\n",
    "1. Logistic Regression (LR)\n",
    "2. Random Forest (RF)\n",
    "3. K-Nearest Neighbours (KNN)"
   ]
  },
  {
   "cell_type": "markdown",
   "id": "be72dd5d",
   "metadata": {},
   "source": [
    "### 5.6 Handling Class Imbalance"
   ]
  },
  {
   "cell_type": "markdown",
   "id": "45198761",
   "metadata": {},
   "source": [
    "#### 5.6.1 For Logistic Regression & Random Forest"
   ]
  },
  {
   "cell_type": "code",
   "execution_count": 52,
   "id": "47ef3148",
   "metadata": {},
   "outputs": [
    {
     "name": "stdout",
     "output_type": "stream",
     "text": [
      "Class distribution before handling (for LR & RF):\n"
     ]
    },
    {
     "ename": "NameError",
     "evalue": "name 'y_train' is not defined",
     "output_type": "error",
     "traceback": [
      "\u001b[31m---------------------------------------------------------------------------\u001b[39m",
      "\u001b[31mNameError\u001b[39m                                 Traceback (most recent call last)",
      "\u001b[36mCell\u001b[39m\u001b[36m \u001b[39m\u001b[32mIn[52]\u001b[39m\u001b[32m, line 3\u001b[39m\n\u001b[32m      1\u001b[39m \u001b[38;5;66;03m# Check original class distribution\u001b[39;00m\n\u001b[32m      2\u001b[39m \u001b[38;5;28mprint\u001b[39m(\u001b[33m\"\u001b[39m\u001b[33mClass distribution before handling (for LR & RF):\u001b[39m\u001b[33m\"\u001b[39m)\n\u001b[32m----> \u001b[39m\u001b[32m3\u001b[39m \u001b[38;5;28mprint\u001b[39m(\u001b[43my_train\u001b[49m.value_counts())\n",
      "\u001b[31mNameError\u001b[39m: name 'y_train' is not defined"
     ]
    }
   ],
   "source": [
    "# Check original class distribution\n",
    "print(\"Class distribution before handling (for LR & RF):\")\n",
    "print(y_train.value_counts())"
   ]
  },
  {
   "cell_type": "code",
   "execution_count": 53,
   "id": "bf374ab8",
   "metadata": {},
   "outputs": [],
   "source": [
    "# Use class_weight = 'balanced' for handling class imbalance\n",
    "class_weight = 'balanced'"
   ]
  },
  {
   "cell_type": "markdown",
   "id": "8f3631e9",
   "metadata": {},
   "source": [
    "#### 5.6.2 Applying SMOTE for KNN"
   ]
  },
  {
   "cell_type": "code",
   "execution_count": 54,
   "id": "63104487",
   "metadata": {},
   "outputs": [
    {
     "name": "stdout",
     "output_type": "stream",
     "text": [
      "Class distribution Before SMOTE:\n"
     ]
    },
    {
     "ename": "NameError",
     "evalue": "name 'y_train' is not defined",
     "output_type": "error",
     "traceback": [
      "\u001b[31m---------------------------------------------------------------------------\u001b[39m",
      "\u001b[31mNameError\u001b[39m                                 Traceback (most recent call last)",
      "\u001b[36mCell\u001b[39m\u001b[36m \u001b[39m\u001b[32mIn[54]\u001b[39m\u001b[32m, line 3\u001b[39m\n\u001b[32m      1\u001b[39m \u001b[38;5;66;03m# Check original class distribution before SMOTE\u001b[39;00m\n\u001b[32m      2\u001b[39m \u001b[38;5;28mprint\u001b[39m(\u001b[33m\"\u001b[39m\u001b[33mClass distribution Before SMOTE:\u001b[39m\u001b[33m\"\u001b[39m)\n\u001b[32m----> \u001b[39m\u001b[32m3\u001b[39m \u001b[38;5;28mprint\u001b[39m(\u001b[43my_train\u001b[49m.value_counts())\n",
      "\u001b[31mNameError\u001b[39m: name 'y_train' is not defined"
     ]
    }
   ],
   "source": [
    "# Check original class distribution before SMOTE\n",
    "print(\"Class distribution Before SMOTE:\")\n",
    "print(y_train.value_counts())"
   ]
  },
  {
   "cell_type": "code",
   "execution_count": 55,
   "id": "5070e433",
   "metadata": {},
   "outputs": [
    {
     "ename": "NameError",
     "evalue": "name 'X_encoded_train_scaled' is not defined",
     "output_type": "error",
     "traceback": [
      "\u001b[31m---------------------------------------------------------------------------\u001b[39m",
      "\u001b[31mNameError\u001b[39m                                 Traceback (most recent call last)",
      "\u001b[36mCell\u001b[39m\u001b[36m \u001b[39m\u001b[32mIn[55]\u001b[39m\u001b[32m, line 3\u001b[39m\n\u001b[32m      1\u001b[39m \u001b[38;5;66;03m# Apply SMOTE only to training set for KNN\u001b[39;00m\n\u001b[32m      2\u001b[39m smote = SMOTE(random_state=\u001b[32m42\u001b[39m)\n\u001b[32m----> \u001b[39m\u001b[32m3\u001b[39m X_knn, y_knn = smote.fit_resample(\u001b[43mX_encoded_train_scaled\u001b[49m, y_train)\n",
      "\u001b[31mNameError\u001b[39m: name 'X_encoded_train_scaled' is not defined"
     ]
    }
   ],
   "source": [
    "# Apply SMOTE only to training set for KNN\n",
    "smote = SMOTE(random_state=42)\n",
    "X_knn, y_knn = smote.fit_resample(X_encoded_train_scaled, y_train)"
   ]
  },
  {
   "cell_type": "code",
   "execution_count": 56,
   "id": "9b69fe78",
   "metadata": {},
   "outputs": [
    {
     "name": "stdout",
     "output_type": "stream",
     "text": [
      "\n",
      "Class distribution After SMOTE:\n"
     ]
    },
    {
     "ename": "NameError",
     "evalue": "name 'y_knn' is not defined",
     "output_type": "error",
     "traceback": [
      "\u001b[31m---------------------------------------------------------------------------\u001b[39m",
      "\u001b[31mNameError\u001b[39m                                 Traceback (most recent call last)",
      "\u001b[36mCell\u001b[39m\u001b[36m \u001b[39m\u001b[32mIn[56]\u001b[39m\u001b[32m, line 3\u001b[39m\n\u001b[32m      1\u001b[39m \u001b[38;5;66;03m# Check class distribution after SMOTE\u001b[39;00m\n\u001b[32m      2\u001b[39m \u001b[38;5;28mprint\u001b[39m(\u001b[33m\"\u001b[39m\u001b[38;5;130;01m\\n\u001b[39;00m\u001b[33mClass distribution After SMOTE:\u001b[39m\u001b[33m\"\u001b[39m)\n\u001b[32m----> \u001b[39m\u001b[32m3\u001b[39m \u001b[38;5;28mprint\u001b[39m(\u001b[43my_knn\u001b[49m.value_counts())\n",
      "\u001b[31mNameError\u001b[39m: name 'y_knn' is not defined"
     ]
    }
   ],
   "source": [
    "# Check class distribution after SMOTE\n",
    "print(\"\\nClass distribution After SMOTE:\")\n",
    "print(y_knn.value_counts())"
   ]
  },
  {
   "cell_type": "markdown",
   "id": "5c6cb564",
   "metadata": {},
   "source": [
    "###\n",
    "Back to :\n",
    "\n",
    "- [Table of Contents](#table-of-contents)"
   ]
  },
  {
   "cell_type": "markdown",
   "id": "d5509f4a",
   "metadata": {},
   "source": [
    "## **6.0 MODEL BUILDING & EVALUATION**"
   ]
  },
  {
   "cell_type": "markdown",
   "id": "192affb9",
   "metadata": {},
   "source": [
    "### 6.1 Baseline Model Training"
   ]
  },
  {
   "cell_type": "code",
   "execution_count": 57,
   "id": "0cca3f21",
   "metadata": {},
   "outputs": [
    {
     "ename": "NameError",
     "evalue": "name 'X_encoded_train_scaled' is not defined",
     "output_type": "error",
     "traceback": [
      "\u001b[31m---------------------------------------------------------------------------\u001b[39m",
      "\u001b[31mNameError\u001b[39m                                 Traceback (most recent call last)",
      "\u001b[36mCell\u001b[39m\u001b[36m \u001b[39m\u001b[32mIn[57]\u001b[39m\u001b[32m, line 3\u001b[39m\n\u001b[32m      1\u001b[39m \u001b[38;5;66;03m# Logistic Regression\u001b[39;00m\n\u001b[32m      2\u001b[39m log_model = LogisticRegression(class_weight=\u001b[33m'\u001b[39m\u001b[33mbalanced\u001b[39m\u001b[33m'\u001b[39m, random_state=\u001b[32m42\u001b[39m)\n\u001b[32m----> \u001b[39m\u001b[32m3\u001b[39m log_model.fit(\u001b[43mX_encoded_train_scaled\u001b[49m, y_train)\n\u001b[32m      4\u001b[39m y_pred_log = log_model.predict(X_encoded_test_scaled)\n",
      "\u001b[31mNameError\u001b[39m: name 'X_encoded_train_scaled' is not defined"
     ]
    }
   ],
   "source": [
    "# Logistic Regression\n",
    "log_model = LogisticRegression(class_weight='balanced', random_state=42)\n",
    "log_model.fit(X_encoded_train_scaled, y_train)\n",
    "y_pred_log = log_model.predict(X_encoded_test_scaled)"
   ]
  },
  {
   "cell_type": "code",
   "execution_count": 58,
   "id": "6f23cfdb",
   "metadata": {},
   "outputs": [
    {
     "ename": "NameError",
     "evalue": "name 'X_encoded_train_scaled' is not defined",
     "output_type": "error",
     "traceback": [
      "\u001b[31m---------------------------------------------------------------------------\u001b[39m",
      "\u001b[31mNameError\u001b[39m                                 Traceback (most recent call last)",
      "\u001b[36mCell\u001b[39m\u001b[36m \u001b[39m\u001b[32mIn[58]\u001b[39m\u001b[32m, line 3\u001b[39m\n\u001b[32m      1\u001b[39m \u001b[38;5;66;03m# Random Forest\u001b[39;00m\n\u001b[32m      2\u001b[39m rf_model = RandomForestClassifier(class_weight=\u001b[33m'\u001b[39m\u001b[33mbalanced\u001b[39m\u001b[33m'\u001b[39m, random_state=\u001b[32m42\u001b[39m)\n\u001b[32m----> \u001b[39m\u001b[32m3\u001b[39m rf_model.fit(\u001b[43mX_encoded_train_scaled\u001b[49m, y_train)\n\u001b[32m      4\u001b[39m y_pred_rf = rf_model.predict(X_encoded_test_scaled)\n",
      "\u001b[31mNameError\u001b[39m: name 'X_encoded_train_scaled' is not defined"
     ]
    }
   ],
   "source": [
    "# Random Forest\n",
    "rf_model = RandomForestClassifier(class_weight='balanced', random_state=42)\n",
    "rf_model.fit(X_encoded_train_scaled, y_train)\n",
    "y_pred_rf = rf_model.predict(X_encoded_test_scaled)"
   ]
  },
  {
   "cell_type": "code",
   "execution_count": 59,
   "id": "92999c84",
   "metadata": {},
   "outputs": [
    {
     "ename": "NameError",
     "evalue": "name 'X_knn' is not defined",
     "output_type": "error",
     "traceback": [
      "\u001b[31m---------------------------------------------------------------------------\u001b[39m",
      "\u001b[31mNameError\u001b[39m                                 Traceback (most recent call last)",
      "\u001b[36mCell\u001b[39m\u001b[36m \u001b[39m\u001b[32mIn[59]\u001b[39m\u001b[32m, line 3\u001b[39m\n\u001b[32m      1\u001b[39m \u001b[38;5;66;03m# K-Nearest Neighbours (KNN)\u001b[39;00m\n\u001b[32m      2\u001b[39m knn_model = KNeighborsClassifier()\n\u001b[32m----> \u001b[39m\u001b[32m3\u001b[39m knn_model.fit(\u001b[43mX_knn\u001b[49m, y_knn)\n\u001b[32m      4\u001b[39m y_pred_knn = knn_model.predict(X_encoded_test_scaled)\n",
      "\u001b[31mNameError\u001b[39m: name 'X_knn' is not defined"
     ]
    }
   ],
   "source": [
    "# K-Nearest Neighbours (KNN)\n",
    "knn_model = KNeighborsClassifier()\n",
    "knn_model.fit(X_knn, y_knn)\n",
    "y_pred_knn = knn_model.predict(X_encoded_test_scaled)"
   ]
  },
  {
   "cell_type": "markdown",
   "id": "e0bdf926",
   "metadata": {},
   "source": [
    "### 6.2 Baseline Model Evaluation"
   ]
  },
  {
   "cell_type": "code",
   "execution_count": 60,
   "id": "ad0bfb11",
   "metadata": {},
   "outputs": [
    {
     "ename": "NameError",
     "evalue": "name 'y_test' is not defined",
     "output_type": "error",
     "traceback": [
      "\u001b[31m---------------------------------------------------------------------------\u001b[39m",
      "\u001b[31mNameError\u001b[39m                                 Traceback (most recent call last)",
      "\u001b[36mCell\u001b[39m\u001b[36m \u001b[39m\u001b[32mIn[60]\u001b[39m\u001b[32m, line 5\u001b[39m\n\u001b[32m      1\u001b[39m \u001b[38;5;66;03m# Evaluating metrics (Recall, F1 Score, ROC AUC)\u001b[39;00m\n\u001b[32m      2\u001b[39m metrics = {\n\u001b[32m      3\u001b[39m     \u001b[33m'\u001b[39m\u001b[33mModel\u001b[39m\u001b[33m'\u001b[39m: [\u001b[33m'\u001b[39m\u001b[33mLogistic Regression\u001b[39m\u001b[33m'\u001b[39m, \u001b[33m'\u001b[39m\u001b[33mRandom Forest\u001b[39m\u001b[33m'\u001b[39m, \u001b[33m'\u001b[39m\u001b[33mKNN\u001b[39m\u001b[33m'\u001b[39m],\n\u001b[32m      4\u001b[39m     \u001b[33m'\u001b[39m\u001b[33mRecall\u001b[39m\u001b[33m'\u001b[39m: [\n\u001b[32m----> \u001b[39m\u001b[32m5\u001b[39m         recall_score(\u001b[43my_test\u001b[49m, y_pred_log),\n\u001b[32m      6\u001b[39m         recall_score(y_test, y_pred_rf),\n\u001b[32m      7\u001b[39m         recall_score(y_test, y_pred_knn)\n\u001b[32m      8\u001b[39m     ],\n\u001b[32m      9\u001b[39m     \u001b[33m'\u001b[39m\u001b[33mF1 Score\u001b[39m\u001b[33m'\u001b[39m: [\n\u001b[32m     10\u001b[39m         f1_score(y_test, y_pred_log),\n\u001b[32m     11\u001b[39m         f1_score(y_test, y_pred_rf),\n\u001b[32m     12\u001b[39m         f1_score(y_test, y_pred_knn)\n\u001b[32m     13\u001b[39m     ],\n\u001b[32m     14\u001b[39m     \u001b[33m'\u001b[39m\u001b[33mROC AUC\u001b[39m\u001b[33m'\u001b[39m: [\n\u001b[32m     15\u001b[39m         roc_auc_score(y_test, log_model.predict_proba(X_encoded_test_scaled)[:, \u001b[32m1\u001b[39m]),\n\u001b[32m     16\u001b[39m         roc_auc_score(y_test, rf_model.predict_proba(X_encoded_test_scaled)[:, \u001b[32m1\u001b[39m]),\n\u001b[32m     17\u001b[39m         roc_auc_score(y_test, knn_model.predict_proba(X_encoded_test_scaled)[:, \u001b[32m1\u001b[39m])\n\u001b[32m     18\u001b[39m     ]\n\u001b[32m     19\u001b[39m }\n",
      "\u001b[31mNameError\u001b[39m: name 'y_test' is not defined"
     ]
    }
   ],
   "source": [
    "# Evaluating metrics (Recall, F1 Score, ROC AUC)\n",
    "metrics = {\n",
    "    'Model': ['Logistic Regression', 'Random Forest', 'KNN'],\n",
    "    'Recall': [\n",
    "        recall_score(y_test, y_pred_log),\n",
    "        recall_score(y_test, y_pred_rf),\n",
    "        recall_score(y_test, y_pred_knn)\n",
    "    ],\n",
    "    'F1 Score': [\n",
    "        f1_score(y_test, y_pred_log),\n",
    "        f1_score(y_test, y_pred_rf),\n",
    "        f1_score(y_test, y_pred_knn)\n",
    "    ],\n",
    "    'ROC AUC': [\n",
    "        roc_auc_score(y_test, log_model.predict_proba(X_encoded_test_scaled)[:, 1]),\n",
    "        roc_auc_score(y_test, rf_model.predict_proba(X_encoded_test_scaled)[:, 1]),\n",
    "        roc_auc_score(y_test, knn_model.predict_proba(X_encoded_test_scaled)[:, 1])\n",
    "    ]\n",
    "}"
   ]
  },
  {
   "cell_type": "code",
   "execution_count": 61,
   "id": "737afced",
   "metadata": {},
   "outputs": [
    {
     "ename": "NameError",
     "evalue": "name 'metrics' is not defined",
     "output_type": "error",
     "traceback": [
      "\u001b[31m---------------------------------------------------------------------------\u001b[39m",
      "\u001b[31mNameError\u001b[39m                                 Traceback (most recent call last)",
      "\u001b[36mCell\u001b[39m\u001b[36m \u001b[39m\u001b[32mIn[61]\u001b[39m\u001b[32m, line 2\u001b[39m\n\u001b[32m      1\u001b[39m \u001b[38;5;66;03m# Evaluation Results\u001b[39;00m\n\u001b[32m----> \u001b[39m\u001b[32m2\u001b[39m results_df = pd.DataFrame(\u001b[43mmetrics\u001b[49m)\n\u001b[32m      3\u001b[39m \u001b[38;5;28mprint\u001b[39m(\u001b[33m\"\u001b[39m\u001b[38;5;130;01m\\n\u001b[39;00m\u001b[33mBaseline Model Performance Comparison:\u001b[39m\u001b[33m\"\u001b[39m)\n\u001b[32m      4\u001b[39m \u001b[38;5;28mprint\u001b[39m(results_df.sort_values(by=\u001b[33m'\u001b[39m\u001b[33mRecall\u001b[39m\u001b[33m'\u001b[39m, ascending=\u001b[38;5;28;01mFalse\u001b[39;00m).to_string(index=\u001b[38;5;28;01mFalse\u001b[39;00m))\n",
      "\u001b[31mNameError\u001b[39m: name 'metrics' is not defined"
     ]
    }
   ],
   "source": [
    "# Evaluation Results\n",
    "results_df = pd.DataFrame(metrics)\n",
    "print(\"\\nBaseline Model Performance Comparison:\")\n",
    "print(results_df.sort_values(by='Recall', ascending=False).to_string(index=False))"
   ]
  },
  {
   "cell_type": "code",
   "execution_count": 62,
   "id": "e1497ac4",
   "metadata": {},
   "outputs": [
    {
     "ename": "NameError",
     "evalue": "name 'results_df' is not defined",
     "output_type": "error",
     "traceback": [
      "\u001b[31m---------------------------------------------------------------------------\u001b[39m",
      "\u001b[31mNameError\u001b[39m                                 Traceback (most recent call last)",
      "\u001b[36mCell\u001b[39m\u001b[36m \u001b[39m\u001b[32mIn[62]\u001b[39m\u001b[32m, line 5\u001b[39m\n\u001b[32m      3\u001b[39m \u001b[38;5;28;01mfor\u001b[39;00m i, metric \u001b[38;5;129;01min\u001b[39;00m \u001b[38;5;28menumerate\u001b[39m([\u001b[33m'\u001b[39m\u001b[33mRecall\u001b[39m\u001b[33m'\u001b[39m, \u001b[33m'\u001b[39m\u001b[33mF1 Score\u001b[39m\u001b[33m'\u001b[39m, \u001b[33m'\u001b[39m\u001b[33mROC AUC\u001b[39m\u001b[33m'\u001b[39m]):\n\u001b[32m      4\u001b[39m     plt.subplot(\u001b[32m1\u001b[39m, \u001b[32m3\u001b[39m, i+\u001b[32m1\u001b[39m)\n\u001b[32m----> \u001b[39m\u001b[32m5\u001b[39m     sns.barplot(data=\u001b[43mresults_df\u001b[49m, x=\u001b[33m'\u001b[39m\u001b[33mModel\u001b[39m\u001b[33m'\u001b[39m, y=metric, hue=\u001b[33m'\u001b[39m\u001b[33mModel\u001b[39m\u001b[33m'\u001b[39m, palette=\u001b[33m'\u001b[39m\u001b[33mSet2\u001b[39m\u001b[33m'\u001b[39m, legend=\u001b[38;5;28;01mFalse\u001b[39;00m)\n\u001b[32m      6\u001b[39m     plt.title(\u001b[33mf\u001b[39m\u001b[33m'\u001b[39m\u001b[33mBaseline \u001b[39m\u001b[38;5;132;01m{\u001b[39;00mmetric\u001b[38;5;132;01m}\u001b[39;00m\u001b[33m'\u001b[39m)\n\u001b[32m      7\u001b[39m     plt.ylim(\u001b[32m0\u001b[39m, \u001b[32m1\u001b[39m)\n",
      "\u001b[31mNameError\u001b[39m: name 'results_df' is not defined"
     ]
    },
    {
     "data": {
      "image/png": "[encoded data removed]",
      "text/plain": [
       "<Figure size 1200x600 with 1 Axes>"
      ]
     },
     "metadata": {},
     "output_type": "display_data"
    }
   ],
   "source": [
    "# Visualising Baseline Metrics Results\n",
    "plt.figure(figsize=(12, 6))\n",
    "for i, metric in enumerate(['Recall', 'F1 Score', 'ROC AUC']):\n",
    "    plt.subplot(1, 3, i+1)\n",
    "    sns.barplot(data=results_df, x='Model', y=metric, hue='Model', palette='Set2', legend=False)\n",
    "    plt.title(f'Baseline {metric}')\n",
    "    plt.ylim(0, 1)\n",
    "    plt.xticks(rotation=20)\n",
    "plt.tight_layout()\n",
    "plt.show()"
   ]
  },
  {
   "cell_type": "markdown",
   "id": "971b0325",
   "metadata": {},
   "source": [
    "### 6.3 Best Model (Based on Metrics)"
   ]
  },
  {
   "cell_type": "code",
   "execution_count": null,
   "id": "c236b5e2-f856-4316-9e07-d02d3fb61b51",
   "metadata": {},
   "outputs": [],
   "source": []
  },
  {
   "cell_type": "markdown",
   "id": "66852117",
   "metadata": {},
   "source": [
    "##\n",
    "Back to :\n",
    "\n",
    "- [Table of Contents](#table-of-contents)\n",
    "\n"
   ]
  }
 ],
 "metadata": {
  "kernelspec": {
   "display_name": "Python 3 (ipykernel)",
   "language": "python",
   "name": "python3"
  },
  "language_info": {
   "codemirror_mode": {
    "name": "ipython",
    "version": 3
   },
   "file_extension": ".py",
   "mimetype": "text/x-python",
   "name": "python",
   "nbconvert_exporter": "python",
   "pygments_lexer": "ipython3",
   "version": "3.12.10"
  }
 },
 "nbformat": 4,
 "nbformat_minor": 5
}
