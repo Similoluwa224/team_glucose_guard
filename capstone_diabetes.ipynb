{
 "cells": [
  {
   "cell_type": "markdown",
   "id": "a7ca0b1c",
   "metadata": {},
   "source": [
    "# CASE STUDY II: HEALTHCARE – EARLY DETECTION OF DIABETES\n",
    "### TEAM GLUCOSE-GUARD DATA SCIENCE CAPSTONE PROJECT"
   ]
  },
  {
   "cell_type": "markdown",
   "id": "4a17c550",
   "metadata": {},
   "source": [
    "## 1.0 INTRODUCTION"
   ]
  },
  {
   "cell_type": "markdown",
   "id": "893342a7",
   "metadata": {},
   "source": [
    "### 1.1 Background  \n",
    "A mobile health clinic aims to pre-screen patients for diabetes using basic health indicators. This initiative seeks to reduce hospital crowding and allow healthcare providers to focus resources on individuals at higher risk of developing diabetes.\n",
    "\n",
    "Using exploratory data analysis (EDA), this project uncovers the key factors that influence the risk of diabetes. Subsequently, classification models are developed to predict whether a person has diabetes based on clinical attributes such as body mass index (BMI), glucose levels, insulin levels, and age."
   ]
  },
  {
   "cell_type": "markdown",
   "id": "565fb849",
   "metadata": {},
   "source": [
    "### 1.2 Objectives\n",
    "1. Perform exploratory data analysis (EDA) to identify factors that greatly influence the risk of diabetes.\n",
    "\n",
    "2. Develop classification models to predict if a person has diabetes based on health attributes like BMI, glucose levels, insulin levels, and age."
   ]
  },
  {
   "cell_type": "markdown",
   "id": "62c61caf",
   "metadata": {},
   "source": [
    "## 2.0 DATA PREPARATION"
   ]
  },
  {
   "cell_type": "markdown",
   "id": "07fe00bd",
   "metadata": {},
   "source": [
    "### 2.1 Importation of Libraries"
   ]
  },
  {
   "cell_type": "code",
   "execution_count": 71,
   "id": "15b04c8c",
   "metadata": {},
   "outputs": [],
   "source": [
    "# Import Libaries\n",
    "\n",
    "## For data cleaning and descriptive statistics\n",
    "import pandas as pd # for data manipulation\n",
    "import numpy as np #for numerical operations\n",
    "from sklearn.experimental import enable_iterative_imputer\n",
    "from sklearn.impute import IterativeImputer # for advanced missing value imputation\n",
    "\n",
    "## For EDA\n",
    "import matplotlib.pyplot as plt # for plotting\n",
    "import seaborn as sns # for advanced plotting\n",
    "from scipy.stats import spearmanr, pearsonr # for correlation analysis\n",
    "from statsmodels.stats.outliers_influence import variance_inflation_factor # to detect multicollinearity\n",
    "import statsmodels.api as sm # to add a constant term (intercept) to the feature matrix\n",
    "sns.set(style='whitegrid') # Set seaborn style\n",
    "\n",
    "## For inferential statistics\n",
    "from scipy.stats import ttest_ind #for hypothesis testing across 2groups\n",
    "from scipy.stats import f_oneway #for hypothesis testing across 3 or more groups\n",
    "from scipy.stats import chi2_contingency #for testing for independence\n",
    "import statsmodels.api as sm #used for anova table\n",
    "from statsmodels.formula.api import ols #create a model and fitting\n",
    "\n",
    "## For feature engineering and model building & evaluation\n",
    "from sklearn.model_selection import train_test_split, GridSearchCV, StratifiedKFold\n",
    "from sklearn.preprocessing import StandardScaler\n",
    "from sklearn.preprocessing import LabelEncoder\n",
    "from sklearn.metrics import (\n",
    "    recall_score, f1_score, roc_auc_score,\n",
    "    confusion_matrix, ConfusionMatrixDisplay\n",
    ")\n",
    "from sklearn.linear_model import LogisticRegression\n",
    "from sklearn.ensemble import RandomForestClassifier\n",
    "from sklearn.neighbors import KNeighborsClassifier\n",
    "from sklearn.model_selection import train_test_split\n",
    "from imblearn.over_sampling import SMOTE\n",
    "import joblib"
   ]
  },
  {
   "cell_type": "markdown",
   "id": "5dae7f27",
   "metadata": {},
   "source": [
    "### 2.2 Loading of Dataset"
   ]
  },
  {
   "cell_type": "code",
   "execution_count": 72,
   "id": "dfa1bde9",
   "metadata": {
    "scrolled": true
   },
   "outputs": [
    {
     "data": {
      "application/vnd.microsoft.datawrangler.viewer.v0+json": {
       "columns": [
        {
         "name": "index",
         "rawType": "int64",
         "type": "integer"
        },
        {
         "name": "Pregnancies",
         "rawType": "int64",
         "type": "integer"
        },
        {
         "name": "Glucose",
         "rawType": "int64",
         "type": "integer"
        },
        {
         "name": "BloodPressure",
         "rawType": "int64",
         "type": "integer"
        },
        {
         "name": "SkinThickness",
         "rawType": "int64",
         "type": "integer"
        },
        {
         "name": "Insulin",
         "rawType": "int64",
         "type": "integer"
        },
        {
         "name": "BMI",
         "rawType": "float64",
         "type": "float"
        },
        {
         "name": "DiabetesPedigreeFunction",
         "rawType": "float64",
         "type": "float"
        },
        {
         "name": "Age",
         "rawType": "int64",
         "type": "integer"
        },
        {
         "name": "Outcome",
         "rawType": "int64",
         "type": "integer"
        }
       ],
       "ref": "d0fb2dad-de27-457d-a7db-dd96c02f8550",
       "rows": [
        [
         "0",
         "6",
         "148",
         "72",
         "35",
         "0",
         "33.6",
         "0.627",
         "50",
         "1"
        ],
        [
         "1",
         "1",
         "85",
         "66",
         "29",
         "0",
         "26.6",
         "0.351",
         "31",
         "0"
        ],
        [
         "2",
         "8",
         "183",
         "64",
         "0",
         "0",
         "23.3",
         "0.672",
         "32",
         "1"
        ],
        [
         "3",
         "1",
         "89",
         "66",
         "23",
         "94",
         "28.1",
         "0.167",
         "21",
         "0"
        ],
        [
         "4",
         "0",
         "137",
         "40",
         "35",
         "168",
         "43.1",
         "2.288",
         "33",
         "1"
        ]
       ],
       "shape": {
        "columns": 9,
        "rows": 5
       }
      },
      "text/html": [
       "<div>\n",
       "<style scoped>\n",
       "    .dataframe tbody tr th:only-of-type {\n",
       "        vertical-align: middle;\n",
       "    }\n",
       "\n",
       "    .dataframe tbody tr th {\n",
       "        vertical-align: top;\n",
       "    }\n",
       "\n",
       "    .dataframe thead th {\n",
       "        text-align: right;\n",
       "    }\n",
       "</style>\n",
       "<table border=\"1\" class=\"dataframe\">\n",
       "  <thead>\n",
       "    <tr style=\"text-align: right;\">\n",
       "      <th></th>\n",
       "      <th>Pregnancies</th>\n",
       "      <th>Glucose</th>\n",
       "      <th>BloodPressure</th>\n",
       "      <th>SkinThickness</th>\n",
       "      <th>Insulin</th>\n",
       "      <th>BMI</th>\n",
       "      <th>DiabetesPedigreeFunction</th>\n",
       "      <th>Age</th>\n",
       "      <th>Outcome</th>\n",
       "    </tr>\n",
       "  </thead>\n",
       "  <tbody>\n",
       "    <tr>\n",
       "      <th>0</th>\n",
       "      <td>6</td>\n",
       "      <td>148</td>\n",
       "      <td>72</td>\n",
       "      <td>35</td>\n",
       "      <td>0</td>\n",
       "      <td>33.6</td>\n",
       "      <td>0.627</td>\n",
       "      <td>50</td>\n",
       "      <td>1</td>\n",
       "    </tr>\n",
       "    <tr>\n",
       "      <th>1</th>\n",
       "      <td>1</td>\n",
       "      <td>85</td>\n",
       "      <td>66</td>\n",
       "      <td>29</td>\n",
       "      <td>0</td>\n",
       "      <td>26.6</td>\n",
       "      <td>0.351</td>\n",
       "      <td>31</td>\n",
       "      <td>0</td>\n",
       "    </tr>\n",
       "    <tr>\n",
       "      <th>2</th>\n",
       "      <td>8</td>\n",
       "      <td>183</td>\n",
       "      <td>64</td>\n",
       "      <td>0</td>\n",
       "      <td>0</td>\n",
       "      <td>23.3</td>\n",
       "      <td>0.672</td>\n",
       "      <td>32</td>\n",
       "      <td>1</td>\n",
       "    </tr>\n",
       "    <tr>\n",
       "      <th>3</th>\n",
       "      <td>1</td>\n",
       "      <td>89</td>\n",
       "      <td>66</td>\n",
       "      <td>23</td>\n",
       "      <td>94</td>\n",
       "      <td>28.1</td>\n",
       "      <td>0.167</td>\n",
       "      <td>21</td>\n",
       "      <td>0</td>\n",
       "    </tr>\n",
       "    <tr>\n",
       "      <th>4</th>\n",
       "      <td>0</td>\n",
       "      <td>137</td>\n",
       "      <td>40</td>\n",
       "      <td>35</td>\n",
       "      <td>168</td>\n",
       "      <td>43.1</td>\n",
       "      <td>2.288</td>\n",
       "      <td>33</td>\n",
       "      <td>1</td>\n",
       "    </tr>\n",
       "  </tbody>\n",
       "</table>\n",
       "</div>"
      ],
      "text/plain": [
       "   Pregnancies  Glucose  BloodPressure  SkinThickness  Insulin   BMI  \\\n",
       "0            6      148             72             35        0  33.6   \n",
       "1            1       85             66             29        0  26.6   \n",
       "2            8      183             64              0        0  23.3   \n",
       "3            1       89             66             23       94  28.1   \n",
       "4            0      137             40             35      168  43.1   \n",
       "\n",
       "   DiabetesPedigreeFunction  Age  Outcome  \n",
       "0                     0.627   50        1  \n",
       "1                     0.351   31        0  \n",
       "2                     0.672   32        1  \n",
       "3                     0.167   21        0  \n",
       "4                     2.288   33        1  "
      ]
     },
     "execution_count": 72,
     "metadata": {},
     "output_type": "execute_result"
    }
   ],
   "source": [
    "# Loading dataset\n",
    "df = pd.read_csv (\"./diabetes.csv\")\n",
    "\n",
    "# Return first 5 rows\n",
    "df.head()"
   ]
  },
  {
   "cell_type": "code",
   "execution_count": 73,
   "id": "a0a8e719",
   "metadata": {},
   "outputs": [
    {
     "name": "stdout",
     "output_type": "stream",
     "text": [
      "<class 'pandas.core.frame.DataFrame'>\n",
      "RangeIndex: 768 entries, 0 to 767\n",
      "Data columns (total 9 columns):\n",
      " #   Column                    Non-Null Count  Dtype  \n",
      "---  ------                    --------------  -----  \n",
      " 0   Pregnancies               768 non-null    int64  \n",
      " 1   Glucose                   768 non-null    int64  \n",
      " 2   BloodPressure             768 non-null    int64  \n",
      " 3   SkinThickness             768 non-null    int64  \n",
      " 4   Insulin                   768 non-null    int64  \n",
      " 5   BMI                       768 non-null    float64\n",
      " 6   DiabetesPedigreeFunction  768 non-null    float64\n",
      " 7   Age                       768 non-null    int64  \n",
      " 8   Outcome                   768 non-null    int64  \n",
      "dtypes: float64(2), int64(7)\n",
      "memory usage: 54.1 KB\n"
     ]
    }
   ],
   "source": [
    "# Summary of dataframe\n",
    "df.info()"
   ]
  },
  {
   "cell_type": "markdown",
   "id": "0f9ec1d3",
   "metadata": {},
   "source": [
    "## 3.0 DATA CLEANING"
   ]
  },
  {
   "cell_type": "markdown",
   "id": "c4e545bb",
   "metadata": {},
   "source": [
    "### 3.1 Identifying columns where zeros are invalid"
   ]
  },
  {
   "cell_type": "code",
   "execution_count": 74,
   "id": "4c70e1f5",
   "metadata": {},
   "outputs": [
    {
     "name": "stdout",
     "output_type": "stream",
     "text": [
      "These features should not be zero for real patients:['Glucose', 'BloodPressure', 'SkinThickness', 'Insulin', 'BMI']\n"
     ]
    }
   ],
   "source": [
    "# Columns where 0 is likely a missing value\n",
    "zero_as_missing = [\"Glucose\", \"BloodPressure\", \"SkinThickness\", \"Insulin\", \"BMI\"]\n",
    "print (f\"These features should not be zero for real patients:{zero_as_missing}\")"
   ]
  },
  {
   "cell_type": "markdown",
   "id": "3b8189a9",
   "metadata": {},
   "source": [
    "### 3.2 Creating Missingness Indicator Flags"
   ]
  },
  {
   "cell_type": "code",
   "execution_count": 75,
   "id": "88419b78",
   "metadata": {},
   "outputs": [],
   "source": [
    "# Adding missingness flags\n",
    "for col in zero_as_missing:\n",
    "    df[col + \"_missing\"] = df [col] == 0"
   ]
  },
  {
   "cell_type": "code",
   "execution_count": 76,
   "id": "99c42970",
   "metadata": {},
   "outputs": [
    {
     "data": {
      "application/vnd.microsoft.datawrangler.viewer.v0+json": {
       "columns": [
        {
         "name": "index",
         "rawType": "int64",
         "type": "integer"
        },
        {
         "name": "Insulin",
         "rawType": "int64",
         "type": "integer"
        },
        {
         "name": "Insulin_missing",
         "rawType": "bool",
         "type": "boolean"
        }
       ],
       "ref": "c7f0753e-4cb4-4e7c-b84f-00139de10a36",
       "rows": [
        [
         "0",
         "0",
         "True"
        ],
        [
         "1",
         "0",
         "True"
        ],
        [
         "2",
         "0",
         "True"
        ],
        [
         "3",
         "94",
         "False"
        ],
        [
         "4",
         "168",
         "False"
        ],
        [
         "5",
         "0",
         "True"
        ],
        [
         "6",
         "88",
         "False"
        ],
        [
         "7",
         "0",
         "True"
        ],
        [
         "8",
         "543",
         "False"
        ],
        [
         "9",
         "0",
         "True"
        ]
       ],
       "shape": {
        "columns": 2,
        "rows": 10
       }
      },
      "text/html": [
       "<div>\n",
       "<style scoped>\n",
       "    .dataframe tbody tr th:only-of-type {\n",
       "        vertical-align: middle;\n",
       "    }\n",
       "\n",
       "    .dataframe tbody tr th {\n",
       "        vertical-align: top;\n",
       "    }\n",
       "\n",
       "    .dataframe thead th {\n",
       "        text-align: right;\n",
       "    }\n",
       "</style>\n",
       "<table border=\"1\" class=\"dataframe\">\n",
       "  <thead>\n",
       "    <tr style=\"text-align: right;\">\n",
       "      <th></th>\n",
       "      <th>Insulin</th>\n",
       "      <th>Insulin_missing</th>\n",
       "    </tr>\n",
       "  </thead>\n",
       "  <tbody>\n",
       "    <tr>\n",
       "      <th>0</th>\n",
       "      <td>0</td>\n",
       "      <td>True</td>\n",
       "    </tr>\n",
       "    <tr>\n",
       "      <th>1</th>\n",
       "      <td>0</td>\n",
       "      <td>True</td>\n",
       "    </tr>\n",
       "    <tr>\n",
       "      <th>2</th>\n",
       "      <td>0</td>\n",
       "      <td>True</td>\n",
       "    </tr>\n",
       "    <tr>\n",
       "      <th>3</th>\n",
       "      <td>94</td>\n",
       "      <td>False</td>\n",
       "    </tr>\n",
       "    <tr>\n",
       "      <th>4</th>\n",
       "      <td>168</td>\n",
       "      <td>False</td>\n",
       "    </tr>\n",
       "    <tr>\n",
       "      <th>5</th>\n",
       "      <td>0</td>\n",
       "      <td>True</td>\n",
       "    </tr>\n",
       "    <tr>\n",
       "      <th>6</th>\n",
       "      <td>88</td>\n",
       "      <td>False</td>\n",
       "    </tr>\n",
       "    <tr>\n",
       "      <th>7</th>\n",
       "      <td>0</td>\n",
       "      <td>True</td>\n",
       "    </tr>\n",
       "    <tr>\n",
       "      <th>8</th>\n",
       "      <td>543</td>\n",
       "      <td>False</td>\n",
       "    </tr>\n",
       "    <tr>\n",
       "      <th>9</th>\n",
       "      <td>0</td>\n",
       "      <td>True</td>\n",
       "    </tr>\n",
       "  </tbody>\n",
       "</table>\n",
       "</div>"
      ],
      "text/plain": [
       "   Insulin  Insulin_missing\n",
       "0        0             True\n",
       "1        0             True\n",
       "2        0             True\n",
       "3       94            False\n",
       "4      168            False\n",
       "5        0             True\n",
       "6       88            False\n",
       "7        0             True\n",
       "8      543            False\n",
       "9        0             True"
      ]
     },
     "execution_count": 76,
     "metadata": {},
     "output_type": "execute_result"
    }
   ],
   "source": [
    "# To verify that the flags are being correctly created\n",
    "df[[\"Insulin\", \"Insulin_missing\"]].head(10)"
   ]
  },
  {
   "cell_type": "markdown",
   "id": "60bb13d2",
   "metadata": {},
   "source": [
    "### 3.3 Replacing Zeros with NaN"
   ]
  },
  {
   "cell_type": "code",
   "execution_count": 77,
   "id": "c6d20e62",
   "metadata": {},
   "outputs": [],
   "source": [
    "# Replace 0s with NaN\n",
    "df[zero_as_missing] = df[zero_as_missing].replace(0,np.nan)"
   ]
  },
  {
   "cell_type": "code",
   "execution_count": 78,
   "id": "1d79b8e3",
   "metadata": {},
   "outputs": [
    {
     "name": "stdout",
     "output_type": "stream",
     "text": [
      "This is the missing values existing in specified columns:\n"
     ]
    },
    {
     "data": {
      "application/vnd.microsoft.datawrangler.viewer.v0+json": {
       "columns": [
        {
         "name": "index",
         "rawType": "object",
         "type": "string"
        },
        {
         "name": "0",
         "rawType": "int64",
         "type": "integer"
        }
       ],
       "ref": "4b0e4c7e-310c-4b87-b277-707fbf07a36a",
       "rows": [
        [
         "Glucose",
         "5"
        ],
        [
         "BloodPressure",
         "35"
        ],
        [
         "SkinThickness",
         "227"
        ],
        [
         "Insulin",
         "374"
        ],
        [
         "BMI",
         "11"
        ]
       ],
       "shape": {
        "columns": 1,
        "rows": 5
       }
      },
      "text/plain": [
       "Glucose            5\n",
       "BloodPressure     35\n",
       "SkinThickness    227\n",
       "Insulin          374\n",
       "BMI               11\n",
       "dtype: int64"
      ]
     },
     "execution_count": 78,
     "metadata": {},
     "output_type": "execute_result"
    }
   ],
   "source": [
    "# To confirm how many missing values exist in each column\n",
    "print(\"This is the missing values existing in specified columns:\")\n",
    "df[zero_as_missing].isnull().sum()"
   ]
  },
  {
   "cell_type": "markdown",
   "id": "46f4d743",
   "metadata": {},
   "source": [
    "### 3.4 Applying Iterative Imputer (Multivariate Imputation by Chained Equations [MICE])"
   ]
  },
  {
   "cell_type": "markdown",
   "id": "2f0630ef",
   "metadata": {},
   "source": [
    "Iterative Imputer fills in missing values by modeling each feature with missing values as a function of the other features. It's based on Multiple Imputation by Chained Equations (MICE).\n",
    "\n",
    "So instead of guessing missing values with a mean or median, it:\n",
    "\n",
    "1. Picks one feature with missing values.\n",
    "\n",
    "2. Predicts those missing values using a regression model trained on the other columns.\n",
    "\n",
    "3. Repeats this process for each feature with missing values, in a cycle, until the values stabilize.\n",
    "\n",
    "This method preserves relationships between variables, which is critical in medical and clinical datasets."
   ]
  },
  {
   "cell_type": "code",
   "execution_count": 79,
   "id": "7b8482f0",
   "metadata": {},
   "outputs": [],
   "source": [
    "# Separating target from features\n",
    "X = df.drop(columns= \"Outcome\")\n",
    "y = df[\"Outcome\"]"
   ]
  },
  {
   "cell_type": "code",
   "execution_count": 80,
   "id": "317a81c6",
   "metadata": {},
   "outputs": [],
   "source": [
    "# Applying Iterative Imputer\n",
    "imputer = IterativeImputer(random_state=0)\n",
    "X_imputed = pd.DataFrame(imputer.fit_transform(X), columns=X.columns)"
   ]
  },
  {
   "cell_type": "code",
   "execution_count": 81,
   "id": "03a83c7a",
   "metadata": {},
   "outputs": [
    {
     "name": "stdout",
     "output_type": "stream",
     "text": [
      "Pregnancies                 0\n",
      "Glucose                     0\n",
      "BloodPressure               0\n",
      "SkinThickness               0\n",
      "Insulin                     0\n",
      "BMI                         0\n",
      "DiabetesPedigreeFunction    0\n",
      "Age                         0\n",
      "Glucose_missing             0\n",
      "BloodPressure_missing       0\n",
      "SkinThickness_missing       0\n",
      "Insulin_missing             0\n",
      "BMI_missing                 0\n",
      "dtype: int64\n"
     ]
    }
   ],
   "source": [
    "# Ensuring all NaNs are gone and imputation worked\n",
    "print(X_imputed.isnull().sum())"
   ]
  },
  {
   "cell_type": "markdown",
   "id": "31580bb1",
   "metadata": {},
   "source": [
    "### 3.5 Comparison of Values Before and After"
   ]
  },
  {
   "cell_type": "code",
   "execution_count": 82,
   "id": "ee948e02",
   "metadata": {},
   "outputs": [
    {
     "name": "stdout",
     "output_type": "stream",
     "text": [
      "These features should not be zero for real patients:['Glucose', 'BloodPressure', 'SkinThickness', 'Insulin', 'BMI']\n"
     ]
    }
   ],
   "source": [
    "# Reprinting columns where 0 is likely a missing value\n",
    "zero_as_missing = [\"Glucose\", \"BloodPressure\", \"SkinThickness\", \"Insulin\", \"BMI\"]\n",
    "print (f\"These features should not be zero for real patients:{zero_as_missing}\")"
   ]
  },
  {
   "cell_type": "markdown",
   "id": "74908946",
   "metadata": {},
   "source": [
    "#### 3.5.1 Glucose Comparison"
   ]
  },
  {
   "cell_type": "code",
   "execution_count": 83,
   "id": "efc2bf04",
   "metadata": {},
   "outputs": [
    {
     "data": {
      "application/vnd.microsoft.datawrangler.viewer.v0+json": {
       "columns": [
        {
         "name": "index",
         "rawType": "int64",
         "type": "integer"
        },
        {
         "name": "Metric",
         "rawType": "object",
         "type": "string"
        },
        {
         "name": "Before Imputation",
         "rawType": "float64",
         "type": "float"
        },
        {
         "name": "After Imputation",
         "rawType": "float64",
         "type": "float"
        }
       ],
       "ref": "0258f91e-dbcb-4da1-b8b6-40bb7c025893",
       "rows": [
        [
         "0",
         "count",
         "763.0",
         "768.0"
        ],
        [
         "1",
         "mean",
         "121.6867627785059",
         "121.64174669886155"
        ],
        [
         "2",
         "std",
         "30.53564107280403",
         "30.466563680619803"
        ],
        [
         "3",
         "min",
         "44.0",
         "44.0"
        ],
        [
         "4",
         "25%",
         "99.0",
         "99.0"
        ],
        [
         "5",
         "50%",
         "117.0",
         "117.0"
        ],
        [
         "6",
         "75%",
         "141.0",
         "140.25"
        ],
        [
         "7",
         "max",
         "199.0",
         "199.0"
        ]
       ],
       "shape": {
        "columns": 3,
        "rows": 8
       }
      },
      "text/html": [
       "<div>\n",
       "<style scoped>\n",
       "    .dataframe tbody tr th:only-of-type {\n",
       "        vertical-align: middle;\n",
       "    }\n",
       "\n",
       "    .dataframe tbody tr th {\n",
       "        vertical-align: top;\n",
       "    }\n",
       "\n",
       "    .dataframe thead th {\n",
       "        text-align: right;\n",
       "    }\n",
       "</style>\n",
       "<table border=\"1\" class=\"dataframe\">\n",
       "  <thead>\n",
       "    <tr style=\"text-align: right;\">\n",
       "      <th></th>\n",
       "      <th>Metric</th>\n",
       "      <th>Before Imputation</th>\n",
       "      <th>After Imputation</th>\n",
       "    </tr>\n",
       "  </thead>\n",
       "  <tbody>\n",
       "    <tr>\n",
       "      <th>0</th>\n",
       "      <td>count</td>\n",
       "      <td>763.000000</td>\n",
       "      <td>768.000000</td>\n",
       "    </tr>\n",
       "    <tr>\n",
       "      <th>1</th>\n",
       "      <td>mean</td>\n",
       "      <td>121.686763</td>\n",
       "      <td>121.641747</td>\n",
       "    </tr>\n",
       "    <tr>\n",
       "      <th>2</th>\n",
       "      <td>std</td>\n",
       "      <td>30.535641</td>\n",
       "      <td>30.466564</td>\n",
       "    </tr>\n",
       "    <tr>\n",
       "      <th>3</th>\n",
       "      <td>min</td>\n",
       "      <td>44.000000</td>\n",
       "      <td>44.000000</td>\n",
       "    </tr>\n",
       "    <tr>\n",
       "      <th>4</th>\n",
       "      <td>25%</td>\n",
       "      <td>99.000000</td>\n",
       "      <td>99.000000</td>\n",
       "    </tr>\n",
       "    <tr>\n",
       "      <th>5</th>\n",
       "      <td>50%</td>\n",
       "      <td>117.000000</td>\n",
       "      <td>117.000000</td>\n",
       "    </tr>\n",
       "    <tr>\n",
       "      <th>6</th>\n",
       "      <td>75%</td>\n",
       "      <td>141.000000</td>\n",
       "      <td>140.250000</td>\n",
       "    </tr>\n",
       "    <tr>\n",
       "      <th>7</th>\n",
       "      <td>max</td>\n",
       "      <td>199.000000</td>\n",
       "      <td>199.000000</td>\n",
       "    </tr>\n",
       "  </tbody>\n",
       "</table>\n",
       "</div>"
      ],
      "text/plain": [
       "  Metric  Before Imputation  After Imputation\n",
       "0  count         763.000000        768.000000\n",
       "1   mean         121.686763        121.641747\n",
       "2    std          30.535641         30.466564\n",
       "3    min          44.000000         44.000000\n",
       "4    25%          99.000000         99.000000\n",
       "5    50%         117.000000        117.000000\n",
       "6    75%         141.000000        140.250000\n",
       "7    max         199.000000        199.000000"
      ]
     },
     "execution_count": 83,
     "metadata": {},
     "output_type": "execute_result"
    }
   ],
   "source": [
    "# Comparing values before and after for Glucose\n",
    "\n",
    "# Get the describe() outputs\n",
    "before_desc_glucose = df[\"Glucose\"].describe()\n",
    "after_desc_glucose = X_imputed[\"Glucose\"].describe()\n",
    "\n",
    "# Combine into a DataFrame\n",
    "glucose_comparison = pd.DataFrame({\n",
    "    \"Metric\": before_desc_glucose.index,\n",
    "    \"Before Imputation\": before_desc_glucose.values,\n",
    "    \"After Imputation\": after_desc_glucose.values\n",
    "})\n",
    "\n",
    "# Display as a table\n",
    "glucose_comparison"
   ]
  },
  {
   "cell_type": "markdown",
   "id": "16c856ff",
   "metadata": {},
   "source": [
    "#### 3.5.2 Blood Pressure Comparison"
   ]
  },
  {
   "cell_type": "code",
   "execution_count": 84,
   "id": "b51b5bee",
   "metadata": {},
   "outputs": [
    {
     "data": {
      "application/vnd.microsoft.datawrangler.viewer.v0+json": {
       "columns": [
        {
         "name": "index",
         "rawType": "int64",
         "type": "integer"
        },
        {
         "name": "Metric",
         "rawType": "object",
         "type": "string"
        },
        {
         "name": "Before Imputation",
         "rawType": "float64",
         "type": "float"
        },
        {
         "name": "After Imputation",
         "rawType": "float64",
         "type": "float"
        }
       ],
       "ref": "7ee95744-a253-4118-842b-7f95a010ef4a",
       "rows": [
        [
         "0",
         "count",
         "733.0",
         "768.0"
        ],
        [
         "1",
         "mean",
         "72.40518417462484",
         "72.36129187093627"
        ],
        [
         "2",
         "std",
         "12.38215821010526",
         "12.14751780110076"
        ],
        [
         "3",
         "min",
         "24.0",
         "24.0"
        ],
        [
         "4",
         "25%",
         "64.0",
         "64.0"
        ],
        [
         "5",
         "50%",
         "72.0",
         "72.0"
        ],
        [
         "6",
         "75%",
         "80.0",
         "80.0"
        ],
        [
         "7",
         "max",
         "122.0",
         "122.0"
        ]
       ],
       "shape": {
        "columns": 3,
        "rows": 8
       }
      },
      "text/html": [
       "<div>\n",
       "<style scoped>\n",
       "    .dataframe tbody tr th:only-of-type {\n",
       "        vertical-align: middle;\n",
       "    }\n",
       "\n",
       "    .dataframe tbody tr th {\n",
       "        vertical-align: top;\n",
       "    }\n",
       "\n",
       "    .dataframe thead th {\n",
       "        text-align: right;\n",
       "    }\n",
       "</style>\n",
       "<table border=\"1\" class=\"dataframe\">\n",
       "  <thead>\n",
       "    <tr style=\"text-align: right;\">\n",
       "      <th></th>\n",
       "      <th>Metric</th>\n",
       "      <th>Before Imputation</th>\n",
       "      <th>After Imputation</th>\n",
       "    </tr>\n",
       "  </thead>\n",
       "  <tbody>\n",
       "    <tr>\n",
       "      <th>0</th>\n",
       "      <td>count</td>\n",
       "      <td>733.000000</td>\n",
       "      <td>768.000000</td>\n",
       "    </tr>\n",
       "    <tr>\n",
       "      <th>1</th>\n",
       "      <td>mean</td>\n",
       "      <td>72.405184</td>\n",
       "      <td>72.361292</td>\n",
       "    </tr>\n",
       "    <tr>\n",
       "      <th>2</th>\n",
       "      <td>std</td>\n",
       "      <td>12.382158</td>\n",
       "      <td>12.147518</td>\n",
       "    </tr>\n",
       "    <tr>\n",
       "      <th>3</th>\n",
       "      <td>min</td>\n",
       "      <td>24.000000</td>\n",
       "      <td>24.000000</td>\n",
       "    </tr>\n",
       "    <tr>\n",
       "      <th>4</th>\n",
       "      <td>25%</td>\n",
       "      <td>64.000000</td>\n",
       "      <td>64.000000</td>\n",
       "    </tr>\n",
       "    <tr>\n",
       "      <th>5</th>\n",
       "      <td>50%</td>\n",
       "      <td>72.000000</td>\n",
       "      <td>72.000000</td>\n",
       "    </tr>\n",
       "    <tr>\n",
       "      <th>6</th>\n",
       "      <td>75%</td>\n",
       "      <td>80.000000</td>\n",
       "      <td>80.000000</td>\n",
       "    </tr>\n",
       "    <tr>\n",
       "      <th>7</th>\n",
       "      <td>max</td>\n",
       "      <td>122.000000</td>\n",
       "      <td>122.000000</td>\n",
       "    </tr>\n",
       "  </tbody>\n",
       "</table>\n",
       "</div>"
      ],
      "text/plain": [
       "  Metric  Before Imputation  After Imputation\n",
       "0  count         733.000000        768.000000\n",
       "1   mean          72.405184         72.361292\n",
       "2    std          12.382158         12.147518\n",
       "3    min          24.000000         24.000000\n",
       "4    25%          64.000000         64.000000\n",
       "5    50%          72.000000         72.000000\n",
       "6    75%          80.000000         80.000000\n",
       "7    max         122.000000        122.000000"
      ]
     },
     "execution_count": 84,
     "metadata": {},
     "output_type": "execute_result"
    }
   ],
   "source": [
    "# Comparing values before and after for Blood Pressure\n",
    "\n",
    "# Get the describe() outputs\n",
    "before_desc_BloodPressure = df[\"BloodPressure\"].describe()\n",
    "after_desc_BloodPressure = X_imputed[\"BloodPressure\"].describe()\n",
    "\n",
    "# Combine into a DataFrame\n",
    "BloodPressure_comparison = pd.DataFrame({\n",
    "    \"Metric\": before_desc_BloodPressure.index,\n",
    "    \"Before Imputation\": before_desc_BloodPressure.values,\n",
    "    \"After Imputation\": after_desc_BloodPressure.values\n",
    "})\n",
    "\n",
    "# Display as a table\n",
    "BloodPressure_comparison"
   ]
  },
  {
   "cell_type": "markdown",
   "id": "79e991a8",
   "metadata": {},
   "source": [
    "#### 3.5.3 Skin Thickness"
   ]
  },
  {
   "cell_type": "code",
   "execution_count": 85,
   "id": "dbd618aa",
   "metadata": {},
   "outputs": [
    {
     "data": {
      "application/vnd.microsoft.datawrangler.viewer.v0+json": {
       "columns": [
        {
         "name": "index",
         "rawType": "int64",
         "type": "integer"
        },
        {
         "name": "Metric",
         "rawType": "object",
         "type": "string"
        },
        {
         "name": "Before Imputation",
         "rawType": "float64",
         "type": "float"
        },
        {
         "name": "After Imputation",
         "rawType": "float64",
         "type": "float"
        }
       ],
       "ref": "e81c4498-a1cd-45af-85cd-1d1ae58ac409",
       "rows": [
        [
         "0",
         "count",
         "541.0",
         "768.0"
        ],
        [
         "1",
         "mean",
         "29.153419593345657",
         "28.926373117766257"
        ],
        [
         "2",
         "std",
         "10.476982369987208",
         "9.521595289030342"
        ],
        [
         "3",
         "min",
         "7.0",
         "7.0"
        ],
        [
         "4",
         "25%",
         "22.0",
         "22.21740900090427"
        ],
        [
         "5",
         "50%",
         "29.0",
         "28.442090794644432"
        ],
        [
         "6",
         "75%",
         "36.0",
         "35.0"
        ],
        [
         "7",
         "max",
         "99.0",
         "99.0"
        ]
       ],
       "shape": {
        "columns": 3,
        "rows": 8
       }
      },
      "text/html": [
       "<div>\n",
       "<style scoped>\n",
       "    .dataframe tbody tr th:only-of-type {\n",
       "        vertical-align: middle;\n",
       "    }\n",
       "\n",
       "    .dataframe tbody tr th {\n",
       "        vertical-align: top;\n",
       "    }\n",
       "\n",
       "    .dataframe thead th {\n",
       "        text-align: right;\n",
       "    }\n",
       "</style>\n",
       "<table border=\"1\" class=\"dataframe\">\n",
       "  <thead>\n",
       "    <tr style=\"text-align: right;\">\n",
       "      <th></th>\n",
       "      <th>Metric</th>\n",
       "      <th>Before Imputation</th>\n",
       "      <th>After Imputation</th>\n",
       "    </tr>\n",
       "  </thead>\n",
       "  <tbody>\n",
       "    <tr>\n",
       "      <th>0</th>\n",
       "      <td>count</td>\n",
       "      <td>541.000000</td>\n",
       "      <td>768.000000</td>\n",
       "    </tr>\n",
       "    <tr>\n",
       "      <th>1</th>\n",
       "      <td>mean</td>\n",
       "      <td>29.153420</td>\n",
       "      <td>28.926373</td>\n",
       "    </tr>\n",
       "    <tr>\n",
       "      <th>2</th>\n",
       "      <td>std</td>\n",
       "      <td>10.476982</td>\n",
       "      <td>9.521595</td>\n",
       "    </tr>\n",
       "    <tr>\n",
       "      <th>3</th>\n",
       "      <td>min</td>\n",
       "      <td>7.000000</td>\n",
       "      <td>7.000000</td>\n",
       "    </tr>\n",
       "    <tr>\n",
       "      <th>4</th>\n",
       "      <td>25%</td>\n",
       "      <td>22.000000</td>\n",
       "      <td>22.217409</td>\n",
       "    </tr>\n",
       "    <tr>\n",
       "      <th>5</th>\n",
       "      <td>50%</td>\n",
       "      <td>29.000000</td>\n",
       "      <td>28.442091</td>\n",
       "    </tr>\n",
       "    <tr>\n",
       "      <th>6</th>\n",
       "      <td>75%</td>\n",
       "      <td>36.000000</td>\n",
       "      <td>35.000000</td>\n",
       "    </tr>\n",
       "    <tr>\n",
       "      <th>7</th>\n",
       "      <td>max</td>\n",
       "      <td>99.000000</td>\n",
       "      <td>99.000000</td>\n",
       "    </tr>\n",
       "  </tbody>\n",
       "</table>\n",
       "</div>"
      ],
      "text/plain": [
       "  Metric  Before Imputation  After Imputation\n",
       "0  count         541.000000        768.000000\n",
       "1   mean          29.153420         28.926373\n",
       "2    std          10.476982          9.521595\n",
       "3    min           7.000000          7.000000\n",
       "4    25%          22.000000         22.217409\n",
       "5    50%          29.000000         28.442091\n",
       "6    75%          36.000000         35.000000\n",
       "7    max          99.000000         99.000000"
      ]
     },
     "execution_count": 85,
     "metadata": {},
     "output_type": "execute_result"
    }
   ],
   "source": [
    "# Comparing values before and after for Skin Thickness\n",
    "\n",
    "# Get the describe() outputs\n",
    "before_desc_SkinThickness = df[\"SkinThickness\"].describe()\n",
    "after_desc_SkinThickness = X_imputed[\"SkinThickness\"].describe()\n",
    "\n",
    "# Combine into a DataFrame\n",
    "SkinThickness_comparison = pd.DataFrame({\n",
    "    \"Metric\": before_desc_SkinThickness.index,\n",
    "    \"Before Imputation\": before_desc_SkinThickness.values,\n",
    "    \"After Imputation\": after_desc_SkinThickness.values\n",
    "})\n",
    "\n",
    "# Display as a table\n",
    "SkinThickness_comparison"
   ]
  },
  {
   "cell_type": "markdown",
   "id": "f7899e20",
   "metadata": {},
   "source": [
    "#### 3.5.4 Insulin Comparison"
   ]
  },
  {
   "cell_type": "code",
   "execution_count": 86,
   "id": "57d10efd",
   "metadata": {},
   "outputs": [
    {
     "data": {
      "application/vnd.microsoft.datawrangler.viewer.v0+json": {
       "columns": [
        {
         "name": "index",
         "rawType": "int64",
         "type": "integer"
        },
        {
         "name": "Metric",
         "rawType": "object",
         "type": "string"
        },
        {
         "name": "Before Imputation",
         "rawType": "float64",
         "type": "float"
        },
        {
         "name": "After Imputation",
         "rawType": "float64",
         "type": "float"
        }
       ],
       "ref": "ac5b6a53-42cf-431a-93f6-abd9def38996",
       "rows": [
        [
         "0",
         "count",
         "394.0",
         "768.0"
        ],
        [
         "1",
         "mean",
         "155.5482233502538",
         "152.64051047788993"
        ],
        [
         "2",
         "std",
         "118.77585518724518",
         "97.34766186587717"
        ],
        [
         "3",
         "min",
         "14.0",
         "-19.487740493229083"
        ],
        [
         "4",
         "25%",
         "76.25",
         "89.98646626018723"
        ],
        [
         "5",
         "50%",
         "125.0",
         "130.19634159783226"
        ],
        [
         "6",
         "75%",
         "190.0",
         "190.0"
        ],
        [
         "7",
         "max",
         "846.0",
         "846.0"
        ]
       ],
       "shape": {
        "columns": 3,
        "rows": 8
       }
      },
      "text/html": [
       "<div>\n",
       "<style scoped>\n",
       "    .dataframe tbody tr th:only-of-type {\n",
       "        vertical-align: middle;\n",
       "    }\n",
       "\n",
       "    .dataframe tbody tr th {\n",
       "        vertical-align: top;\n",
       "    }\n",
       "\n",
       "    .dataframe thead th {\n",
       "        text-align: right;\n",
       "    }\n",
       "</style>\n",
       "<table border=\"1\" class=\"dataframe\">\n",
       "  <thead>\n",
       "    <tr style=\"text-align: right;\">\n",
       "      <th></th>\n",
       "      <th>Metric</th>\n",
       "      <th>Before Imputation</th>\n",
       "      <th>After Imputation</th>\n",
       "    </tr>\n",
       "  </thead>\n",
       "  <tbody>\n",
       "    <tr>\n",
       "      <th>0</th>\n",
       "      <td>count</td>\n",
       "      <td>394.000000</td>\n",
       "      <td>768.000000</td>\n",
       "    </tr>\n",
       "    <tr>\n",
       "      <th>1</th>\n",
       "      <td>mean</td>\n",
       "      <td>155.548223</td>\n",
       "      <td>152.640510</td>\n",
       "    </tr>\n",
       "    <tr>\n",
       "      <th>2</th>\n",
       "      <td>std</td>\n",
       "      <td>118.775855</td>\n",
       "      <td>97.347662</td>\n",
       "    </tr>\n",
       "    <tr>\n",
       "      <th>3</th>\n",
       "      <td>min</td>\n",
       "      <td>14.000000</td>\n",
       "      <td>-19.487740</td>\n",
       "    </tr>\n",
       "    <tr>\n",
       "      <th>4</th>\n",
       "      <td>25%</td>\n",
       "      <td>76.250000</td>\n",
       "      <td>89.986466</td>\n",
       "    </tr>\n",
       "    <tr>\n",
       "      <th>5</th>\n",
       "      <td>50%</td>\n",
       "      <td>125.000000</td>\n",
       "      <td>130.196342</td>\n",
       "    </tr>\n",
       "    <tr>\n",
       "      <th>6</th>\n",
       "      <td>75%</td>\n",
       "      <td>190.000000</td>\n",
       "      <td>190.000000</td>\n",
       "    </tr>\n",
       "    <tr>\n",
       "      <th>7</th>\n",
       "      <td>max</td>\n",
       "      <td>846.000000</td>\n",
       "      <td>846.000000</td>\n",
       "    </tr>\n",
       "  </tbody>\n",
       "</table>\n",
       "</div>"
      ],
      "text/plain": [
       "  Metric  Before Imputation  After Imputation\n",
       "0  count         394.000000        768.000000\n",
       "1   mean         155.548223        152.640510\n",
       "2    std         118.775855         97.347662\n",
       "3    min          14.000000        -19.487740\n",
       "4    25%          76.250000         89.986466\n",
       "5    50%         125.000000        130.196342\n",
       "6    75%         190.000000        190.000000\n",
       "7    max         846.000000        846.000000"
      ]
     },
     "execution_count": 86,
     "metadata": {},
     "output_type": "execute_result"
    }
   ],
   "source": [
    "# Comparing values before and after for Insulin\n",
    "\n",
    "# Get the describe() outputs\n",
    "before_desc_insulin = df[\"Insulin\"].describe()\n",
    "after_desc_insulin = X_imputed[\"Insulin\"].describe()\n",
    "\n",
    "# Combine into a DataFrame\n",
    "insulin_comparison = pd.DataFrame({\n",
    "    \"Metric\": before_desc_insulin.index,\n",
    "    \"Before Imputation\": before_desc_insulin.values,\n",
    "    \"After Imputation\": after_desc_insulin.values\n",
    "})\n",
    "\n",
    "# Display as a table\n",
    "insulin_comparison"
   ]
  },
  {
   "cell_type": "markdown",
   "id": "8c4f3cd0",
   "metadata": {},
   "source": [
    "All descriptive statistics are similar except **min** whose after imputation value is negative, which is not physiologically valid for Insulin.\n",
    "\n",
    "To fix this, we will clip negative values to a realistic minimum"
   ]
  },
  {
   "cell_type": "code",
   "execution_count": 87,
   "id": "376df833",
   "metadata": {},
   "outputs": [],
   "source": [
    "# Clipping insulin negative values to a realistic minimum of 14\n",
    "X_imputed['Insulin'] = X_imputed['Insulin'].clip(lower=14)"
   ]
  },
  {
   "cell_type": "markdown",
   "id": "007c496b",
   "metadata": {},
   "source": [
    "##### 3.5.4.1 Updated Insulin Comparison"
   ]
  },
  {
   "cell_type": "code",
   "execution_count": 88,
   "id": "98310f68",
   "metadata": {},
   "outputs": [
    {
     "data": {
      "application/vnd.microsoft.datawrangler.viewer.v0+json": {
       "columns": [
        {
         "name": "index",
         "rawType": "int64",
         "type": "integer"
        },
        {
         "name": "Metric",
         "rawType": "object",
         "type": "string"
        },
        {
         "name": "Before Imputation",
         "rawType": "float64",
         "type": "float"
        },
        {
         "name": "After Imputation & Clipping",
         "rawType": "float64",
         "type": "float"
        }
       ],
       "ref": "23dd315c-a462-4645-8280-9b21ee27b34d",
       "rows": [
        [
         "0",
         "count",
         "394.0",
         "768.0"
        ],
        [
         "1",
         "mean",
         "155.5482233502538",
         "152.6843502896289"
        ],
        [
         "2",
         "std",
         "118.77585518724518",
         "97.27759973173868"
        ],
        [
         "3",
         "min",
         "14.0",
         "14.0"
        ],
        [
         "4",
         "25%",
         "76.25",
         "89.98646626018723"
        ],
        [
         "5",
         "50%",
         "125.0",
         "130.19634159783226"
        ],
        [
         "6",
         "75%",
         "190.0",
         "190.0"
        ],
        [
         "7",
         "max",
         "846.0",
         "846.0"
        ]
       ],
       "shape": {
        "columns": 3,
        "rows": 8
       }
      },
      "text/html": [
       "<div>\n",
       "<style scoped>\n",
       "    .dataframe tbody tr th:only-of-type {\n",
       "        vertical-align: middle;\n",
       "    }\n",
       "\n",
       "    .dataframe tbody tr th {\n",
       "        vertical-align: top;\n",
       "    }\n",
       "\n",
       "    .dataframe thead th {\n",
       "        text-align: right;\n",
       "    }\n",
       "</style>\n",
       "<table border=\"1\" class=\"dataframe\">\n",
       "  <thead>\n",
       "    <tr style=\"text-align: right;\">\n",
       "      <th></th>\n",
       "      <th>Metric</th>\n",
       "      <th>Before Imputation</th>\n",
       "      <th>After Imputation &amp; Clipping</th>\n",
       "    </tr>\n",
       "  </thead>\n",
       "  <tbody>\n",
       "    <tr>\n",
       "      <th>0</th>\n",
       "      <td>count</td>\n",
       "      <td>394.000000</td>\n",
       "      <td>768.000000</td>\n",
       "    </tr>\n",
       "    <tr>\n",
       "      <th>1</th>\n",
       "      <td>mean</td>\n",
       "      <td>155.548223</td>\n",
       "      <td>152.684350</td>\n",
       "    </tr>\n",
       "    <tr>\n",
       "      <th>2</th>\n",
       "      <td>std</td>\n",
       "      <td>118.775855</td>\n",
       "      <td>97.277600</td>\n",
       "    </tr>\n",
       "    <tr>\n",
       "      <th>3</th>\n",
       "      <td>min</td>\n",
       "      <td>14.000000</td>\n",
       "      <td>14.000000</td>\n",
       "    </tr>\n",
       "    <tr>\n",
       "      <th>4</th>\n",
       "      <td>25%</td>\n",
       "      <td>76.250000</td>\n",
       "      <td>89.986466</td>\n",
       "    </tr>\n",
       "    <tr>\n",
       "      <th>5</th>\n",
       "      <td>50%</td>\n",
       "      <td>125.000000</td>\n",
       "      <td>130.196342</td>\n",
       "    </tr>\n",
       "    <tr>\n",
       "      <th>6</th>\n",
       "      <td>75%</td>\n",
       "      <td>190.000000</td>\n",
       "      <td>190.000000</td>\n",
       "    </tr>\n",
       "    <tr>\n",
       "      <th>7</th>\n",
       "      <td>max</td>\n",
       "      <td>846.000000</td>\n",
       "      <td>846.000000</td>\n",
       "    </tr>\n",
       "  </tbody>\n",
       "</table>\n",
       "</div>"
      ],
      "text/plain": [
       "  Metric  Before Imputation  After Imputation & Clipping\n",
       "0  count         394.000000                   768.000000\n",
       "1   mean         155.548223                   152.684350\n",
       "2    std         118.775855                    97.277600\n",
       "3    min          14.000000                    14.000000\n",
       "4    25%          76.250000                    89.986466\n",
       "5    50%         125.000000                   130.196342\n",
       "6    75%         190.000000                   190.000000\n",
       "7    max         846.000000                   846.000000"
      ]
     },
     "execution_count": 88,
     "metadata": {},
     "output_type": "execute_result"
    }
   ],
   "source": [
    "# Get updated describe() output\n",
    "after_clipping_desc_insulin = X_imputed[\"Insulin\"].describe()\n",
    "\n",
    "# Re-create the comparison table\n",
    "insulin_comparison_clipped = pd.DataFrame({\n",
    "    \"Metric\": before_desc_insulin.index,\n",
    "    \"Before Imputation\": before_desc_insulin.values,\n",
    "    \"After Imputation & Clipping\": after_clipping_desc_insulin.values\n",
    "})\n",
    "\n",
    "# Display the new comparison table\n",
    "insulin_comparison_clipped"
   ]
  },
  {
   "cell_type": "markdown",
   "id": "a1c95f93",
   "metadata": {},
   "source": [
    "#### 3.5.5 Body Mass Index (BMI) Comparison"
   ]
  },
  {
   "cell_type": "code",
   "execution_count": 89,
   "id": "bd46394e",
   "metadata": {},
   "outputs": [
    {
     "data": {
      "application/vnd.microsoft.datawrangler.viewer.v0+json": {
       "columns": [
        {
         "name": "index",
         "rawType": "int64",
         "type": "integer"
        },
        {
         "name": "Metric",
         "rawType": "object",
         "type": "string"
        },
        {
         "name": "Before Imputation",
         "rawType": "float64",
         "type": "float"
        },
        {
         "name": "After Imputation",
         "rawType": "float64",
         "type": "float"
        }
       ],
       "ref": "a0d42082-5370-485a-b9e8-2ded1ed0b74d",
       "rows": [
        [
         "0",
         "count",
         "757.0",
         "768.0"
        ],
        [
         "1",
         "mean",
         "32.457463672391015",
         "32.43683863530243"
        ],
        [
         "2",
         "std",
         "6.924988332105903",
         "6.879242209859098"
        ],
        [
         "3",
         "min",
         "18.2",
         "18.2"
        ],
        [
         "4",
         "25%",
         "27.5",
         "27.5"
        ],
        [
         "5",
         "50%",
         "32.3",
         "32.0"
        ],
        [
         "6",
         "75%",
         "36.6",
         "36.6"
        ],
        [
         "7",
         "max",
         "67.1",
         "67.1"
        ]
       ],
       "shape": {
        "columns": 3,
        "rows": 8
       }
      },
      "text/html": [
       "<div>\n",
       "<style scoped>\n",
       "    .dataframe tbody tr th:only-of-type {\n",
       "        vertical-align: middle;\n",
       "    }\n",
       "\n",
       "    .dataframe tbody tr th {\n",
       "        vertical-align: top;\n",
       "    }\n",
       "\n",
       "    .dataframe thead th {\n",
       "        text-align: right;\n",
       "    }\n",
       "</style>\n",
       "<table border=\"1\" class=\"dataframe\">\n",
       "  <thead>\n",
       "    <tr style=\"text-align: right;\">\n",
       "      <th></th>\n",
       "      <th>Metric</th>\n",
       "      <th>Before Imputation</th>\n",
       "      <th>After Imputation</th>\n",
       "    </tr>\n",
       "  </thead>\n",
       "  <tbody>\n",
       "    <tr>\n",
       "      <th>0</th>\n",
       "      <td>count</td>\n",
       "      <td>757.000000</td>\n",
       "      <td>768.000000</td>\n",
       "    </tr>\n",
       "    <tr>\n",
       "      <th>1</th>\n",
       "      <td>mean</td>\n",
       "      <td>32.457464</td>\n",
       "      <td>32.436839</td>\n",
       "    </tr>\n",
       "    <tr>\n",
       "      <th>2</th>\n",
       "      <td>std</td>\n",
       "      <td>6.924988</td>\n",
       "      <td>6.879242</td>\n",
       "    </tr>\n",
       "    <tr>\n",
       "      <th>3</th>\n",
       "      <td>min</td>\n",
       "      <td>18.200000</td>\n",
       "      <td>18.200000</td>\n",
       "    </tr>\n",
       "    <tr>\n",
       "      <th>4</th>\n",
       "      <td>25%</td>\n",
       "      <td>27.500000</td>\n",
       "      <td>27.500000</td>\n",
       "    </tr>\n",
       "    <tr>\n",
       "      <th>5</th>\n",
       "      <td>50%</td>\n",
       "      <td>32.300000</td>\n",
       "      <td>32.000000</td>\n",
       "    </tr>\n",
       "    <tr>\n",
       "      <th>6</th>\n",
       "      <td>75%</td>\n",
       "      <td>36.600000</td>\n",
       "      <td>36.600000</td>\n",
       "    </tr>\n",
       "    <tr>\n",
       "      <th>7</th>\n",
       "      <td>max</td>\n",
       "      <td>67.100000</td>\n",
       "      <td>67.100000</td>\n",
       "    </tr>\n",
       "  </tbody>\n",
       "</table>\n",
       "</div>"
      ],
      "text/plain": [
       "  Metric  Before Imputation  After Imputation\n",
       "0  count         757.000000        768.000000\n",
       "1   mean          32.457464         32.436839\n",
       "2    std           6.924988          6.879242\n",
       "3    min          18.200000         18.200000\n",
       "4    25%          27.500000         27.500000\n",
       "5    50%          32.300000         32.000000\n",
       "6    75%          36.600000         36.600000\n",
       "7    max          67.100000         67.100000"
      ]
     },
     "execution_count": 89,
     "metadata": {},
     "output_type": "execute_result"
    }
   ],
   "source": [
    "# Get the describe() outputs\n",
    "before_desc_BMI = df[\"BMI\"].describe()\n",
    "after_desc_BMI = X_imputed[\"BMI\"].describe()\n",
    "\n",
    "# Combine into a DataFrame\n",
    "BMI_comparison = pd.DataFrame({\n",
    "    \"Metric\": before_desc_BMI.index,\n",
    "    \"Before Imputation\": before_desc_BMI.values,\n",
    "    \"After Imputation\": after_desc_BMI.values\n",
    "})\n",
    "\n",
    "# Display as a table\n",
    "BMI_comparison"
   ]
  },
  {
   "cell_type": "markdown",
   "id": "249cdb51",
   "metadata": {},
   "source": [
    "### 3.6 Combining Imputed Data with Target"
   ]
  },
  {
   "cell_type": "code",
   "execution_count": 90,
   "id": "a11e4cce",
   "metadata": {},
   "outputs": [],
   "source": [
    "# Combine Imputed Data with Target\n",
    "df_imputed = X_imputed.copy()\n",
    "df_imputed['Outcome'] = y.values # to ensure proper alignment"
   ]
  },
  {
   "cell_type": "code",
   "execution_count": 91,
   "id": "4f36125a",
   "metadata": {},
   "outputs": [
    {
     "name": "stdout",
     "output_type": "stream",
     "text": [
      "Target column added. Final DataFrame shape: (768, 14)\n",
      "Column names: ['Pregnancies', 'Glucose', 'BloodPressure', 'SkinThickness', 'Insulin', 'BMI', 'DiabetesPedigreeFunction', 'Age', 'Glucose_missing', 'BloodPressure_missing', 'SkinThickness_missing', 'Insulin_missing', 'BMI_missing', 'Outcome']\n"
     ]
    }
   ],
   "source": [
    "# Confirming combination\n",
    "print(\"Target column added. Final DataFrame shape:\", df_imputed.shape)\n",
    "print(\"Column names:\", df_imputed.columns.tolist())"
   ]
  },
  {
   "cell_type": "code",
   "execution_count": 92,
   "id": "cd31fab6",
   "metadata": {},
   "outputs": [
    {
     "name": "stdout",
     "output_type": "stream",
     "text": [
      "Preview of final dataset:\n"
     ]
    },
    {
     "data": {
      "application/vnd.microsoft.datawrangler.viewer.v0+json": {
       "columns": [
        {
         "name": "index",
         "rawType": "int64",
         "type": "integer"
        },
        {
         "name": "Pregnancies",
         "rawType": "float64",
         "type": "float"
        },
        {
         "name": "Glucose",
         "rawType": "float64",
         "type": "float"
        },
        {
         "name": "BloodPressure",
         "rawType": "float64",
         "type": "float"
        },
        {
         "name": "SkinThickness",
         "rawType": "float64",
         "type": "float"
        },
        {
         "name": "Insulin",
         "rawType": "float64",
         "type": "float"
        },
        {
         "name": "BMI",
         "rawType": "float64",
         "type": "float"
        },
        {
         "name": "DiabetesPedigreeFunction",
         "rawType": "float64",
         "type": "float"
        },
        {
         "name": "Age",
         "rawType": "float64",
         "type": "float"
        },
        {
         "name": "Glucose_missing",
         "rawType": "float64",
         "type": "float"
        },
        {
         "name": "BloodPressure_missing",
         "rawType": "float64",
         "type": "float"
        },
        {
         "name": "SkinThickness_missing",
         "rawType": "float64",
         "type": "float"
        },
        {
         "name": "Insulin_missing",
         "rawType": "float64",
         "type": "float"
        },
        {
         "name": "BMI_missing",
         "rawType": "float64",
         "type": "float"
        },
        {
         "name": "Outcome",
         "rawType": "int64",
         "type": "integer"
        }
       ],
       "ref": "1edc4901-5ed7-45f2-968e-32f1768dba5c",
       "rows": [
        [
         "0",
         "6.0",
         "148.0",
         "72.0",
         "35.0",
         "218.92343471444093",
         "33.6",
         "0.627",
         "50.0",
         "0.0",
         "0.0",
         "0.0",
         "1.0",
         "0.0",
         "1"
        ],
        [
         "1",
         "1.0",
         "85.0",
         "66.0",
         "29.0",
         "70.30608155798032",
         "26.6",
         "0.351",
         "31.0",
         "0.0",
         "0.0",
         "0.0",
         "1.0",
         "0.0",
         "0"
        ],
        [
         "2",
         "8.0",
         "183.0",
         "64.0",
         "21.640837019994194",
         "268.5317448102349",
         "23.3",
         "0.672",
         "32.0",
         "0.0",
         "0.0",
         "1.0",
         "1.0",
         "0.0",
         "1"
        ],
        [
         "3",
         "1.0",
         "89.0",
         "66.0",
         "23.0",
         "94.0",
         "28.1",
         "0.167",
         "21.0",
         "0.0",
         "0.0",
         "0.0",
         "0.0",
         "0.0",
         "0"
        ],
        [
         "4",
         "0.0",
         "137.0",
         "40.0",
         "35.0",
         "168.0",
         "43.1",
         "2.288",
         "33.0",
         "0.0",
         "0.0",
         "0.0",
         "0.0",
         "0.0",
         "1"
        ]
       ],
       "shape": {
        "columns": 14,
        "rows": 5
       }
      },
      "text/html": [
       "<div>\n",
       "<style scoped>\n",
       "    .dataframe tbody tr th:only-of-type {\n",
       "        vertical-align: middle;\n",
       "    }\n",
       "\n",
       "    .dataframe tbody tr th {\n",
       "        vertical-align: top;\n",
       "    }\n",
       "\n",
       "    .dataframe thead th {\n",
       "        text-align: right;\n",
       "    }\n",
       "</style>\n",
       "<table border=\"1\" class=\"dataframe\">\n",
       "  <thead>\n",
       "    <tr style=\"text-align: right;\">\n",
       "      <th></th>\n",
       "      <th>Pregnancies</th>\n",
       "      <th>Glucose</th>\n",
       "      <th>BloodPressure</th>\n",
       "      <th>SkinThickness</th>\n",
       "      <th>Insulin</th>\n",
       "      <th>BMI</th>\n",
       "      <th>DiabetesPedigreeFunction</th>\n",
       "      <th>Age</th>\n",
       "      <th>Glucose_missing</th>\n",
       "      <th>BloodPressure_missing</th>\n",
       "      <th>SkinThickness_missing</th>\n",
       "      <th>Insulin_missing</th>\n",
       "      <th>BMI_missing</th>\n",
       "      <th>Outcome</th>\n",
       "    </tr>\n",
       "  </thead>\n",
       "  <tbody>\n",
       "    <tr>\n",
       "      <th>0</th>\n",
       "      <td>6.0</td>\n",
       "      <td>148.0</td>\n",
       "      <td>72.0</td>\n",
       "      <td>35.000000</td>\n",
       "      <td>218.923435</td>\n",
       "      <td>33.6</td>\n",
       "      <td>0.627</td>\n",
       "      <td>50.0</td>\n",
       "      <td>0.0</td>\n",
       "      <td>0.0</td>\n",
       "      <td>0.0</td>\n",
       "      <td>1.0</td>\n",
       "      <td>0.0</td>\n",
       "      <td>1</td>\n",
       "    </tr>\n",
       "    <tr>\n",
       "      <th>1</th>\n",
       "      <td>1.0</td>\n",
       "      <td>85.0</td>\n",
       "      <td>66.0</td>\n",
       "      <td>29.000000</td>\n",
       "      <td>70.306082</td>\n",
       "      <td>26.6</td>\n",
       "      <td>0.351</td>\n",
       "      <td>31.0</td>\n",
       "      <td>0.0</td>\n",
       "      <td>0.0</td>\n",
       "      <td>0.0</td>\n",
       "      <td>1.0</td>\n",
       "      <td>0.0</td>\n",
       "      <td>0</td>\n",
       "    </tr>\n",
       "    <tr>\n",
       "      <th>2</th>\n",
       "      <td>8.0</td>\n",
       "      <td>183.0</td>\n",
       "      <td>64.0</td>\n",
       "      <td>21.640837</td>\n",
       "      <td>268.531745</td>\n",
       "      <td>23.3</td>\n",
       "      <td>0.672</td>\n",
       "      <td>32.0</td>\n",
       "      <td>0.0</td>\n",
       "      <td>0.0</td>\n",
       "      <td>1.0</td>\n",
       "      <td>1.0</td>\n",
       "      <td>0.0</td>\n",
       "      <td>1</td>\n",
       "    </tr>\n",
       "    <tr>\n",
       "      <th>3</th>\n",
       "      <td>1.0</td>\n",
       "      <td>89.0</td>\n",
       "      <td>66.0</td>\n",
       "      <td>23.000000</td>\n",
       "      <td>94.000000</td>\n",
       "      <td>28.1</td>\n",
       "      <td>0.167</td>\n",
       "      <td>21.0</td>\n",
       "      <td>0.0</td>\n",
       "      <td>0.0</td>\n",
       "      <td>0.0</td>\n",
       "      <td>0.0</td>\n",
       "      <td>0.0</td>\n",
       "      <td>0</td>\n",
       "    </tr>\n",
       "    <tr>\n",
       "      <th>4</th>\n",
       "      <td>0.0</td>\n",
       "      <td>137.0</td>\n",
       "      <td>40.0</td>\n",
       "      <td>35.000000</td>\n",
       "      <td>168.000000</td>\n",
       "      <td>43.1</td>\n",
       "      <td>2.288</td>\n",
       "      <td>33.0</td>\n",
       "      <td>0.0</td>\n",
       "      <td>0.0</td>\n",
       "      <td>0.0</td>\n",
       "      <td>0.0</td>\n",
       "      <td>0.0</td>\n",
       "      <td>1</td>\n",
       "    </tr>\n",
       "  </tbody>\n",
       "</table>\n",
       "</div>"
      ],
      "text/plain": [
       "   Pregnancies  Glucose  BloodPressure  SkinThickness     Insulin   BMI  \\\n",
       "0          6.0    148.0           72.0      35.000000  218.923435  33.6   \n",
       "1          1.0     85.0           66.0      29.000000   70.306082  26.6   \n",
       "2          8.0    183.0           64.0      21.640837  268.531745  23.3   \n",
       "3          1.0     89.0           66.0      23.000000   94.000000  28.1   \n",
       "4          0.0    137.0           40.0      35.000000  168.000000  43.1   \n",
       "\n",
       "   DiabetesPedigreeFunction   Age  Glucose_missing  BloodPressure_missing  \\\n",
       "0                     0.627  50.0              0.0                    0.0   \n",
       "1                     0.351  31.0              0.0                    0.0   \n",
       "2                     0.672  32.0              0.0                    0.0   \n",
       "3                     0.167  21.0              0.0                    0.0   \n",
       "4                     2.288  33.0              0.0                    0.0   \n",
       "\n",
       "   SkinThickness_missing  Insulin_missing  BMI_missing  Outcome  \n",
       "0                    0.0              1.0          0.0        1  \n",
       "1                    0.0              1.0          0.0        0  \n",
       "2                    1.0              1.0          0.0        1  \n",
       "3                    0.0              0.0          0.0        0  \n",
       "4                    0.0              0.0          0.0        1  "
      ]
     },
     "execution_count": 92,
     "metadata": {},
     "output_type": "execute_result"
    }
   ],
   "source": [
    "# Ensuring final dataframe is assembled properly\n",
    "print(\"Preview of final dataset:\")\n",
    "df_imputed.head()"
   ]
  },
  {
   "cell_type": "markdown",
   "id": "cfc9fd9a",
   "metadata": {},
   "source": [
    "### 3.7 Final Imputed Dataset"
   ]
  },
  {
   "cell_type": "code",
   "execution_count": 93,
   "id": "cd7810df",
   "metadata": {},
   "outputs": [],
   "source": [
    "# Round imputed dataset to 2 decimal places\n",
    "df_imputed = df_imputed.round(2)"
   ]
  },
  {
   "cell_type": "code",
   "execution_count": 94,
   "id": "8e253fc1",
   "metadata": {},
   "outputs": [
    {
     "name": "stdout",
     "output_type": "stream",
     "text": [
      "Dataset saved as 'diabetes_imputed.csv'\n"
     ]
    }
   ],
   "source": [
    "# Save the imputed dataset\n",
    "df_imputed.to_csv(\"diabetes_imputed.csv\", index=False)\n",
    "print(\"Dataset saved as 'diabetes_imputed.csv'\")"
   ]
  },
  {
   "cell_type": "markdown",
   "id": "986ddbd6",
   "metadata": {},
   "source": [
    "This is the dataset we will be using for our EDA"
   ]
  },
  {
   "cell_type": "markdown",
   "id": "0bc165f7",
   "metadata": {},
   "source": [
    "## 4.0 DATA ANALYSIS"
   ]
  },
  {
   "cell_type": "markdown",
   "id": "711984dd",
   "metadata": {},
   "source": [
    "### 4.1 EXPLORATIVE DATA ANALYSIS (EDA)"
   ]
  },
  {
   "cell_type": "markdown",
   "id": "e26b6723",
   "metadata": {},
   "source": [
    "#### 4.1.1 Inspection of Imputed dataset"
   ]
  },
  {
   "cell_type": "code",
   "execution_count": 95,
   "id": "f4237a75",
   "metadata": {},
   "outputs": [
    {
     "data": {
      "application/vnd.microsoft.datawrangler.viewer.v0+json": {
       "columns": [
        {
         "name": "index",
         "rawType": "int64",
         "type": "integer"
        },
        {
         "name": "Pregnancies",
         "rawType": "float64",
         "type": "float"
        },
        {
         "name": "Glucose",
         "rawType": "float64",
         "type": "float"
        },
        {
         "name": "BloodPressure",
         "rawType": "float64",
         "type": "float"
        },
        {
         "name": "SkinThickness",
         "rawType": "float64",
         "type": "float"
        },
        {
         "name": "Insulin",
         "rawType": "float64",
         "type": "float"
        },
        {
         "name": "BMI",
         "rawType": "float64",
         "type": "float"
        },
        {
         "name": "DiabetesPedigreeFunction",
         "rawType": "float64",
         "type": "float"
        },
        {
         "name": "Age",
         "rawType": "float64",
         "type": "float"
        },
        {
         "name": "Glucose_missing",
         "rawType": "float64",
         "type": "float"
        },
        {
         "name": "BloodPressure_missing",
         "rawType": "float64",
         "type": "float"
        },
        {
         "name": "SkinThickness_missing",
         "rawType": "float64",
         "type": "float"
        },
        {
         "name": "Insulin_missing",
         "rawType": "float64",
         "type": "float"
        },
        {
         "name": "BMI_missing",
         "rawType": "float64",
         "type": "float"
        },
        {
         "name": "Outcome",
         "rawType": "int64",
         "type": "integer"
        }
       ],
       "ref": "561fdebe-368c-4a2b-ad49-dfdf390efda6",
       "rows": [
        [
         "0",
         "6.0",
         "148.0",
         "72.0",
         "35.0",
         "218.92",
         "33.6",
         "0.63",
         "50.0",
         "0.0",
         "0.0",
         "0.0",
         "1.0",
         "0.0",
         "1"
        ],
        [
         "1",
         "1.0",
         "85.0",
         "66.0",
         "29.0",
         "70.31",
         "26.6",
         "0.35",
         "31.0",
         "0.0",
         "0.0",
         "0.0",
         "1.0",
         "0.0",
         "0"
        ],
        [
         "2",
         "8.0",
         "183.0",
         "64.0",
         "21.64",
         "268.53",
         "23.3",
         "0.67",
         "32.0",
         "0.0",
         "0.0",
         "1.0",
         "1.0",
         "0.0",
         "1"
        ],
        [
         "3",
         "1.0",
         "89.0",
         "66.0",
         "23.0",
         "94.0",
         "28.1",
         "0.17",
         "21.0",
         "0.0",
         "0.0",
         "0.0",
         "0.0",
         "0.0",
         "0"
        ],
        [
         "4",
         "0.0",
         "137.0",
         "40.0",
         "35.0",
         "168.0",
         "43.1",
         "2.29",
         "33.0",
         "0.0",
         "0.0",
         "0.0",
         "0.0",
         "0.0",
         "1"
        ]
       ],
       "shape": {
        "columns": 14,
        "rows": 5
       }
      },
      "text/html": [
       "<div>\n",
       "<style scoped>\n",
       "    .dataframe tbody tr th:only-of-type {\n",
       "        vertical-align: middle;\n",
       "    }\n",
       "\n",
       "    .dataframe tbody tr th {\n",
       "        vertical-align: top;\n",
       "    }\n",
       "\n",
       "    .dataframe thead th {\n",
       "        text-align: right;\n",
       "    }\n",
       "</style>\n",
       "<table border=\"1\" class=\"dataframe\">\n",
       "  <thead>\n",
       "    <tr style=\"text-align: right;\">\n",
       "      <th></th>\n",
       "      <th>Pregnancies</th>\n",
       "      <th>Glucose</th>\n",
       "      <th>BloodPressure</th>\n",
       "      <th>SkinThickness</th>\n",
       "      <th>Insulin</th>\n",
       "      <th>BMI</th>\n",
       "      <th>DiabetesPedigreeFunction</th>\n",
       "      <th>Age</th>\n",
       "      <th>Glucose_missing</th>\n",
       "      <th>BloodPressure_missing</th>\n",
       "      <th>SkinThickness_missing</th>\n",
       "      <th>Insulin_missing</th>\n",
       "      <th>BMI_missing</th>\n",
       "      <th>Outcome</th>\n",
       "    </tr>\n",
       "  </thead>\n",
       "  <tbody>\n",
       "    <tr>\n",
       "      <th>0</th>\n",
       "      <td>6.0</td>\n",
       "      <td>148.0</td>\n",
       "      <td>72.0</td>\n",
       "      <td>35.00</td>\n",
       "      <td>218.92</td>\n",
       "      <td>33.6</td>\n",
       "      <td>0.63</td>\n",
       "      <td>50.0</td>\n",
       "      <td>0.0</td>\n",
       "      <td>0.0</td>\n",
       "      <td>0.0</td>\n",
       "      <td>1.0</td>\n",
       "      <td>0.0</td>\n",
       "      <td>1</td>\n",
       "    </tr>\n",
       "    <tr>\n",
       "      <th>1</th>\n",
       "      <td>1.0</td>\n",
       "      <td>85.0</td>\n",
       "      <td>66.0</td>\n",
       "      <td>29.00</td>\n",
       "      <td>70.31</td>\n",
       "      <td>26.6</td>\n",
       "      <td>0.35</td>\n",
       "      <td>31.0</td>\n",
       "      <td>0.0</td>\n",
       "      <td>0.0</td>\n",
       "      <td>0.0</td>\n",
       "      <td>1.0</td>\n",
       "      <td>0.0</td>\n",
       "      <td>0</td>\n",
       "    </tr>\n",
       "    <tr>\n",
       "      <th>2</th>\n",
       "      <td>8.0</td>\n",
       "      <td>183.0</td>\n",
       "      <td>64.0</td>\n",
       "      <td>21.64</td>\n",
       "      <td>268.53</td>\n",
       "      <td>23.3</td>\n",
       "      <td>0.67</td>\n",
       "      <td>32.0</td>\n",
       "      <td>0.0</td>\n",
       "      <td>0.0</td>\n",
       "      <td>1.0</td>\n",
       "      <td>1.0</td>\n",
       "      <td>0.0</td>\n",
       "      <td>1</td>\n",
       "    </tr>\n",
       "    <tr>\n",
       "      <th>3</th>\n",
       "      <td>1.0</td>\n",
       "      <td>89.0</td>\n",
       "      <td>66.0</td>\n",
       "      <td>23.00</td>\n",
       "      <td>94.00</td>\n",
       "      <td>28.1</td>\n",
       "      <td>0.17</td>\n",
       "      <td>21.0</td>\n",
       "      <td>0.0</td>\n",
       "      <td>0.0</td>\n",
       "      <td>0.0</td>\n",
       "      <td>0.0</td>\n",
       "      <td>0.0</td>\n",
       "      <td>0</td>\n",
       "    </tr>\n",
       "    <tr>\n",
       "      <th>4</th>\n",
       "      <td>0.0</td>\n",
       "      <td>137.0</td>\n",
       "      <td>40.0</td>\n",
       "      <td>35.00</td>\n",
       "      <td>168.00</td>\n",
       "      <td>43.1</td>\n",
       "      <td>2.29</td>\n",
       "      <td>33.0</td>\n",
       "      <td>0.0</td>\n",
       "      <td>0.0</td>\n",
       "      <td>0.0</td>\n",
       "      <td>0.0</td>\n",
       "      <td>0.0</td>\n",
       "      <td>1</td>\n",
       "    </tr>\n",
       "  </tbody>\n",
       "</table>\n",
       "</div>"
      ],
      "text/plain": [
       "   Pregnancies  Glucose  BloodPressure  SkinThickness  Insulin   BMI  \\\n",
       "0          6.0    148.0           72.0          35.00   218.92  33.6   \n",
       "1          1.0     85.0           66.0          29.00    70.31  26.6   \n",
       "2          8.0    183.0           64.0          21.64   268.53  23.3   \n",
       "3          1.0     89.0           66.0          23.00    94.00  28.1   \n",
       "4          0.0    137.0           40.0          35.00   168.00  43.1   \n",
       "\n",
       "   DiabetesPedigreeFunction   Age  Glucose_missing  BloodPressure_missing  \\\n",
       "0                      0.63  50.0              0.0                    0.0   \n",
       "1                      0.35  31.0              0.0                    0.0   \n",
       "2                      0.67  32.0              0.0                    0.0   \n",
       "3                      0.17  21.0              0.0                    0.0   \n",
       "4                      2.29  33.0              0.0                    0.0   \n",
       "\n",
       "   SkinThickness_missing  Insulin_missing  BMI_missing  Outcome  \n",
       "0                    0.0              1.0          0.0        1  \n",
       "1                    0.0              1.0          0.0        0  \n",
       "2                    1.0              1.0          0.0        1  \n",
       "3                    0.0              0.0          0.0        0  \n",
       "4                    0.0              0.0          0.0        1  "
      ]
     },
     "execution_count": 95,
     "metadata": {},
     "output_type": "execute_result"
    }
   ],
   "source": [
    "# Display first 5 rows of dataset\n",
    "df_imputed.head()"
   ]
  },
  {
   "cell_type": "code",
   "execution_count": 96,
   "id": "2c0a926f",
   "metadata": {},
   "outputs": [
    {
     "name": "stdout",
     "output_type": "stream",
     "text": [
      "<class 'pandas.core.frame.DataFrame'>\n",
      "RangeIndex: 768 entries, 0 to 767\n",
      "Data columns (total 14 columns):\n",
      " #   Column                    Non-Null Count  Dtype  \n",
      "---  ------                    --------------  -----  \n",
      " 0   Pregnancies               768 non-null    float64\n",
      " 1   Glucose                   768 non-null    float64\n",
      " 2   BloodPressure             768 non-null    float64\n",
      " 3   SkinThickness             768 non-null    float64\n",
      " 4   Insulin                   768 non-null    float64\n",
      " 5   BMI                       768 non-null    float64\n",
      " 6   DiabetesPedigreeFunction  768 non-null    float64\n",
      " 7   Age                       768 non-null    float64\n",
      " 8   Glucose_missing           768 non-null    float64\n",
      " 9   BloodPressure_missing     768 non-null    float64\n",
      " 10  SkinThickness_missing     768 non-null    float64\n",
      " 11  Insulin_missing           768 non-null    float64\n",
      " 12  BMI_missing               768 non-null    float64\n",
      " 13  Outcome                   768 non-null    int64  \n",
      "dtypes: float64(13), int64(1)\n",
      "memory usage: 84.1 KB\n"
     ]
    }
   ],
   "source": [
    "# Overview of data types and non-null counts\n",
    "df_imputed.info()"
   ]
  },
  {
   "cell_type": "code",
   "execution_count": 97,
   "id": "eb05bff4",
   "metadata": {},
   "outputs": [
    {
     "name": "stdout",
     "output_type": "stream",
     "text": [
      "Shape: (768, 14)\n"
     ]
    }
   ],
   "source": [
    "# Shape\n",
    "print(\"Shape:\", df_imputed.shape)"
   ]
  },
  {
   "cell_type": "markdown",
   "id": "1436f1be",
   "metadata": {},
   "source": [
    "#### 4.1.2 Class Distribution using Countplot\n",
    "Is the dataset balanced?\n",
    "\n",
    "Are there more diabetic or non-diabetic patients?"
   ]
  },
  {
   "cell_type": "code",
   "execution_count": 98,
   "id": "88d0a218",
   "metadata": {},
   "outputs": [
    {
     "data": {
      "image/png": "[encoded data removed]",
      "text/plain": [
       "<Figure size 640x480 with 1 Axes>"
      ]
     },
     "metadata": {},
     "output_type": "display_data"
    }
   ],
   "source": [
    "# Countplot\n",
    "sns.countplot(x='Outcome', data=df_imputed)\n",
    "plt.title(\"Distribution of Diabetes Outcome\")\n",
    "plt.xlabel(\"Diabetes Status (0 = No, 1 = Yes)\")\n",
    "plt.ylabel(\"Count\")\n",
    "plt.show()"
   ]
  },
  {
   "cell_type": "markdown",
   "id": "8920ce41",
   "metadata": {},
   "source": [
    "**Interpretation**\n",
    "\n",
    "The dataset shows a **class imbalance** in the target variable (Outcome), with more individuals labeled as non-diabetic (Outcome = 0) compared to diabetic (Outcome = 1)."
   ]
  },
  {
   "cell_type": "markdown",
   "id": "04b143af",
   "metadata": {},
   "source": [
    "#### 4.1.3 Pregnancies and Diabetes Risk\n",
    "Effect of number of pregnancies on diabetes outcome."
   ]
  },
  {
   "cell_type": "markdown",
   "id": "e3bc0a49",
   "metadata": {},
   "source": [
    "##### 4.1.3.1 Distribution Plot (Histogram) for Pregnancies"
   ]
  },
  {
   "cell_type": "code",
   "execution_count": 99,
   "id": "63fa7f3d",
   "metadata": {},
   "outputs": [
    {
     "data": {
      "image/png": "[encoded data removed]",
      "text/plain": [
       "<Figure size 800x500 with 1 Axes>"
      ]
     },
     "metadata": {},
     "output_type": "display_data"
    }
   ],
   "source": [
    "# Histogram\n",
    "plt.figure(figsize=(8,5))\n",
    "sns.histplot(df_imputed['Pregnancies'], kde=True, bins=30)\n",
    "plt.title('Distribution of Pregnancies')\n",
    "plt.xlabel('Number of Pregnancies')\n",
    "plt.ylabel('Count')\n",
    "plt.show()"
   ]
  },
  {
   "cell_type": "markdown",
   "id": "18178425",
   "metadata": {},
   "source": [
    "##### 4.1.3.2 Group Comparison Box Plot (Pregnancies vs Outcome)"
   ]
  },
  {
   "cell_type": "code",
   "execution_count": 100,
   "id": "f1ef4772",
   "metadata": {},
   "outputs": [
    {
     "data": {
      "image/png": "[encoded data removed]",
      "text/plain": [
       "<Figure size 800x500 with 1 Axes>"
      ]
     },
     "metadata": {},
     "output_type": "display_data"
    }
   ],
   "source": [
    "# Box Plot\n",
    "plt.figure(figsize=(8,5))\n",
    "sns.boxplot(x='Outcome', y='Pregnancies', data=df_imputed)\n",
    "plt.title('Pregnancies by Diabetes Outcome')\n",
    "plt.xlabel('Diabetes Outcome (0=No, 1=Yes)')\n",
    "plt.ylabel('Pregnancies')\n",
    "plt.show()"
   ]
  },
  {
   "cell_type": "markdown",
   "id": "079fba4e",
   "metadata": {},
   "source": [
    "##### 4.1.3.3 Interpretation\n",
    "Pregnancies show a right-skewed distribution with slightly higher counts among diabetics."
   ]
  },
  {
   "cell_type": "markdown",
   "id": "ad916b68",
   "metadata": {},
   "source": [
    "#### 4.1.4 Glucose Level Distribution and Impact\n",
    "Glucose levels and their relationship with diabetes."
   ]
  },
  {
   "cell_type": "markdown",
   "id": "a7847c8b",
   "metadata": {},
   "source": [
    "##### 4.1.4.1 Distribution Plot (Histogram) for Glucose Levels"
   ]
  },
  {
   "cell_type": "code",
   "execution_count": 101,
   "id": "d942bd34",
   "metadata": {},
   "outputs": [
    {
     "data": {
      "image/png": "[encoded data removed]",
      "text/plain": [
       "<Figure size 800x500 with 1 Axes>"
      ]
     },
     "metadata": {},
     "output_type": "display_data"
    }
   ],
   "source": [
    "# Histogram\n",
    "plt.figure(figsize=(8,5))\n",
    "sns.histplot(df_imputed['Glucose'], kde=True, bins=30)\n",
    "plt.title('Distribution of Glucose Levels')\n",
    "plt.xlabel('Glucose Level')\n",
    "plt.ylabel('Count')\n",
    "plt.show()"
   ]
  },
  {
   "cell_type": "markdown",
   "id": "b04c7b8b",
   "metadata": {},
   "source": [
    "##### 4.1.4.2 Group Comparison Box Plot (Glucose vs Outcome)"
   ]
  },
  {
   "cell_type": "code",
   "execution_count": 102,
   "id": "41ebc7fa",
   "metadata": {},
   "outputs": [
    {
     "data": {
      "image/png": "[encoded data removed]",
      "text/plain": [
       "<Figure size 800x500 with 1 Axes>"
      ]
     },
     "metadata": {},
     "output_type": "display_data"
    }
   ],
   "source": [
    "# Box Plot\n",
    "plt.figure(figsize=(8,5))\n",
    "sns.boxplot(x='Outcome', y='Glucose', data=df_imputed)\n",
    "plt.title('Glucosw by Diabetes Outcome')\n",
    "plt.xlabel('Diabetes Outcome (0=No, 1=Yes)')\n",
    "plt.ylabel('Glucose')\n",
    "plt.show()"
   ]
  },
  {
   "cell_type": "markdown",
   "id": "00541ffe",
   "metadata": {},
   "source": [
    "##### 4.1.4.3 Interpretation\n",
    "Glucose has visibly higher distributions among diabetic patients."
   ]
  },
  {
   "cell_type": "markdown",
   "id": "f0e83a7f",
   "metadata": {},
   "source": [
    "#### 4.1.5 Blood Pressure and Diabetes Association\n",
    "Blood pressure patterns and relationship with diabetes."
   ]
  },
  {
   "cell_type": "markdown",
   "id": "ed49ac0c",
   "metadata": {},
   "source": [
    "##### 4.1.5.1 Distribution Plot (Histogram) for Blood Pressure"
   ]
  },
  {
   "cell_type": "code",
   "execution_count": 103,
   "id": "2c2d0c86",
   "metadata": {},
   "outputs": [
    {
     "data": {
      "image/png": "[encoded data removed]",
      "text/plain": [
       "<Figure size 800x500 with 1 Axes>"
      ]
     },
     "metadata": {},
     "output_type": "display_data"
    }
   ],
   "source": [
    "# Histogram\n",
    "plt.figure(figsize=(8,5))\n",
    "sns.histplot(df_imputed['BloodPressure'], kde=True, bins=30)\n",
    "plt.title('Distribution of Blood Pressure')\n",
    "plt.xlabel('Blood Pressure (mm/Hg)')\n",
    "plt.ylabel('Count')\n",
    "plt.show()"
   ]
  },
  {
   "cell_type": "markdown",
   "id": "7e0e02ce",
   "metadata": {},
   "source": [
    "##### 4.1.5.2 Group Comparison Box Plot (Blood Pressure vs Outcome)"
   ]
  },
  {
   "cell_type": "code",
   "execution_count": 104,
   "id": "41c63ea6",
   "metadata": {},
   "outputs": [
    {
     "data": {
      "image/png": "[encoded data removed]",
      "text/plain": [
       "<Figure size 800x500 with 1 Axes>"
      ]
     },
     "metadata": {},
     "output_type": "display_data"
    }
   ],
   "source": [
    "# Box Plot\n",
    "plt.figure(figsize=(8,5))\n",
    "sns.boxplot(x='Outcome', y='BloodPressure', data=df_imputed)\n",
    "plt.title('Blood Pressure by Diabetes Outcome')\n",
    "plt.xlabel('Diabetes Outcome (0=No, 1=Yes)')\n",
    "plt.ylabel('Blood Pressure')\n",
    "plt.show()"
   ]
  },
  {
   "cell_type": "markdown",
   "id": "276f87db",
   "metadata": {},
   "source": [
    "##### 4.1.5.3 Interpretation\n",
    "Blood Pressure has overlapping distributions across classes, suggesting weaker predictive power."
   ]
  },
  {
   "cell_type": "markdown",
   "id": "8a6b9363",
   "metadata": {},
   "source": [
    "#### 4.1.6 Skin Thickness and Diabetes\n",
    "Skin thickness measurements in diabetic vs. non-diabetic groups."
   ]
  },
  {
   "cell_type": "markdown",
   "id": "10174b40",
   "metadata": {},
   "source": [
    "##### 4.1.6.1 Distribution Plot (Histogram) for Skin Thickness"
   ]
  },
  {
   "cell_type": "code",
   "execution_count": 105,
   "id": "b6b86770",
   "metadata": {},
   "outputs": [
    {
     "data": {
      "image/png": "[encoded data removed]",
      "text/plain": [
       "<Figure size 800x500 with 1 Axes>"
      ]
     },
     "metadata": {},
     "output_type": "display_data"
    }
   ],
   "source": [
    "# Histogram\n",
    "plt.figure(figsize=(8,5))\n",
    "sns.histplot(df_imputed['SkinThickness'], kde=True, bins=30)\n",
    "plt.title('Distribution of Skin Thickness')\n",
    "plt.xlabel('Skin Thickness')\n",
    "plt.ylabel('Count')\n",
    "plt.show()"
   ]
  },
  {
   "cell_type": "markdown",
   "id": "5d7069e5",
   "metadata": {},
   "source": [
    "##### 4.1.6.2 Group Comparison Box Plot (Skin Thickness vs Outcome)"
   ]
  },
  {
   "cell_type": "code",
   "execution_count": 106,
   "id": "4b052231",
   "metadata": {},
   "outputs": [
    {
     "data": {
      "image/png": "[encoded data removed]",
      "text/plain": [
       "<Figure size 800x500 with 1 Axes>"
      ]
     },
     "metadata": {},
     "output_type": "display_data"
    }
   ],
   "source": [
    "# Box Plot\n",
    "plt.figure(figsize=(8,5))\n",
    "sns.boxplot(x='Outcome', y='SkinThickness', data=df_imputed)\n",
    "plt.title('Skin Thickness by Diabetes Outcome')\n",
    "plt.xlabel('Diabetes Outcome (0=No, 1=Yes)')\n",
    "plt.ylabel('Skin Thickness')\n",
    "plt.show()"
   ]
  },
  {
   "cell_type": "markdown",
   "id": "7fe83d71",
   "metadata": {},
   "source": [
    "##### 4.1.6.3 Interpretation\n",
    "Skin Thickness has overlapping distributions across classes, suggesting weaker predictive power."
   ]
  },
  {
   "cell_type": "markdown",
   "id": "9d1fe2e1",
   "metadata": {},
   "source": [
    "#### 4.1.7 Insulin Levels and Impact on Diabetes"
   ]
  },
  {
   "cell_type": "markdown",
   "id": "3268b27d",
   "metadata": {},
   "source": [
    "##### 4.1.7.1 Distribution Plot (Histogram) for Insulin Levels"
   ]
  },
  {
   "cell_type": "code",
   "execution_count": 107,
   "id": "2c37625f",
   "metadata": {},
   "outputs": [
    {
     "data": {
      "image/png": "[encoded data removed]",
      "text/plain": [
       "<Figure size 800x500 with 1 Axes>"
      ]
     },
     "metadata": {},
     "output_type": "display_data"
    }
   ],
   "source": [
    "# Histogram\n",
    "plt.figure(figsize=(8,5))\n",
    "sns.histplot(df_imputed['Insulin'], kde=True, bins=30)\n",
    "plt.title('Distribution of Insulin Levels')\n",
    "plt.xlabel('Insulin Levels')\n",
    "plt.ylabel('Count')\n",
    "plt.show()"
   ]
  },
  {
   "cell_type": "markdown",
   "id": "66ad533d",
   "metadata": {},
   "source": [
    "##### 4.1.7.2 Group Comparison Box Plot (Insulin vs Outcome)"
   ]
  },
  {
   "cell_type": "code",
   "execution_count": 108,
   "id": "0c7cab30",
   "metadata": {},
   "outputs": [
    {
     "data": {
      "image/png": "[encoded data removed]",
      "text/plain": [
       "<Figure size 800x500 with 1 Axes>"
      ]
     },
     "metadata": {},
     "output_type": "display_data"
    }
   ],
   "source": [
    "# Box Plot\n",
    "plt.figure(figsize=(8,5))\n",
    "sns.boxplot(x='Outcome', y='Insulin', data=df_imputed)\n",
    "plt.title('Insulin by Diabetes Outcome')\n",
    "plt.xlabel('Diabetes Outcome (0=No, 1=Yes)')\n",
    "plt.ylabel('Insulin')\n",
    "plt.show()"
   ]
  },
  {
   "cell_type": "markdown",
   "id": "0320e373",
   "metadata": {},
   "source": [
    "##### 4.1.7.3 Interpretation\n",
    "Insulin shows a right-skewed distribution, suggesting that while most individuals have moderate insulin levels, a few have extremely high values. It also show shifts between diabetic and non-diabetic groups."
   ]
  },
  {
   "cell_type": "markdown",
   "id": "d19478b9",
   "metadata": {},
   "source": [
    "#### 4.1.8 Body Mass Index (BMI) and Diabetes\n",
    "BMI’s influence on diabetes risk."
   ]
  },
  {
   "cell_type": "markdown",
   "id": "3a0e849b",
   "metadata": {},
   "source": [
    "##### 4.1.8.1 Distribution Plot (Histogram) for BMI"
   ]
  },
  {
   "cell_type": "code",
   "execution_count": 109,
   "id": "5d5aebb0",
   "metadata": {},
   "outputs": [
    {
     "data": {
      "image/png": "[encoded data removed]",
      "text/plain": [
       "<Figure size 800x500 with 1 Axes>"
      ]
     },
     "metadata": {},
     "output_type": "display_data"
    }
   ],
   "source": [
    "# Histogram\n",
    "plt.figure(figsize=(8,5))\n",
    "sns.histplot(df_imputed['BMI'], kde=True, bins=30)\n",
    "plt.title('Distribution of BMI')\n",
    "plt.xlabel('BMI')\n",
    "plt.ylabel('Count')\n",
    "plt.show()"
   ]
  },
  {
   "cell_type": "markdown",
   "id": "921314d7",
   "metadata": {},
   "source": [
    "##### 4.1.8.2 Group Comparison Box Plot (BMI vs Outcome)"
   ]
  },
  {
   "cell_type": "code",
   "execution_count": 110,
   "id": "c2a98fda",
   "metadata": {},
   "outputs": [
    {
     "data": {
      "image/png": "[encoded data removed]",
      "text/plain": [
       "<Figure size 800x500 with 1 Axes>"
      ]
     },
     "metadata": {},
     "output_type": "display_data"
    }
   ],
   "source": [
    "# Box Plot\n",
    "plt.figure(figsize=(8,5))\n",
    "sns.boxplot(x='Outcome', y='BMI', data=df_imputed)\n",
    "plt.title('BMI by Diabetes Outcome')\n",
    "plt.xlabel('Diabetes Outcome (0=No, 1=Yes)')\n",
    "plt.ylabel('BMI')\n",
    "plt.show()"
   ]
  },
  {
   "cell_type": "markdown",
   "id": "e5965ea7",
   "metadata": {},
   "source": [
    "##### 4.1.8.3 Interpretation\n",
    "BMI has visibly higher distributions among diabetic patients."
   ]
  },
  {
   "cell_type": "markdown",
   "id": "3f218ac4",
   "metadata": {},
   "source": [
    "#### 4.1.9 Diabetes Pedigree Function (Genetic Risk)\n",
    "Genetic predisposition to diabetes through pedigree function."
   ]
  },
  {
   "cell_type": "markdown",
   "id": "00eade68",
   "metadata": {},
   "source": [
    "##### 4.1.9.1 Distribution Plot (Histogram) for Diabetes Pedigree Function"
   ]
  },
  {
   "cell_type": "code",
   "execution_count": 111,
   "id": "d057b008",
   "metadata": {},
   "outputs": [
    {
     "data": {
      "image/png": "[encoded data removed]",
      "text/plain": [
       "<Figure size 800x500 with 1 Axes>"
      ]
     },
     "metadata": {},
     "output_type": "display_data"
    }
   ],
   "source": [
    "# Histogram\n",
    "plt.figure(figsize=(8,5))\n",
    "sns.histplot(df_imputed['DiabetesPedigreeFunction'], kde=True, bins=30)\n",
    "plt.title('Distribution of Diabetes Pedigree Function')\n",
    "plt.xlabel('Diabetes Pedigree Function')\n",
    "plt.ylabel('Count')\n",
    "plt.show()"
   ]
  },
  {
   "cell_type": "markdown",
   "id": "833e5306",
   "metadata": {},
   "source": [
    "##### 4.1.9.2 Group Comparison Box Plot (Diabetes Pedigree Function vs Outcome)"
   ]
  },
  {
   "cell_type": "code",
   "execution_count": 112,
   "id": "f4efa371",
   "metadata": {},
   "outputs": [
    {
     "data": {
      "image/png": "[encoded data removed]",
      "text/plain": [
       "<Figure size 800x500 with 1 Axes>"
      ]
     },
     "metadata": {},
     "output_type": "display_data"
    }
   ],
   "source": [
    "# Box Plot\n",
    "plt.figure(figsize=(8,5))\n",
    "sns.boxplot(x='Outcome', y='DiabetesPedigreeFunction', data=df_imputed)\n",
    "plt.title('Diabetes Pedigree Function by Diabetes Outcome')\n",
    "plt.xlabel('Diabetes Outcome (0=No, 1=Yes)')\n",
    "plt.ylabel('Diabetes Pedigree Function')\n",
    "plt.show()"
   ]
  },
  {
   "cell_type": "markdown",
   "id": "4fae470b",
   "metadata": {},
   "source": [
    "##### 4.1.9.3 Interpretation\n",
    "Diabetes Pedigree Function (DPF) shows shifts between diabetic and non-diabetic groups."
   ]
  },
  {
   "cell_type": "markdown",
   "id": "8391d0ac",
   "metadata": {},
   "source": [
    "#### 4.1.10 Age Distribution and Diabetes Prevalence\n",
    "Age-related trends in diabetes occurrence."
   ]
  },
  {
   "cell_type": "markdown",
   "id": "bc00ae4a",
   "metadata": {},
   "source": [
    "##### 4.1.10.1 Distribution Plot (Histogram) for Age"
   ]
  },
  {
   "cell_type": "code",
   "execution_count": 113,
   "id": "aabb3137",
   "metadata": {},
   "outputs": [
    {
     "data": {
      "image/png": "[encoded data removed]",
      "text/plain": [
       "<Figure size 800x500 with 1 Axes>"
      ]
     },
     "metadata": {},
     "output_type": "display_data"
    }
   ],
   "source": [
    "# Histogram\n",
    "plt.figure(figsize=(8,5))\n",
    "sns.histplot(df_imputed['Age'], kde=True, bins=30)\n",
    "plt.title('Distribution of Age')\n",
    "plt.xlabel('Age')\n",
    "plt.ylabel('Count')\n",
    "plt.show()"
   ]
  },
  {
   "cell_type": "markdown",
   "id": "53201b51",
   "metadata": {},
   "source": [
    "##### 4.1.10.2 Group Comparison Box Plot (Age vs Outcome)"
   ]
  },
  {
   "cell_type": "code",
   "execution_count": 114,
   "id": "068961d6",
   "metadata": {},
   "outputs": [
    {
     "data": {
      "image/png": "[encoded data removed]",
      "text/plain": [
       "<Figure size 800x500 with 1 Axes>"
      ]
     },
     "metadata": {},
     "output_type": "display_data"
    }
   ],
   "source": [
    "# Box Plot\n",
    "plt.figure(figsize=(8,5))\n",
    "sns.boxplot(x='Outcome', y='Age', data=df_imputed)\n",
    "plt.title('Age by Diabetes Outcome')\n",
    "plt.xlabel('Diabetes Outcome (0=No, 1=Yes)')\n",
    "plt.ylabel('Age')\n",
    "plt.show()"
   ]
  },
  {
   "cell_type": "markdown",
   "id": "2899dbae",
   "metadata": {},
   "source": [
    "##### 4.1.10.3 Interpretation\n",
    "Age shows shifts between diabetic and non-diabetic groups."
   ]
  },
  {
   "cell_type": "markdown",
   "id": "11c490f5",
   "metadata": {},
   "source": [
    "#### 4.1.11 Correlation Matrix and Multicollinearity Check"
   ]
  },
  {
   "cell_type": "markdown",
   "id": "b03599ef",
   "metadata": {},
   "source": [
    "##### 4.1.11.1 Correlation Matrix demonstrated using Heatmap"
   ]
  },
  {
   "cell_type": "code",
   "execution_count": 115,
   "id": "ec91a843",
   "metadata": {},
   "outputs": [
    {
     "data": {
      "image/png": "[encoded data removed]",
      "text/plain": [
       "<Figure size 1000x800 with 2 Axes>"
      ]
     },
     "metadata": {},
     "output_type": "display_data"
    }
   ],
   "source": [
    "# Select numeric columns\n",
    "columns = ['Pregnancies', 'Glucose', 'BloodPressure', 'BMI', 'Age',\n",
    "           'Insulin', 'SkinThickness', 'DiabetesPedigreeFunction', 'Outcome']\n",
    "\n",
    "# Compute Spearman correlation matrix\n",
    "corr_matrix = df_imputed[columns].corr(method='spearman')\n",
    "\n",
    "# Create the heatmap\n",
    "plt.figure(figsize=(10, 8))\n",
    "sns.heatmap(corr_matrix, annot=True, cmap='coolwarm', center=0, linewidths=0.5)\n",
    "plt.title('Correlation Heatmap of Diabetes Dataset')\n",
    "plt.show()\n"
   ]
  },
  {
   "cell_type": "markdown",
   "id": "90bf99c7",
   "metadata": {},
   "source": [
    "**Intepretation**\n",
    "\n",
    "The strongest positive correlation is between glucose and insulin levels.\n",
    "\n",
    "Glucose has the strongest positive correlation with Outcome.\n",
    "\n",
    "BMI and SkinThickness correlation indicate a strong positive linear relationship.\n",
    "\n",
    "Pregnancies and Age correlation indicates a moderate to strong postive linear relationship.\n",
    "\n",
    "DPF may show weak-to-moderate correlation but still contributes."
   ]
  },
  {
   "cell_type": "markdown",
   "id": "da916038",
   "metadata": {},
   "source": [
    "##### 4.1.11.2 Multicollinearity Check using Variance Inflation Factor (VIF)\n",
    "VIF does quantitative measure of multicollinearity"
   ]
  },
  {
   "cell_type": "code",
   "execution_count": 116,
   "id": "bbedb3aa",
   "metadata": {},
   "outputs": [
    {
     "data": {
      "application/vnd.microsoft.datawrangler.viewer.v0+json": {
       "columns": [
        {
         "name": "index",
         "rawType": "int64",
         "type": "integer"
        },
        {
         "name": "feature",
         "rawType": "object",
         "type": "string"
        },
        {
         "name": "VIF",
         "rawType": "float64",
         "type": "float"
        }
       ],
       "ref": "ed470bf3-dd1a-4ac8-a085-9394be968fc1",
       "rows": [
        [
         "0",
         "Pregnancies",
         "1.435899719990754"
        ],
        [
         "1",
         "Glucose",
         "2.070583812146554"
        ],
        [
         "2",
         "BloodPressure",
         "1.2698189776441011"
        ],
        [
         "3",
         "BMI",
         "2.2107545766100043"
        ],
        [
         "4",
         "Age",
         "1.649577824331462"
        ],
        [
         "5",
         "Insulin",
         "2.0354437282134192"
        ],
        [
         "6",
         "SkinThickness",
         "2.078678557175395"
        ],
        [
         "7",
         "DiabetesPedigreeFunction",
         "1.0450590954994174"
        ]
       ],
       "shape": {
        "columns": 2,
        "rows": 8
       }
      },
      "text/html": [
       "<div>\n",
       "<style scoped>\n",
       "    .dataframe tbody tr th:only-of-type {\n",
       "        vertical-align: middle;\n",
       "    }\n",
       "\n",
       "    .dataframe tbody tr th {\n",
       "        vertical-align: top;\n",
       "    }\n",
       "\n",
       "    .dataframe thead th {\n",
       "        text-align: right;\n",
       "    }\n",
       "</style>\n",
       "<table border=\"1\" class=\"dataframe\">\n",
       "  <thead>\n",
       "    <tr style=\"text-align: right;\">\n",
       "      <th></th>\n",
       "      <th>feature</th>\n",
       "      <th>VIF</th>\n",
       "    </tr>\n",
       "  </thead>\n",
       "  <tbody>\n",
       "    <tr>\n",
       "      <th>0</th>\n",
       "      <td>Pregnancies</td>\n",
       "      <td>1.435900</td>\n",
       "    </tr>\n",
       "    <tr>\n",
       "      <th>1</th>\n",
       "      <td>Glucose</td>\n",
       "      <td>2.070584</td>\n",
       "    </tr>\n",
       "    <tr>\n",
       "      <th>2</th>\n",
       "      <td>BloodPressure</td>\n",
       "      <td>1.269819</td>\n",
       "    </tr>\n",
       "    <tr>\n",
       "      <th>3</th>\n",
       "      <td>BMI</td>\n",
       "      <td>2.210755</td>\n",
       "    </tr>\n",
       "    <tr>\n",
       "      <th>4</th>\n",
       "      <td>Age</td>\n",
       "      <td>1.649578</td>\n",
       "    </tr>\n",
       "    <tr>\n",
       "      <th>5</th>\n",
       "      <td>Insulin</td>\n",
       "      <td>2.035444</td>\n",
       "    </tr>\n",
       "    <tr>\n",
       "      <th>6</th>\n",
       "      <td>SkinThickness</td>\n",
       "      <td>2.078679</td>\n",
       "    </tr>\n",
       "    <tr>\n",
       "      <th>7</th>\n",
       "      <td>DiabetesPedigreeFunction</td>\n",
       "      <td>1.045059</td>\n",
       "    </tr>\n",
       "  </tbody>\n",
       "</table>\n",
       "</div>"
      ],
      "text/plain": [
       "                    feature       VIF\n",
       "0               Pregnancies  1.435900\n",
       "1                   Glucose  2.070584\n",
       "2             BloodPressure  1.269819\n",
       "3                       BMI  2.210755\n",
       "4                       Age  1.649578\n",
       "5                   Insulin  2.035444\n",
       "6             SkinThickness  2.078679\n",
       "7  DiabetesPedigreeFunction  1.045059"
      ]
     },
     "execution_count": 116,
     "metadata": {},
     "output_type": "execute_result"
    }
   ],
   "source": [
    "features = ['Pregnancies', 'Glucose', 'BloodPressure', 'BMI', 'Age', 'Insulin', 'SkinThickness', 'DiabetesPedigreeFunction']\n",
    "\n",
    "X = df_imputed[features]\n",
    "X_const = sm.add_constant(X)\n",
    "\n",
    "vif_data = pd.DataFrame()\n",
    "vif_data['feature'] = X.columns\n",
    "vif_data['VIF'] = [variance_inflation_factor(X_const.values, i+1) for i in range(len(X.columns))]\n",
    "\n",
    "vif_data"
   ]
  },
  {
   "cell_type": "markdown",
   "id": "c4f62c08",
   "metadata": {},
   "source": [
    "**Interpretation**\n",
    "\n",
    "All VIF values are well below 5, which is commonly used as a threshold for concern.\n",
    "\n",
    "This means multicollinearity is not a serious problem in this dataset.\n",
    "\n",
    "All features can be safely kept in the classification model to be built without worrying about multicollinearity inflating variances."
   ]
  },
  {
   "cell_type": "markdown",
   "id": "6438bd39",
   "metadata": {},
   "source": [
    "#### 4.1.12 Key Findings from EDA"
   ]
  },
  {
   "cell_type": "markdown",
   "id": "20c3a225",
   "metadata": {},
   "source": [
    "##### 1. Glucose\n",
    "Patients with diabetes have **significantly higher glucose levels**, as shown by histograms and boxplots.\n",
    "Glucose also shows one of the **strongest positive correlations with the Outcome variable**. Higher glucose levels are **strongly associated** with diabetic cases. It is a **key predictor of diabetes risk** and should be prioritized in model development.\n",
    "##### 2. BMI (Body Mass Index)\n",
    "Diabetic patients tend to have a **higher BMI distribution** compared to non-diabetics. Boxplots indicate a clear upward shift in BMI for the diabetic group. This supports the established medical link between **obesity and diabetes**. Higher BMI correlates with increased diabetes risk, as obesity is a **known contributor** to insulin resistance.\n",
    "##### 3. Insulin\n",
    "The insulin levels of diabetics are **more varied and generally higher**.\n",
    "Some imputed values exist, but the trend remains visible.\n",
    "Though slightly less correlated to the outcome variable than glucose or BMI, insulin still adds **predictive value**.\n",
    "##### 4. Age\n",
    "The average age of diabetic patients is higher, and age has a **moderate correlation** with the diabetes outcome.\n",
    "This implies that **increasing age is associated with increased risk**. Older age groups show higher diabetes incidence, likely due to cumulative metabolic stress and declining insulin sensitivity.\n",
    "##### 5. Diabetes Pedigree Function (DPF)\n",
    "Diabetics exhibit **higher DPF values**.\n",
    "While its correlation with Outcome is weaker than glucose or BMI, it still contributes to **risk profiling based on family history**, highlighting the role of heredity.\n",
    "##### 6. Pregnancies\n",
    "The variable is skewed, with a long tail, but still shows potential as a **contributing feature**, especially in this female-only dataset. Higher pregnancy counts correlate with increased diabetes risk, potentially due to gestational diabetes history or metabolic changes post-pregnancy.\n",
    "##### 7. Skin Thickness & Blood Pressure\n",
    "These features showed **less distinct separation** between diabetic and non-diabetic groups in boxplots.\n",
    "They may carry **limited individual predictive power**, but could still add value in combination with stronger predictors.\n",
    "**Higher skinfold thickness** (a proxy for body fat) correlates with **insulin resistance** and **diabetes risk**.\n",
    "##### 8. Correlation of Insulin and Glucose\n",
    "There is a **strong positive correlation** between glucose and insulin levels. Correlation heatmap shows that as glucose levels increase, insulin levels tend to increase as well. This relationship is expected, as insulin is the hormone responsible for lowering blood glucose, and higher glucose often triggers higher insulin production (unless insulin resistance or deficiency is present).\n",
    "##### 9. Correlation between BMI and Skin Thickness\n",
    "There is a **strong positive linear relationship** between BMI and skin thickness. This suggests that individuals with **higher BMI** tend to have **thicker skinfolds**, which aligns with the fact that both are **indicators of body fat**. Both BMI and SkinThickness are **biologically relevant** to **diabetes risk** (they relate to body fat and insulin resistance), so including them can improve model accuracy.\n",
    "##### 10. Correlation between Pregnancies and Age\n",
    "There is a **moderate to strong positive linear relationship** between age and the number of pregnancies. Older individuals tend to report more pregnancies, which is logically expected due to increased reproductive time. Both features are **logically linked to diabetes risk** — age is a major risk factor, and number of pregnancies (especially gestational diabetes) is also relevant.\n",
    "##### 11. Multicollinearity (VIF Analysis)\n",
    "All features had **VIF < 5**, indicating **no problematic multicollinearity**.\n",
    "This means the features are not redundant and can be **safely included together** in the model.\n",
    "##### 12. Outcome\n",
    "There is **class imbalance**. The dataset is skewed: 500 non-diabetic (Class 0) vs. 268 diabetic (Class 1) cases. This imbalance may affect model accuracy if unaddressed."
   ]
  },
  {
   "cell_type": "markdown",
   "id": "e3ffb748",
   "metadata": {},
   "source": [
    "### 4.2 DESCRIPTIVE STATISTICS"
   ]
  },
  {
   "cell_type": "markdown",
   "id": "bb6ed258",
   "metadata": {},
   "source": [
    "#### 4.2.1 Overall Descriptive Analysis"
   ]
  },
  {
   "cell_type": "code",
   "execution_count": 121,
   "id": "895edf73",
   "metadata": {},
   "outputs": [
    {
     "name": "stdout",
     "output_type": "stream",
     "text": [
      "\n",
      "Overall Descriptive Analysis:\n"
     ]
    },
    {
     "data": {
      "application/vnd.microsoft.datawrangler.viewer.v0+json": {
       "columns": [
        {
         "name": "index",
         "rawType": "object",
         "type": "string"
        },
        {
         "name": "count",
         "rawType": "float64",
         "type": "float"
        },
        {
         "name": "mean",
         "rawType": "float64",
         "type": "float"
        },
        {
         "name": "std",
         "rawType": "float64",
         "type": "float"
        },
        {
         "name": "min",
         "rawType": "float64",
         "type": "float"
        },
        {
         "name": "25%",
         "rawType": "float64",
         "type": "float"
        },
        {
         "name": "50%",
         "rawType": "float64",
         "type": "float"
        },
        {
         "name": "75%",
         "rawType": "float64",
         "type": "float"
        },
        {
         "name": "max",
         "rawType": "float64",
         "type": "float"
        }
       ],
       "ref": "307fab9d-ab53-4913-adf9-c15ef0a61d4a",
       "rows": [
        [
         "Pregnancies",
         "768.0",
         "3.85",
         "3.37",
         "0.0",
         "1.0",
         "3.0",
         "6.0",
         "17.0"
        ],
        [
         "BloodPressure",
         "768.0",
         "72.36",
         "12.15",
         "24.0",
         "64.0",
         "72.0",
         "80.0",
         "122.0"
        ],
        [
         "SkinThickness",
         "768.0",
         "28.93",
         "9.52",
         "7.0",
         "22.22",
         "28.44",
         "35.0",
         "99.0"
        ],
        [
         "Glucose",
         "768.0",
         "121.64",
         "30.47",
         "44.0",
         "99.0",
         "117.0",
         "140.25",
         "199.0"
        ],
        [
         "Insulin",
         "768.0",
         "152.68",
         "97.28",
         "14.0",
         "89.99",
         "130.2",
         "190.0",
         "846.0"
        ],
        [
         "BMI",
         "768.0",
         "32.44",
         "6.88",
         "18.2",
         "27.5",
         "32.0",
         "36.6",
         "67.1"
        ],
        [
         "DiabetesPedigreeFunction",
         "768.0",
         "0.47",
         "0.33",
         "0.08",
         "0.24",
         "0.37",
         "0.63",
         "2.42"
        ],
        [
         "Age",
         "768.0",
         "33.24",
         "11.76",
         "21.0",
         "24.0",
         "29.0",
         "41.0",
         "81.0"
        ]
       ],
       "shape": {
        "columns": 8,
        "rows": 8
       }
      },
      "text/html": [
       "<div>\n",
       "<style scoped>\n",
       "    .dataframe tbody tr th:only-of-type {\n",
       "        vertical-align: middle;\n",
       "    }\n",
       "\n",
       "    .dataframe tbody tr th {\n",
       "        vertical-align: top;\n",
       "    }\n",
       "\n",
       "    .dataframe thead th {\n",
       "        text-align: right;\n",
       "    }\n",
       "</style>\n",
       "<table border=\"1\" class=\"dataframe\">\n",
       "  <thead>\n",
       "    <tr style=\"text-align: right;\">\n",
       "      <th></th>\n",
       "      <th>count</th>\n",
       "      <th>mean</th>\n",
       "      <th>std</th>\n",
       "      <th>min</th>\n",
       "      <th>25%</th>\n",
       "      <th>50%</th>\n",
       "      <th>75%</th>\n",
       "      <th>max</th>\n",
       "    </tr>\n",
       "  </thead>\n",
       "  <tbody>\n",
       "    <tr>\n",
       "      <th>Pregnancies</th>\n",
       "      <td>768.0</td>\n",
       "      <td>3.85</td>\n",
       "      <td>3.37</td>\n",
       "      <td>0.00</td>\n",
       "      <td>1.00</td>\n",
       "      <td>3.00</td>\n",
       "      <td>6.00</td>\n",
       "      <td>17.00</td>\n",
       "    </tr>\n",
       "    <tr>\n",
       "      <th>BloodPressure</th>\n",
       "      <td>768.0</td>\n",
       "      <td>72.36</td>\n",
       "      <td>12.15</td>\n",
       "      <td>24.00</td>\n",
       "      <td>64.00</td>\n",
       "      <td>72.00</td>\n",
       "      <td>80.00</td>\n",
       "      <td>122.00</td>\n",
       "    </tr>\n",
       "    <tr>\n",
       "      <th>SkinThickness</th>\n",
       "      <td>768.0</td>\n",
       "      <td>28.93</td>\n",
       "      <td>9.52</td>\n",
       "      <td>7.00</td>\n",
       "      <td>22.22</td>\n",
       "      <td>28.44</td>\n",
       "      <td>35.00</td>\n",
       "      <td>99.00</td>\n",
       "    </tr>\n",
       "    <tr>\n",
       "      <th>Glucose</th>\n",
       "      <td>768.0</td>\n",
       "      <td>121.64</td>\n",
       "      <td>30.47</td>\n",
       "      <td>44.00</td>\n",
       "      <td>99.00</td>\n",
       "      <td>117.00</td>\n",
       "      <td>140.25</td>\n",
       "      <td>199.00</td>\n",
       "    </tr>\n",
       "    <tr>\n",
       "      <th>Insulin</th>\n",
       "      <td>768.0</td>\n",
       "      <td>152.68</td>\n",
       "      <td>97.28</td>\n",
       "      <td>14.00</td>\n",
       "      <td>89.99</td>\n",
       "      <td>130.20</td>\n",
       "      <td>190.00</td>\n",
       "      <td>846.00</td>\n",
       "    </tr>\n",
       "    <tr>\n",
       "      <th>BMI</th>\n",
       "      <td>768.0</td>\n",
       "      <td>32.44</td>\n",
       "      <td>6.88</td>\n",
       "      <td>18.20</td>\n",
       "      <td>27.50</td>\n",
       "      <td>32.00</td>\n",
       "      <td>36.60</td>\n",
       "      <td>67.10</td>\n",
       "    </tr>\n",
       "    <tr>\n",
       "      <th>DiabetesPedigreeFunction</th>\n",
       "      <td>768.0</td>\n",
       "      <td>0.47</td>\n",
       "      <td>0.33</td>\n",
       "      <td>0.08</td>\n",
       "      <td>0.24</td>\n",
       "      <td>0.37</td>\n",
       "      <td>0.63</td>\n",
       "      <td>2.42</td>\n",
       "    </tr>\n",
       "    <tr>\n",
       "      <th>Age</th>\n",
       "      <td>768.0</td>\n",
       "      <td>33.24</td>\n",
       "      <td>11.76</td>\n",
       "      <td>21.00</td>\n",
       "      <td>24.00</td>\n",
       "      <td>29.00</td>\n",
       "      <td>41.00</td>\n",
       "      <td>81.00</td>\n",
       "    </tr>\n",
       "  </tbody>\n",
       "</table>\n",
       "</div>"
      ],
      "text/plain": [
       "                          count    mean    std    min    25%     50%     75%  \\\n",
       "Pregnancies               768.0    3.85   3.37   0.00   1.00    3.00    6.00   \n",
       "BloodPressure             768.0   72.36  12.15  24.00  64.00   72.00   80.00   \n",
       "SkinThickness             768.0   28.93   9.52   7.00  22.22   28.44   35.00   \n",
       "Glucose                   768.0  121.64  30.47  44.00  99.00  117.00  140.25   \n",
       "Insulin                   768.0  152.68  97.28  14.00  89.99  130.20  190.00   \n",
       "BMI                       768.0   32.44   6.88  18.20  27.50   32.00   36.60   \n",
       "DiabetesPedigreeFunction  768.0    0.47   0.33   0.08   0.24    0.37    0.63   \n",
       "Age                       768.0   33.24  11.76  21.00  24.00   29.00   41.00   \n",
       "\n",
       "                             max  \n",
       "Pregnancies                17.00  \n",
       "BloodPressure             122.00  \n",
       "SkinThickness              99.00  \n",
       "Glucose                   199.00  \n",
       "Insulin                   846.00  \n",
       "BMI                        67.10  \n",
       "DiabetesPedigreeFunction    2.42  \n",
       "Age                        81.00  "
      ]
     },
     "execution_count": 121,
     "metadata": {},
     "output_type": "execute_result"
    }
   ],
   "source": [
    "features = [\"Pregnancies\", \"BloodPressure\", \"SkinThickness\", \n",
    "            \"Glucose\", \"Insulin\", \"BMI\", \"DiabetesPedigreeFunction\", \"Age\"]\n",
    "\n",
    "# Get the descriptive stats\n",
    "combined_desc = df_imputed[features].describe().round(2).transpose()\n",
    "\n",
    "# Display the table\n",
    "print(\"\\nOverall Descriptive Analysis:\")\n",
    "combined_desc"
   ]
  },
  {
   "cell_type": "markdown",
   "id": "b856b9d9",
   "metadata": {},
   "source": [
    "#### 4.2.2 Descriptive Analysis based on Diabetic Status"
   ]
  },
  {
   "cell_type": "code",
   "execution_count": 127,
   "id": "b072b783",
   "metadata": {},
   "outputs": [
    {
     "name": "stdout",
     "output_type": "stream",
     "text": [
      "Descriptive Statistics for Non-Diabetics:\n",
      "\n",
      "Descriptive Statistics for Diabetics:\n"
     ]
    },
    {
     "data": {
      "application/vnd.microsoft.datawrangler.viewer.v0+json": {
       "columns": [
        {
         "name": "index",
         "rawType": "int64",
         "type": "integer"
        },
        {
         "name": "Feature",
         "rawType": "object",
         "type": "string"
        },
        {
         "name": "25%",
         "rawType": "float64",
         "type": "float"
        },
        {
         "name": "50%",
         "rawType": "float64",
         "type": "float"
        },
        {
         "name": "75%",
         "rawType": "float64",
         "type": "float"
        },
        {
         "name": "count",
         "rawType": "float64",
         "type": "float"
        },
        {
         "name": "max",
         "rawType": "float64",
         "type": "float"
        },
        {
         "name": "mean",
         "rawType": "float64",
         "type": "float"
        },
        {
         "name": "min",
         "rawType": "float64",
         "type": "float"
        },
        {
         "name": "std",
         "rawType": "float64",
         "type": "float"
        }
       ],
       "ref": "4c619180-3998-4764-a7b8-d92b2db5226c",
       "rows": [
        [
         "0",
         "Age",
         "28.0",
         "36.0",
         "44.0",
         "268.0",
         "70.0",
         "37.07",
         "21.0",
         "10.97"
        ],
        [
         "1",
         "BMI",
         "30.9",
         "34.3",
         "38.78",
         "268.0",
         "67.1",
         "35.39",
         "22.9",
         "6.59"
        ],
        [
         "2",
         "BloodPressure",
         "68.0",
         "74.0",
         "82.0",
         "268.0",
         "114.0",
         "75.27",
         "30.0",
         "11.98"
        ],
        [
         "3",
         "DiabetesPedigreeFunction",
         "0.26",
         "0.45",
         "0.73",
         "268.0",
         "2.42",
         "0.55",
         "0.09",
         "0.37"
        ],
        [
         "4",
         "Glucose",
         "119.0",
         "140.0",
         "167.0",
         "268.0",
         "199.0",
         "142.24",
         "78.0",
         "29.5"
        ],
        [
         "5",
         "Insulin",
         "130.98",
         "178.11",
         "240.16",
         "268.0",
         "846.0",
         "200.49",
         "14.0",
         "103.19"
        ],
        [
         "6",
         "Pregnancies",
         "1.75",
         "4.0",
         "8.0",
         "268.0",
         "17.0",
         "4.87",
         "0.0",
         "3.74"
        ],
        [
         "7",
         "SkinThickness",
         "27.0",
         "32.0",
         "37.95",
         "268.0",
         "99.0",
         "32.55",
         "7.0",
         "9.17"
        ]
       ],
       "shape": {
        "columns": 9,
        "rows": 8
       }
      },
      "text/html": [
       "<div>\n",
       "<style scoped>\n",
       "    .dataframe tbody tr th:only-of-type {\n",
       "        vertical-align: middle;\n",
       "    }\n",
       "\n",
       "    .dataframe tbody tr th {\n",
       "        vertical-align: top;\n",
       "    }\n",
       "\n",
       "    .dataframe thead th {\n",
       "        text-align: right;\n",
       "    }\n",
       "</style>\n",
       "<table border=\"1\" class=\"dataframe\">\n",
       "  <thead>\n",
       "    <tr style=\"text-align: right;\">\n",
       "      <th>Statistic</th>\n",
       "      <th>Feature</th>\n",
       "      <th>25%</th>\n",
       "      <th>50%</th>\n",
       "      <th>75%</th>\n",
       "      <th>count</th>\n",
       "      <th>max</th>\n",
       "      <th>mean</th>\n",
       "      <th>min</th>\n",
       "      <th>std</th>\n",
       "    </tr>\n",
       "  </thead>\n",
       "  <tbody>\n",
       "    <tr>\n",
       "      <th>0</th>\n",
       "      <td>Age</td>\n",
       "      <td>28.00</td>\n",
       "      <td>36.00</td>\n",
       "      <td>44.00</td>\n",
       "      <td>268.0</td>\n",
       "      <td>70.00</td>\n",
       "      <td>37.07</td>\n",
       "      <td>21.00</td>\n",
       "      <td>10.97</td>\n",
       "    </tr>\n",
       "    <tr>\n",
       "      <th>1</th>\n",
       "      <td>BMI</td>\n",
       "      <td>30.90</td>\n",
       "      <td>34.30</td>\n",
       "      <td>38.78</td>\n",
       "      <td>268.0</td>\n",
       "      <td>67.10</td>\n",
       "      <td>35.39</td>\n",
       "      <td>22.90</td>\n",
       "      <td>6.59</td>\n",
       "    </tr>\n",
       "    <tr>\n",
       "      <th>2</th>\n",
       "      <td>BloodPressure</td>\n",
       "      <td>68.00</td>\n",
       "      <td>74.00</td>\n",
       "      <td>82.00</td>\n",
       "      <td>268.0</td>\n",
       "      <td>114.00</td>\n",
       "      <td>75.27</td>\n",
       "      <td>30.00</td>\n",
       "      <td>11.98</td>\n",
       "    </tr>\n",
       "    <tr>\n",
       "      <th>3</th>\n",
       "      <td>DiabetesPedigreeFunction</td>\n",
       "      <td>0.26</td>\n",
       "      <td>0.45</td>\n",
       "      <td>0.73</td>\n",
       "      <td>268.0</td>\n",
       "      <td>2.42</td>\n",
       "      <td>0.55</td>\n",
       "      <td>0.09</td>\n",
       "      <td>0.37</td>\n",
       "    </tr>\n",
       "    <tr>\n",
       "      <th>4</th>\n",
       "      <td>Glucose</td>\n",
       "      <td>119.00</td>\n",
       "      <td>140.00</td>\n",
       "      <td>167.00</td>\n",
       "      <td>268.0</td>\n",
       "      <td>199.00</td>\n",
       "      <td>142.24</td>\n",
       "      <td>78.00</td>\n",
       "      <td>29.50</td>\n",
       "    </tr>\n",
       "    <tr>\n",
       "      <th>5</th>\n",
       "      <td>Insulin</td>\n",
       "      <td>130.98</td>\n",
       "      <td>178.11</td>\n",
       "      <td>240.16</td>\n",
       "      <td>268.0</td>\n",
       "      <td>846.00</td>\n",
       "      <td>200.49</td>\n",
       "      <td>14.00</td>\n",
       "      <td>103.19</td>\n",
       "    </tr>\n",
       "    <tr>\n",
       "      <th>6</th>\n",
       "      <td>Pregnancies</td>\n",
       "      <td>1.75</td>\n",
       "      <td>4.00</td>\n",
       "      <td>8.00</td>\n",
       "      <td>268.0</td>\n",
       "      <td>17.00</td>\n",
       "      <td>4.87</td>\n",
       "      <td>0.00</td>\n",
       "      <td>3.74</td>\n",
       "    </tr>\n",
       "    <tr>\n",
       "      <th>7</th>\n",
       "      <td>SkinThickness</td>\n",
       "      <td>27.00</td>\n",
       "      <td>32.00</td>\n",
       "      <td>37.95</td>\n",
       "      <td>268.0</td>\n",
       "      <td>99.00</td>\n",
       "      <td>32.55</td>\n",
       "      <td>7.00</td>\n",
       "      <td>9.17</td>\n",
       "    </tr>\n",
       "  </tbody>\n",
       "</table>\n",
       "</div>"
      ],
      "text/plain": [
       "Statistic                   Feature     25%     50%     75%  count     max  \\\n",
       "0                               Age   28.00   36.00   44.00  268.0   70.00   \n",
       "1                               BMI   30.90   34.30   38.78  268.0   67.10   \n",
       "2                     BloodPressure   68.00   74.00   82.00  268.0  114.00   \n",
       "3          DiabetesPedigreeFunction    0.26    0.45    0.73  268.0    2.42   \n",
       "4                           Glucose  119.00  140.00  167.00  268.0  199.00   \n",
       "5                           Insulin  130.98  178.11  240.16  268.0  846.00   \n",
       "6                       Pregnancies    1.75    4.00    8.00  268.0   17.00   \n",
       "7                     SkinThickness   27.00   32.00   37.95  268.0   99.00   \n",
       "\n",
       "Statistic    mean    min     std  \n",
       "0           37.07  21.00   10.97  \n",
       "1           35.39  22.90    6.59  \n",
       "2           75.27  30.00   11.98  \n",
       "3            0.55   0.09    0.37  \n",
       "4          142.24  78.00   29.50  \n",
       "5          200.49  14.00  103.19  \n",
       "6            4.87   0.00    3.74  \n",
       "7           32.55   7.00    9.17  "
      ]
     },
     "execution_count": 127,
     "metadata": {},
     "output_type": "execute_result"
    }
   ],
   "source": [
    "# Step 1: Define the features to analyze\n",
    "features = [\"Pregnancies\", \"BloodPressure\", \"SkinThickness\", \n",
    "            \"Glucose\", \"Insulin\", \"BMI\", \"DiabetesPedigreeFunction\", \"Age\"]\n",
    "\n",
    "# Step 2: Compute grouped descriptive statistics by Outcome\n",
    "grouped_desc = df_imputed.groupby(\"Outcome\")[features].describe().round(2)\n",
    "\n",
    "# Step 3: For Non-Diabetics (Outcome = 0)\n",
    "non_diabetic_desc = grouped_desc.loc[0].T.reset_index()\n",
    "non_diabetic_desc.columns = ['Feature', 'Statistic', 'Value']\n",
    "non_diabetic_table = non_diabetic_desc.pivot(index='Feature', columns='Statistic', values='Value').reset_index()\n",
    "non_diabetic_table = non_diabetic_table.round(2)\n",
    "\n",
    "# Step 4: For Diabetics (Outcome = 1)\n",
    "diabetic_desc = grouped_desc.loc[1].T.reset_index()\n",
    "diabetic_desc.columns = ['Feature', 'Statistic', 'Value']\n",
    "diabetic_table = diabetic_desc.pivot(index='Feature', columns='Statistic', values='Value').reset_index()\n",
    "diabetic_table = diabetic_table.round(2)\n",
    "\n",
    "# Step 5: Print both tables\n",
    "print(\"Descriptive Statistics for Non-Diabetics:\")\n",
    "non_diabetic_table\n",
    "\n",
    "print(\"\\nDescriptive Statistics for Diabetics:\")\n",
    "diabetic_table"
   ]
  },
  {
   "cell_type": "markdown",
   "id": "19a8611b",
   "metadata": {},
   "source": [
    "#### 4.2.3 Save Descriptive Statistics into Excel Workbook"
   ]
  },
  {
   "cell_type": "code",
   "execution_count": 128,
   "id": "fd29409e",
   "metadata": {},
   "outputs": [
    {
     "ename": "ModuleNotFoundError",
     "evalue": "No module named 'openpyxl'",
     "output_type": "error",
     "traceback": [
      "\u001b[31m---------------------------------------------------------------------------\u001b[39m",
      "\u001b[31mModuleNotFoundError\u001b[39m                       Traceback (most recent call last)",
      "\u001b[36mCell\u001b[39m\u001b[36m \u001b[39m\u001b[32mIn[128]\u001b[39m\u001b[32m, line 1\u001b[39m\n\u001b[32m----> \u001b[39m\u001b[32m1\u001b[39m \u001b[38;5;28;01mwith\u001b[39;00m \u001b[43mpd\u001b[49m\u001b[43m.\u001b[49m\u001b[43mExcelWriter\u001b[49m\u001b[43m(\u001b[49m\u001b[33;43m\"\u001b[39;49m\u001b[33;43mdiabetes_descriptive_stats.xlsx\u001b[39;49m\u001b[33;43m\"\u001b[39;49m\u001b[43m)\u001b[49m \u001b[38;5;28;01mas\u001b[39;00m writer:\n\u001b[32m      2\u001b[39m     combined_desc.to_excel(writer, sheet_name=\u001b[33m\"\u001b[39m\u001b[33mOverall Descriptive Analysis\u001b[39m\u001b[33m\"\u001b[39m, index=\u001b[38;5;28;01mFalse\u001b[39;00m)\n\u001b[32m      3\u001b[39m     non_diabetic_table.to_excel(writer, sheet_name=\u001b[33m\"\u001b[39m\u001b[33mNon-Diabetics\u001b[39m\u001b[33m\"\u001b[39m, index=\u001b[38;5;28;01mFalse\u001b[39;00m)\n",
      "\u001b[36mFile \u001b[39m\u001b[32mc:\\Users\\user\\AppData\\Local\\Programs\\Python\\Python313\\Lib\\site-packages\\pandas\\io\\excel\\_openpyxl.py:57\u001b[39m, in \u001b[36mOpenpyxlWriter.__init__\u001b[39m\u001b[34m(self, path, engine, date_format, datetime_format, mode, storage_options, if_sheet_exists, engine_kwargs, **kwargs)\u001b[39m\n\u001b[32m     44\u001b[39m \u001b[38;5;28;01mdef\u001b[39;00m\u001b[38;5;250m \u001b[39m\u001b[34m__init__\u001b[39m(\n\u001b[32m     45\u001b[39m     \u001b[38;5;28mself\u001b[39m,\n\u001b[32m     46\u001b[39m     path: FilePath | WriteExcelBuffer | ExcelWriter,\n\u001b[32m   (...)\u001b[39m\u001b[32m     55\u001b[39m ) -> \u001b[38;5;28;01mNone\u001b[39;00m:\n\u001b[32m     56\u001b[39m     \u001b[38;5;66;03m# Use the openpyxl module as the Excel writer.\u001b[39;00m\n\u001b[32m---> \u001b[39m\u001b[32m57\u001b[39m     \u001b[38;5;28;01mfrom\u001b[39;00m\u001b[38;5;250m \u001b[39m\u001b[34;01mopenpyxl\u001b[39;00m\u001b[34;01m.\u001b[39;00m\u001b[34;01mworkbook\u001b[39;00m\u001b[38;5;250m \u001b[39m\u001b[38;5;28;01mimport\u001b[39;00m Workbook\n\u001b[32m     59\u001b[39m     engine_kwargs = combine_kwargs(engine_kwargs, kwargs)\n\u001b[32m     61\u001b[39m     \u001b[38;5;28msuper\u001b[39m().\u001b[34m__init__\u001b[39m(\n\u001b[32m     62\u001b[39m         path,\n\u001b[32m     63\u001b[39m         mode=mode,\n\u001b[32m   (...)\u001b[39m\u001b[32m     66\u001b[39m         engine_kwargs=engine_kwargs,\n\u001b[32m     67\u001b[39m     )\n",
      "\u001b[31mModuleNotFoundError\u001b[39m: No module named 'openpyxl'"
     ]
    }
   ],
   "source": [
    "with pd.ExcelWriter(\"diabetes_descriptive_stats.xlsx\") as writer:\n",
    "    combined_desc.to_excel(writer, sheet_name=\"Overall Descriptive Analysis\", index=False)\n",
    "    non_diabetic_table.to_excel(writer, sheet_name=\"Non-Diabetics\", index=False)\n",
    "    diabetic_table.to_excel(writer, sheet_name=\"Diabetics\", index=False)\n",
    "\n",
    "print(\"Dataset saved as 'diabetes_descriptive_stats.xlsx'\")"
   ]
  },
  {
   "cell_type": "markdown",
   "id": "a6f27f37",
   "metadata": {},
   "source": [
    "#### 4.2.4 Key Findings from Descriptive Statistics"
   ]
  },
  {
   "cell_type": "markdown",
   "id": "07cd07b5",
   "metadata": {},
   "source": [
    "##### 1. Glucose Levels\n",
    "Diabetic patients have a **significantly higher mean glucose** (approx. 141 mg/dL) than non-diabetics (approx. 110 mg/dL).\n",
    "This confirms that **glucose is a strong predictor** of diabetes.\n",
    "##### 2. Insulin Levels\n",
    "Though there are missing/imputed values, the **mean insulin** level is higher in diabetics.\n",
    "There's also **greater variance** in insulin values among diabetics, suggesting that abnormal insulin response is a factor.\n",
    "##### 3. BMI (Body Mass Index)\n",
    "Diabetics tend to have **higher average BMI** than non-diabetics.\n",
    "This supports the known link between obesity and diabetes risk.\n",
    "##### 4. Age\n",
    "The average age of diabetics is **significantly higher** than non-diabetics.\n",
    "This indicates increasing age is associated with greater diabetes risk.\n",
    "##### 5. Diabetes Pedigree Function (DPF)\n",
    "Diabetics show a **higher average DPF**, suggesting **family history is also a contributing factor**.\n",
    "##### 6. Other Features (like Pregnancies, Blood Pressure, Skin Thickness)\n",
    "Some differences exist but are **less distinct** than glucose or BMI.\n",
    "They may contribute moderately to prediction but likely **less influential individually**."
   ]
  },
  {
   "cell_type": "markdown",
   "id": "c80f7141",
   "metadata": {},
   "source": [
    "### 4.3 INFERENTIAL STATISTICS"
   ]
  },
  {
   "cell_type": "markdown",
   "id": "990ce64a",
   "metadata": {},
   "source": [
    "#### 4.3.1 Grouping Pregnancy and Age columns"
   ]
  },
  {
   "cell_type": "code",
   "execution_count": 129,
   "id": "5e68e0e2",
   "metadata": {},
   "outputs": [
    {
     "data": {
      "application/vnd.microsoft.datawrangler.viewer.v0+json": {
       "columns": [
        {
         "name": "index",
         "rawType": "int64",
         "type": "integer"
        },
        {
         "name": "Pregnancies",
         "rawType": "float64",
         "type": "float"
        },
        {
         "name": "PregnancyGroup",
         "rawType": "object",
         "type": "string"
        },
        {
         "name": "Age",
         "rawType": "float64",
         "type": "float"
        },
        {
         "name": "AgeGroup",
         "rawType": "object",
         "type": "string"
        }
       ],
       "ref": "5ec589b6-95ce-4a8e-b38f-b81e493937ba",
       "rows": [
        [
         "0",
         "6.0",
         "High",
         "50.0",
         "Middle-aged"
        ],
        [
         "1",
         "1.0",
         "Low",
         "31.0",
         "Middle-aged"
        ],
        [
         "2",
         "8.0",
         "High",
         "32.0",
         "Middle-aged"
        ],
        [
         "3",
         "1.0",
         "Low",
         "21.0",
         "Young"
        ],
        [
         "4",
         "0.0",
         "None",
         "33.0",
         "Middle-aged"
        ]
       ],
       "shape": {
        "columns": 4,
        "rows": 5
       }
      },
      "text/html": [
       "<div>\n",
       "<style scoped>\n",
       "    .dataframe tbody tr th:only-of-type {\n",
       "        vertical-align: middle;\n",
       "    }\n",
       "\n",
       "    .dataframe tbody tr th {\n",
       "        vertical-align: top;\n",
       "    }\n",
       "\n",
       "    .dataframe thead th {\n",
       "        text-align: right;\n",
       "    }\n",
       "</style>\n",
       "<table border=\"1\" class=\"dataframe\">\n",
       "  <thead>\n",
       "    <tr style=\"text-align: right;\">\n",
       "      <th></th>\n",
       "      <th>Pregnancies</th>\n",
       "      <th>PregnancyGroup</th>\n",
       "      <th>Age</th>\n",
       "      <th>AgeGroup</th>\n",
       "    </tr>\n",
       "  </thead>\n",
       "  <tbody>\n",
       "    <tr>\n",
       "      <th>0</th>\n",
       "      <td>6.0</td>\n",
       "      <td>High</td>\n",
       "      <td>50.0</td>\n",
       "      <td>Middle-aged</td>\n",
       "    </tr>\n",
       "    <tr>\n",
       "      <th>1</th>\n",
       "      <td>1.0</td>\n",
       "      <td>Low</td>\n",
       "      <td>31.0</td>\n",
       "      <td>Middle-aged</td>\n",
       "    </tr>\n",
       "    <tr>\n",
       "      <th>2</th>\n",
       "      <td>8.0</td>\n",
       "      <td>High</td>\n",
       "      <td>32.0</td>\n",
       "      <td>Middle-aged</td>\n",
       "    </tr>\n",
       "    <tr>\n",
       "      <th>3</th>\n",
       "      <td>1.0</td>\n",
       "      <td>Low</td>\n",
       "      <td>21.0</td>\n",
       "      <td>Young</td>\n",
       "    </tr>\n",
       "    <tr>\n",
       "      <th>4</th>\n",
       "      <td>0.0</td>\n",
       "      <td>None</td>\n",
       "      <td>33.0</td>\n",
       "      <td>Middle-aged</td>\n",
       "    </tr>\n",
       "  </tbody>\n",
       "</table>\n",
       "</div>"
      ],
      "text/plain": [
       "   Pregnancies PregnancyGroup   Age     AgeGroup\n",
       "0          6.0           High  50.0  Middle-aged\n",
       "1          1.0            Low  31.0  Middle-aged\n",
       "2          8.0           High  32.0  Middle-aged\n",
       "3          1.0            Low  21.0        Young\n",
       "4          0.0           None  33.0  Middle-aged"
      ]
     },
     "execution_count": 129,
     "metadata": {},
     "output_type": "execute_result"
    }
   ],
   "source": [
    "# Group Age into categories\n",
    "def age_group(age):\n",
    "    if age < 30:\n",
    "        return \"Young\"\n",
    "    elif 30 <= age <= 50:\n",
    "        return \"Middle-aged\"\n",
    "    else:\n",
    "        return \"Old\"\n",
    "df_imputed['AgeGroup'] = df_imputed['Age'].apply(age_group)\n",
    "\n",
    "# Group Pregnancies into categories\n",
    "def pregnancy_group(preg):\n",
    "    if preg == 0:\n",
    "        return \"None\"\n",
    "    elif preg == 1:\n",
    "        return \"Low\"\n",
    "    elif 2<= preg <= 4:\n",
    "        return \"Medium\"\n",
    "    else:\n",
    "        return \"High\"\n",
    "\n",
    "df_imputed['PregnancyGroup'] = df_imputed['Pregnancies'].apply(pregnancy_group)\n",
    "\n",
    "df_imputed[['Pregnancies', 'PregnancyGroup', 'Age', 'AgeGroup']].head()"
   ]
  },
  {
   "cell_type": "markdown",
   "id": "bb8695bb",
   "metadata": {},
   "source": [
    "#### 4.3.2 Hypothesis Testing"
   ]
  },
  {
   "cell_type": "markdown",
   "id": "1ccfc325",
   "metadata": {},
   "source": [
    "##### 4.3.2.1 Mean Glucose (Diabetic vs Non-Diabetic)"
   ]
  },
  {
   "cell_type": "markdown",
   "id": "96f64450",
   "metadata": {},
   "source": [
    "The goal is to compare the glucose mean across the 2 groups (diabetic and non-diabetic) and see if there's a difference\n",
    "\n",
    "null hypothesis: There is no significant difference in the glucose mean across the 2 groups.\n",
    "\n",
    "alternative hypothesis: There is a significant difference in the glucose mean across the 2 groups\n",
    "\n",
    "Decision rule: Reject null hypothesis if p-value is lesser than the significant level."
   ]
  },
  {
   "cell_type": "code",
   "execution_count": 130,
   "id": "8237c225",
   "metadata": {},
   "outputs": [
    {
     "name": "stdout",
     "output_type": "stream",
     "text": [
      "The T-test result for glucose includes: t-statistic= 15.7753453996013 and the p-value= 9.311170769268823e-49.\n",
      "Reject the null hypothesis. \n",
      "There is a significant difference in the glucose mean across the 2 groups\n"
     ]
    }
   ],
   "source": [
    "#At 95% level of significance\n",
    "glucose1 = df_imputed[df_imputed['Outcome'] == 1]['Glucose']\n",
    "glucose2 = df_imputed[df_imputed['Outcome'] == 0]['Glucose']\n",
    "\n",
    "#Using t-test because it's between 2 groups\n",
    "t_stat_glucose, p_val_glucose = ttest_ind(glucose1, glucose2)\n",
    "print(f\"The T-test result for glucose includes: t-statistic= {t_stat_glucose} and the p-value= {p_val_glucose}.\")\n",
    "\n",
    "if p_val_glucose < 0.05: #level of significance\n",
    "    print(\"Reject the null hypothesis. \\nThere is a significant difference in the glucose mean across the 2 groups\")\n",
    "else:\n",
    "    print(\"Fail to reject the null hypothesis. \\nThere is no significant difference in the glucose mean across the 2 groups\")"
   ]
  },
  {
   "cell_type": "markdown",
   "id": "24af6be7",
   "metadata": {},
   "source": [
    "##### 4.3.2.2 Mean Insulin (Diabetic vs Non-Diabetic)\n"
   ]
  },
  {
   "cell_type": "markdown",
   "id": "36d19d90",
   "metadata": {},
   "source": [
    "The goal is to compare the insulin mean across the 2 groups (diabetic and non-diabetic) and see if there's a difference\n",
    "\n",
    "null hypothesis: There is no significant difference in the insulin mean across the 2 groups.\n",
    "\n",
    "alternative hypothesis: There is a significant difference in the insulin mean across the 2 groups\n",
    "\n",
    "Decision rule: Reject null hypothesis if p-value is lesser than the significant level."
   ]
  },
  {
   "cell_type": "code",
   "execution_count": 131,
   "id": "6d8d9255",
   "metadata": {},
   "outputs": [
    {
     "name": "stdout",
     "output_type": "stream",
     "text": [
      "The T-test result for insulin includes: t-statistic= 10.680239235848315 and the p-value= 6.451165748791912e-25.\n",
      "Reject the null hypothesis. \n",
      "There is a significant difference in the insulin mean across the 2 groups\n"
     ]
    }
   ],
   "source": [
    "#At 95% level of significance\n",
    "insulin1 = df_imputed[df_imputed['Outcome'] == 1]['Insulin']\n",
    "insulin2 = df_imputed[df_imputed['Outcome'] == 0]['Insulin']\n",
    "\n",
    "#Using t-test because it's between 2 groups\n",
    "t_stat_insulin, p_val_insulin = ttest_ind(insulin1, insulin2)\n",
    "print(f\"The T-test result for insulin includes: t-statistic= {t_stat_insulin} and the p-value= {p_val_insulin}.\")\n",
    "\n",
    "if p_val_insulin < 0.05: #level of significance\n",
    "    print(\"Reject the null hypothesis. \\nThere is a significant difference in the insulin mean across the 2 groups\")\n",
    "else:\n",
    "    print(\"Fail to reject the null hypothesis. \\nThere is no significant difference in the insulin mean across the 2 groups\")"
   ]
  },
  {
   "cell_type": "markdown",
   "id": "17a832ef",
   "metadata": {},
   "source": [
    "##### 4.3.2.3 Mean BloodPressure (Diabetic vs Non-Diabetic)"
   ]
  },
  {
   "cell_type": "markdown",
   "id": "1904e5fb",
   "metadata": {},
   "source": [
    "The goal is to compare the bloodpressure mean across the 2 groups (diabetic and non-diabetic) and see if there's a difference\n",
    "\n",
    "null hypothesis: There is no significant difference in the bloodpressure mean across the 2 groups.\n",
    "\n",
    "alternative hypothesis: There is a significant difference in the bloodpressure mean across the 2 groups\n",
    "\n",
    "Decision rule: Reject null hypothesis if p-value is lesser than the significant level."
   ]
  },
  {
   "cell_type": "code",
   "execution_count": 132,
   "id": "28592df8",
   "metadata": {},
   "outputs": [
    {
     "name": "stdout",
     "output_type": "stream",
     "text": [
      "The T-test result for bloodpressure includes: t-statistic= 4.924388666257176 and the p-value= 1.0370248194518666e-06.\n",
      "Reject the null hypothesis. \n",
      "There is a significant difference in the bloodpressure mean across the 2 groups\n"
     ]
    }
   ],
   "source": [
    "#At 95% level of significance\n",
    "bp1 = df_imputed[df_imputed['Outcome'] == 1]['BloodPressure']\n",
    "bp2 = df_imputed[df_imputed['Outcome'] == 0]['BloodPressure']\n",
    "\n",
    "#Using t-test because it's between 2 groups\n",
    "t_stat_bp, p_val_bp = ttest_ind(bp1, bp2)\n",
    "print(f\"The T-test result for bloodpressure includes: t-statistic= {t_stat_bp} and the p-value= {p_val_bp}.\")\n",
    "\n",
    "if p_val_bp < 0.05: #level of significance\n",
    "    print(\"Reject the null hypothesis. \\nThere is a significant difference in the bloodpressure mean across the 2 groups\")\n",
    "else:\n",
    "    print(\"Fail to reject the null hypothesis. \\nThere is no significant difference in the bloodpressure mean across the 2 groups\")"
   ]
  },
  {
   "cell_type": "markdown",
   "id": "b703850b",
   "metadata": {},
   "source": [
    "##### 4.3.2.4 Mean DiabetesPedigreeFunction (Diabetic vs Non-Diabetic)"
   ]
  },
  {
   "cell_type": "markdown",
   "id": "cb3ff8be",
   "metadata": {},
   "source": [
    "The goal is to compare the DiabetesPedigreeFunction mean across the 2 groups (diabetic and non-diabetic) and see if there's a difference\n",
    "\n",
    "null hypothesis: There is no significant difference in the DiabetesPedigreeFunction mean across the 2 groups.\n",
    "\n",
    "alternative hypothesis: There is a significant difference in the DiabetesPedigreeFunction mean across the 2 groups\n",
    "\n",
    "Decision rule: Reject null hypothesis if p-value is lesser than the significant level."
   ]
  },
  {
   "cell_type": "code",
   "execution_count": 133,
   "id": "83afdc71",
   "metadata": {},
   "outputs": [
    {
     "name": "stdout",
     "output_type": "stream",
     "text": [
      "The T-test result for DiabetesPedigreeFunction includes: t-statistic= 4.8697072359831095 and the p-value= 1.3580536117813747e-06.\n",
      "Reject the null hypothesis. \n",
      "There is a significant difference in the DiabetesPedigreeFunction mean across the 2 groups\n"
     ]
    }
   ],
   "source": [
    "#At 95% level of significance\n",
    "DPF1 = df_imputed[df_imputed['Outcome'] == 1]['DiabetesPedigreeFunction']\n",
    "DPF2 = df_imputed[df_imputed['Outcome'] == 0]['DiabetesPedigreeFunction']\n",
    "\n",
    "#Using t-test because it's between 2 groups\n",
    "t_stat_DPF, p_val_DPF = ttest_ind(DPF1, DPF2)\n",
    "print(f\"The T-test result for DiabetesPedigreeFunction includes: t-statistic= {t_stat_DPF} and the p-value= {p_val_DPF}.\")\n",
    "\n",
    "if p_val_DPF < 0.05: #level of significance\n",
    "    print(\"Reject the null hypothesis. \\nThere is a significant difference in the DiabetesPedigreeFunction mean across the 2 groups\")\n",
    "else:\n",
    "    print(\"Fail to reject the null hypothesis. \\nThere is no significant difference in the DiabetesPedigreeFunction mean across the 2 groups\")"
   ]
  },
  {
   "cell_type": "markdown",
   "id": "95daffee",
   "metadata": {},
   "source": [
    "##### 4.3.2.5 Mean BMI across age groups"
   ]
  },
  {
   "cell_type": "markdown",
   "id": "043cd3c4",
   "metadata": {},
   "source": [
    "The goal is to see if the BMI mean across the different age groups(Youth-Old) differ.\n",
    "\n",
    "null hypothesis: BMI mean is equal across age groups\n",
    "\n",
    "alternative hypothesis: At least one age group has a BMI mean different from the others.\n",
    "\n",
    "Decision rule: Reject null hypothesis if p-value is lesser than the significant level."
   ]
  },
  {
   "cell_type": "code",
   "execution_count": 134,
   "id": "5cc99745",
   "metadata": {},
   "outputs": [
    {
     "name": "stdout",
     "output_type": "stream",
     "text": [
      "ANOVA result for BMI: F-statistic= 5.497811874361184 and p-value= 0.004259193665760479\n",
      "Reject the null hypothesis. \n",
      "At least one age group BMI mean differs from the others\n"
     ]
    }
   ],
   "source": [
    "#At 95% significant level\n",
    "BMI_young = df_imputed[df_imputed['AgeGroup'] == 'Young']['BMI']\n",
    "BMI_middle_aged = df_imputed[df_imputed['AgeGroup'] == 'Middle-aged']['BMI']\n",
    "BMI_old = df_imputed[df_imputed['AgeGroup'] == 'Old']['BMI']\n",
    "\n",
    "#Using ANOVA because the groups are more than 2\n",
    "f_stat_BMI, p_val_BMI = f_oneway(BMI_young, BMI_middle_aged, BMI_old)\n",
    "print(f\"ANOVA result for BMI: F-statistic= {f_stat_BMI} and p-value= {p_val_BMI}\")\n",
    "\n",
    "if p_val_BMI < 0.05: #level of significance\n",
    "    print(\"Reject the null hypothesis. \\nAt least one age group BMI mean differs from the others\")\n",
    "else:\n",
    "    print(\"Fail to reject the null hypothesis. \\nBMI mean is not equal across the age groups\")"
   ]
  },
  {
   "cell_type": "markdown",
   "id": "b2b9ac4d",
   "metadata": {},
   "source": [
    "##### 4.3.2.6 Mean BloodPressure across age groups"
   ]
  },
  {
   "cell_type": "markdown",
   "id": "02654f91",
   "metadata": {},
   "source": [
    "The goal is to see if the mean bloodpressure across the different age groups(Youth-Old) are differ.\n",
    "\n",
    "null hypothesis: Bloodpressure mean is equal across age groups\n",
    "\n",
    "alternative hypothesis: At least one age group has a BloodPressure mean different from the others.\n",
    "\n",
    "Decision rule: Reject null hypothesis if p-value is lesser than the significant level."
   ]
  },
  {
   "cell_type": "code",
   "execution_count": 135,
   "id": "581db8bc",
   "metadata": {},
   "outputs": [
    {
     "name": "stdout",
     "output_type": "stream",
     "text": [
      "ANOVA result for BloodPressure: F-statistic= 42.583462404422214 and p-value= 2.9183711799708068e-18\n",
      "Reject the null hypothesis. \n",
      "At least one age group BloodPressure mean differs from the others\n"
     ]
    }
   ],
   "source": [
    "#At 95% significant level\n",
    "bp_young = df_imputed[df_imputed['AgeGroup'] == 'Young']['BloodPressure']\n",
    "bp_middle_aged = df_imputed[df_imputed['AgeGroup'] == 'Middle-aged']['BloodPressure']\n",
    "bp_old = df_imputed[df_imputed['AgeGroup'] == 'Old']['BloodPressure']\n",
    "\n",
    "#Using ANOVA because the groups are more than 2\n",
    "f_stat_BP, p_val_BP = f_oneway(bp_young, bp_middle_aged, bp_old)\n",
    "print(f\"ANOVA result for BloodPressure: F-statistic= {f_stat_BP} and p-value= {p_val_BP}\")\n",
    "\n",
    "if p_val_BP < 0.05: #level of significance\n",
    "    print(\"Reject the null hypothesis. \\nAt least one age group BloodPressure mean differs from the others\")\n",
    "else:\n",
    "    print(\"Fail to reject the null hypothesis. \\nBloodPressure mean is not equal across the age groups\")"
   ]
  },
  {
   "cell_type": "markdown",
   "id": "7eba5efe",
   "metadata": {},
   "source": [
    "##### 4.3.2.7 Mean SkinThickness across pregnancy groups"
   ]
  },
  {
   "cell_type": "markdown",
   "id": "0fe9775b",
   "metadata": {},
   "source": [
    "The goal is to see if the mean skinthickness across the different pregnancy groups(none-high) are equal.\n",
    "\n",
    "null hypothesis: Skinthickness mean is equal across pregnancy groups\n",
    "\n",
    "alternative hypothesis: At least one pregnancy group has a SkinThickness mean different from the others.\n",
    "\n",
    "Decision rule: Reject null hypothesis if p-value is lesser than the significant level."
   ]
  },
  {
   "cell_type": "code",
   "execution_count": 136,
   "id": "dd00ce07",
   "metadata": {},
   "outputs": [
    {
     "name": "stdout",
     "output_type": "stream",
     "text": [
      "ANOVA result for SkinThickness: F-statistic= 8.269489406245441 and p-value= 2.0312583168446416e-05\n",
      "Reject the null hypothesis. \n",
      "At least one pregnancy group SkinThickness mean differs from the others\n"
     ]
    }
   ],
   "source": [
    "#At 95% significant level\n",
    "skinthickness_none = df_imputed[df_imputed['PregnancyGroup'] == 'None']['SkinThickness']\n",
    "skinthickness_low = df_imputed[df_imputed['PregnancyGroup'] == 'Low']['SkinThickness']\n",
    "skinthickness_medium = df_imputed[df_imputed['PregnancyGroup'] == 'Medium']['SkinThickness']\n",
    "skinthickness_high = df_imputed[df_imputed['PregnancyGroup'] == 'High']['SkinThickness']\n",
    "\n",
    "#Using ANOVA because the groups are more than 2\n",
    "f_stat_skinThi, p_val_skinThi = f_oneway(skinthickness_none, skinthickness_low, skinthickness_medium, skinthickness_high)\n",
    "print(f\"ANOVA result for SkinThickness: F-statistic= {f_stat_skinThi} and p-value= {p_val_skinThi}\")\n",
    "\n",
    "if p_val_skinThi < 0.05: #level of significance\n",
    "    print(\"Reject the null hypothesis. \\nAt least one pregnancy group SkinThickness mean differs from the others\")\n",
    "else:\n",
    "    print(\"Fail to reject the null hypothesis. \\nSkinThickness mean is not equal across the pregnancy groups\")"
   ]
  },
  {
   "cell_type": "markdown",
   "id": "de29802f",
   "metadata": {},
   "source": [
    "##### 4.3.2.8 Mean Glucose across pregnancy groups"
   ]
  },
  {
   "cell_type": "markdown",
   "id": "046bd42f",
   "metadata": {},
   "source": [
    "The goal is to see if the mean glucose across the different pregnancy groups(none-high) are equal.\n",
    "\n",
    "null hypothesis: Glucose mean is equal across pregnancy groups\n",
    "\n",
    "alternative hypothesis: At least one pregnancy group has a Glucose mean different from the others.\n",
    "\n",
    "Decision rule: Reject null hypothesis if p-value is lesser than the significant level."
   ]
  },
  {
   "cell_type": "code",
   "execution_count": 137,
   "id": "839ab0d9",
   "metadata": {},
   "outputs": [
    {
     "name": "stdout",
     "output_type": "stream",
     "text": [
      "ANOVA result for Glucose: F-statistic= 5.897417839872992 and p-value= 0.0005571319906963779\n",
      "Reject the null hypothesis. \n",
      "At least one pregnancy group Glucose mean differs from the others\n"
     ]
    }
   ],
   "source": [
    "#At 95% significant level\n",
    "glucose_none = df_imputed[df_imputed['PregnancyGroup'] == 'None']['Glucose']\n",
    "glucose_low = df_imputed[df_imputed['PregnancyGroup'] == 'Low']['Glucose']\n",
    "glucose_medium = df_imputed[df_imputed['PregnancyGroup'] == 'Medium']['Glucose']\n",
    "glucose_high = df_imputed[df_imputed['PregnancyGroup'] == 'High']['Glucose']\n",
    "\n",
    "#Using ANOVA because the groups are more than 2\n",
    "f_stat_gluc, p_val_gluc = f_oneway(glucose_none, glucose_low, glucose_medium, glucose_high)\n",
    "print(f\"ANOVA result for Glucose: F-statistic= {f_stat_gluc} and p-value= {p_val_gluc}\")\n",
    "\n",
    "if p_val_gluc < 0.05: #level of significance\n",
    "    print(\"Reject the null hypothesis. \\nAt least one pregnancy group Glucose mean differs from the others\")\n",
    "else:\n",
    "    print(\"Fail to reject the null hypothesis. \\nGlucose mean is not equal across the pregnancy groups\")"
   ]
  },
  {
   "cell_type": "markdown",
   "id": "e8bd0890",
   "metadata": {},
   "source": [
    "##### 4.3.2.9 Mean BloodPressure across pregnancy groups"
   ]
  },
  {
   "cell_type": "markdown",
   "id": "f41056ae",
   "metadata": {},
   "source": [
    "The goal is to see if the mean bloodpressure across the different pregnancy groups(none-high) are equal.\n",
    "\n",
    "null hypothesis: BloodPressure mean is equal across pregnancy groups\n",
    "\n",
    "alternative hypothesis: At least one pregnancy group has a BloodPressure mean different from the others.\n",
    "\n",
    "Decision rule: Reject null hypothesis if p-value is lesser than the significant level."
   ]
  },
  {
   "cell_type": "code",
   "execution_count": 138,
   "id": "a11b1184",
   "metadata": {},
   "outputs": [
    {
     "name": "stdout",
     "output_type": "stream",
     "text": [
      "ANOVA result for BloodPressure: F-statistic= 18.57829091214917 and p-value= 1.219362867332646e-11\n",
      "Reject the null hypothesis. \n",
      "At least one pregnancy group BloodPressure mean differs from the others\n"
     ]
    }
   ],
   "source": [
    "#At 95% significant level\n",
    "BP_none = df_imputed[df_imputed['PregnancyGroup'] == 'None']['BloodPressure']\n",
    "BP_low = df_imputed[df_imputed['PregnancyGroup'] == 'Low']['BloodPressure']\n",
    "BP_medium = df_imputed[df_imputed['PregnancyGroup'] == 'Medium']['BloodPressure']\n",
    "BP_high = df_imputed[df_imputed['PregnancyGroup'] == 'High']['BloodPressure']\n",
    "\n",
    "#Using ANOVA because the groups are more than 2\n",
    "f_stat_bloodP, p_val_bloodP = f_oneway(BP_none, BP_low, BP_medium, BP_high)\n",
    "print(f\"ANOVA result for BloodPressure: F-statistic= {f_stat_bloodP} and p-value= {p_val_bloodP}\")\n",
    "\n",
    "if p_val_gluc < 0.05: #level of significance\n",
    "    print(\"Reject the null hypothesis. \\nAt least one pregnancy group BloodPressure mean differs from the others\")\n",
    "else:\n",
    "    print(\"Fail to reject the null hypothesis. \\nBloodPressure mean is not equal across the pregnancy groups\")"
   ]
  },
  {
   "cell_type": "markdown",
   "id": "fa9b344a",
   "metadata": {},
   "source": [
    "#### 4.3.3 Test of Independence"
   ]
  },
  {
   "cell_type": "markdown",
   "id": "c978e3ee",
   "metadata": {},
   "source": [
    "##### 4.3.3.1 AgeGroup and Outcome"
   ]
  },
  {
   "cell_type": "markdown",
   "id": "06c6eaa6",
   "metadata": {},
   "source": [
    "The goal is to test if the 2 categorical variables are independent.\n",
    "\n",
    "null hypothesis: AgeGroup and Outcome are independent\n",
    "\n",
    "alternative hypothesis: AgeGroup and Outcome are dependent\n",
    "\n",
    "Decision rule: Reject null hypothesis if p-value is lesser than the significant level."
   ]
  },
  {
   "cell_type": "code",
   "execution_count": 139,
   "id": "2b2517a0",
   "metadata": {},
   "outputs": [
    {
     "name": "stdout",
     "output_type": "stream",
     "text": [
      "Chi-square test result: 67.67732168274529 2.0139854171655205e-15\n",
      "Reject the null hypothesis. \n",
      "AgeGroup and Outcome are dependent\n"
     ]
    }
   ],
   "source": [
    "# Cross-tab for AgeGroup vs Outcome\n",
    "contingency_ageGroup = pd.crosstab(df_imputed['AgeGroup'], df_imputed['Outcome'])\n",
    "\n",
    "#At 95% level of confidence\n",
    "chi2_age, p_age, dof_age, expected_age = chi2_contingency(contingency_ageGroup)\n",
    "print(\"Chi-square test result:\", chi2_age, p_age)\n",
    "\n",
    "if p_age < 0.05: #level of significance\n",
    "    print(\"Reject the null hypothesis. \\nAgeGroup and Outcome are dependent\")\n",
    "else:\n",
    "    print(\"Fail to reject the null hypothesis. \\nAgeGroup and Outcome are independent\")"
   ]
  },
  {
   "cell_type": "markdown",
   "id": "423058e9",
   "metadata": {},
   "source": [
    "##### 4.3.3.2 PregnancyGroup and Outcome"
   ]
  },
  {
   "cell_type": "markdown",
   "id": "4a61ca7f",
   "metadata": {},
   "source": [
    "The goal is to test if the 2 categorical variables are independent.\n",
    "\n",
    "null hypothesis: PregnancyGroup and Outcome are independent\n",
    "\n",
    "alternative hypothesis: PregnancyGroup and Outcome are dependent\n",
    "\n",
    "Decision rule: Reject null hypothesis if p-value is lesser than the significant level."
   ]
  },
  {
   "cell_type": "code",
   "execution_count": 140,
   "id": "386b0aac",
   "metadata": {},
   "outputs": [
    {
     "name": "stdout",
     "output_type": "stream",
     "text": [
      "Chi-square test result: 67.67732168274529 2.0139854171655205e-15\n",
      "Reject the null hypothesis. \n",
      "PregnancyGroup and Outcome are dependent\n"
     ]
    }
   ],
   "source": [
    "# Cross-tab for PregnancyGroup vs Outcome\n",
    "contingency_pregnancyGroup = pd.crosstab(df_imputed['PregnancyGroup'], df_imputed['Outcome'])\n",
    "\n",
    "#At 95% level of confidence\n",
    "chi2_pregnancy, p_pregnancy, dof_pregnancy, expected_pregnancy = chi2_contingency(contingency_ageGroup)\n",
    "print(\"Chi-square test result:\", chi2_pregnancy, p_pregnancy)\n",
    "\n",
    "if p_pregnancy < 0.05: #level of significance\n",
    "    print(\"Reject the null hypothesis. \\nPregnancyGroup and Outcome are dependent\")\n",
    "else:\n",
    "    print(\"Fail to reject the null hypothesis. \\nPregnancyGroup and Outcome are independent\")"
   ]
  },
  {
   "cell_type": "markdown",
   "id": "f5045168",
   "metadata": {},
   "source": [
    "#### 4.3.4 Key Findings from Inferential Statistics"
   ]
  },
  {
   "cell_type": "markdown",
   "id": "378e4172",
   "metadata": {},
   "source": [
    "##### 1. Mean Glucose (Diabetic vs Non-Diabetic)\n",
    "We rejected the null hypothesis, concluding that there's a significant difference in the glucose mean across the 2 groups. Therefore, diabetics tend to have higher glucose levels than non-diabetics — a strong indicator that Glucose is a key predictor of diabetes.\n",
    "\n",
    "##### 2. Mean Insulin (Diabetic vs Non-Diabetic)\n",
    "We rejected the null hypothesis, concluding that there's a significant difference in the insulin mean across the 2 groups. Therefore, Insulin levels differ significantly between diabetic and non-diabetic individuals, suggesting insulin could help the model distinguish outcomes.\n",
    "\n",
    "##### 3. Mean Blood Pressure (Diabetic vs Non-Diabetic)\n",
    "We rejected the null hypothesis, concluding that there's a significant difference in the blood pressure mean across the 2 groups. Therefore, BloodPressure may contribute modestly to diabetes classification.\n",
    "\n",
    "##### 4. Mean Diabetes Pedigree Function (Diabetic vs Non-Diabetic)\n",
    "We rejected the null hypothesis, concluding that there's a significant difference in the diabetes pedigree function mean across the 2 groups, Therefore, Family history (DPF) is statistically associated with diabetes status.\n",
    "\n",
    "##### 5. Mean BMI across Age Groups\n",
    "We rejected the null hypothesis, concluding that at least one age group has a BMI mean different from the others. BMI changes across age groups and might suggest that age moderates the effect of BMI on diabetes. It could be useful for model interactions.\n",
    "\n",
    "##### 6. Mean Blood Pressure across Age Groups\n",
    "We rejected the null hypothesis, concluding that at least one age group has a BloodPressure mean different from the others. If BP increases with age, this reflects real-world health patterns and supports age as a strong contextual variable.\n",
    "\n",
    "##### 7. Mean SkinThickness across Pregnancy Groups\n",
    "We rejected the null hypothesis, concluding that at least one pregnancy group has a SkinThickness mean different from the others. It may be worth including as a feature in age-adjusted or pregnancy-adjusted models. This suggests that metabolic changes associated with pregnancy count may influence subcutaneous fat storage, reflected in skin thickness measurements. While skin thickness may not be a direct predictor of diabetes on its own, it could serve as a supporting feature in models when combined with variables like BMI, insulin, or pregnancy count.\n",
    "\n",
    "##### 8. Mean Glucose across Pregnancy Groups\n",
    "We rejected the null hypothesis, concluding that at least one pregnancy group has a glucose mean different from the others. Glucose increases with pregnancy, this supports the idea that higher pregnancies may correlate with higher glucose/diabetes risk.\n",
    "\n",
    "##### 9. Mean BloodPressure across Pregnancy Groups\n",
    "We rejected the null hypothesis, concluding that at least one pregnancy group has a bloodpressure mean different from the others. The difference was statistically significant, this suggests that pregnancy count may influence cardiovascular health, making blood pressure a potentially useful variable in combination with pregnancy-related features.\n",
    "\n",
    "##### 10. AgeGroup and Outcome\n",
    "We rejected the null hypothesis, concluding that AgeGroups and Outcome show a statistically significant association, indicating that the likelihood of having diabetes varies across age groups. Older age groups tended to have a higher proportion of diabetic cases, reflecting known clinical risk patterns. This supports the inclusion of Age or AgeGroup as a predictive feature in the model, either as a continuous variable or a binned categorical one. It may also justify interaction terms with features like BMI or Glucose in more complex models.\n",
    "\n",
    "##### 11. PregnancyGroup and Outcome\n",
    "We rejected the null hypothesis, concluding that PregnancyGroup and Outcome show a significant relationship, suggesting that individuals with higher pregnancy counts are more likely to have diabetes. This pattern aligns with clinical insights about gestational diabetes and metabolic changes with multiple pregnancies. As a result, the PregnancyGroup variable can serve as a useful categorical predictor in classification models. This also highlights the value of binning numerical variables to uncover hidden associations that raw counts might not reveal."
   ]
  },
  {
   "cell_type": "markdown",
   "id": "72b0f014",
   "metadata": {},
   "source": [
    "### 4.4 SUMMARY OF KEY FINDINGS FROM DATA ANALYSIS"
   ]
  },
  {
   "cell_type": "markdown",
   "id": "86aab5ea",
   "metadata": {},
   "source": [
    "**Exploratory data analysis (EDA)** identified Glucose, BMI, Insulin, and Age as the most influential features in assessing diabetes risk. These variables demonstrated distinct distributions across diabetic and non-diabetic groups, with moderate correlations to the diabetes outcome. The absence of multicollinearity (all Variance Inflation Factors below 5) indicates that these features can be reliably incorporated together in predictive classification models. This evidence provides a strong foundation for informed feature selection and enhances model interpretability.\n",
    "\n",
    "**Descriptive statistics** confirmed that individuals with diabetes consistently present higher levels of glucose, BMI, insulin, age, and diabetes pedigree function compared to non-diabetics. These findings are consistent with established medical knowledge, validating the dataset’s reliability and supporting the selection of these variables as key predictors in further modeling efforts.\n",
    "\n",
    "**Inferential statistics** further revealed statistically significant differences between diabetic and non-diabetic groups across multiple clinical and demographic variables. Elevated glucose and insulin levels, alongside differences in blood pressure and family history, underscore their relevance in diabetes classification. Additionally, BMI and blood pressure were shown to vary significantly by age group, suggesting that age moderates their influence on diabetes risk. Pregnancy count was also associated with variations in skin thickness, glucose, and blood pressure, reflecting metabolic and cardiovascular changes linked to pregnancy history. Both age and pregnancy group demonstrated strong associations with diabetes outcomes, reinforcing their importance as predictive features.\n",
    "\n",
    "Together, these insights directly inform feature engineering by highlighting key variables and their interactions —such as **Glucose**, **BMI**, **Insulin**, **Age**, and **Diabetes Pedigree Function** —that should be incorporated or transformed to improve model accuracy. Incorporating these variables and their interactions enables the development of more robust and interpretable classification models, ultimately enhancing diabetes risk prediction and supporting clinical decision-making."
   ]
  },
  {
   "cell_type": "markdown",
   "id": "2f0bab7d",
   "metadata": {},
   "source": [
    "## 5.0 FEATURE ENGINEERING"
   ]
  },
  {
   "cell_type": "markdown",
   "id": "55366791",
   "metadata": {},
   "source": [
    "### 5.1 Setting the X & y variables"
   ]
  },
  {
   "cell_type": "code",
   "execution_count": 141,
   "id": "4dbc640d",
   "metadata": {},
   "outputs": [],
   "source": [
    "#dropping the columns not to be used\n",
    "X=df_imputed.drop(columns=['Pregnancies', 'Age', 'Outcome', 'Glucose_missing', 'BloodPressure_missing',\n",
    "                          'SkinThickness_missing', 'Insulin_missing', 'BMI_missing'])\n",
    "y=df_imputed['Outcome']"
   ]
  },
  {
   "cell_type": "markdown",
   "id": "f5077d6f",
   "metadata": {},
   "source": [
    "### 5.2 Encoding the Categorical Variables"
   ]
  },
  {
   "cell_type": "code",
   "execution_count": 142,
   "id": "13e910aa",
   "metadata": {},
   "outputs": [
    {
     "data": {
      "application/vnd.microsoft.datawrangler.viewer.v0+json": {
       "columns": [
        {
         "name": "index",
         "rawType": "int64",
         "type": "integer"
        },
        {
         "name": "Glucose",
         "rawType": "float64",
         "type": "float"
        },
        {
         "name": "BloodPressure",
         "rawType": "float64",
         "type": "float"
        },
        {
         "name": "SkinThickness",
         "rawType": "float64",
         "type": "float"
        },
        {
         "name": "Insulin",
         "rawType": "float64",
         "type": "float"
        },
        {
         "name": "BMI",
         "rawType": "float64",
         "type": "float"
        },
        {
         "name": "DiabetesPedigreeFunction",
         "rawType": "float64",
         "type": "float"
        },
        {
         "name": "AgeGroup_Old",
         "rawType": "bool",
         "type": "boolean"
        },
        {
         "name": "AgeGroup_Young",
         "rawType": "bool",
         "type": "boolean"
        },
        {
         "name": "PregnancyGroup_Low",
         "rawType": "bool",
         "type": "boolean"
        },
        {
         "name": "PregnancyGroup_Medium",
         "rawType": "bool",
         "type": "boolean"
        },
        {
         "name": "PregnancyGroup_None",
         "rawType": "bool",
         "type": "boolean"
        }
       ],
       "ref": "d8f3169f-a1e1-446d-a44a-b55d10cc9876",
       "rows": [
        [
         "0",
         "148.0",
         "72.0",
         "35.0",
         "218.92",
         "33.6",
         "0.63",
         "False",
         "False",
         "False",
         "False",
         "False"
        ],
        [
         "1",
         "85.0",
         "66.0",
         "29.0",
         "70.31",
         "26.6",
         "0.35",
         "False",
         "False",
         "True",
         "False",
         "False"
        ],
        [
         "2",
         "183.0",
         "64.0",
         "21.64",
         "268.53",
         "23.3",
         "0.67",
         "False",
         "False",
         "False",
         "False",
         "False"
        ],
        [
         "3",
         "89.0",
         "66.0",
         "23.0",
         "94.0",
         "28.1",
         "0.17",
         "False",
         "True",
         "True",
         "False",
         "False"
        ],
        [
         "4",
         "137.0",
         "40.0",
         "35.0",
         "168.0",
         "43.1",
         "2.29",
         "False",
         "False",
         "False",
         "False",
         "True"
        ],
        [
         "5",
         "116.0",
         "74.0",
         "22.18",
         "125.7",
         "25.6",
         "0.2",
         "False",
         "False",
         "False",
         "False",
         "False"
        ],
        [
         "6",
         "78.0",
         "50.0",
         "32.0",
         "88.0",
         "31.0",
         "0.25",
         "False",
         "True",
         "False",
         "True",
         "False"
        ],
        [
         "7",
         "115.0",
         "73.25",
         "31.65",
         "136.15",
         "35.3",
         "0.13",
         "False",
         "True",
         "False",
         "False",
         "False"
        ],
        [
         "8",
         "197.0",
         "70.0",
         "45.0",
         "543.0",
         "30.5",
         "0.16",
         "True",
         "False",
         "False",
         "True",
         "False"
        ],
        [
         "9",
         "125.0",
         "96.0",
         "32.84",
         "159.34",
         "34.51",
         "0.23",
         "True",
         "False",
         "False",
         "False",
         "False"
        ],
        [
         "10",
         "110.0",
         "92.0",
         "33.19",
         "124.84",
         "37.6",
         "0.19",
         "False",
         "False",
         "False",
         "True",
         "False"
        ],
        [
         "11",
         "168.0",
         "74.0",
         "35.56",
         "255.94",
         "38.0",
         "0.54",
         "False",
         "False",
         "False",
         "False",
         "False"
        ],
        [
         "12",
         "139.0",
         "80.0",
         "26.69",
         "184.98",
         "27.1",
         "1.44",
         "True",
         "False",
         "False",
         "False",
         "False"
        ],
        [
         "13",
         "189.0",
         "60.0",
         "23.0",
         "846.0",
         "30.1",
         "0.4",
         "True",
         "False",
         "True",
         "False",
         "False"
        ],
        [
         "14",
         "166.0",
         "72.0",
         "19.0",
         "175.0",
         "25.8",
         "0.59",
         "True",
         "False",
         "False",
         "False",
         "False"
        ],
        [
         "15",
         "100.0",
         "70.74",
         "26.45",
         "100.3",
         "30.0",
         "0.48",
         "False",
         "False",
         "False",
         "False",
         "False"
        ],
        [
         "16",
         "118.0",
         "84.0",
         "47.0",
         "230.0",
         "45.8",
         "0.55",
         "False",
         "False",
         "False",
         "False",
         "True"
        ],
        [
         "17",
         "107.0",
         "74.0",
         "26.07",
         "112.35",
         "29.6",
         "0.25",
         "False",
         "False",
         "False",
         "False",
         "False"
        ],
        [
         "18",
         "103.0",
         "30.0",
         "38.0",
         "83.0",
         "43.3",
         "0.18",
         "False",
         "False",
         "True",
         "False",
         "False"
        ],
        [
         "19",
         "115.0",
         "70.0",
         "30.0",
         "96.0",
         "34.6",
         "0.53",
         "False",
         "False",
         "True",
         "False",
         "False"
        ],
        [
         "20",
         "126.0",
         "88.0",
         "41.0",
         "235.0",
         "39.3",
         "0.7",
         "False",
         "True",
         "False",
         "True",
         "False"
        ],
        [
         "21",
         "99.0",
         "84.0",
         "33.07",
         "109.39",
         "35.4",
         "0.39",
         "False",
         "False",
         "False",
         "False",
         "False"
        ],
        [
         "22",
         "196.0",
         "90.0",
         "37.93",
         "316.46",
         "39.8",
         "0.45",
         "False",
         "False",
         "False",
         "False",
         "False"
        ],
        [
         "23",
         "119.0",
         "80.0",
         "35.0",
         "133.57",
         "29.0",
         "0.26",
         "False",
         "True",
         "False",
         "False",
         "False"
        ],
        [
         "24",
         "143.0",
         "94.0",
         "33.0",
         "146.0",
         "36.6",
         "0.25",
         "True",
         "False",
         "False",
         "False",
         "False"
        ],
        [
         "25",
         "125.0",
         "70.0",
         "26.0",
         "115.0",
         "31.1",
         "0.2",
         "False",
         "False",
         "False",
         "False",
         "False"
        ],
        [
         "26",
         "147.0",
         "76.0",
         "37.07",
         "219.45",
         "39.4",
         "0.26",
         "False",
         "False",
         "False",
         "False",
         "False"
        ],
        [
         "27",
         "97.0",
         "66.0",
         "15.0",
         "140.0",
         "23.2",
         "0.49",
         "False",
         "True",
         "True",
         "False",
         "False"
        ],
        [
         "28",
         "145.0",
         "82.0",
         "19.0",
         "110.0",
         "22.2",
         "0.24",
         "True",
         "False",
         "False",
         "False",
         "False"
        ],
        [
         "29",
         "117.0",
         "92.0",
         "30.76",
         "137.36",
         "34.1",
         "0.34",
         "False",
         "False",
         "False",
         "False",
         "False"
        ],
        [
         "30",
         "109.0",
         "75.0",
         "26.0",
         "141.72",
         "36.0",
         "0.55",
         "True",
         "False",
         "False",
         "False",
         "False"
        ],
        [
         "31",
         "158.0",
         "76.0",
         "36.0",
         "245.0",
         "31.6",
         "0.85",
         "False",
         "True",
         "False",
         "True",
         "False"
        ],
        [
         "32",
         "88.0",
         "58.0",
         "11.0",
         "54.0",
         "24.8",
         "0.27",
         "False",
         "True",
         "False",
         "True",
         "False"
        ],
        [
         "33",
         "92.0",
         "92.0",
         "16.04",
         "54.11",
         "19.9",
         "0.19",
         "False",
         "True",
         "False",
         "False",
         "False"
        ],
        [
         "34",
         "122.0",
         "78.0",
         "31.0",
         "145.37",
         "27.6",
         "0.51",
         "False",
         "False",
         "False",
         "False",
         "False"
        ],
        [
         "35",
         "103.0",
         "60.0",
         "33.0",
         "192.0",
         "24.0",
         "0.97",
         "False",
         "False",
         "False",
         "True",
         "False"
        ],
        [
         "36",
         "138.0",
         "76.0",
         "30.64",
         "182.71",
         "33.2",
         "0.42",
         "False",
         "False",
         "False",
         "False",
         "False"
        ],
        [
         "37",
         "102.0",
         "76.0",
         "37.0",
         "114.27",
         "32.9",
         "0.66",
         "False",
         "False",
         "False",
         "False",
         "False"
        ],
        [
         "38",
         "90.0",
         "68.0",
         "42.0",
         "97.22",
         "38.2",
         "0.5",
         "False",
         "True",
         "False",
         "True",
         "False"
        ],
        [
         "39",
         "111.0",
         "72.0",
         "47.0",
         "207.0",
         "37.1",
         "1.39",
         "True",
         "False",
         "False",
         "True",
         "False"
        ],
        [
         "40",
         "180.0",
         "64.0",
         "25.0",
         "70.0",
         "34.0",
         "0.27",
         "False",
         "True",
         "False",
         "True",
         "False"
        ],
        [
         "41",
         "133.0",
         "84.0",
         "37.0",
         "183.83",
         "40.2",
         "0.7",
         "False",
         "False",
         "False",
         "False",
         "False"
        ],
        [
         "42",
         "106.0",
         "92.0",
         "18.0",
         "97.86",
         "22.7",
         "0.24",
         "False",
         "False",
         "False",
         "False",
         "False"
        ],
        [
         "43",
         "171.0",
         "110.0",
         "24.0",
         "240.0",
         "45.4",
         "0.72",
         "True",
         "False",
         "False",
         "False",
         "False"
        ],
        [
         "44",
         "159.0",
         "64.0",
         "25.75",
         "229.22",
         "27.4",
         "0.29",
         "False",
         "False",
         "False",
         "False",
         "False"
        ],
        [
         "45",
         "180.0",
         "66.0",
         "39.0",
         "295.12",
         "42.0",
         "1.89",
         "False",
         "True",
         "False",
         "False",
         "True"
        ],
        [
         "46",
         "146.0",
         "56.0",
         "26.41",
         "208.0",
         "29.7",
         "0.56",
         "False",
         "True",
         "True",
         "False",
         "False"
        ],
        [
         "47",
         "71.0",
         "70.0",
         "27.0",
         "34.83",
         "28.0",
         "0.59",
         "False",
         "True",
         "False",
         "True",
         "False"
        ],
        [
         "48",
         "103.0",
         "66.0",
         "32.0",
         "123.17",
         "39.1",
         "0.34",
         "False",
         "False",
         "False",
         "False",
         "False"
        ],
        [
         "49",
         "105.0",
         "69.27",
         "27.1",
         "109.69",
         "31.34",
         "0.3",
         "False",
         "True",
         "False",
         "False",
         "False"
        ]
       ],
       "shape": {
        "columns": 11,
        "rows": 768
       }
      },
      "text/html": [
       "<div>\n",
       "<style scoped>\n",
       "    .dataframe tbody tr th:only-of-type {\n",
       "        vertical-align: middle;\n",
       "    }\n",
       "\n",
       "    .dataframe tbody tr th {\n",
       "        vertical-align: top;\n",
       "    }\n",
       "\n",
       "    .dataframe thead th {\n",
       "        text-align: right;\n",
       "    }\n",
       "</style>\n",
       "<table border=\"1\" class=\"dataframe\">\n",
       "  <thead>\n",
       "    <tr style=\"text-align: right;\">\n",
       "      <th></th>\n",
       "      <th>Glucose</th>\n",
       "      <th>BloodPressure</th>\n",
       "      <th>SkinThickness</th>\n",
       "      <th>Insulin</th>\n",
       "      <th>BMI</th>\n",
       "      <th>DiabetesPedigreeFunction</th>\n",
       "      <th>AgeGroup_Old</th>\n",
       "      <th>AgeGroup_Young</th>\n",
       "      <th>PregnancyGroup_Low</th>\n",
       "      <th>PregnancyGroup_Medium</th>\n",
       "      <th>PregnancyGroup_None</th>\n",
       "    </tr>\n",
       "  </thead>\n",
       "  <tbody>\n",
       "    <tr>\n",
       "      <th>0</th>\n",
       "      <td>148.0</td>\n",
       "      <td>72.0</td>\n",
       "      <td>35.00</td>\n",
       "      <td>218.92</td>\n",
       "      <td>33.6</td>\n",
       "      <td>0.63</td>\n",
       "      <td>False</td>\n",
       "      <td>False</td>\n",
       "      <td>False</td>\n",
       "      <td>False</td>\n",
       "      <td>False</td>\n",
       "    </tr>\n",
       "    <tr>\n",
       "      <th>1</th>\n",
       "      <td>85.0</td>\n",
       "      <td>66.0</td>\n",
       "      <td>29.00</td>\n",
       "      <td>70.31</td>\n",
       "      <td>26.6</td>\n",
       "      <td>0.35</td>\n",
       "      <td>False</td>\n",
       "      <td>False</td>\n",
       "      <td>True</td>\n",
       "      <td>False</td>\n",
       "      <td>False</td>\n",
       "    </tr>\n",
       "    <tr>\n",
       "      <th>2</th>\n",
       "      <td>183.0</td>\n",
       "      <td>64.0</td>\n",
       "      <td>21.64</td>\n",
       "      <td>268.53</td>\n",
       "      <td>23.3</td>\n",
       "      <td>0.67</td>\n",
       "      <td>False</td>\n",
       "      <td>False</td>\n",
       "      <td>False</td>\n",
       "      <td>False</td>\n",
       "      <td>False</td>\n",
       "    </tr>\n",
       "    <tr>\n",
       "      <th>3</th>\n",
       "      <td>89.0</td>\n",
       "      <td>66.0</td>\n",
       "      <td>23.00</td>\n",
       "      <td>94.00</td>\n",
       "      <td>28.1</td>\n",
       "      <td>0.17</td>\n",
       "      <td>False</td>\n",
       "      <td>True</td>\n",
       "      <td>True</td>\n",
       "      <td>False</td>\n",
       "      <td>False</td>\n",
       "    </tr>\n",
       "    <tr>\n",
       "      <th>4</th>\n",
       "      <td>137.0</td>\n",
       "      <td>40.0</td>\n",
       "      <td>35.00</td>\n",
       "      <td>168.00</td>\n",
       "      <td>43.1</td>\n",
       "      <td>2.29</td>\n",
       "      <td>False</td>\n",
       "      <td>False</td>\n",
       "      <td>False</td>\n",
       "      <td>False</td>\n",
       "      <td>True</td>\n",
       "    </tr>\n",
       "    <tr>\n",
       "      <th>...</th>\n",
       "      <td>...</td>\n",
       "      <td>...</td>\n",
       "      <td>...</td>\n",
       "      <td>...</td>\n",
       "      <td>...</td>\n",
       "      <td>...</td>\n",
       "      <td>...</td>\n",
       "      <td>...</td>\n",
       "      <td>...</td>\n",
       "      <td>...</td>\n",
       "      <td>...</td>\n",
       "    </tr>\n",
       "    <tr>\n",
       "      <th>763</th>\n",
       "      <td>101.0</td>\n",
       "      <td>76.0</td>\n",
       "      <td>48.00</td>\n",
       "      <td>180.00</td>\n",
       "      <td>32.9</td>\n",
       "      <td>0.17</td>\n",
       "      <td>True</td>\n",
       "      <td>False</td>\n",
       "      <td>False</td>\n",
       "      <td>False</td>\n",
       "      <td>False</td>\n",
       "    </tr>\n",
       "    <tr>\n",
       "      <th>764</th>\n",
       "      <td>122.0</td>\n",
       "      <td>70.0</td>\n",
       "      <td>27.00</td>\n",
       "      <td>158.72</td>\n",
       "      <td>36.8</td>\n",
       "      <td>0.34</td>\n",
       "      <td>False</td>\n",
       "      <td>True</td>\n",
       "      <td>False</td>\n",
       "      <td>True</td>\n",
       "      <td>False</td>\n",
       "    </tr>\n",
       "    <tr>\n",
       "      <th>765</th>\n",
       "      <td>121.0</td>\n",
       "      <td>72.0</td>\n",
       "      <td>23.00</td>\n",
       "      <td>112.00</td>\n",
       "      <td>26.2</td>\n",
       "      <td>0.24</td>\n",
       "      <td>False</td>\n",
       "      <td>False</td>\n",
       "      <td>False</td>\n",
       "      <td>False</td>\n",
       "      <td>False</td>\n",
       "    </tr>\n",
       "    <tr>\n",
       "      <th>766</th>\n",
       "      <td>126.0</td>\n",
       "      <td>60.0</td>\n",
       "      <td>27.98</td>\n",
       "      <td>173.53</td>\n",
       "      <td>30.1</td>\n",
       "      <td>0.35</td>\n",
       "      <td>False</td>\n",
       "      <td>False</td>\n",
       "      <td>True</td>\n",
       "      <td>False</td>\n",
       "      <td>False</td>\n",
       "    </tr>\n",
       "    <tr>\n",
       "      <th>767</th>\n",
       "      <td>93.0</td>\n",
       "      <td>70.0</td>\n",
       "      <td>31.00</td>\n",
       "      <td>87.29</td>\n",
       "      <td>30.4</td>\n",
       "      <td>0.32</td>\n",
       "      <td>False</td>\n",
       "      <td>True</td>\n",
       "      <td>True</td>\n",
       "      <td>False</td>\n",
       "      <td>False</td>\n",
       "    </tr>\n",
       "  </tbody>\n",
       "</table>\n",
       "<p>768 rows × 11 columns</p>\n",
       "</div>"
      ],
      "text/plain": [
       "     Glucose  BloodPressure  SkinThickness  Insulin   BMI  \\\n",
       "0      148.0           72.0          35.00   218.92  33.6   \n",
       "1       85.0           66.0          29.00    70.31  26.6   \n",
       "2      183.0           64.0          21.64   268.53  23.3   \n",
       "3       89.0           66.0          23.00    94.00  28.1   \n",
       "4      137.0           40.0          35.00   168.00  43.1   \n",
       "..       ...            ...            ...      ...   ...   \n",
       "763    101.0           76.0          48.00   180.00  32.9   \n",
       "764    122.0           70.0          27.00   158.72  36.8   \n",
       "765    121.0           72.0          23.00   112.00  26.2   \n",
       "766    126.0           60.0          27.98   173.53  30.1   \n",
       "767     93.0           70.0          31.00    87.29  30.4   \n",
       "\n",
       "     DiabetesPedigreeFunction  AgeGroup_Old  AgeGroup_Young  \\\n",
       "0                        0.63         False           False   \n",
       "1                        0.35         False           False   \n",
       "2                        0.67         False           False   \n",
       "3                        0.17         False            True   \n",
       "4                        2.29         False           False   \n",
       "..                        ...           ...             ...   \n",
       "763                      0.17          True           False   \n",
       "764                      0.34         False            True   \n",
       "765                      0.24         False           False   \n",
       "766                      0.35         False           False   \n",
       "767                      0.32         False            True   \n",
       "\n",
       "     PregnancyGroup_Low  PregnancyGroup_Medium  PregnancyGroup_None  \n",
       "0                 False                  False                False  \n",
       "1                  True                  False                False  \n",
       "2                 False                  False                False  \n",
       "3                  True                  False                False  \n",
       "4                 False                  False                 True  \n",
       "..                  ...                    ...                  ...  \n",
       "763               False                  False                False  \n",
       "764               False                   True                False  \n",
       "765               False                  False                False  \n",
       "766                True                  False                False  \n",
       "767                True                  False                False  \n",
       "\n",
       "[768 rows x 11 columns]"
      ]
     },
     "execution_count": 142,
     "metadata": {},
     "output_type": "execute_result"
    }
   ],
   "source": [
    "# Convert categories into binary\n",
    "X_encoded = pd.get_dummies(X, columns=['AgeGroup', 'PregnancyGroup'], drop_first=True)\n",
    "X_encoded"
   ]
  },
  {
   "cell_type": "markdown",
   "id": "7983202f-27cf-4abb-8165-24c2e8c10523",
   "metadata": {},
   "source": [
    "### 5.3 Train-Test Split (80/20)"
   ]
  },
  {
   "cell_type": "code",
   "execution_count": 143,
   "id": "397928f9-7a19-49fc-a3aa-fe484c39c397",
   "metadata": {},
   "outputs": [
    {
     "name": "stdout",
     "output_type": "stream",
     "text": [
      "Training set: (614, 11) (614,)\n",
      "Test set: (154, 11) (154,)\n"
     ]
    }
   ],
   "source": [
    "# Split data: 80% training, 20% testing\n",
    "X_encoded_train, X_encoded_test, y_train, y_test = train_test_split( X_encoded, y, test_size=0.2, random_state=42, stratify=y)\n",
    "# Check the shape\n",
    "print(\"Training set:\", X_encoded_train.shape, y_train.shape)\n",
    "print(\"Test set:\", X_encoded_test.shape, y_test.shape)"
   ]
  },
  {
   "cell_type": "markdown",
   "id": "a29b0804-5cf9-4f9e-9b86-aceb10b89120",
   "metadata": {},
   "source": [
    "### 5.4 Scale Numeric Features with StandardScaler"
   ]
  },
  {
   "cell_type": "code",
   "execution_count": 144,
   "id": "a9431c0d",
   "metadata": {},
   "outputs": [
    {
     "name": "stdout",
     "output_type": "stream",
     "text": [
      "Numeric columns: Index(['Glucose', 'BloodPressure', 'SkinThickness', 'Insulin', 'BMI',\n",
      "       'DiabetesPedigreeFunction'],\n",
      "      dtype='object')\n"
     ]
    }
   ],
   "source": [
    "# Select only numeric columns from the feature set\n",
    "numeric_cols = [('Glucose', 'BloodPressure', 'SkinThickness', 'Insulin', 'BMI', 'DiabetesPedigreeFunction')]\n",
    "numeric_cols = X_encoded.select_dtypes(include=['number']).columns\n",
    "\n",
    "# to print numeric columns to confirm\n",
    "print(\"Numeric columns:\", numeric_cols)"
   ]
  },
  {
   "cell_type": "code",
   "execution_count": 145,
   "id": "956b093c-f54e-4a10-b9e9-bba6cf74739c",
   "metadata": {},
   "outputs": [],
   "source": [
    "# Initialize the scaler\n",
    "scaler = StandardScaler()\n",
    "\n",
    "# Fit on training data and transform both train and test sets\n",
    "X_encoded_train_scaled = X_encoded_train.copy()\n",
    "\n",
    "X_encoded_test_scaled = X_encoded_test.copy()\n",
    "\n",
    "X_encoded_train_scaled[numeric_cols] = scaler.fit_transform(X_encoded_train[numeric_cols])\n",
    "X_encoded_test_scaled[numeric_cols] = scaler.transform(X_encoded_test[numeric_cols])"
   ]
  },
  {
   "cell_type": "code",
   "execution_count": 146,
   "id": "a3ad2474-9ea3-43b1-8faa-455910551d82",
   "metadata": {},
   "outputs": [
    {
     "data": {
      "application/vnd.microsoft.datawrangler.viewer.v0+json": {
       "columns": [
        {
         "name": "index",
         "rawType": "int64",
         "type": "integer"
        },
        {
         "name": "Glucose",
         "rawType": "float64",
         "type": "float"
        },
        {
         "name": "BloodPressure",
         "rawType": "float64",
         "type": "float"
        },
        {
         "name": "SkinThickness",
         "rawType": "float64",
         "type": "float"
        },
        {
         "name": "Insulin",
         "rawType": "float64",
         "type": "float"
        },
        {
         "name": "BMI",
         "rawType": "float64",
         "type": "float"
        },
        {
         "name": "DiabetesPedigreeFunction",
         "rawType": "float64",
         "type": "float"
        }
       ],
       "ref": "2b58eb75-ee43-46f2-8d41-bf22febd4d83",
       "rows": [
        [
         "353",
         "-1.0555702383599932",
         "-0.825585132627863",
         "-1.773533841366778",
         "-1.1795237862486736",
         "-0.7670205459474275",
         "0.31097788980487723"
        ],
        [
         "711",
         "0.1441480152705175",
         "0.4755626143306306",
         "-0.20494672204513528",
         "-1.4124548159766477",
         "-0.41520714223527977",
         "-0.1132668238537049"
        ],
        [
         "373",
         "-0.5556876326806137",
         "-1.1508720693674865",
         "1.1544954480336218",
         "-0.6138341426235936",
         "0.3617141242957121",
         "-0.7799370881743343"
        ],
        [
         "46",
         "0.8106581561763567",
         "-1.3135155377372982",
         "-0.26664448207178654",
         "0.6506485901854087",
         "-0.4005482504139406",
         "0.25037150213936576"
        ],
        [
         "682",
         "-0.8889427031335333",
         "-0.6629416642580513",
         "1.049922973412179",
         "-0.49182265086132143",
         "1.7836266309656417",
         "-0.32538918068299605"
        ],
        [
         "360",
         "2.243654959123911",
         "-0.6629416642580513",
         "0.4224881256835219",
         "1.9484071843841215",
         "-0.18066487309384846",
         "0.31097788980487723"
        ],
        [
         "414",
         "0.5440540998140211",
         "-0.9882286009976747",
         "0.6316330749264076",
         "0.19587848452603068",
         "0.3177374488316941",
         "0.15946192064109807"
        ],
        [
         "339",
         "1.8770743816256994",
         "0.9634930194400657",
         "0.9233902791202331",
         "1.4634669643980722",
         "1.0946587153626859",
         "-0.4466019560140195"
        ],
        [
         "694",
         "-1.0555702383599932",
         "-0.9882286009976747",
         "-1.0153834003613174",
         "-0.8432157471366653",
         "-1.309399543336988",
         "-0.8708466696726018"
        ],
        [
         "33",
         "-0.9889192242694091",
         "1.6140668929193125",
         "-1.351061043896149",
         "-1.0562921795687787",
         "-1.8371196489052095",
         "-0.8708466696726018"
        ],
        [
         "218",
         "-1.2221977735864529",
         "0.15027567759100716",
         "-0.7278090951523496",
         "-0.926294481072976",
         "-0.5031604931633168",
         "2.2503822951012533"
        ],
        [
         "705",
         "-1.3888253088129128",
         "0.6382060827004423",
         "0.7362055495478504",
         "-0.8976772402778249",
         "1.0799998235413462",
         "-0.9011498635053578"
        ],
        [
         "76",
         "-1.988684435628168",
         "0.4755626143306306",
         "0.004198227197750446",
         "-1.3811755062703197",
         "0.024559612404904535",
         "-0.26478279301748425"
        ],
        [
         "616",
         "-0.15578154813711015",
         "1.9393538296589359",
         "-0.4193202950190932",
         "-0.3113565625911244",
         "-0.5471371686273354",
         "-0.9617562511708694"
        ],
        [
         "675",
         "2.443608001395663",
         "-0.17501125914861623",
         "-0.02299061620382486",
         "1.7242387981554381",
         "-0.22464154855786697",
         "-0.4466019560140195"
        ],
        [
         "613",
         "-0.5556876326806137",
         "0.6382060827004423",
         "-0.10037424742369241",
         "-0.457770352705851",
         "0.009900720583564851",
         "1.2200737047875536"
        ],
        [
         "666",
         "0.7773326491310648",
         "0.800849551070254",
         "-1.146098993638121",
         "0.7125416923702705",
         "0.009900720583564851",
         "-0.7193307005088224"
        ],
        [
         "34",
         "0.010845987089349654",
         "0.4755626143306306",
         "0.21334317644063616",
         "-0.04404047609378258",
         "-0.7083849786620693",
         "0.09885553297558626"
        ],
        [
         "182",
         "-1.0022494270875262",
         "0.15027567759100716",
         "-0.9369540443952353",
         "-1.4013628621800773",
         "-0.6937260868407301",
         "-0.5375115375122872"
        ],
        [
         "405",
         "0.044171494134641616",
         "-1.964089411216545",
         "0.31791565106207903",
         "0.1736945769328903",
         "1.4171543354321547",
         "0.12915872680834214"
        ],
        [
         "464",
         "-0.2224325622276941",
         "2.101997298028748",
         "-0.8208785975654338",
         "-0.4654238008254844",
         "-1.2361050842302908",
         "1.644318418446136"
        ],
        [
         "576",
         "-0.4557111115447378",
         "-2.289376347956168",
         "-0.9369540443952353",
         "-0.21452380594706652",
         "-1.2361050842302908",
         "1.0079513479582627"
        ],
        [
         "664",
         "-0.2224325622276941",
         "-0.9882286009976747",
         "1.049922973412179",
         "0.014968718103970784",
         "0.185807422439639",
         "-0.7193307005088224"
        ],
        [
         "9",
         "0.11082250822522553",
         "1.9393538296589359",
         "0.4057565297440914",
         "0.11091411844430303",
         "0.30454444619248805",
         "-0.7496338943415782"
        ],
        [
         "466",
         "-1.5887783510846645",
         "-1.6388024744769216",
         "-1.982678790609664",
         "-1.257167462824665",
         "-0.6790671950193905",
         "-0.6284211190105548"
        ],
        [
         "267",
         "0.21079902936110143",
         "-0.6629416642580513",
         "1.3636403972765077",
         "0.35349514797529324",
         "1.1093176071840256",
         "1.886743969108183"
        ],
        [
         "167",
         "-0.05580502700123427",
         "-0.33765472751842796",
         "-0.26664448207178654",
         "-0.027291625860961684",
         "-0.41520714223527977",
         "0.7049194096307037"
        ],
        [
         "320",
         "0.2441245364063934",
         "-0.9882286009976747",
         "-1.773533841366778",
         "0.9057635275065232",
         "-0.723043870483409",
         "0.15946192064109807"
        ],
        [
         "610",
         "-0.5223621256353217",
         "-1.47615900610711",
         "-0.8323815697737924",
         "0.09605090035689894",
         "-0.22464154855786697",
         "-0.5678147313450431"
        ],
        [
         "485",
         "0.4440775786781451",
         "-0.33765472751842796",
         "1.3636403972765077",
         "1.1165106496413568",
         "1.446472119074833",
         "-0.355692374515752"
        ],
        [
         "295",
         "0.9772856914028165",
         "-0.825585132627863",
         "0.21334317644063616",
         "-0.32544334391276847",
         "0.44966747522374917",
         "0.6443130219651918"
        ],
        [
         "204",
         "-0.6223386467711977",
         "-0.012367790778804533",
         "0.31791565106207903",
         "0.4509934218471452",
         "0.772163095293218",
         "-0.4769051498467754"
        ],
        [
         "195",
         "1.2105642407198602",
         "0.9634930194400657",
         "1.2590679226550647",
         "0.6728324977785491",
         "1.0213642562559886",
         "-0.23447959918472835"
        ],
        [
         "269",
         "0.8106581561763567",
         "-0.2124192568736724",
         "-0.5071611737011051",
         "0.5195416963099491",
         "-0.723043870483409",
         "-0.7193307005088224"
        ],
        [
         "434",
         "-1.0555702383599932",
         "-0.33765472751842796",
         "-2.1918237398525497",
         "-0.8290180462770554",
         "-1.1628106251235932",
         "2.007956744439206"
        ],
        [
         "217",
         "0.11082250822522553",
         "-0.33765472751842796",
         "0.10877070181919331",
         "-0.32544334391276847",
         "-0.3565715749499221",
         "-0.05266043618819309"
        ],
        [
         "323",
         "1.0106111984481085",
         "1.4514234245495008",
         "0.4224881256835219",
         "-1.3348111394006563",
         "-0.8256561132327852",
         "0.7655257972962154"
        ],
        [
         "85",
         "-0.3890600974541539",
         "0.15027567759100716",
         "0.004198227197750446",
         "-0.26998357492991754",
         "-0.004758171237774834",
         "0.6746162157979477"
        ],
        [
         "26",
         "0.8439836632216486",
         "0.3129191459608189",
         "0.8480980973927943",
         "0.7776514611561374",
         "1.0213642562559886",
         "-0.6587243128433107"
        ],
        [
         "171",
         "0.4107520716328532",
         "-0.17501125914861623",
         "-0.6232366205309067",
         "-0.21452380594706652",
         "0.43500858340240944",
         "0.18976511447385397"
        ],
        [
         "716",
         "1.7104468463992397",
         "0.4755626143306306",
         "1.049922973412179",
         "0.3955336528642942",
         "0.20046631426097763",
         "1.4928024492823564"
        ],
        [
         "96",
         "-0.9889192242694091",
         "-0.825585132627863",
         "-0.10037424742369241",
         "-0.6584237968858057",
         "-0.12202930580849024",
         "-1.052665832669137"
        ],
        [
         "561",
         "2.5435845225315385",
         "-0.5002981958882396",
         "0.31791565106207903",
         "1.3827175407590415",
         "1.2998832008614383",
         "0.06855233914283035"
        ],
        [
         "296",
         "0.8106581561763567",
         "-0.17501125914861623",
         "0.9453504987907362",
         "2.3366255672640786",
         "-0.6497494113767116",
         "-0.4162987621812636"
        ],
        [
         "60",
         "-1.255523280631745",
         "-0.4637034155050318",
         "-0.4182745702728786",
         "-0.9211921823265536",
         "-0.34484446149285075",
         "-0.5375115375122872"
        ],
        [
         "175",
         "1.9103998886709914",
         "-0.012367790778804533",
         "1.3636403972765077",
         "-0.21452380594706652",
         "0.03921850422624422",
         "0.7352226034634596"
        ],
        [
         "737",
         "-1.888707914492292",
         "-0.012367790778804533",
         "-0.6232366205309067",
         "-1.3047519446119509",
         "-0.06339373852313253",
         "0.371584277470389"
        ],
        [
         "601",
         "-0.8556171960882414",
         "-0.4604505461376362",
         "-0.9359083196490207",
         "-0.7484904617139557",
         "-1.2800817596943093",
         "-0.8708466696726018"
        ],
        [
         "294",
         "1.310540761855736",
         "-1.8014459428467333",
         "-0.6880715547962014",
         "1.1110755922810374",
         "-1.5439418124784199",
         "-0.6890275066760666"
        ],
        [
         "209",
         "2.077027423897451",
         "0.9634930194400657",
         "0.4224881256835219",
         "1.5211451241402378",
         "0.44966747522374917",
         "-0.355692374515752"
        ]
       ],
       "shape": {
        "columns": 6,
        "rows": 614
       }
      },
      "text/html": [
       "<div>\n",
       "<style scoped>\n",
       "    .dataframe tbody tr th:only-of-type {\n",
       "        vertical-align: middle;\n",
       "    }\n",
       "\n",
       "    .dataframe tbody tr th {\n",
       "        vertical-align: top;\n",
       "    }\n",
       "\n",
       "    .dataframe thead th {\n",
       "        text-align: right;\n",
       "    }\n",
       "</style>\n",
       "<table border=\"1\" class=\"dataframe\">\n",
       "  <thead>\n",
       "    <tr style=\"text-align: right;\">\n",
       "      <th></th>\n",
       "      <th>Glucose</th>\n",
       "      <th>BloodPressure</th>\n",
       "      <th>SkinThickness</th>\n",
       "      <th>Insulin</th>\n",
       "      <th>BMI</th>\n",
       "      <th>DiabetesPedigreeFunction</th>\n",
       "    </tr>\n",
       "  </thead>\n",
       "  <tbody>\n",
       "    <tr>\n",
       "      <th>353</th>\n",
       "      <td>-1.055570</td>\n",
       "      <td>-0.825585</td>\n",
       "      <td>-1.773534</td>\n",
       "      <td>-1.179524</td>\n",
       "      <td>-0.767021</td>\n",
       "      <td>0.310978</td>\n",
       "    </tr>\n",
       "    <tr>\n",
       "      <th>711</th>\n",
       "      <td>0.144148</td>\n",
       "      <td>0.475563</td>\n",
       "      <td>-0.204947</td>\n",
       "      <td>-1.412455</td>\n",
       "      <td>-0.415207</td>\n",
       "      <td>-0.113267</td>\n",
       "    </tr>\n",
       "    <tr>\n",
       "      <th>373</th>\n",
       "      <td>-0.555688</td>\n",
       "      <td>-1.150872</td>\n",
       "      <td>1.154495</td>\n",
       "      <td>-0.613834</td>\n",
       "      <td>0.361714</td>\n",
       "      <td>-0.779937</td>\n",
       "    </tr>\n",
       "    <tr>\n",
       "      <th>46</th>\n",
       "      <td>0.810658</td>\n",
       "      <td>-1.313516</td>\n",
       "      <td>-0.266644</td>\n",
       "      <td>0.650649</td>\n",
       "      <td>-0.400548</td>\n",
       "      <td>0.250372</td>\n",
       "    </tr>\n",
       "    <tr>\n",
       "      <th>682</th>\n",
       "      <td>-0.888943</td>\n",
       "      <td>-0.662942</td>\n",
       "      <td>1.049923</td>\n",
       "      <td>-0.491823</td>\n",
       "      <td>1.783627</td>\n",
       "      <td>-0.325389</td>\n",
       "    </tr>\n",
       "    <tr>\n",
       "      <th>...</th>\n",
       "      <td>...</td>\n",
       "      <td>...</td>\n",
       "      <td>...</td>\n",
       "      <td>...</td>\n",
       "      <td>...</td>\n",
       "      <td>...</td>\n",
       "    </tr>\n",
       "    <tr>\n",
       "      <th>451</th>\n",
       "      <td>0.410752</td>\n",
       "      <td>-0.175011</td>\n",
       "      <td>-0.430823</td>\n",
       "      <td>0.230707</td>\n",
       "      <td>-0.517819</td>\n",
       "      <td>0.189765</td>\n",
       "    </tr>\n",
       "    <tr>\n",
       "      <th>113</th>\n",
       "      <td>-1.522127</td>\n",
       "      <td>-0.825585</td>\n",
       "      <td>0.018838</td>\n",
       "      <td>-1.004493</td>\n",
       "      <td>0.229784</td>\n",
       "      <td>-0.264783</td>\n",
       "    </tr>\n",
       "    <tr>\n",
       "      <th>556</th>\n",
       "      <td>-0.822292</td>\n",
       "      <td>-0.175011</td>\n",
       "      <td>1.154495</td>\n",
       "      <td>-0.406082</td>\n",
       "      <td>0.830799</td>\n",
       "      <td>-0.779937</td>\n",
       "    </tr>\n",
       "    <tr>\n",
       "      <th>667</th>\n",
       "      <td>-0.355735</td>\n",
       "      <td>-0.175011</td>\n",
       "      <td>-0.204947</td>\n",
       "      <td>-0.299599</td>\n",
       "      <td>-0.723044</td>\n",
       "      <td>-1.022363</td>\n",
       "    </tr>\n",
       "    <tr>\n",
       "      <th>107</th>\n",
       "      <td>0.744007</td>\n",
       "      <td>-1.150872</td>\n",
       "      <td>-0.100374</td>\n",
       "      <td>-0.103604</td>\n",
       "      <td>-0.429866</td>\n",
       "      <td>-0.567815</td>\n",
       "    </tr>\n",
       "  </tbody>\n",
       "</table>\n",
       "<p>614 rows × 6 columns</p>\n",
       "</div>"
      ],
      "text/plain": [
       "      Glucose  BloodPressure  SkinThickness   Insulin       BMI  \\\n",
       "353 -1.055570      -0.825585      -1.773534 -1.179524 -0.767021   \n",
       "711  0.144148       0.475563      -0.204947 -1.412455 -0.415207   \n",
       "373 -0.555688      -1.150872       1.154495 -0.613834  0.361714   \n",
       "46   0.810658      -1.313516      -0.266644  0.650649 -0.400548   \n",
       "682 -0.888943      -0.662942       1.049923 -0.491823  1.783627   \n",
       "..        ...            ...            ...       ...       ...   \n",
       "451  0.410752      -0.175011      -0.430823  0.230707 -0.517819   \n",
       "113 -1.522127      -0.825585       0.018838 -1.004493  0.229784   \n",
       "556 -0.822292      -0.175011       1.154495 -0.406082  0.830799   \n",
       "667 -0.355735      -0.175011      -0.204947 -0.299599 -0.723044   \n",
       "107  0.744007      -1.150872      -0.100374 -0.103604 -0.429866   \n",
       "\n",
       "     DiabetesPedigreeFunction  \n",
       "353                  0.310978  \n",
       "711                 -0.113267  \n",
       "373                 -0.779937  \n",
       "46                   0.250372  \n",
       "682                 -0.325389  \n",
       "..                        ...  \n",
       "451                  0.189765  \n",
       "113                 -0.264783  \n",
       "556                 -0.779937  \n",
       "667                 -1.022363  \n",
       "107                 -0.567815  \n",
       "\n",
       "[614 rows x 6 columns]"
      ]
     },
     "execution_count": 146,
     "metadata": {},
     "output_type": "execute_result"
    }
   ],
   "source": [
    "# Numeric columns of X-Training Data\n",
    "X_encoded_train_scaled[numeric_cols]"
   ]
  },
  {
   "cell_type": "code",
   "execution_count": 147,
   "id": "f53ce41b-cfd5-4732-aaac-499571dad087",
   "metadata": {},
   "outputs": [
    {
     "data": {
      "application/vnd.microsoft.datawrangler.viewer.v0+json": {
       "columns": [
        {
         "name": "index",
         "rawType": "int64",
         "type": "integer"
        },
        {
         "name": "Glucose",
         "rawType": "float64",
         "type": "float"
        },
        {
         "name": "BloodPressure",
         "rawType": "float64",
         "type": "float"
        },
        {
         "name": "SkinThickness",
         "rawType": "float64",
         "type": "float"
        },
        {
         "name": "Insulin",
         "rawType": "float64",
         "type": "float"
        },
        {
         "name": "BMI",
         "rawType": "float64",
         "type": "float"
        },
        {
         "name": "DiabetesPedigreeFunction",
         "rawType": "float64",
         "type": "float"
        }
       ],
       "ref": "986c045e-de0a-4d3f-85d3-317f0bcc22e6",
       "rows": [
        [
         "44",
         "1.2438897477651523",
         "-0.6629416642580513",
         "-0.33566231532193885",
         "0.8860198497486282",
         "-0.7377027623047486",
         "-0.5678147313450431"
        ],
        [
         "672",
         "-1.7887313933564162",
         "2.7525711715079946",
         "-0.6232366205309067",
         "-1.1129720634692524",
         "0.44966747522374917",
         "-0.5981179251777988"
        ],
        [
         "700",
         "0.010845987089349654",
         "0.3129191459608189",
         "-0.20494672204513528",
         "0.5619129598128472",
         "0.5083030425091069",
         "0.007945951477318546"
        ],
        [
         "630",
         "-0.25575806927298605",
         "-0.6629416642580513",
         "-0.467423633344957",
         "-0.2120835761118211",
         "-0.7377027623047486",
         "0.7655257972962154"
        ],
        [
         "81",
         "-1.5887783510846645",
         "-0.4921660224697495",
         "-0.4914753025078885",
         "-1.1619984992500927",
         "-0.43866136914942294",
         "-1.1435754141674048"
        ],
        [
         "389",
         "-0.7223151679070735",
         "-0.33765472751842796",
         "-0.6232366205309067",
         "-0.7580295419790061",
         "-0.12202930580849024",
         "1.4321960616168445"
        ],
        [
         "387",
         "-0.5556876326806137",
         "2.2646407663985593",
         "0.7362055495478504",
         "-0.2825174827200418",
         "1.593061037288228",
         "-0.7193307005088224"
        ],
        [
         "408",
         "2.5102590154862465",
         "0.15027567759100716",
         "-0.42873181773502306",
         "1.6875244310887907",
         "-0.9575861396248408",
         "2.1594727136029856"
        ],
        [
         "163",
         "-0.7223151679070735",
         "-0.6629416642580513",
         "-0.6232366205309067",
         "-0.5412927647940244",
         "-0.4005482504139406",
         "-0.32538918068299605"
        ],
        [
         "335",
         "1.443842790036904",
         "0.3129191459608189",
         "1.4682128718979504",
         "1.171970418624208",
         "2.267370061069844",
         "-0.6587243128433107"
        ],
        [
         "471",
         "0.5107285927687291",
         "-0.17501125914861623",
         "0.9453504987907362",
         "0.4158319283120178",
         "0.1125129633329416",
         "-0.9314530573381135"
        ],
        [
         "78",
         "0.3107755504969773",
         "0.256807149373234",
         "0.9861337638930989",
         "0.4312497440892502",
         "1.5784021454668893",
         "-0.6284211190105548"
        ],
        [
         "307",
         "0.5107285927687291",
         "-0.33765472751842796",
         "-1.5643888921238924",
         "-0.014868637608803015",
         "-1.1188339496595747",
         "-1.0223626388363811"
        ],
        [
         "392",
         "0.3107755504969773",
         "-0.6629416642580513",
         "-1.5643888921238924",
         "2.9466830260754393",
         "-1.2800817596943093",
         "-0.26478279301748425"
        ],
        [
         "678",
         "-0.022479519955942308",
         "-1.6388024744769216",
         "0.29909260563021933",
         "0.15994055422514317",
         "0.5229619343304466",
         "-1.052665832669137"
        ],
        [
         "116",
         "0.07749700117993358",
         "0.15027567759100716",
         "0.21229745169442157",
         "0.1308796352781292",
         "0.229784097903657",
         "-0.7799370881743343"
        ],
        [
         "660",
         "1.3438662689010281",
         "0.9634930194400657",
         "-0.17462070440491692",
         "0.9087583550315973",
         "-0.6937260868407301",
         "-0.9011498635053578"
        ],
        [
         "742",
         "-0.42238560449944584",
         "-1.1508720693674865",
         "-1.146098993638121",
         "-0.36981115909904927",
         "-0.5764549522700142",
         "-0.7799370881743343"
        ],
        [
         "260",
         "2.310305973214495",
         "-0.33765472751842796",
         "-1.4598164175024495",
         "-0.21452380594706652",
         "-0.22464154855786697",
         "-0.5375115375122872"
        ],
        [
         "533",
         "-1.0222447313147012",
         "-0.18233021522525805",
         "-0.31474782039765037",
         "-0.7535927604603779",
         "-0.38588935859260093",
         "0.06855233914283035"
        ],
        [
         "140",
         "0.21079902936110143",
         "0.4755626143306306",
         "-0.9275425216793054",
         "0.07741641797866093",
         "-1.6612129470491352",
         "-0.6284211190105548"
        ],
        [
         "13",
         "2.243654959123911",
         "-0.9882286009976747",
         "-0.6232366205309067",
         "7.727315112397194",
         "-0.34191268312858236",
         "-0.23447959918472835"
        ],
        [
         "17",
         "-0.4890366185900298",
         "0.15027567759100716",
         "-0.3021991234430771",
         "-0.41029679045653056",
         "-0.41520714223527977",
         "-0.6890275066760666"
        ],
        [
         "245",
         "2.077027423897451",
         "1.0448147536249714",
         "-1.4598164175024495",
         "1.4092273103328443",
         "-0.3565715749499221",
         "2.2200791012684973"
        ],
        [
         "517",
         "0.11082250822522553",
         "1.1261364878098774",
         "0.6922851102068442",
         "0.21517848413206295",
         "0.7575042034718784",
         "-0.5375115375122872"
        ],
        [
         "62",
         "-2.5885435624434234",
         "-0.825585132627863",
         "-0.8229700470578626",
         "-1.5011904463492092",
         "-1.089516166016896",
         "0.34128108363763315"
        ],
        [
         "480",
         "1.2105642407198602",
         "-0.17501125914861623",
         "0.10877070181919331",
         "1.9816830457738321",
         "0.44966747522374917",
         "-0.4162987621812636"
        ],
        [
         "629",
         "-0.9222682101788252",
         "-0.5816199300731455",
         "-0.7278090951523496",
         "-0.788976093071437",
         "-1.1334928414809144",
         "-0.9920594450036252"
        ],
        [
         "64",
         "-0.25575806927298605",
         "-0.5002981958882396",
         "0.13805099471319743",
         "-0.07587438348993909",
         "0.05387739604758286",
         "-0.6587243128433107"
        ],
        [
         "3",
         "-1.088895745405285",
         "-0.5002981958882396",
         "-0.6232366205309067",
         "-0.6138341426235936",
         "-0.6350905195553719",
         "-0.9314530573381135"
        ],
        [
         "158",
         "-1.122221252450577",
         "0.15027567759100716",
         "-1.041526519016678",
         "-1.0686042482829716",
         "-0.5031604931633168",
         "-0.7496338943415782"
        ],
        [
         "83",
         "-0.6889896608617815",
         "-0.5816199300731455",
         "-0.10037424742369241",
         "-0.5713519595827298",
         "-1.1481517333022535",
         "-0.7193307005088224"
        ],
        [
         "437",
         "0.8439836632216486",
         "0.23159741177591303",
         "-0.24677571189371225",
         "0.5338503167075246",
         "-0.37123046677126176",
         "-0.1435700176864608"
        ],
        [
         "153",
         "1.0439367054934003",
         "0.800849551070254",
         "1.3636403972765077",
         "3.723119791835353",
         "1.1972709581120626",
         "0.6443130219651918"
        ],
        [
         "469",
         "1.0772622125386924",
         "0.4755626143306306",
         "1.2590679226550647",
         "-0.10360426798136457",
         "2.003510008285734",
         "0.28067469597212136"
        ],
        [
         "124",
         "-0.289083576318278",
         "0.3129191459608189",
         "-0.05436235859025742",
         "-0.2008807027772853",
         "0.12717185515428026",
         "-0.5981179251777988"
        ],
        [
         "305",
         "-0.05580502700123427",
         "0.3129191459608189",
         "0.8407780241692933",
         "-0.49182265086132143",
         "1.0653409317200075",
         "-0.7799370881743343"
        ],
        [
         "767",
         "-0.9555937172241172",
         "-0.17501125914861623",
         "0.21334317644063616",
         "-0.6882611525985795",
         "-0.29793600766456435",
         "-0.4769051498467754"
        ],
        [
         "746",
         "0.8439836632216486",
         "1.7767103612891242",
         "1.2590679226550647",
         "0.8084870927106025",
         "2.4725945465685966",
         "-0.355692374515752"
        ],
        [
         "345",
         "0.1441480152705175",
         "1.288779956179689",
         "0.7362055495478504",
         "-0.4585467894716108",
         "0.8894342298639335",
         "-0.38599556834850784"
        ],
        [
         "745",
         "-0.7223151679070735",
         "0.9634930194400657",
         "0.4224881256835219",
         "-0.49182265086132143",
         "-0.3565715749499221",
         "0.03824914531007445"
        ],
        [
         "596",
         "-1.8220569004017082",
         "0.3129191459608189",
         "1.2674337206247799",
         "-0.9288456304461872",
         "1.8862388737150175",
         "-0.8708466696726018"
        ],
        [
         "279",
         "-0.4557111115447378",
         "-0.825585132627863",
         "-1.982678790609664",
         "1.4270853559453225",
         "-1.0455394905528774",
         "1.2200737047875536"
        ],
        [
         "264",
         "0.044171494134641616",
         "-0.825585132627863",
         "-0.008350469756822802",
         "0.1272192905252612",
         "-0.06339373852313253",
         "-0.7496338943415782"
        ],
        [
         "380",
         "-0.4890366185900298",
         "-0.012367790778804533",
         "0.10877070181919331",
         "-0.7469375881824359",
         "-0.23930044037920614",
         "1.0382545417910183"
        ],
        [
         "560",
         "0.11082250822522553",
         "0.3129191459608189",
         "0.34510449446365393",
         "0.22516124254897585",
         "0.20046631426097763",
         "-1.082969026501893"
        ],
        [
         "276",
         "-0.5223621256353217",
         "-0.9882286009976747",
         "-0.5186641459094639",
         "-0.4232743763985175",
         "-0.8696327886968037",
         "-0.5375115375122872"
        ],
        [
         "501",
         "-1.255523280631745",
         "-0.012367790778804533",
         "0.31791565106207903",
         "-0.7867577023121229",
         "0.6988686361865206",
         "-0.6284211190105548"
        ],
        [
         "415",
         "1.7104468463992397",
         "0.9634930194400657",
         "0.4224881256835219",
         "3.6011083000730806",
         "0.4789852588664285",
         "-0.6587243128433107"
        ],
        [
         "535",
         "0.3441010575422693",
         "-0.15061473889314472",
         "-0.025082065696253673",
         "0.24024629971231148",
         "0.06853628786892255",
         "-0.5375115375122872"
        ]
       ],
       "shape": {
        "columns": 6,
        "rows": 154
       }
      },
      "text/html": [
       "<div>\n",
       "<style scoped>\n",
       "    .dataframe tbody tr th:only-of-type {\n",
       "        vertical-align: middle;\n",
       "    }\n",
       "\n",
       "    .dataframe tbody tr th {\n",
       "        vertical-align: top;\n",
       "    }\n",
       "\n",
       "    .dataframe thead th {\n",
       "        text-align: right;\n",
       "    }\n",
       "</style>\n",
       "<table border=\"1\" class=\"dataframe\">\n",
       "  <thead>\n",
       "    <tr style=\"text-align: right;\">\n",
       "      <th></th>\n",
       "      <th>Glucose</th>\n",
       "      <th>BloodPressure</th>\n",
       "      <th>SkinThickness</th>\n",
       "      <th>Insulin</th>\n",
       "      <th>BMI</th>\n",
       "      <th>DiabetesPedigreeFunction</th>\n",
       "    </tr>\n",
       "  </thead>\n",
       "  <tbody>\n",
       "    <tr>\n",
       "      <th>44</th>\n",
       "      <td>1.243890</td>\n",
       "      <td>-0.662942</td>\n",
       "      <td>-0.335662</td>\n",
       "      <td>0.886020</td>\n",
       "      <td>-0.737703</td>\n",
       "      <td>-0.567815</td>\n",
       "    </tr>\n",
       "    <tr>\n",
       "      <th>672</th>\n",
       "      <td>-1.788731</td>\n",
       "      <td>2.752571</td>\n",
       "      <td>-0.623237</td>\n",
       "      <td>-1.112972</td>\n",
       "      <td>0.449667</td>\n",
       "      <td>-0.598118</td>\n",
       "    </tr>\n",
       "    <tr>\n",
       "      <th>700</th>\n",
       "      <td>0.010846</td>\n",
       "      <td>0.312919</td>\n",
       "      <td>-0.204947</td>\n",
       "      <td>0.561913</td>\n",
       "      <td>0.508303</td>\n",
       "      <td>0.007946</td>\n",
       "    </tr>\n",
       "    <tr>\n",
       "      <th>630</th>\n",
       "      <td>-0.255758</td>\n",
       "      <td>-0.662942</td>\n",
       "      <td>-0.467424</td>\n",
       "      <td>-0.212084</td>\n",
       "      <td>-0.737703</td>\n",
       "      <td>0.765526</td>\n",
       "    </tr>\n",
       "    <tr>\n",
       "      <th>81</th>\n",
       "      <td>-1.588778</td>\n",
       "      <td>-0.492166</td>\n",
       "      <td>-0.491475</td>\n",
       "      <td>-1.161998</td>\n",
       "      <td>-0.438661</td>\n",
       "      <td>-1.143575</td>\n",
       "    </tr>\n",
       "    <tr>\n",
       "      <th>...</th>\n",
       "      <td>...</td>\n",
       "      <td>...</td>\n",
       "      <td>...</td>\n",
       "      <td>...</td>\n",
       "      <td>...</td>\n",
       "      <td>...</td>\n",
       "    </tr>\n",
       "    <tr>\n",
       "      <th>32</th>\n",
       "      <td>-1.122221</td>\n",
       "      <td>-1.150872</td>\n",
       "      <td>-1.878106</td>\n",
       "      <td>-1.057512</td>\n",
       "      <td>-1.118834</td>\n",
       "      <td>-0.628421</td>\n",
       "    </tr>\n",
       "    <tr>\n",
       "      <th>637</th>\n",
       "      <td>-0.922268</td>\n",
       "      <td>0.312919</td>\n",
       "      <td>-1.146099</td>\n",
       "      <td>-0.924409</td>\n",
       "      <td>-0.122029</td>\n",
       "      <td>0.523100</td>\n",
       "    </tr>\n",
       "    <tr>\n",
       "      <th>593</th>\n",
       "      <td>-1.322174</td>\n",
       "      <td>-1.638802</td>\n",
       "      <td>-0.727809</td>\n",
       "      <td>-0.380903</td>\n",
       "      <td>-0.576455</td>\n",
       "      <td>3.704936</td>\n",
       "    </tr>\n",
       "    <tr>\n",
       "      <th>425</th>\n",
       "      <td>2.077027</td>\n",
       "      <td>0.475563</td>\n",
       "      <td>1.049923</td>\n",
       "      <td>1.415993</td>\n",
       "      <td>0.669551</td>\n",
       "      <td>-0.658724</td>\n",
       "    </tr>\n",
       "    <tr>\n",
       "      <th>273</th>\n",
       "      <td>-1.688755</td>\n",
       "      <td>0.475563</td>\n",
       "      <td>2.200220</td>\n",
       "      <td>-1.157340</td>\n",
       "      <td>0.112513</td>\n",
       "      <td>-0.173873</td>\n",
       "    </tr>\n",
       "  </tbody>\n",
       "</table>\n",
       "<p>154 rows × 6 columns</p>\n",
       "</div>"
      ],
      "text/plain": [
       "      Glucose  BloodPressure  SkinThickness   Insulin       BMI  \\\n",
       "44   1.243890      -0.662942      -0.335662  0.886020 -0.737703   \n",
       "672 -1.788731       2.752571      -0.623237 -1.112972  0.449667   \n",
       "700  0.010846       0.312919      -0.204947  0.561913  0.508303   \n",
       "630 -0.255758      -0.662942      -0.467424 -0.212084 -0.737703   \n",
       "81  -1.588778      -0.492166      -0.491475 -1.161998 -0.438661   \n",
       "..        ...            ...            ...       ...       ...   \n",
       "32  -1.122221      -1.150872      -1.878106 -1.057512 -1.118834   \n",
       "637 -0.922268       0.312919      -1.146099 -0.924409 -0.122029   \n",
       "593 -1.322174      -1.638802      -0.727809 -0.380903 -0.576455   \n",
       "425  2.077027       0.475563       1.049923  1.415993  0.669551   \n",
       "273 -1.688755       0.475563       2.200220 -1.157340  0.112513   \n",
       "\n",
       "     DiabetesPedigreeFunction  \n",
       "44                  -0.567815  \n",
       "672                 -0.598118  \n",
       "700                  0.007946  \n",
       "630                  0.765526  \n",
       "81                  -1.143575  \n",
       "..                        ...  \n",
       "32                  -0.628421  \n",
       "637                  0.523100  \n",
       "593                  3.704936  \n",
       "425                 -0.658724  \n",
       "273                 -0.173873  \n",
       "\n",
       "[154 rows x 6 columns]"
      ]
     },
     "execution_count": 147,
     "metadata": {},
     "output_type": "execute_result"
    }
   ],
   "source": [
    "# Numeric columns of X-Testing Data\n",
    "X_encoded_test_scaled[numeric_cols]"
   ]
  },
  {
   "cell_type": "markdown",
   "id": "75fad1ab",
   "metadata": {},
   "source": [
    "### 5.5 Final Training and Testing Data"
   ]
  },
  {
   "cell_type": "code",
   "execution_count": 148,
   "id": "1dd2586b",
   "metadata": {},
   "outputs": [
    {
     "data": {
      "application/vnd.microsoft.datawrangler.viewer.v0+json": {
       "columns": [
        {
         "name": "index",
         "rawType": "int64",
         "type": "integer"
        },
        {
         "name": "Glucose",
         "rawType": "float64",
         "type": "float"
        },
        {
         "name": "BloodPressure",
         "rawType": "float64",
         "type": "float"
        },
        {
         "name": "SkinThickness",
         "rawType": "float64",
         "type": "float"
        },
        {
         "name": "Insulin",
         "rawType": "float64",
         "type": "float"
        },
        {
         "name": "BMI",
         "rawType": "float64",
         "type": "float"
        },
        {
         "name": "DiabetesPedigreeFunction",
         "rawType": "float64",
         "type": "float"
        },
        {
         "name": "AgeGroup_Old",
         "rawType": "bool",
         "type": "boolean"
        },
        {
         "name": "AgeGroup_Young",
         "rawType": "bool",
         "type": "boolean"
        },
        {
         "name": "PregnancyGroup_Low",
         "rawType": "bool",
         "type": "boolean"
        },
        {
         "name": "PregnancyGroup_Medium",
         "rawType": "bool",
         "type": "boolean"
        },
        {
         "name": "PregnancyGroup_None",
         "rawType": "bool",
         "type": "boolean"
        }
       ],
       "ref": "b76ae012-5c53-46e9-ae07-dece16cc3084",
       "rows": [
        [
         "353",
         "-1.0555702383599932",
         "-0.825585132627863",
         "-1.773533841366778",
         "-1.1795237862486736",
         "-0.7670205459474275",
         "0.31097788980487723",
         "False",
         "True",
         "True",
         "False",
         "False"
        ],
        [
         "711",
         "0.1441480152705175",
         "0.4755626143306306",
         "-0.20494672204513528",
         "-1.4124548159766477",
         "-0.41520714223527977",
         "-0.1132668238537049",
         "False",
         "False",
         "False",
         "False",
         "False"
        ],
        [
         "373",
         "-0.5556876326806137",
         "-1.1508720693674865",
         "1.1544954480336218",
         "-0.6138341426235936",
         "0.3617141242957121",
         "-0.7799370881743343",
         "False",
         "True",
         "False",
         "True",
         "False"
        ],
        [
         "46",
         "0.8106581561763567",
         "-1.3135155377372982",
         "-0.26664448207178654",
         "0.6506485901854087",
         "-0.4005482504139406",
         "0.25037150213936576",
         "False",
         "True",
         "True",
         "False",
         "False"
        ],
        [
         "682",
         "-0.8889427031335333",
         "-0.6629416642580513",
         "1.049922973412179",
         "-0.49182265086132143",
         "1.7836266309656417",
         "-0.32538918068299605",
         "False",
         "True",
         "False",
         "False",
         "True"
        ],
        [
         "360",
         "2.243654959123911",
         "-0.6629416642580513",
         "0.4224881256835219",
         "1.9484071843841215",
         "-0.18066487309384846",
         "0.31097788980487723",
         "False",
         "True",
         "False",
         "False",
         "False"
        ],
        [
         "414",
         "0.5440540998140211",
         "-0.9882286009976747",
         "0.6316330749264076",
         "0.19587848452603068",
         "0.3177374488316941",
         "0.15946192064109807",
         "False",
         "True",
         "False",
         "False",
         "True"
        ],
        [
         "339",
         "1.8770743816256994",
         "0.9634930194400657",
         "0.9233902791202331",
         "1.4634669643980722",
         "1.0946587153626859",
         "-0.4466019560140195",
         "False",
         "False",
         "False",
         "False",
         "False"
        ],
        [
         "694",
         "-1.0555702383599932",
         "-0.9882286009976747",
         "-1.0153834003613174",
         "-0.8432157471366653",
         "-1.309399543336988",
         "-0.8708466696726018",
         "False",
         "True",
         "False",
         "True",
         "False"
        ],
        [
         "33",
         "-0.9889192242694091",
         "1.6140668929193125",
         "-1.351061043896149",
         "-1.0562921795687787",
         "-1.8371196489052095",
         "-0.8708466696726018",
         "False",
         "True",
         "False",
         "False",
         "False"
        ],
        [
         "218",
         "-1.2221977735864529",
         "0.15027567759100716",
         "-0.7278090951523496",
         "-0.926294481072976",
         "-0.5031604931633168",
         "2.2503822951012533",
         "False",
         "False",
         "False",
         "False",
         "False"
        ],
        [
         "705",
         "-1.3888253088129128",
         "0.6382060827004423",
         "0.7362055495478504",
         "-0.8976772402778249",
         "1.0799998235413462",
         "-0.9011498635053578",
         "False",
         "True",
         "False",
         "False",
         "False"
        ],
        [
         "76",
         "-1.988684435628168",
         "0.4755626143306306",
         "0.004198227197750446",
         "-1.3811755062703197",
         "0.024559612404904535",
         "-0.26478279301748425",
         "False",
         "False",
         "False",
         "False",
         "False"
        ],
        [
         "616",
         "-0.15578154813711015",
         "1.9393538296589359",
         "-0.4193202950190932",
         "-0.3113565625911244",
         "-0.5471371686273354",
         "-0.9617562511708694",
         "False",
         "False",
         "False",
         "False",
         "False"
        ],
        [
         "675",
         "2.443608001395663",
         "-0.17501125914861623",
         "-0.02299061620382486",
         "1.7242387981554381",
         "-0.22464154855786697",
         "-0.4466019560140195",
         "False",
         "False",
         "False",
         "False",
         "False"
        ],
        [
         "613",
         "-0.5556876326806137",
         "0.6382060827004423",
         "-0.10037424742369241",
         "-0.457770352705851",
         "0.009900720583564851",
         "1.2200737047875536",
         "False",
         "True",
         "False",
         "False",
         "False"
        ],
        [
         "666",
         "0.7773326491310648",
         "0.800849551070254",
         "-1.146098993638121",
         "0.7125416923702705",
         "0.009900720583564851",
         "-0.7193307005088224",
         "True",
         "False",
         "False",
         "True",
         "False"
        ],
        [
         "34",
         "0.010845987089349654",
         "0.4755626143306306",
         "0.21334317644063616",
         "-0.04404047609378258",
         "-0.7083849786620693",
         "0.09885553297558626",
         "False",
         "False",
         "False",
         "False",
         "False"
        ],
        [
         "182",
         "-1.0022494270875262",
         "0.15027567759100716",
         "-0.9369540443952353",
         "-1.4013628621800773",
         "-0.6937260868407301",
         "-0.5375115375122872",
         "False",
         "True",
         "True",
         "False",
         "False"
        ],
        [
         "405",
         "0.044171494134641616",
         "-1.964089411216545",
         "0.31791565106207903",
         "0.1736945769328903",
         "1.4171543354321547",
         "0.12915872680834214",
         "False",
         "True",
         "False",
         "True",
         "False"
        ],
        [
         "464",
         "-0.2224325622276941",
         "2.101997298028748",
         "-0.8208785975654338",
         "-0.4654238008254844",
         "-1.2361050842302908",
         "1.644318418446136",
         "False",
         "False",
         "False",
         "False",
         "False"
        ],
        [
         "576",
         "-0.4557111115447378",
         "-2.289376347956168",
         "-0.9369540443952353",
         "-0.21452380594706652",
         "-1.2361050842302908",
         "1.0079513479582627",
         "False",
         "False",
         "False",
         "False",
         "False"
        ],
        [
         "664",
         "-0.2224325622276941",
         "-0.9882286009976747",
         "1.049922973412179",
         "0.014968718103970784",
         "0.185807422439639",
         "-0.7193307005088224",
         "False",
         "False",
         "False",
         "False",
         "False"
        ],
        [
         "9",
         "0.11082250822522553",
         "1.9393538296589359",
         "0.4057565297440914",
         "0.11091411844430303",
         "0.30454444619248805",
         "-0.7496338943415782",
         "True",
         "False",
         "False",
         "False",
         "False"
        ],
        [
         "466",
         "-1.5887783510846645",
         "-1.6388024744769216",
         "-1.982678790609664",
         "-1.257167462824665",
         "-0.6790671950193905",
         "-0.6284211190105548",
         "False",
         "True",
         "False",
         "False",
         "True"
        ],
        [
         "267",
         "0.21079902936110143",
         "-0.6629416642580513",
         "1.3636403972765077",
         "0.35349514797529324",
         "1.1093176071840256",
         "1.886743969108183",
         "False",
         "True",
         "False",
         "True",
         "False"
        ],
        [
         "167",
         "-0.05580502700123427",
         "-0.33765472751842796",
         "-0.26664448207178654",
         "-0.027291625860961684",
         "-0.41520714223527977",
         "0.7049194096307037",
         "False",
         "False",
         "False",
         "True",
         "False"
        ],
        [
         "320",
         "0.2441245364063934",
         "-0.9882286009976747",
         "-1.773533841366778",
         "0.9057635275065232",
         "-0.723043870483409",
         "0.15946192064109807",
         "False",
         "False",
         "False",
         "True",
         "False"
        ],
        [
         "610",
         "-0.5223621256353217",
         "-1.47615900610711",
         "-0.8323815697737924",
         "0.09605090035689894",
         "-0.22464154855786697",
         "-0.5678147313450431",
         "False",
         "True",
         "False",
         "True",
         "False"
        ],
        [
         "485",
         "0.4440775786781451",
         "-0.33765472751842796",
         "1.3636403972765077",
         "1.1165106496413568",
         "1.446472119074833",
         "-0.355692374515752",
         "False",
         "True",
         "False",
         "False",
         "True"
        ],
        [
         "295",
         "0.9772856914028165",
         "-0.825585132627863",
         "0.21334317644063616",
         "-0.32544334391276847",
         "0.44966747522374917",
         "0.6443130219651918",
         "False",
         "True",
         "False",
         "False",
         "False"
        ],
        [
         "204",
         "-0.6223386467711977",
         "-0.012367790778804533",
         "0.31791565106207903",
         "0.4509934218471452",
         "0.772163095293218",
         "-0.4769051498467754",
         "True",
         "False",
         "False",
         "False",
         "False"
        ],
        [
         "195",
         "1.2105642407198602",
         "0.9634930194400657",
         "1.2590679226550647",
         "0.6728324977785491",
         "1.0213642562559886",
         "-0.23447959918472835",
         "False",
         "True",
         "False",
         "False",
         "False"
        ],
        [
         "269",
         "0.8106581561763567",
         "-0.2124192568736724",
         "-0.5071611737011051",
         "0.5195416963099491",
         "-0.723043870483409",
         "-0.7193307005088224",
         "False",
         "True",
         "False",
         "True",
         "False"
        ],
        [
         "434",
         "-1.0555702383599932",
         "-0.33765472751842796",
         "-2.1918237398525497",
         "-0.8290180462770554",
         "-1.1628106251235932",
         "2.007956744439206",
         "False",
         "False",
         "True",
         "False",
         "False"
        ],
        [
         "217",
         "0.11082250822522553",
         "-0.33765472751842796",
         "0.10877070181919331",
         "-0.32544334391276847",
         "-0.3565715749499221",
         "-0.05266043618819309",
         "False",
         "False",
         "False",
         "False",
         "False"
        ],
        [
         "323",
         "1.0106111984481085",
         "1.4514234245495008",
         "0.4224881256835219",
         "-1.3348111394006563",
         "-0.8256561132327852",
         "0.7655257972962154",
         "False",
         "False",
         "False",
         "False",
         "False"
        ],
        [
         "85",
         "-0.3890600974541539",
         "0.15027567759100716",
         "0.004198227197750446",
         "-0.26998357492991754",
         "-0.004758171237774834",
         "0.6746162157979477",
         "False",
         "True",
         "False",
         "True",
         "False"
        ],
        [
         "26",
         "0.8439836632216486",
         "0.3129191459608189",
         "0.8480980973927943",
         "0.7776514611561374",
         "1.0213642562559886",
         "-0.6587243128433107",
         "False",
         "False",
         "False",
         "False",
         "False"
        ],
        [
         "171",
         "0.4107520716328532",
         "-0.17501125914861623",
         "-0.6232366205309067",
         "-0.21452380594706652",
         "0.43500858340240944",
         "0.18976511447385397",
         "False",
         "True",
         "False",
         "False",
         "False"
        ],
        [
         "716",
         "1.7104468463992397",
         "0.4755626143306306",
         "1.049922973412179",
         "0.3955336528642942",
         "0.20046631426097763",
         "1.4928024492823564",
         "False",
         "False",
         "False",
         "True",
         "False"
        ],
        [
         "96",
         "-0.9889192242694091",
         "-0.825585132627863",
         "-0.10037424742369241",
         "-0.6584237968858057",
         "-0.12202930580849024",
         "-1.052665832669137",
         "False",
         "True",
         "False",
         "True",
         "False"
        ],
        [
         "561",
         "2.5435845225315385",
         "-0.5002981958882396",
         "0.31791565106207903",
         "1.3827175407590415",
         "1.2998832008614383",
         "0.06855233914283035",
         "False",
         "True",
         "False",
         "False",
         "True"
        ],
        [
         "296",
         "0.8106581561763567",
         "-0.17501125914861623",
         "0.9453504987907362",
         "2.3366255672640786",
         "-0.6497494113767116",
         "-0.4162987621812636",
         "False",
         "True",
         "False",
         "True",
         "False"
        ],
        [
         "60",
         "-1.255523280631745",
         "-0.4637034155050318",
         "-0.4182745702728786",
         "-0.9211921823265536",
         "-0.34484446149285075",
         "-0.5375115375122872",
         "False",
         "True",
         "False",
         "True",
         "False"
        ],
        [
         "175",
         "1.9103998886709914",
         "-0.012367790778804533",
         "1.3636403972765077",
         "-0.21452380594706652",
         "0.03921850422624422",
         "0.7352226034634596",
         "False",
         "False",
         "False",
         "False",
         "False"
        ],
        [
         "737",
         "-1.888707914492292",
         "-0.012367790778804533",
         "-0.6232366205309067",
         "-1.3047519446119509",
         "-0.06339373852313253",
         "0.371584277470389",
         "False",
         "False",
         "False",
         "False",
         "False"
        ],
        [
         "601",
         "-0.8556171960882414",
         "-0.4604505461376362",
         "-0.9359083196490207",
         "-0.7484904617139557",
         "-1.2800817596943093",
         "-0.8708466696726018",
         "False",
         "True",
         "False",
         "False",
         "False"
        ],
        [
         "294",
         "1.310540761855736",
         "-1.8014459428467333",
         "-0.6880715547962014",
         "1.1110755922810374",
         "-1.5439418124784199",
         "-0.6890275066760666",
         "True",
         "False",
         "False",
         "False",
         "True"
        ],
        [
         "209",
         "2.077027423897451",
         "0.9634930194400657",
         "0.4224881256835219",
         "1.5211451241402378",
         "0.44966747522374917",
         "-0.355692374515752",
         "False",
         "False",
         "False",
         "False",
         "False"
        ]
       ],
       "shape": {
        "columns": 11,
        "rows": 614
       }
      },
      "text/html": [
       "<div>\n",
       "<style scoped>\n",
       "    .dataframe tbody tr th:only-of-type {\n",
       "        vertical-align: middle;\n",
       "    }\n",
       "\n",
       "    .dataframe tbody tr th {\n",
       "        vertical-align: top;\n",
       "    }\n",
       "\n",
       "    .dataframe thead th {\n",
       "        text-align: right;\n",
       "    }\n",
       "</style>\n",
       "<table border=\"1\" class=\"dataframe\">\n",
       "  <thead>\n",
       "    <tr style=\"text-align: right;\">\n",
       "      <th></th>\n",
       "      <th>Glucose</th>\n",
       "      <th>BloodPressure</th>\n",
       "      <th>SkinThickness</th>\n",
       "      <th>Insulin</th>\n",
       "      <th>BMI</th>\n",
       "      <th>DiabetesPedigreeFunction</th>\n",
       "      <th>AgeGroup_Old</th>\n",
       "      <th>AgeGroup_Young</th>\n",
       "      <th>PregnancyGroup_Low</th>\n",
       "      <th>PregnancyGroup_Medium</th>\n",
       "      <th>PregnancyGroup_None</th>\n",
       "    </tr>\n",
       "  </thead>\n",
       "  <tbody>\n",
       "    <tr>\n",
       "      <th>353</th>\n",
       "      <td>-1.055570</td>\n",
       "      <td>-0.825585</td>\n",
       "      <td>-1.773534</td>\n",
       "      <td>-1.179524</td>\n",
       "      <td>-0.767021</td>\n",
       "      <td>0.310978</td>\n",
       "      <td>False</td>\n",
       "      <td>True</td>\n",
       "      <td>True</td>\n",
       "      <td>False</td>\n",
       "      <td>False</td>\n",
       "    </tr>\n",
       "    <tr>\n",
       "      <th>711</th>\n",
       "      <td>0.144148</td>\n",
       "      <td>0.475563</td>\n",
       "      <td>-0.204947</td>\n",
       "      <td>-1.412455</td>\n",
       "      <td>-0.415207</td>\n",
       "      <td>-0.113267</td>\n",
       "      <td>False</td>\n",
       "      <td>False</td>\n",
       "      <td>False</td>\n",
       "      <td>False</td>\n",
       "      <td>False</td>\n",
       "    </tr>\n",
       "    <tr>\n",
       "      <th>373</th>\n",
       "      <td>-0.555688</td>\n",
       "      <td>-1.150872</td>\n",
       "      <td>1.154495</td>\n",
       "      <td>-0.613834</td>\n",
       "      <td>0.361714</td>\n",
       "      <td>-0.779937</td>\n",
       "      <td>False</td>\n",
       "      <td>True</td>\n",
       "      <td>False</td>\n",
       "      <td>True</td>\n",
       "      <td>False</td>\n",
       "    </tr>\n",
       "    <tr>\n",
       "      <th>46</th>\n",
       "      <td>0.810658</td>\n",
       "      <td>-1.313516</td>\n",
       "      <td>-0.266644</td>\n",
       "      <td>0.650649</td>\n",
       "      <td>-0.400548</td>\n",
       "      <td>0.250372</td>\n",
       "      <td>False</td>\n",
       "      <td>True</td>\n",
       "      <td>True</td>\n",
       "      <td>False</td>\n",
       "      <td>False</td>\n",
       "    </tr>\n",
       "    <tr>\n",
       "      <th>682</th>\n",
       "      <td>-0.888943</td>\n",
       "      <td>-0.662942</td>\n",
       "      <td>1.049923</td>\n",
       "      <td>-0.491823</td>\n",
       "      <td>1.783627</td>\n",
       "      <td>-0.325389</td>\n",
       "      <td>False</td>\n",
       "      <td>True</td>\n",
       "      <td>False</td>\n",
       "      <td>False</td>\n",
       "      <td>True</td>\n",
       "    </tr>\n",
       "    <tr>\n",
       "      <th>...</th>\n",
       "      <td>...</td>\n",
       "      <td>...</td>\n",
       "      <td>...</td>\n",
       "      <td>...</td>\n",
       "      <td>...</td>\n",
       "      <td>...</td>\n",
       "      <td>...</td>\n",
       "      <td>...</td>\n",
       "      <td>...</td>\n",
       "      <td>...</td>\n",
       "      <td>...</td>\n",
       "    </tr>\n",
       "    <tr>\n",
       "      <th>451</th>\n",
       "      <td>0.410752</td>\n",
       "      <td>-0.175011</td>\n",
       "      <td>-0.430823</td>\n",
       "      <td>0.230707</td>\n",
       "      <td>-0.517819</td>\n",
       "      <td>0.189765</td>\n",
       "      <td>False</td>\n",
       "      <td>True</td>\n",
       "      <td>False</td>\n",
       "      <td>True</td>\n",
       "      <td>False</td>\n",
       "    </tr>\n",
       "    <tr>\n",
       "      <th>113</th>\n",
       "      <td>-1.522127</td>\n",
       "      <td>-0.825585</td>\n",
       "      <td>0.018838</td>\n",
       "      <td>-1.004493</td>\n",
       "      <td>0.229784</td>\n",
       "      <td>-0.264783</td>\n",
       "      <td>False</td>\n",
       "      <td>True</td>\n",
       "      <td>False</td>\n",
       "      <td>True</td>\n",
       "      <td>False</td>\n",
       "    </tr>\n",
       "    <tr>\n",
       "      <th>556</th>\n",
       "      <td>-0.822292</td>\n",
       "      <td>-0.175011</td>\n",
       "      <td>1.154495</td>\n",
       "      <td>-0.406082</td>\n",
       "      <td>0.830799</td>\n",
       "      <td>-0.779937</td>\n",
       "      <td>False</td>\n",
       "      <td>False</td>\n",
       "      <td>True</td>\n",
       "      <td>False</td>\n",
       "      <td>False</td>\n",
       "    </tr>\n",
       "    <tr>\n",
       "      <th>667</th>\n",
       "      <td>-0.355735</td>\n",
       "      <td>-0.175011</td>\n",
       "      <td>-0.204947</td>\n",
       "      <td>-0.299599</td>\n",
       "      <td>-0.723044</td>\n",
       "      <td>-1.022363</td>\n",
       "      <td>False</td>\n",
       "      <td>False</td>\n",
       "      <td>False</td>\n",
       "      <td>False</td>\n",
       "      <td>False</td>\n",
       "    </tr>\n",
       "    <tr>\n",
       "      <th>107</th>\n",
       "      <td>0.744007</td>\n",
       "      <td>-1.150872</td>\n",
       "      <td>-0.100374</td>\n",
       "      <td>-0.103604</td>\n",
       "      <td>-0.429866</td>\n",
       "      <td>-0.567815</td>\n",
       "      <td>False</td>\n",
       "      <td>False</td>\n",
       "      <td>False</td>\n",
       "      <td>True</td>\n",
       "      <td>False</td>\n",
       "    </tr>\n",
       "  </tbody>\n",
       "</table>\n",
       "<p>614 rows × 11 columns</p>\n",
       "</div>"
      ],
      "text/plain": [
       "      Glucose  BloodPressure  SkinThickness   Insulin       BMI  \\\n",
       "353 -1.055570      -0.825585      -1.773534 -1.179524 -0.767021   \n",
       "711  0.144148       0.475563      -0.204947 -1.412455 -0.415207   \n",
       "373 -0.555688      -1.150872       1.154495 -0.613834  0.361714   \n",
       "46   0.810658      -1.313516      -0.266644  0.650649 -0.400548   \n",
       "682 -0.888943      -0.662942       1.049923 -0.491823  1.783627   \n",
       "..        ...            ...            ...       ...       ...   \n",
       "451  0.410752      -0.175011      -0.430823  0.230707 -0.517819   \n",
       "113 -1.522127      -0.825585       0.018838 -1.004493  0.229784   \n",
       "556 -0.822292      -0.175011       1.154495 -0.406082  0.830799   \n",
       "667 -0.355735      -0.175011      -0.204947 -0.299599 -0.723044   \n",
       "107  0.744007      -1.150872      -0.100374 -0.103604 -0.429866   \n",
       "\n",
       "     DiabetesPedigreeFunction  AgeGroup_Old  AgeGroup_Young  \\\n",
       "353                  0.310978         False            True   \n",
       "711                 -0.113267         False           False   \n",
       "373                 -0.779937         False            True   \n",
       "46                   0.250372         False            True   \n",
       "682                 -0.325389         False            True   \n",
       "..                        ...           ...             ...   \n",
       "451                  0.189765         False            True   \n",
       "113                 -0.264783         False            True   \n",
       "556                 -0.779937         False           False   \n",
       "667                 -1.022363         False           False   \n",
       "107                 -0.567815         False           False   \n",
       "\n",
       "     PregnancyGroup_Low  PregnancyGroup_Medium  PregnancyGroup_None  \n",
       "353                True                  False                False  \n",
       "711               False                  False                False  \n",
       "373               False                   True                False  \n",
       "46                 True                  False                False  \n",
       "682               False                  False                 True  \n",
       "..                  ...                    ...                  ...  \n",
       "451               False                   True                False  \n",
       "113               False                   True                False  \n",
       "556                True                  False                False  \n",
       "667               False                  False                False  \n",
       "107               False                   True                False  \n",
       "\n",
       "[614 rows x 11 columns]"
      ]
     },
     "execution_count": 148,
     "metadata": {},
     "output_type": "execute_result"
    }
   ],
   "source": [
    "# Full X-training data\n",
    "X_encoded_train_scaled"
   ]
  },
  {
   "cell_type": "code",
   "execution_count": 149,
   "id": "0307c497",
   "metadata": {},
   "outputs": [
    {
     "data": {
      "application/vnd.microsoft.datawrangler.viewer.v0+json": {
       "columns": [
        {
         "name": "index",
         "rawType": "int64",
         "type": "integer"
        },
        {
         "name": "Glucose",
         "rawType": "float64",
         "type": "float"
        },
        {
         "name": "BloodPressure",
         "rawType": "float64",
         "type": "float"
        },
        {
         "name": "SkinThickness",
         "rawType": "float64",
         "type": "float"
        },
        {
         "name": "Insulin",
         "rawType": "float64",
         "type": "float"
        },
        {
         "name": "BMI",
         "rawType": "float64",
         "type": "float"
        },
        {
         "name": "DiabetesPedigreeFunction",
         "rawType": "float64",
         "type": "float"
        },
        {
         "name": "AgeGroup_Old",
         "rawType": "bool",
         "type": "boolean"
        },
        {
         "name": "AgeGroup_Young",
         "rawType": "bool",
         "type": "boolean"
        },
        {
         "name": "PregnancyGroup_Low",
         "rawType": "bool",
         "type": "boolean"
        },
        {
         "name": "PregnancyGroup_Medium",
         "rawType": "bool",
         "type": "boolean"
        },
        {
         "name": "PregnancyGroup_None",
         "rawType": "bool",
         "type": "boolean"
        }
       ],
       "ref": "14aa15be-a59b-4845-a09d-2be84330a355",
       "rows": [
        [
         "44",
         "1.2438897477651523",
         "-0.6629416642580513",
         "-0.33566231532193885",
         "0.8860198497486282",
         "-0.7377027623047486",
         "-0.5678147313450431",
         "False",
         "False",
         "False",
         "False",
         "False"
        ],
        [
         "672",
         "-1.7887313933564162",
         "2.7525711715079946",
         "-0.6232366205309067",
         "-1.1129720634692524",
         "0.44966747522374917",
         "-0.5981179251777988",
         "False",
         "False",
         "False",
         "False",
         "False"
        ],
        [
         "700",
         "0.010845987089349654",
         "0.3129191459608189",
         "-0.20494672204513528",
         "0.5619129598128472",
         "0.5083030425091069",
         "0.007945951477318546",
         "False",
         "True",
         "False",
         "True",
         "False"
        ],
        [
         "630",
         "-0.25575806927298605",
         "-0.6629416642580513",
         "-0.467423633344957",
         "-0.2120835761118211",
         "-0.7377027623047486",
         "0.7655257972962154",
         "False",
         "False",
         "False",
         "False",
         "False"
        ],
        [
         "81",
         "-1.5887783510846645",
         "-0.4921660224697495",
         "-0.4914753025078885",
         "-1.1619984992500927",
         "-0.43866136914942294",
         "-1.1435754141674048",
         "False",
         "True",
         "False",
         "True",
         "False"
        ],
        [
         "389",
         "-0.7223151679070735",
         "-0.33765472751842796",
         "-0.6232366205309067",
         "-0.7580295419790061",
         "-0.12202930580849024",
         "1.4321960616168445",
         "False",
         "True",
         "False",
         "True",
         "False"
        ],
        [
         "387",
         "-0.5556876326806137",
         "2.2646407663985593",
         "0.7362055495478504",
         "-0.2825174827200418",
         "1.593061037288228",
         "-0.7193307005088224",
         "False",
         "False",
         "False",
         "False",
         "False"
        ],
        [
         "408",
         "2.5102590154862465",
         "0.15027567759100716",
         "-0.42873181773502306",
         "1.6875244310887907",
         "-0.9575861396248408",
         "2.1594727136029856",
         "False",
         "False",
         "False",
         "False",
         "False"
        ],
        [
         "163",
         "-0.7223151679070735",
         "-0.6629416642580513",
         "-0.6232366205309067",
         "-0.5412927647940244",
         "-0.4005482504139406",
         "-0.32538918068299605",
         "False",
         "True",
         "False",
         "True",
         "False"
        ],
        [
         "335",
         "1.443842790036904",
         "0.3129191459608189",
         "1.4682128718979504",
         "1.171970418624208",
         "2.267370061069844",
         "-0.6587243128433107",
         "False",
         "True",
         "False",
         "False",
         "True"
        ],
        [
         "471",
         "0.5107285927687291",
         "-0.17501125914861623",
         "0.9453504987907362",
         "0.4158319283120178",
         "0.1125129633329416",
         "-0.9314530573381135",
         "False",
         "True",
         "False",
         "False",
         "True"
        ],
        [
         "78",
         "0.3107755504969773",
         "0.256807149373234",
         "0.9861337638930989",
         "0.4312497440892502",
         "1.5784021454668893",
         "-0.6284211190105548",
         "False",
         "True",
         "False",
         "False",
         "True"
        ],
        [
         "307",
         "0.5107285927687291",
         "-0.33765472751842796",
         "-1.5643888921238924",
         "-0.014868637608803015",
         "-1.1188339496595747",
         "-1.0223626388363811",
         "False",
         "True",
         "False",
         "False",
         "True"
        ],
        [
         "392",
         "0.3107755504969773",
         "-0.6629416642580513",
         "-1.5643888921238924",
         "2.9466830260754393",
         "-1.2800817596943093",
         "-0.26478279301748425",
         "False",
         "True",
         "True",
         "False",
         "False"
        ],
        [
         "678",
         "-0.022479519955942308",
         "-1.6388024744769216",
         "0.29909260563021933",
         "0.15994055422514317",
         "0.5229619343304466",
         "-1.052665832669137",
         "False",
         "True",
         "False",
         "True",
         "False"
        ],
        [
         "116",
         "0.07749700117993358",
         "0.15027567759100716",
         "0.21229745169442157",
         "0.1308796352781292",
         "0.229784097903657",
         "-0.7799370881743343",
         "False",
         "False",
         "False",
         "False",
         "False"
        ],
        [
         "660",
         "1.3438662689010281",
         "0.9634930194400657",
         "-0.17462070440491692",
         "0.9087583550315973",
         "-0.6937260868407301",
         "-0.9011498635053578",
         "True",
         "False",
         "False",
         "False",
         "False"
        ],
        [
         "742",
         "-0.42238560449944584",
         "-1.1508720693674865",
         "-1.146098993638121",
         "-0.36981115909904927",
         "-0.5764549522700142",
         "-0.7799370881743343",
         "False",
         "True",
         "True",
         "False",
         "False"
        ],
        [
         "260",
         "2.310305973214495",
         "-0.33765472751842796",
         "-1.4598164175024495",
         "-0.21452380594706652",
         "-0.22464154855786697",
         "-0.5375115375122872",
         "False",
         "False",
         "False",
         "True",
         "False"
        ],
        [
         "533",
         "-1.0222447313147012",
         "-0.18233021522525805",
         "-0.31474782039765037",
         "-0.7535927604603779",
         "-0.38588935859260093",
         "0.06855233914283035",
         "False",
         "False",
         "False",
         "False",
         "False"
        ],
        [
         "140",
         "0.21079902936110143",
         "0.4755626143306306",
         "-0.9275425216793054",
         "0.07741641797866093",
         "-1.6612129470491352",
         "-0.6284211190105548",
         "True",
         "False",
         "False",
         "True",
         "False"
        ],
        [
         "13",
         "2.243654959123911",
         "-0.9882286009976747",
         "-0.6232366205309067",
         "7.727315112397194",
         "-0.34191268312858236",
         "-0.23447959918472835",
         "True",
         "False",
         "True",
         "False",
         "False"
        ],
        [
         "17",
         "-0.4890366185900298",
         "0.15027567759100716",
         "-0.3021991234430771",
         "-0.41029679045653056",
         "-0.41520714223527977",
         "-0.6890275066760666",
         "False",
         "False",
         "False",
         "False",
         "False"
        ],
        [
         "245",
         "2.077027423897451",
         "1.0448147536249714",
         "-1.4598164175024495",
         "1.4092273103328443",
         "-0.3565715749499221",
         "2.2200791012684973",
         "False",
         "False",
         "False",
         "False",
         "False"
        ],
        [
         "517",
         "0.11082250822522553",
         "1.1261364878098774",
         "0.6922851102068442",
         "0.21517848413206295",
         "0.7575042034718784",
         "-0.5375115375122872",
         "True",
         "False",
         "False",
         "False",
         "False"
        ],
        [
         "62",
         "-2.5885435624434234",
         "-0.825585132627863",
         "-0.8229700470578626",
         "-1.5011904463492092",
         "-1.089516166016896",
         "0.34128108363763315",
         "False",
         "False",
         "False",
         "False",
         "False"
        ],
        [
         "480",
         "1.2105642407198602",
         "-0.17501125914861623",
         "0.10877070181919331",
         "1.9816830457738321",
         "0.44966747522374917",
         "-0.4162987621812636",
         "False",
         "False",
         "False",
         "True",
         "False"
        ],
        [
         "629",
         "-0.9222682101788252",
         "-0.5816199300731455",
         "-0.7278090951523496",
         "-0.788976093071437",
         "-1.1334928414809144",
         "-0.9920594450036252",
         "False",
         "True",
         "False",
         "True",
         "False"
        ],
        [
         "64",
         "-0.25575806927298605",
         "-0.5002981958882396",
         "0.13805099471319743",
         "-0.07587438348993909",
         "0.05387739604758286",
         "-0.6587243128433107",
         "False",
         "False",
         "False",
         "False",
         "False"
        ],
        [
         "3",
         "-1.088895745405285",
         "-0.5002981958882396",
         "-0.6232366205309067",
         "-0.6138341426235936",
         "-0.6350905195553719",
         "-0.9314530573381135",
         "False",
         "True",
         "True",
         "False",
         "False"
        ],
        [
         "158",
         "-1.122221252450577",
         "0.15027567759100716",
         "-1.041526519016678",
         "-1.0686042482829716",
         "-0.5031604931633168",
         "-0.7496338943415782",
         "False",
         "True",
         "False",
         "True",
         "False"
        ],
        [
         "83",
         "-0.6889896608617815",
         "-0.5816199300731455",
         "-0.10037424742369241",
         "-0.5713519595827298",
         "-1.1481517333022535",
         "-0.7193307005088224",
         "False",
         "True",
         "False",
         "False",
         "True"
        ],
        [
         "437",
         "0.8439836632216486",
         "0.23159741177591303",
         "-0.24677571189371225",
         "0.5338503167075246",
         "-0.37123046677126176",
         "-0.1435700176864608",
         "False",
         "True",
         "False",
         "False",
         "False"
        ],
        [
         "153",
         "1.0439367054934003",
         "0.800849551070254",
         "1.3636403972765077",
         "3.723119791835353",
         "1.1972709581120626",
         "0.6443130219651918",
         "False",
         "True",
         "True",
         "False",
         "False"
        ],
        [
         "469",
         "1.0772622125386924",
         "0.4755626143306306",
         "1.2590679226550647",
         "-0.10360426798136457",
         "2.003510008285734",
         "0.28067469597212136",
         "False",
         "True",
         "False",
         "False",
         "False"
        ],
        [
         "124",
         "-0.289083576318278",
         "0.3129191459608189",
         "-0.05436235859025742",
         "-0.2008807027772853",
         "0.12717185515428026",
         "-0.5981179251777988",
         "False",
         "True",
         "False",
         "False",
         "True"
        ],
        [
         "305",
         "-0.05580502700123427",
         "0.3129191459608189",
         "0.8407780241692933",
         "-0.49182265086132143",
         "1.0653409317200075",
         "-0.7799370881743343",
         "False",
         "True",
         "False",
         "True",
         "False"
        ],
        [
         "767",
         "-0.9555937172241172",
         "-0.17501125914861623",
         "0.21334317644063616",
         "-0.6882611525985795",
         "-0.29793600766456435",
         "-0.4769051498467754",
         "False",
         "True",
         "True",
         "False",
         "False"
        ],
        [
         "746",
         "0.8439836632216486",
         "1.7767103612891242",
         "1.2590679226550647",
         "0.8084870927106025",
         "2.4725945465685966",
         "-0.355692374515752",
         "False",
         "True",
         "True",
         "False",
         "False"
        ],
        [
         "345",
         "0.1441480152705175",
         "1.288779956179689",
         "0.7362055495478504",
         "-0.4585467894716108",
         "0.8894342298639335",
         "-0.38599556834850784",
         "False",
         "False",
         "False",
         "False",
         "False"
        ],
        [
         "745",
         "-0.7223151679070735",
         "0.9634930194400657",
         "0.4224881256835219",
         "-0.49182265086132143",
         "-0.3565715749499221",
         "0.03824914531007445",
         "False",
         "False",
         "False",
         "False",
         "False"
        ],
        [
         "596",
         "-1.8220569004017082",
         "0.3129191459608189",
         "1.2674337206247799",
         "-0.9288456304461872",
         "1.8862388737150175",
         "-0.8708466696726018",
         "False",
         "False",
         "False",
         "False",
         "True"
        ],
        [
         "279",
         "-0.4557111115447378",
         "-0.825585132627863",
         "-1.982678790609664",
         "1.4270853559453225",
         "-1.0455394905528774",
         "1.2200737047875536",
         "False",
         "True",
         "False",
         "True",
         "False"
        ],
        [
         "264",
         "0.044171494134641616",
         "-0.825585132627863",
         "-0.008350469756822802",
         "0.1272192905252612",
         "-0.06339373852313253",
         "-0.7496338943415782",
         "False",
         "False",
         "False",
         "True",
         "False"
        ],
        [
         "380",
         "-0.4890366185900298",
         "-0.012367790778804533",
         "0.10877070181919331",
         "-0.7469375881824359",
         "-0.23930044037920614",
         "1.0382545417910183",
         "False",
         "True",
         "True",
         "False",
         "False"
        ],
        [
         "560",
         "0.11082250822522553",
         "0.3129191459608189",
         "0.34510449446365393",
         "0.22516124254897585",
         "0.20046631426097763",
         "-1.082969026501893",
         "True",
         "False",
         "False",
         "False",
         "False"
        ],
        [
         "276",
         "-0.5223621256353217",
         "-0.9882286009976747",
         "-0.5186641459094639",
         "-0.4232743763985175",
         "-0.8696327886968037",
         "-0.5375115375122872",
         "False",
         "True",
         "False",
         "False",
         "False"
        ],
        [
         "501",
         "-1.255523280631745",
         "-0.012367790778804533",
         "0.31791565106207903",
         "-0.7867577023121229",
         "0.6988686361865206",
         "-0.6284211190105548",
         "False",
         "True",
         "False",
         "True",
         "False"
        ],
        [
         "415",
         "1.7104468463992397",
         "0.9634930194400657",
         "0.4224881256835219",
         "3.6011083000730806",
         "0.4789852588664285",
         "-0.6587243128433107",
         "False",
         "True",
         "False",
         "True",
         "False"
        ],
        [
         "535",
         "0.3441010575422693",
         "-0.15061473889314472",
         "-0.025082065696253673",
         "0.24024629971231148",
         "0.06853628786892255",
         "-0.5375115375122872",
         "False",
         "True",
         "False",
         "True",
         "False"
        ]
       ],
       "shape": {
        "columns": 11,
        "rows": 154
       }
      },
      "text/html": [
       "<div>\n",
       "<style scoped>\n",
       "    .dataframe tbody tr th:only-of-type {\n",
       "        vertical-align: middle;\n",
       "    }\n",
       "\n",
       "    .dataframe tbody tr th {\n",
       "        vertical-align: top;\n",
       "    }\n",
       "\n",
       "    .dataframe thead th {\n",
       "        text-align: right;\n",
       "    }\n",
       "</style>\n",
       "<table border=\"1\" class=\"dataframe\">\n",
       "  <thead>\n",
       "    <tr style=\"text-align: right;\">\n",
       "      <th></th>\n",
       "      <th>Glucose</th>\n",
       "      <th>BloodPressure</th>\n",
       "      <th>SkinThickness</th>\n",
       "      <th>Insulin</th>\n",
       "      <th>BMI</th>\n",
       "      <th>DiabetesPedigreeFunction</th>\n",
       "      <th>AgeGroup_Old</th>\n",
       "      <th>AgeGroup_Young</th>\n",
       "      <th>PregnancyGroup_Low</th>\n",
       "      <th>PregnancyGroup_Medium</th>\n",
       "      <th>PregnancyGroup_None</th>\n",
       "    </tr>\n",
       "  </thead>\n",
       "  <tbody>\n",
       "    <tr>\n",
       "      <th>44</th>\n",
       "      <td>1.243890</td>\n",
       "      <td>-0.662942</td>\n",
       "      <td>-0.335662</td>\n",
       "      <td>0.886020</td>\n",
       "      <td>-0.737703</td>\n",
       "      <td>-0.567815</td>\n",
       "      <td>False</td>\n",
       "      <td>False</td>\n",
       "      <td>False</td>\n",
       "      <td>False</td>\n",
       "      <td>False</td>\n",
       "    </tr>\n",
       "    <tr>\n",
       "      <th>672</th>\n",
       "      <td>-1.788731</td>\n",
       "      <td>2.752571</td>\n",
       "      <td>-0.623237</td>\n",
       "      <td>-1.112972</td>\n",
       "      <td>0.449667</td>\n",
       "      <td>-0.598118</td>\n",
       "      <td>False</td>\n",
       "      <td>False</td>\n",
       "      <td>False</td>\n",
       "      <td>False</td>\n",
       "      <td>False</td>\n",
       "    </tr>\n",
       "    <tr>\n",
       "      <th>700</th>\n",
       "      <td>0.010846</td>\n",
       "      <td>0.312919</td>\n",
       "      <td>-0.204947</td>\n",
       "      <td>0.561913</td>\n",
       "      <td>0.508303</td>\n",
       "      <td>0.007946</td>\n",
       "      <td>False</td>\n",
       "      <td>True</td>\n",
       "      <td>False</td>\n",
       "      <td>True</td>\n",
       "      <td>False</td>\n",
       "    </tr>\n",
       "    <tr>\n",
       "      <th>630</th>\n",
       "      <td>-0.255758</td>\n",
       "      <td>-0.662942</td>\n",
       "      <td>-0.467424</td>\n",
       "      <td>-0.212084</td>\n",
       "      <td>-0.737703</td>\n",
       "      <td>0.765526</td>\n",
       "      <td>False</td>\n",
       "      <td>False</td>\n",
       "      <td>False</td>\n",
       "      <td>False</td>\n",
       "      <td>False</td>\n",
       "    </tr>\n",
       "    <tr>\n",
       "      <th>81</th>\n",
       "      <td>-1.588778</td>\n",
       "      <td>-0.492166</td>\n",
       "      <td>-0.491475</td>\n",
       "      <td>-1.161998</td>\n",
       "      <td>-0.438661</td>\n",
       "      <td>-1.143575</td>\n",
       "      <td>False</td>\n",
       "      <td>True</td>\n",
       "      <td>False</td>\n",
       "      <td>True</td>\n",
       "      <td>False</td>\n",
       "    </tr>\n",
       "    <tr>\n",
       "      <th>...</th>\n",
       "      <td>...</td>\n",
       "      <td>...</td>\n",
       "      <td>...</td>\n",
       "      <td>...</td>\n",
       "      <td>...</td>\n",
       "      <td>...</td>\n",
       "      <td>...</td>\n",
       "      <td>...</td>\n",
       "      <td>...</td>\n",
       "      <td>...</td>\n",
       "      <td>...</td>\n",
       "    </tr>\n",
       "    <tr>\n",
       "      <th>32</th>\n",
       "      <td>-1.122221</td>\n",
       "      <td>-1.150872</td>\n",
       "      <td>-1.878106</td>\n",
       "      <td>-1.057512</td>\n",
       "      <td>-1.118834</td>\n",
       "      <td>-0.628421</td>\n",
       "      <td>False</td>\n",
       "      <td>True</td>\n",
       "      <td>False</td>\n",
       "      <td>True</td>\n",
       "      <td>False</td>\n",
       "    </tr>\n",
       "    <tr>\n",
       "      <th>637</th>\n",
       "      <td>-0.922268</td>\n",
       "      <td>0.312919</td>\n",
       "      <td>-1.146099</td>\n",
       "      <td>-0.924409</td>\n",
       "      <td>-0.122029</td>\n",
       "      <td>0.523100</td>\n",
       "      <td>False</td>\n",
       "      <td>True</td>\n",
       "      <td>False</td>\n",
       "      <td>True</td>\n",
       "      <td>False</td>\n",
       "    </tr>\n",
       "    <tr>\n",
       "      <th>593</th>\n",
       "      <td>-1.322174</td>\n",
       "      <td>-1.638802</td>\n",
       "      <td>-0.727809</td>\n",
       "      <td>-0.380903</td>\n",
       "      <td>-0.576455</td>\n",
       "      <td>3.704936</td>\n",
       "      <td>False</td>\n",
       "      <td>True</td>\n",
       "      <td>False</td>\n",
       "      <td>True</td>\n",
       "      <td>False</td>\n",
       "    </tr>\n",
       "    <tr>\n",
       "      <th>425</th>\n",
       "      <td>2.077027</td>\n",
       "      <td>0.475563</td>\n",
       "      <td>1.049923</td>\n",
       "      <td>1.415993</td>\n",
       "      <td>0.669551</td>\n",
       "      <td>-0.658724</td>\n",
       "      <td>False</td>\n",
       "      <td>False</td>\n",
       "      <td>False</td>\n",
       "      <td>True</td>\n",
       "      <td>False</td>\n",
       "    </tr>\n",
       "    <tr>\n",
       "      <th>273</th>\n",
       "      <td>-1.688755</td>\n",
       "      <td>0.475563</td>\n",
       "      <td>2.200220</td>\n",
       "      <td>-1.157340</td>\n",
       "      <td>0.112513</td>\n",
       "      <td>-0.173873</td>\n",
       "      <td>False</td>\n",
       "      <td>True</td>\n",
       "      <td>True</td>\n",
       "      <td>False</td>\n",
       "      <td>False</td>\n",
       "    </tr>\n",
       "  </tbody>\n",
       "</table>\n",
       "<p>154 rows × 11 columns</p>\n",
       "</div>"
      ],
      "text/plain": [
       "      Glucose  BloodPressure  SkinThickness   Insulin       BMI  \\\n",
       "44   1.243890      -0.662942      -0.335662  0.886020 -0.737703   \n",
       "672 -1.788731       2.752571      -0.623237 -1.112972  0.449667   \n",
       "700  0.010846       0.312919      -0.204947  0.561913  0.508303   \n",
       "630 -0.255758      -0.662942      -0.467424 -0.212084 -0.737703   \n",
       "81  -1.588778      -0.492166      -0.491475 -1.161998 -0.438661   \n",
       "..        ...            ...            ...       ...       ...   \n",
       "32  -1.122221      -1.150872      -1.878106 -1.057512 -1.118834   \n",
       "637 -0.922268       0.312919      -1.146099 -0.924409 -0.122029   \n",
       "593 -1.322174      -1.638802      -0.727809 -0.380903 -0.576455   \n",
       "425  2.077027       0.475563       1.049923  1.415993  0.669551   \n",
       "273 -1.688755       0.475563       2.200220 -1.157340  0.112513   \n",
       "\n",
       "     DiabetesPedigreeFunction  AgeGroup_Old  AgeGroup_Young  \\\n",
       "44                  -0.567815         False           False   \n",
       "672                 -0.598118         False           False   \n",
       "700                  0.007946         False            True   \n",
       "630                  0.765526         False           False   \n",
       "81                  -1.143575         False            True   \n",
       "..                        ...           ...             ...   \n",
       "32                  -0.628421         False            True   \n",
       "637                  0.523100         False            True   \n",
       "593                  3.704936         False            True   \n",
       "425                 -0.658724         False           False   \n",
       "273                 -0.173873         False            True   \n",
       "\n",
       "     PregnancyGroup_Low  PregnancyGroup_Medium  PregnancyGroup_None  \n",
       "44                False                  False                False  \n",
       "672               False                  False                False  \n",
       "700               False                   True                False  \n",
       "630               False                  False                False  \n",
       "81                False                   True                False  \n",
       "..                  ...                    ...                  ...  \n",
       "32                False                   True                False  \n",
       "637               False                   True                False  \n",
       "593               False                   True                False  \n",
       "425               False                   True                False  \n",
       "273                True                  False                False  \n",
       "\n",
       "[154 rows x 11 columns]"
      ]
     },
     "execution_count": 149,
     "metadata": {},
     "output_type": "execute_result"
    }
   ],
   "source": [
    "# Full X-testing data\n",
    "X_encoded_test_scaled"
   ]
  },
  {
   "cell_type": "code",
   "execution_count": 150,
   "id": "4b6386fc",
   "metadata": {},
   "outputs": [
    {
     "data": {
      "application/vnd.microsoft.datawrangler.viewer.v0+json": {
       "columns": [
        {
         "name": "index",
         "rawType": "int64",
         "type": "integer"
        },
        {
         "name": "Outcome",
         "rawType": "int64",
         "type": "integer"
        }
       ],
       "ref": "bb3c0352-7a24-44fe-9313-9334b59548d2",
       "rows": [
        [
         "353",
         "0"
        ],
        [
         "711",
         "0"
        ],
        [
         "373",
         "0"
        ],
        [
         "46",
         "0"
        ],
        [
         "682",
         "0"
        ],
        [
         "360",
         "1"
        ],
        [
         "414",
         "1"
        ],
        [
         "339",
         "1"
        ],
        [
         "694",
         "0"
        ],
        [
         "33",
         "0"
        ],
        [
         "218",
         "1"
        ],
        [
         "705",
         "0"
        ],
        [
         "76",
         "0"
        ],
        [
         "616",
         "0"
        ],
        [
         "675",
         "1"
        ],
        [
         "613",
         "0"
        ],
        [
         "666",
         "1"
        ],
        [
         "34",
         "0"
        ],
        [
         "182",
         "0"
        ],
        [
         "405",
         "0"
        ],
        [
         "464",
         "0"
        ],
        [
         "576",
         "0"
        ],
        [
         "664",
         "1"
        ],
        [
         "9",
         "1"
        ],
        [
         "466",
         "0"
        ],
        [
         "267",
         "0"
        ],
        [
         "167",
         "0"
        ],
        [
         "320",
         "0"
        ],
        [
         "610",
         "0"
        ],
        [
         "485",
         "1"
        ],
        [
         "295",
         "0"
        ],
        [
         "204",
         "0"
        ],
        [
         "195",
         "1"
        ],
        [
         "269",
         "1"
        ],
        [
         "434",
         "0"
        ],
        [
         "217",
         "0"
        ],
        [
         "323",
         "1"
        ],
        [
         "85",
         "0"
        ],
        [
         "26",
         "1"
        ],
        [
         "171",
         "1"
        ],
        [
         "716",
         "1"
        ],
        [
         "96",
         "0"
        ],
        [
         "561",
         "1"
        ],
        [
         "296",
         "1"
        ],
        [
         "60",
         "0"
        ],
        [
         "175",
         "1"
        ],
        [
         "737",
         "0"
        ],
        [
         "601",
         "0"
        ],
        [
         "294",
         "0"
        ],
        [
         "209",
         "1"
        ]
       ],
       "shape": {
        "columns": 1,
        "rows": 614
       }
      },
      "text/plain": [
       "353    0\n",
       "711    0\n",
       "373    0\n",
       "46     0\n",
       "682    0\n",
       "      ..\n",
       "451    1\n",
       "113    0\n",
       "556    0\n",
       "667    1\n",
       "107    0\n",
       "Name: Outcome, Length: 614, dtype: int64"
      ]
     },
     "execution_count": 150,
     "metadata": {},
     "output_type": "execute_result"
    }
   ],
   "source": [
    "# Full y-training data\n",
    "y_train"
   ]
  },
  {
   "cell_type": "code",
   "execution_count": 151,
   "id": "b98dcf30",
   "metadata": {},
   "outputs": [
    {
     "data": {
      "application/vnd.microsoft.datawrangler.viewer.v0+json": {
       "columns": [
        {
         "name": "index",
         "rawType": "int64",
         "type": "integer"
        },
        {
         "name": "Outcome",
         "rawType": "int64",
         "type": "integer"
        }
       ],
       "ref": "0ff8f282-eae9-4346-8c80-60a480a14c2c",
       "rows": [
        [
         "44",
         "0"
        ],
        [
         "672",
         "0"
        ],
        [
         "700",
         "0"
        ],
        [
         "630",
         "1"
        ],
        [
         "81",
         "0"
        ],
        [
         "389",
         "0"
        ],
        [
         "387",
         "1"
        ],
        [
         "408",
         "1"
        ],
        [
         "163",
         "0"
        ],
        [
         "335",
         "0"
        ],
        [
         "471",
         "0"
        ],
        [
         "78",
         "1"
        ],
        [
         "307",
         "0"
        ],
        [
         "392",
         "0"
        ],
        [
         "678",
         "1"
        ],
        [
         "116",
         "1"
        ],
        [
         "660",
         "0"
        ],
        [
         "742",
         "0"
        ],
        [
         "260",
         "0"
        ],
        [
         "533",
         "0"
        ],
        [
         "140",
         "0"
        ],
        [
         "13",
         "1"
        ],
        [
         "17",
         "1"
        ],
        [
         "245",
         "1"
        ],
        [
         "517",
         "0"
        ],
        [
         "62",
         "0"
        ],
        [
         "480",
         "1"
        ],
        [
         "629",
         "0"
        ],
        [
         "64",
         "1"
        ],
        [
         "3",
         "0"
        ],
        [
         "158",
         "0"
        ],
        [
         "83",
         "0"
        ],
        [
         "437",
         "0"
        ],
        [
         "153",
         "0"
        ],
        [
         "469",
         "0"
        ],
        [
         "124",
         "1"
        ],
        [
         "305",
         "0"
        ],
        [
         "767",
         "0"
        ],
        [
         "746",
         "1"
        ],
        [
         "345",
         "0"
        ],
        [
         "745",
         "0"
        ],
        [
         "596",
         "0"
        ],
        [
         "279",
         "0"
        ],
        [
         "264",
         "1"
        ],
        [
         "380",
         "0"
        ],
        [
         "560",
         "1"
        ],
        [
         "276",
         "1"
        ],
        [
         "501",
         "0"
        ],
        [
         "415",
         "1"
        ],
        [
         "535",
         "1"
        ]
       ],
       "shape": {
        "columns": 1,
        "rows": 154
       }
      },
      "text/plain": [
       "44     0\n",
       "672    0\n",
       "700    0\n",
       "630    1\n",
       "81     0\n",
       "      ..\n",
       "32     0\n",
       "637    0\n",
       "593    0\n",
       "425    1\n",
       "273    0\n",
       "Name: Outcome, Length: 154, dtype: int64"
      ]
     },
     "execution_count": 151,
     "metadata": {},
     "output_type": "execute_result"
    }
   ],
   "source": [
    "# Full y-testing data\n",
    "y_test"
   ]
  },
  {
   "cell_type": "code",
   "execution_count": null,
   "id": "c62fe654",
   "metadata": {},
   "outputs": [],
   "source": []
  },
  {
   "cell_type": "markdown",
   "id": "be72dd5d",
   "metadata": {},
   "source": [
    "### 5.6 Handling Class Imbalance"
   ]
  },
  {
   "cell_type": "markdown",
   "id": "8f3631e9",
   "metadata": {},
   "source": [
    "### Adding SMOTE for KNN and class_weight='balanced' handling for imbalance"
   ]
  },
  {
   "cell_type": "code",
   "execution_count": 162,
   "id": "47ef3148",
   "metadata": {},
   "outputs": [
    {
     "name": "stdout",
     "output_type": "stream",
     "text": [
      "Class distribution before SMOTE (for KNN):\n",
      "Outcome\n",
      "0    400\n",
      "1    214\n",
      "Name: count, dtype: int64\n"
     ]
    }
   ],
   "source": [
    "# For Logistic Regression and Random Forest: Use class_weight='balanced' for handling class imbalance\n",
    "\n",
    "print(\"Class distribution before SMOTE (for KNN):\")\n",
    "print(y_train.value_counts())"
   ]
  },
  {
   "cell_type": "code",
   "execution_count": 168,
   "id": "63104487",
   "metadata": {},
   "outputs": [
    {
     "name": "stdout",
     "output_type": "stream",
     "text": [
      "Class distribution Before SMOTE:\n",
      "Outcome\n",
      "0    400\n",
      "1    214\n",
      "Name: count, dtype: int64\n"
     ]
    }
   ],
   "source": [
    "# Check original class distribution before SMOTE\n",
    "\n",
    "print(\"Class distribution Before SMOTE:\")\n",
    "print(y_train.value_counts())"
   ]
  },
  {
   "cell_type": "code",
   "execution_count": 161,
   "id": "5070e433",
   "metadata": {},
   "outputs": [],
   "source": [
    "# Apply SMOTE only to training set for KNN\n",
    "smote = SMOTE(random_state=42)\n",
    "X_encoded_train_knn, y_train_knn = smote.fit_resample(X_encoded_train, y_train)"
   ]
  },
  {
   "cell_type": "code",
   "execution_count": 169,
   "id": "9b69fe78",
   "metadata": {},
   "outputs": [
    {
     "name": "stdout",
     "output_type": "stream",
     "text": [
      "\n",
      "Class distribution After SMOTE:\n",
      "Outcome\n",
      "0    400\n",
      "1    400\n",
      "Name: count, dtype: int64\n"
     ]
    }
   ],
   "source": [
    "# Check class distribution after SMOTE\n",
    "print(\"\\nClass distribution After SMOTE:\")\n",
    "print(y_train_knn.value_counts())"
   ]
  }
 ],
 "metadata": {
  "kernelspec": {
   "display_name": "Python 3",
   "language": "python",
   "name": "python3"
  },
  "language_info": {
   "codemirror_mode": {
    "name": "ipython",
    "version": 3
   },
   "file_extension": ".py",
   "mimetype": "text/x-python",
   "name": "python",
   "nbconvert_exporter": "python",
   "pygments_lexer": "ipython3",
   "version": "3.13.2"
  }
 },
 "nbformat": 4,
 "nbformat_minor": 5
}
