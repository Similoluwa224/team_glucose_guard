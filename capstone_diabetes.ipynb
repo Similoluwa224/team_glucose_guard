{
 "cells": [
  {
   "cell_type": "markdown",
   "id": "a7ca0b1c",
   "metadata": {},
   "source": [
    "# **CASE STUDY II: HEALTHCARE – EARLY DETECTION OF DIABETES**\n",
    "### *TEAM GLUCOSE-GUARD DATA SCIENCE CAPSTONE PROJECT*"
   ]
  },
  {
   "cell_type": "markdown",
   "id": "4995f5e5",
   "metadata": {},
   "source": [
    "## **TEAM MEMBERS**"
   ]
  },
  {
   "cell_type": "markdown",
   "id": "5a7f619a",
   "metadata": {},
   "source": [
    "1. Similoluwa Okusanya (Team Lead)\n",
    "2. Abisade Adegboye\n",
    "3. Adeyanju Hassabat\n",
    "4. Ayodele Jewoola\n",
    "5. Shalom Doufodji\n",
    "6. Simisola Araba\n",
    "7. Tomiwa Ayankunle\n",
    "8. Wonder Munga"
   ]
  },
  {
   "cell_type": "markdown",
   "id": "d4ffe5bb",
   "metadata": {},
   "source": [
    "## **TABLE OF CONTENTS**"
   ]
  },
  {
   "cell_type": "markdown",
   "id": "d62b98d3",
   "metadata": {},
   "source": [
    "- [**1.0 INTRODUCTION**](#10-introduction)\n",
    "    - [1.1 Background](#11-background)\n",
    "    - [1.2 Objectives](#12-objectives)\n",
    "    - [1.3 Dataset Overview](#13-dataset-overview)\n",
    "- [**2.0 DATA PREPARATION**](#20-data-preparation)\n",
    "    - [2.1 Importation of Libraries](#21-importation-of-libraries)\n",
    "    - [2.2 Loading of Dataset](#22-loading-of-dataset)\n",
    "- [**3.0 DATA CLEANING**](#30-data-cleaning)\n",
    "    - [3.1 Identifying Columns where Zeros are Invalid](#31-identifying-columns-where-zeros-are-invalid)\n",
    "    - [3.2 Creating Missingness Indicator Flags](#32-creating-missingness-indicator-flags)\n",
    "    - [3.3 Replacing Zeros with NaN](#33-replacing-zeros-with-nan)\n",
    "    - [3.4 Applying Iterative Imputer (MICE)](#34-applying-iterative-imputer-multivariate-imputation-by-chained-equations-mice)\n",
    "    - [3.5 Comparison of Values Before and After Imputation](#35-comparison-of-values-before-and-after-imputation)\n",
    "    - [3.6 Combining Imputed Data with Target](#36-combining-imputed-data-with-target)\n",
    "    - [3.7 Final Imouted Dataset](#37-final-imputed-dataset)\n",
    "- [**4.0 DATA ANALYSIS**](#40-data-analysis)\n",
    "    - [4.1 Explorative Data Analysis (EDA)](#41-explorative-data-analysis-eda)\n",
    "    - [4.2 Descriptive Statistics](#42-descriptive-statistics)\n",
    "    - [4.3 Inferential Statistics](#43-inferential-statistics)\n",
    "    - [4.4 Summary of Key Findings from Data Analysis](#44-summary-of-key-findings-from-data-analysis)\n",
    "- [**5.0 FEATURE ENGINEERING**](#50-feature-engineering)\n",
    "    - [5.1 Feature Interaction and Log Transformations](#51-feature-interaction-and-log-transformations)\n",
    "    - [5.2 Encoding the Categorical Variables](#52-encoding-the-categorical-variables)\n",
    "    - [5.3 Setting the X and y Variables](#53-setting-the-x-and-y-variables)\n",
    "    - [5.4 Train-Test Split 80/20](#54-train-test-split-8020)\n",
    "    - [5.5 Scaling Numeric Features with StandardScaler](#55-scaling-numeric-features-with-standardscaler)\n",
    "    - [5.6 Final Training and Testing Data](#56-final-training-and-testing-data)\n",
    "    - [5.7 Handling Class Imbalance](#57-handling-class-imbalance)\n",
    "- [**6.0 MODEL BUILDING & EVALUATION**](#60-model-building--evaluation)\n",
    "    - [6.1 Baseline Model Training](#61-baseline-model-training)\n",
    "    - [6.2 Baseline Model Evaluation](#61-baseline-model-evalution)\n",
    "    - [6.3 Best Model (Based on Recall)](#63-best-model-based-on-recall)\n",
    "    - [6.4 Hyperparameter Tuning of Best Model](#64-hyperparameter-tuning-of-best-model)\n",
    "    - [6.5 Tuned Model Evaluation](#65-tuned-model-evaluation)\n",
    "    - [6.6 Confusion Matrix for Tuned Model](#66-confusion-matrix-for-tuned-model)\n",
    "    - [6.7 Feature Importance / Coefficients for Tuned Model](#67-feature-importance--coefficients-for-tuned-model)\n",
    "    - [6.8 Saving Best Model and Scaler](#68-saving-best-model-and-scaler)\n",
    "- [**7.0 CONCLUSION**](#70-conclusion)"
   ]
  },
  {
   "cell_type": "markdown",
   "id": "4a17c550",
   "metadata": {},
   "source": [
    "## **1.0 INTRODUCTION** <a id=\"10-introduction\"></a>"
   ]
  },
  {
   "cell_type": "markdown",
   "id": "893342a7",
   "metadata": {},
   "source": [
    "### 1.1 Background <a id=\"11-background\"></a>\n",
    "A mobile health clinic aims to pre-screen patients for diabetes using basic health indicators. This initiative seeks to reduce hospital crowding and allow healthcare providers to focus resources on individuals at higher risk of developing diabetes.\n",
    "\n",
    "Using exploratory data analysis (EDA), this project uncovers the key factors that influence the risk of diabetes. Subsequently, classification models are developed to predict whether a person has diabetes based on clinical attributes such as body mass index (BMI), glucose levels, insulin levels, and age."
   ]
  },
  {
   "cell_type": "markdown",
   "id": "565fb849",
   "metadata": {},
   "source": [
    "### 1.2 Objectives <a id=\"12-objectives\"></a>\n",
    "1. To perform exploratory data analysis (EDA) to identify factors that greatly influence the risk of diabetes.\n",
    "\n",
    "2. To develop classification models to predict if a person has diabetes based on health attributes like BMI, glucose levels, insulin levels, and age."
   ]
  },
  {
   "cell_type": "markdown",
   "id": "59d36918",
   "metadata": {},
   "source": [
    "### 1.3 Dataset Overview <a id=\"13-dataset-overview\"></a>\n",
    "The Pima Indians Diabetes Dataset, sourced from [Kaggle](https://www.kaggle.com/datasets/uciml/pima-indians-diabetes-database), contains 768 medical records of female patients of Pima Indian heritage. It includes 8 clinical features such as glucose concentration, blood pressure, BMI, insulin levels, and age.\n",
    "\n",
    "This dataset is widely used in diabetes prediction studies due to its clinical relevance and manageable size, making it ideal for exploratory data analysis and machine learning classification tasks."
   ]
  },
  {
   "cell_type": "markdown",
   "id": "62c61caf",
   "metadata": {},
   "source": [
    "## **2.0 DATA PREPARATION** <a id=\"20-data-preparation\"></a>"
   ]
  },
  {
   "cell_type": "markdown",
   "id": "07fe00bd",
   "metadata": {},
   "source": [
    "### 2.1 Importation of Libraries <a id=\"21-importation-of-libraries\"></a>"
   ]
  },
  {
   "cell_type": "code",
   "execution_count": 1,
   "id": "15b04c8c",
   "metadata": {},
   "outputs": [],
   "source": [
    "# Import Libaries\n",
    "\n",
    "## For data cleaning and descriptive statistics\n",
    "import pandas as pd # for data manipulation\n",
    "import numpy as np #for numerical operations\n",
    "from sklearn.experimental import enable_iterative_imputer\n",
    "from sklearn.impute import IterativeImputer # for advanced missing value imputation\n",
    "\n",
    "## For EDA\n",
    "import matplotlib.pyplot as plt # for plotting\n",
    "import seaborn as sns # for advanced plotting\n",
    "from scipy.stats import spearmanr, pearsonr # for correlation analysis\n",
    "from statsmodels.stats.outliers_influence import variance_inflation_factor # to detect multicollinearity\n",
    "import statsmodels.api as sm # to add a constant term (intercept) to the feature matrix\n",
    "sns.set(style='whitegrid') # Set seaborn style\n",
    "\n",
    "## For inferential statistics\n",
    "from scipy.stats import ttest_ind #for hypothesis testing across 2groups\n",
    "from scipy.stats import f_oneway #for hypothesis testing across 3 or more groups\n",
    "from scipy.stats import chi2_contingency #for testing for independence\n",
    "import statsmodels.api as sm #used for anova table\n",
    "from statsmodels.formula.api import ols #create a model and fitting\n",
    "\n",
    "## For feature engineering and model building & evaluation\n",
    "from sklearn.model_selection import train_test_split, GridSearchCV, StratifiedKFold\n",
    "from sklearn.preprocessing import StandardScaler\n",
    "from sklearn.preprocessing import LabelEncoder\n",
    "from sklearn.metrics import (\n",
    "    accuracy_score, precision_score, recall_score, \n",
    "    f1_score, roc_auc_score, confusion_matrix, ConfusionMatrixDisplay\n",
    ")\n",
    "from sklearn.linear_model import LogisticRegression\n",
    "from sklearn.ensemble import RandomForestClassifier\n",
    "from sklearn.neighbors import KNeighborsClassifier\n",
    "from sklearn.inspection import permutation_importance\n",
    "from sklearn.model_selection import train_test_split\n",
    "from sklearn.preprocessing import OrdinalEncoder\n",
    "from imblearn.over_sampling import SMOTE\n",
    "import joblib\n",
    "\n",
    "## For warnings\n",
    "import warnings\n",
    "warnings.filterwarnings(\"ignore\", message=\".*keepdims.*\", category=FutureWarning)"
   ]
  },
  {
   "cell_type": "markdown",
   "id": "5dae7f27",
   "metadata": {},
   "source": [
    "### 2.2 Loading of Dataset <a id=\"22-loading-of-dataset\"></a>"
   ]
  },
  {
   "cell_type": "code",
   "execution_count": 2,
   "id": "dfa1bde9",
   "metadata": {
    "scrolled": true
   },
   "outputs": [
    {
     "name": "stdout",
     "output_type": "stream",
     "text": [
      "Preview of original dataset:\n"
     ]
    },
    {
     "data": {
      "text/html": [
       "<div>\n",
       "<style scoped>\n",
       "    .dataframe tbody tr th:only-of-type {\n",
       "        vertical-align: middle;\n",
       "    }\n",
       "\n",
       "    .dataframe tbody tr th {\n",
       "        vertical-align: top;\n",
       "    }\n",
       "\n",
       "    .dataframe thead th {\n",
       "        text-align: right;\n",
       "    }\n",
       "</style>\n",
       "<table border=\"1\" class=\"dataframe\">\n",
       "  <thead>\n",
       "    <tr style=\"text-align: right;\">\n",
       "      <th></th>\n",
       "      <th>Pregnancies</th>\n",
       "      <th>Glucose</th>\n",
       "      <th>BloodPressure</th>\n",
       "      <th>SkinThickness</th>\n",
       "      <th>Insulin</th>\n",
       "      <th>BMI</th>\n",
       "      <th>DiabetesPedigreeFunction</th>\n",
       "      <th>Age</th>\n",
       "      <th>Outcome</th>\n",
       "    </tr>\n",
       "  </thead>\n",
       "  <tbody>\n",
       "    <tr>\n",
       "      <th>0</th>\n",
       "      <td>6</td>\n",
       "      <td>148</td>\n",
       "      <td>72</td>\n",
       "      <td>35</td>\n",
       "      <td>0</td>\n",
       "      <td>33.6</td>\n",
       "      <td>0.627</td>\n",
       "      <td>50</td>\n",
       "      <td>1</td>\n",
       "    </tr>\n",
       "    <tr>\n",
       "      <th>1</th>\n",
       "      <td>1</td>\n",
       "      <td>85</td>\n",
       "      <td>66</td>\n",
       "      <td>29</td>\n",
       "      <td>0</td>\n",
       "      <td>26.6</td>\n",
       "      <td>0.351</td>\n",
       "      <td>31</td>\n",
       "      <td>0</td>\n",
       "    </tr>\n",
       "    <tr>\n",
       "      <th>2</th>\n",
       "      <td>8</td>\n",
       "      <td>183</td>\n",
       "      <td>64</td>\n",
       "      <td>0</td>\n",
       "      <td>0</td>\n",
       "      <td>23.3</td>\n",
       "      <td>0.672</td>\n",
       "      <td>32</td>\n",
       "      <td>1</td>\n",
       "    </tr>\n",
       "    <tr>\n",
       "      <th>3</th>\n",
       "      <td>1</td>\n",
       "      <td>89</td>\n",
       "      <td>66</td>\n",
       "      <td>23</td>\n",
       "      <td>94</td>\n",
       "      <td>28.1</td>\n",
       "      <td>0.167</td>\n",
       "      <td>21</td>\n",
       "      <td>0</td>\n",
       "    </tr>\n",
       "    <tr>\n",
       "      <th>4</th>\n",
       "      <td>0</td>\n",
       "      <td>137</td>\n",
       "      <td>40</td>\n",
       "      <td>35</td>\n",
       "      <td>168</td>\n",
       "      <td>43.1</td>\n",
       "      <td>2.288</td>\n",
       "      <td>33</td>\n",
       "      <td>1</td>\n",
       "    </tr>\n",
       "  </tbody>\n",
       "</table>\n",
       "</div>"
      ],
      "text/plain": [
       "   Pregnancies  Glucose  BloodPressure  SkinThickness  Insulin   BMI  \\\n",
       "0            6      148             72             35        0  33.6   \n",
       "1            1       85             66             29        0  26.6   \n",
       "2            8      183             64              0        0  23.3   \n",
       "3            1       89             66             23       94  28.1   \n",
       "4            0      137             40             35      168  43.1   \n",
       "\n",
       "   DiabetesPedigreeFunction  Age  Outcome  \n",
       "0                     0.627   50        1  \n",
       "1                     0.351   31        0  \n",
       "2                     0.672   32        1  \n",
       "3                     0.167   21        0  \n",
       "4                     2.288   33        1  "
      ]
     },
     "execution_count": 2,
     "metadata": {},
     "output_type": "execute_result"
    }
   ],
   "source": [
    "# Loading dataset\n",
    "df = pd.read_csv (\"./diabetes.csv\")\n",
    "\n",
    "# Return first 5 rows\n",
    "print (\"Preview of original dataset:\")\n",
    "df.head()"
   ]
  },
  {
   "cell_type": "code",
   "execution_count": 3,
   "id": "a0a8e719",
   "metadata": {},
   "outputs": [
    {
     "name": "stdout",
     "output_type": "stream",
     "text": [
      "Info on original dataset:\n",
      "<class 'pandas.core.frame.DataFrame'>\n",
      "RangeIndex: 768 entries, 0 to 767\n",
      "Data columns (total 9 columns):\n",
      " #   Column                    Non-Null Count  Dtype  \n",
      "---  ------                    --------------  -----  \n",
      " 0   Pregnancies               768 non-null    int64  \n",
      " 1   Glucose                   768 non-null    int64  \n",
      " 2   BloodPressure             768 non-null    int64  \n",
      " 3   SkinThickness             768 non-null    int64  \n",
      " 4   Insulin                   768 non-null    int64  \n",
      " 5   BMI                       768 non-null    float64\n",
      " 6   DiabetesPedigreeFunction  768 non-null    float64\n",
      " 7   Age                       768 non-null    int64  \n",
      " 8   Outcome                   768 non-null    int64  \n",
      "dtypes: float64(2), int64(7)\n",
      "memory usage: 54.1 KB\n"
     ]
    }
   ],
   "source": [
    "# Summary of dataframe\n",
    "print (\"Info on original dataset:\")\n",
    "df.info()"
   ]
  },
  {
   "cell_type": "code",
   "execution_count": 4,
   "id": "955e2680",
   "metadata": {},
   "outputs": [
    {
     "data": {
      "text/html": [
       "<div>\n",
       "<style scoped>\n",
       "    .dataframe tbody tr th:only-of-type {\n",
       "        vertical-align: middle;\n",
       "    }\n",
       "\n",
       "    .dataframe tbody tr th {\n",
       "        vertical-align: top;\n",
       "    }\n",
       "\n",
       "    .dataframe thead th {\n",
       "        text-align: right;\n",
       "    }\n",
       "</style>\n",
       "<table border=\"1\" class=\"dataframe\">\n",
       "  <thead>\n",
       "    <tr style=\"text-align: right;\">\n",
       "      <th></th>\n",
       "      <th>Pregnancies</th>\n",
       "      <th>Glucose</th>\n",
       "      <th>BloodPressure</th>\n",
       "      <th>SkinThickness</th>\n",
       "      <th>Insulin</th>\n",
       "      <th>BMI</th>\n",
       "      <th>DiabetesPedigreeFunction</th>\n",
       "      <th>Age</th>\n",
       "      <th>Outcome</th>\n",
       "    </tr>\n",
       "  </thead>\n",
       "  <tbody>\n",
       "    <tr>\n",
       "      <th>count</th>\n",
       "      <td>768.000000</td>\n",
       "      <td>768.000000</td>\n",
       "      <td>768.000000</td>\n",
       "      <td>768.000000</td>\n",
       "      <td>768.000000</td>\n",
       "      <td>768.000000</td>\n",
       "      <td>768.000000</td>\n",
       "      <td>768.000000</td>\n",
       "      <td>768.000000</td>\n",
       "    </tr>\n",
       "    <tr>\n",
       "      <th>mean</th>\n",
       "      <td>3.845052</td>\n",
       "      <td>120.894531</td>\n",
       "      <td>69.105469</td>\n",
       "      <td>20.536458</td>\n",
       "      <td>79.799479</td>\n",
       "      <td>31.992578</td>\n",
       "      <td>0.471876</td>\n",
       "      <td>33.240885</td>\n",
       "      <td>0.348958</td>\n",
       "    </tr>\n",
       "    <tr>\n",
       "      <th>std</th>\n",
       "      <td>3.369578</td>\n",
       "      <td>31.972618</td>\n",
       "      <td>19.355807</td>\n",
       "      <td>15.952218</td>\n",
       "      <td>115.244002</td>\n",
       "      <td>7.884160</td>\n",
       "      <td>0.331329</td>\n",
       "      <td>11.760232</td>\n",
       "      <td>0.476951</td>\n",
       "    </tr>\n",
       "    <tr>\n",
       "      <th>min</th>\n",
       "      <td>0.000000</td>\n",
       "      <td>0.000000</td>\n",
       "      <td>0.000000</td>\n",
       "      <td>0.000000</td>\n",
       "      <td>0.000000</td>\n",
       "      <td>0.000000</td>\n",
       "      <td>0.078000</td>\n",
       "      <td>21.000000</td>\n",
       "      <td>0.000000</td>\n",
       "    </tr>\n",
       "    <tr>\n",
       "      <th>25%</th>\n",
       "      <td>1.000000</td>\n",
       "      <td>99.000000</td>\n",
       "      <td>62.000000</td>\n",
       "      <td>0.000000</td>\n",
       "      <td>0.000000</td>\n",
       "      <td>27.300000</td>\n",
       "      <td>0.243750</td>\n",
       "      <td>24.000000</td>\n",
       "      <td>0.000000</td>\n",
       "    </tr>\n",
       "    <tr>\n",
       "      <th>50%</th>\n",
       "      <td>3.000000</td>\n",
       "      <td>117.000000</td>\n",
       "      <td>72.000000</td>\n",
       "      <td>23.000000</td>\n",
       "      <td>30.500000</td>\n",
       "      <td>32.000000</td>\n",
       "      <td>0.372500</td>\n",
       "      <td>29.000000</td>\n",
       "      <td>0.000000</td>\n",
       "    </tr>\n",
       "    <tr>\n",
       "      <th>75%</th>\n",
       "      <td>6.000000</td>\n",
       "      <td>140.250000</td>\n",
       "      <td>80.000000</td>\n",
       "      <td>32.000000</td>\n",
       "      <td>127.250000</td>\n",
       "      <td>36.600000</td>\n",
       "      <td>0.626250</td>\n",
       "      <td>41.000000</td>\n",
       "      <td>1.000000</td>\n",
       "    </tr>\n",
       "    <tr>\n",
       "      <th>max</th>\n",
       "      <td>17.000000</td>\n",
       "      <td>199.000000</td>\n",
       "      <td>122.000000</td>\n",
       "      <td>99.000000</td>\n",
       "      <td>846.000000</td>\n",
       "      <td>67.100000</td>\n",
       "      <td>2.420000</td>\n",
       "      <td>81.000000</td>\n",
       "      <td>1.000000</td>\n",
       "    </tr>\n",
       "  </tbody>\n",
       "</table>\n",
       "</div>"
      ],
      "text/plain": [
       "       Pregnancies     Glucose  BloodPressure  SkinThickness     Insulin  \\\n",
       "count   768.000000  768.000000     768.000000     768.000000  768.000000   \n",
       "mean      3.845052  120.894531      69.105469      20.536458   79.799479   \n",
       "std       3.369578   31.972618      19.355807      15.952218  115.244002   \n",
       "min       0.000000    0.000000       0.000000       0.000000    0.000000   \n",
       "25%       1.000000   99.000000      62.000000       0.000000    0.000000   \n",
       "50%       3.000000  117.000000      72.000000      23.000000   30.500000   \n",
       "75%       6.000000  140.250000      80.000000      32.000000  127.250000   \n",
       "max      17.000000  199.000000     122.000000      99.000000  846.000000   \n",
       "\n",
       "              BMI  DiabetesPedigreeFunction         Age     Outcome  \n",
       "count  768.000000                768.000000  768.000000  768.000000  \n",
       "mean    31.992578                  0.471876   33.240885    0.348958  \n",
       "std      7.884160                  0.331329   11.760232    0.476951  \n",
       "min      0.000000                  0.078000   21.000000    0.000000  \n",
       "25%     27.300000                  0.243750   24.000000    0.000000  \n",
       "50%     32.000000                  0.372500   29.000000    0.000000  \n",
       "75%     36.600000                  0.626250   41.000000    1.000000  \n",
       "max     67.100000                  2.420000   81.000000    1.000000  "
      ]
     },
     "execution_count": 4,
     "metadata": {},
     "output_type": "execute_result"
    }
   ],
   "source": [
    "# Getting descriptive statistics of dataset\n",
    "df.describe()"
   ]
  },
  {
   "cell_type": "markdown",
   "id": "a20442cb",
   "metadata": {},
   "source": [
    "There **should not be zeros as the minimum** in the following columns: Glucose, BloodPressure, SkinThickness, Insulin and BMI; as it is physiologically impossible. Thus, there is a need for these values to be imputed."
   ]
  },
  {
   "cell_type": "markdown",
   "id": "ec6f5a55",
   "metadata": {},
   "source": [
    "###\n",
    "Back to :\n",
    "\n",
    "- [Table of Contents](#table-of-contents)"
   ]
  },
  {
   "cell_type": "markdown",
   "id": "0f9ec1d3",
   "metadata": {},
   "source": [
    "## **3.0 DATA CLEANING** <a id=\"30-data-cleaning\"></a>"
   ]
  },
  {
   "cell_type": "markdown",
   "id": "c4e545bb",
   "metadata": {},
   "source": [
    "### 3.1 Identifying Columns where Zeros are Invalid <a id=\"31-identifying-columns-where-zeros-are-invalid\"></a>"
   ]
  },
  {
   "cell_type": "code",
   "execution_count": 5,
   "id": "4c70e1f5",
   "metadata": {},
   "outputs": [
    {
     "name": "stdout",
     "output_type": "stream",
     "text": [
      "These features should not be zero for real patients:['Glucose', 'BloodPressure', 'SkinThickness', 'Insulin', 'BMI']\n"
     ]
    }
   ],
   "source": [
    "# Columns where 0 is likely a missing value\n",
    "zero_as_missing = [\"Glucose\", \"BloodPressure\", \"SkinThickness\", \"Insulin\", \"BMI\"]\n",
    "print (f\"These features should not be zero for real patients:{zero_as_missing}\")"
   ]
  },
  {
   "cell_type": "markdown",
   "id": "3b8189a9",
   "metadata": {},
   "source": [
    "### 3.2 Creating Missingness Indicator Flags <a id=\"32-creating-missingness-indicator-flags\"></a>"
   ]
  },
  {
   "cell_type": "code",
   "execution_count": 6,
   "id": "88419b78",
   "metadata": {},
   "outputs": [],
   "source": [
    "# Adding missingness flags\n",
    "for col in zero_as_missing:\n",
    "    df[col + \"_missing\"] = df [col] == 0"
   ]
  },
  {
   "cell_type": "code",
   "execution_count": 7,
   "id": "99c42970",
   "metadata": {},
   "outputs": [
    {
     "name": "stdout",
     "output_type": "stream",
     "text": [
      "Insulin Missing Values:\n"
     ]
    },
    {
     "data": {
      "text/html": [
       "<div>\n",
       "<style scoped>\n",
       "    .dataframe tbody tr th:only-of-type {\n",
       "        vertical-align: middle;\n",
       "    }\n",
       "\n",
       "    .dataframe tbody tr th {\n",
       "        vertical-align: top;\n",
       "    }\n",
       "\n",
       "    .dataframe thead th {\n",
       "        text-align: right;\n",
       "    }\n",
       "</style>\n",
       "<table border=\"1\" class=\"dataframe\">\n",
       "  <thead>\n",
       "    <tr style=\"text-align: right;\">\n",
       "      <th></th>\n",
       "      <th>Insulin</th>\n",
       "      <th>Insulin_missing</th>\n",
       "    </tr>\n",
       "  </thead>\n",
       "  <tbody>\n",
       "    <tr>\n",
       "      <th>0</th>\n",
       "      <td>0</td>\n",
       "      <td>True</td>\n",
       "    </tr>\n",
       "    <tr>\n",
       "      <th>1</th>\n",
       "      <td>0</td>\n",
       "      <td>True</td>\n",
       "    </tr>\n",
       "    <tr>\n",
       "      <th>2</th>\n",
       "      <td>0</td>\n",
       "      <td>True</td>\n",
       "    </tr>\n",
       "    <tr>\n",
       "      <th>3</th>\n",
       "      <td>94</td>\n",
       "      <td>False</td>\n",
       "    </tr>\n",
       "    <tr>\n",
       "      <th>4</th>\n",
       "      <td>168</td>\n",
       "      <td>False</td>\n",
       "    </tr>\n",
       "    <tr>\n",
       "      <th>5</th>\n",
       "      <td>0</td>\n",
       "      <td>True</td>\n",
       "    </tr>\n",
       "    <tr>\n",
       "      <th>6</th>\n",
       "      <td>88</td>\n",
       "      <td>False</td>\n",
       "    </tr>\n",
       "    <tr>\n",
       "      <th>7</th>\n",
       "      <td>0</td>\n",
       "      <td>True</td>\n",
       "    </tr>\n",
       "    <tr>\n",
       "      <th>8</th>\n",
       "      <td>543</td>\n",
       "      <td>False</td>\n",
       "    </tr>\n",
       "    <tr>\n",
       "      <th>9</th>\n",
       "      <td>0</td>\n",
       "      <td>True</td>\n",
       "    </tr>\n",
       "  </tbody>\n",
       "</table>\n",
       "</div>"
      ],
      "text/plain": [
       "   Insulin  Insulin_missing\n",
       "0        0             True\n",
       "1        0             True\n",
       "2        0             True\n",
       "3       94            False\n",
       "4      168            False\n",
       "5        0             True\n",
       "6       88            False\n",
       "7        0             True\n",
       "8      543            False\n",
       "9        0             True"
      ]
     },
     "execution_count": 7,
     "metadata": {},
     "output_type": "execute_result"
    }
   ],
   "source": [
    "# To verify that the flags are being correctly created\n",
    "print (\"Insulin Missing Values:\")\n",
    "df[[\"Insulin\", \"Insulin_missing\"]].head(10)"
   ]
  },
  {
   "cell_type": "markdown",
   "id": "60bb13d2",
   "metadata": {},
   "source": [
    "### 3.3 Replacing Zeros with NaN <a id=\"33-replacing-zeros-with-nan\"></a>"
   ]
  },
  {
   "cell_type": "code",
   "execution_count": 8,
   "id": "c6d20e62",
   "metadata": {},
   "outputs": [],
   "source": [
    "# Replace 0s with NaN\n",
    "df[zero_as_missing] = df[zero_as_missing].replace(0,np.nan)"
   ]
  },
  {
   "cell_type": "code",
   "execution_count": 9,
   "id": "1d79b8e3",
   "metadata": {},
   "outputs": [
    {
     "name": "stdout",
     "output_type": "stream",
     "text": [
      "This is the missing values existing in specified columns:\n"
     ]
    },
    {
     "data": {
      "text/plain": [
       "Glucose            5\n",
       "BloodPressure     35\n",
       "SkinThickness    227\n",
       "Insulin          374\n",
       "BMI               11\n",
       "dtype: int64"
      ]
     },
     "execution_count": 9,
     "metadata": {},
     "output_type": "execute_result"
    }
   ],
   "source": [
    "# To confirm how many missing values exist in each column\n",
    "print(\"This is the missing values existing in specified columns:\")\n",
    "df[zero_as_missing].isnull().sum()"
   ]
  },
  {
   "cell_type": "markdown",
   "id": "46f4d743",
   "metadata": {},
   "source": [
    "### 3.4 Applying Iterative Imputer (MICE) <a id=\"34-applying-iterative-imputer-multivariate-imputation-by-chained-equations-mice\"></a>"
   ]
  },
  {
   "cell_type": "markdown",
   "id": "2f0630ef",
   "metadata": {},
   "source": [
    "Iterative Imputer fills in missing values by modeling each feature with missing values as a function of the other features. It's based on Multiple Imputation by Chained Equations (MICE).\n",
    "\n",
    "So instead of guessing missing values with a mean or median, it:\n",
    "\n",
    "1. Picks one feature with missing values.\n",
    "\n",
    "2. Predicts those missing values using a regression model trained on the other columns.\n",
    "\n",
    "3. Repeats this process for each feature with missing values, in a cycle, until the values stabilize.\n",
    "\n",
    "This method preserves relationships between variables, which is critical in medical and clinical datasets."
   ]
  },
  {
   "cell_type": "code",
   "execution_count": 10,
   "id": "7b8482f0",
   "metadata": {},
   "outputs": [],
   "source": [
    "# Separating target from features\n",
    "X = df.drop(columns= \"Outcome\")\n",
    "y = df[\"Outcome\"]"
   ]
  },
  {
   "cell_type": "code",
   "execution_count": 11,
   "id": "317a81c6",
   "metadata": {},
   "outputs": [],
   "source": [
    "# Applying Iterative Imputer\n",
    "imputer = IterativeImputer(random_state=0)\n",
    "X_imputed = pd.DataFrame(imputer.fit_transform(X), columns=X.columns)"
   ]
  },
  {
   "cell_type": "code",
   "execution_count": 12,
   "id": "03a83c7a",
   "metadata": {},
   "outputs": [
    {
     "data": {
      "text/plain": [
       "Pregnancies                 0\n",
       "Glucose                     0\n",
       "BloodPressure               0\n",
       "SkinThickness               0\n",
       "Insulin                     0\n",
       "BMI                         0\n",
       "DiabetesPedigreeFunction    0\n",
       "Age                         0\n",
       "Glucose_missing             0\n",
       "BloodPressure_missing       0\n",
       "SkinThickness_missing       0\n",
       "Insulin_missing             0\n",
       "BMI_missing                 0\n",
       "dtype: int64"
      ]
     },
     "execution_count": 12,
     "metadata": {},
     "output_type": "execute_result"
    }
   ],
   "source": [
    "# Ensuring all NaNs are gone and imputation worked\n",
    "X_imputed.isnull().sum()"
   ]
  },
  {
   "cell_type": "markdown",
   "id": "31580bb1",
   "metadata": {},
   "source": [
    "### 3.5 Comparison of Values Before and After Imputation <a id=\"35-comparison-of-values-before-and-after-imputation\"></a>"
   ]
  },
  {
   "cell_type": "code",
   "execution_count": null,
   "id": "ee948e02",
   "metadata": {},
   "outputs": [],
   "source": [
    "# Reprinting columns where 0 is likely a missing value\n",
    "zero_as_missing = [\"Glucose\", \"BloodPressure\", \"SkinThickness\", \"Insulin\", \"BMI\"]\n",
    "print (f\"These features should not be zero for real patients:{zero_as_missing}\")"
   ]
  },
  {
   "cell_type": "markdown",
   "id": "74908946",
   "metadata": {},
   "source": [
    "#### 3.5.1 Glucose Comparison"
   ]
  },
  {
   "cell_type": "code",
   "execution_count": null,
   "id": "efc2bf04",
   "metadata": {},
   "outputs": [],
   "source": [
    "# Comparing values before and after for Glucose\n",
    "\n",
    "# Get the describe() outputs\n",
    "before_desc_glucose = df[\"Glucose\"].describe()\n",
    "after_desc_glucose = X_imputed[\"Glucose\"].describe()\n",
    "\n",
    "# Combine into a DataFrame\n",
    "glucose_comparison = pd.DataFrame({\n",
    "    \"Metric\": before_desc_glucose.index,\n",
    "    \"Before Imputation\": before_desc_glucose.values,\n",
    "    \"After Imputation\": after_desc_glucose.values\n",
    "})\n",
    "\n",
    "# Display as a table\n",
    "print (\"Glucose Comparison Table:\")\n",
    "glucose_comparison"
   ]
  },
  {
   "cell_type": "markdown",
   "id": "16c856ff",
   "metadata": {},
   "source": [
    "#### 3.5.2 Blood Pressure Comparison"
   ]
  },
  {
   "cell_type": "code",
   "execution_count": null,
   "id": "b51b5bee",
   "metadata": {},
   "outputs": [],
   "source": [
    "# Comparing values before and after for Blood Pressure\n",
    "\n",
    "# Get the describe() outputs\n",
    "before_desc_BloodPressure = df[\"BloodPressure\"].describe()\n",
    "after_desc_BloodPressure = X_imputed[\"BloodPressure\"].describe()\n",
    "\n",
    "# Combine into a DataFrame\n",
    "BloodPressure_comparison = pd.DataFrame({\n",
    "    \"Metric\": before_desc_BloodPressure.index,\n",
    "    \"Before Imputation\": before_desc_BloodPressure.values,\n",
    "    \"After Imputation\": after_desc_BloodPressure.values\n",
    "})\n",
    "\n",
    "# Display as a table\n",
    "print (\"Blood Pressure Comparison Table:\")\n",
    "BloodPressure_comparison"
   ]
  },
  {
   "cell_type": "markdown",
   "id": "79e991a8",
   "metadata": {},
   "source": [
    "#### 3.5.3 Skin Thickness"
   ]
  },
  {
   "cell_type": "code",
   "execution_count": null,
   "id": "dbd618aa",
   "metadata": {},
   "outputs": [],
   "source": [
    "# Comparing values before and after for Skin Thickness\n",
    "\n",
    "# Get the describe() outputs\n",
    "before_desc_SkinThickness = df[\"SkinThickness\"].describe()\n",
    "after_desc_SkinThickness = X_imputed[\"SkinThickness\"].describe()\n",
    "\n",
    "# Combine into a DataFrame\n",
    "SkinThickness_comparison = pd.DataFrame({\n",
    "    \"Metric\": before_desc_SkinThickness.index,\n",
    "    \"Before Imputation\": before_desc_SkinThickness.values,\n",
    "    \"After Imputation\": after_desc_SkinThickness.values\n",
    "})\n",
    "\n",
    "# Display as a table\n",
    "print (\"Skin Thickness Comparison Table:\")\n",
    "SkinThickness_comparison"
   ]
  },
  {
   "cell_type": "markdown",
   "id": "f7899e20",
   "metadata": {},
   "source": [
    "#### 3.5.4 Insulin Comparison"
   ]
  },
  {
   "cell_type": "code",
   "execution_count": null,
   "id": "57d10efd",
   "metadata": {},
   "outputs": [],
   "source": [
    "# Comparing values before and after for Insulin\n",
    "\n",
    "# Get the describe() outputs\n",
    "before_desc_insulin = df[\"Insulin\"].describe()\n",
    "after_desc_insulin = X_imputed[\"Insulin\"].describe()\n",
    "\n",
    "# Combine into a DataFrame\n",
    "insulin_comparison = pd.DataFrame({\n",
    "    \"Metric\": before_desc_insulin.index,\n",
    "    \"Before Imputation\": before_desc_insulin.values,\n",
    "    \"After Imputation\": after_desc_insulin.values\n",
    "})\n",
    "\n",
    "# Display as a table\n",
    "print (\"Insulin Comparison Table:\")\n",
    "insulin_comparison"
   ]
  },
  {
   "cell_type": "markdown",
   "id": "8c4f3cd0",
   "metadata": {},
   "source": [
    "All descriptive statistics are similar except **min** whose after imputation value is negative, which is not physiologically valid for Insulin.\n",
    "\n",
    "To fix this, we will clip negative values to a realistic minimum"
   ]
  },
  {
   "cell_type": "code",
   "execution_count": null,
   "id": "376df833",
   "metadata": {},
   "outputs": [],
   "source": [
    "# Clipping insulin negative values to a realistic minimum of 14\n",
    "X_imputed['Insulin'] = X_imputed['Insulin'].clip(lower=14)"
   ]
  },
  {
   "cell_type": "markdown",
   "id": "007c496b",
   "metadata": {},
   "source": [
    "##### 3.5.4.1 Updated Insulin Comparison"
   ]
  },
  {
   "cell_type": "code",
   "execution_count": null,
   "id": "98310f68",
   "metadata": {},
   "outputs": [],
   "source": [
    "# Get updated describe() output\n",
    "after_clipping_desc_insulin = X_imputed[\"Insulin\"].describe()\n",
    "\n",
    "# Re-create the comparison table\n",
    "insulin_comparison_clipped = pd.DataFrame({\n",
    "    \"Metric\": before_desc_insulin.index,\n",
    "    \"Before Imputation\": before_desc_insulin.values,\n",
    "    \"After Imputation & Clipping\": after_clipping_desc_insulin.values\n",
    "})\n",
    "\n",
    "# Display the new comparison table\n",
    "print (\"Updated Insulin Comparison Table:\")\n",
    "insulin_comparison_clipped"
   ]
  },
  {
   "cell_type": "markdown",
   "id": "a1c95f93",
   "metadata": {},
   "source": [
    "#### 3.5.5 Body Mass Index (BMI) Comparison"
   ]
  },
  {
   "cell_type": "code",
   "execution_count": null,
   "id": "bd46394e",
   "metadata": {},
   "outputs": [],
   "source": [
    "# Get the describe() outputs\n",
    "before_desc_BMI = df[\"BMI\"].describe()\n",
    "after_desc_BMI = X_imputed[\"BMI\"].describe()\n",
    "\n",
    "# Combine into a DataFrame\n",
    "BMI_comparison = pd.DataFrame({\n",
    "    \"Metric\": before_desc_BMI.index,\n",
    "    \"Before Imputation\": before_desc_BMI.values,\n",
    "    \"After Imputation\": after_desc_BMI.values\n",
    "})\n",
    "\n",
    "# Display as a table\n",
    "print (\"BMI Comparison Table:\")\n",
    "BMI_comparison"
   ]
  },
  {
   "cell_type": "markdown",
   "id": "249cdb51",
   "metadata": {},
   "source": [
    "### 3.6 Combining Imputed Data with Target <a id=\"36-combining-imputed-data-with-target\"></a>"
   ]
  },
  {
   "cell_type": "code",
   "execution_count": null,
   "id": "a11e4cce",
   "metadata": {},
   "outputs": [],
   "source": [
    "# Combine Imputed Data with Target\n",
    "df_imputed = X_imputed.copy()\n",
    "df_imputed['Outcome'] = y.values # to ensure proper alignment"
   ]
  },
  {
   "cell_type": "code",
   "execution_count": null,
   "id": "4f36125a",
   "metadata": {},
   "outputs": [],
   "source": [
    "# Confirming combination\n",
    "print(\"Target column added. Final DataFrame shape:\", df_imputed.shape)\n",
    "print(\"Column names:\", df_imputed.columns.tolist())"
   ]
  },
  {
   "cell_type": "code",
   "execution_count": null,
   "id": "cd31fab6",
   "metadata": {},
   "outputs": [],
   "source": [
    "# Ensuring final dataframe is assembled properly\n",
    "print(\"Preview of final dataset:\")\n",
    "df_imputed.head()"
   ]
  },
  {
   "cell_type": "markdown",
   "id": "cfc9fd9a",
   "metadata": {},
   "source": [
    "### 3.7 Final Imputed Dataset <a id=\"37-final-imputed-dataset\"></a>"
   ]
  },
  {
   "cell_type": "code",
   "execution_count": null,
   "id": "cd7810df",
   "metadata": {},
   "outputs": [],
   "source": [
    "# Round imputed dataset to 2 decimal places\n",
    "df_imputed = df_imputed.round(2)"
   ]
  },
  {
   "cell_type": "code",
   "execution_count": null,
   "id": "8e253fc1",
   "metadata": {},
   "outputs": [],
   "source": [
    "# Save the imputed dataset\n",
    "df_imputed.to_csv(\"diabetes_imputed.csv\", index=False)\n",
    "print(\"Dataset saved as 'diabetes_imputed.csv'\")"
   ]
  },
  {
   "cell_type": "markdown",
   "id": "986ddbd6",
   "metadata": {},
   "source": [
    "This is the dataset to be used for data analysis"
   ]
  },
  {
   "cell_type": "markdown",
   "id": "0bc165f7",
   "metadata": {},
   "source": [
    "## **4.0 DATA ANALYSIS** <a id=\"40-data-analysis\"></a>"
   ]
  },
  {
   "cell_type": "markdown",
   "id": "711984dd",
   "metadata": {},
   "source": [
    "### 4.1 Explorative Data Analysis (EDA) <a id=\"41-explorative-data-analysis-eda\"></a>"
   ]
  },
  {
   "cell_type": "markdown",
   "id": "e26b6723",
   "metadata": {},
   "source": [
    "#### 4.1.1 Inspection of Imputed dataset"
   ]
  },
  {
   "cell_type": "code",
   "execution_count": null,
   "id": "f4237a75",
   "metadata": {},
   "outputs": [],
   "source": [
    "# Display first 5 rows of \n",
    "print(\"Preview of imputed dataset:\")\n",
    "df_imputed.head()"
   ]
  },
  {
   "cell_type": "code",
   "execution_count": null,
   "id": "2c0a926f",
   "metadata": {},
   "outputs": [],
   "source": [
    "# Overview of data types and non-null counts\n",
    "print(\"Info on imputed dataset:\")\n",
    "df_imputed.info()"
   ]
  },
  {
   "cell_type": "code",
   "execution_count": null,
   "id": "eb05bff4",
   "metadata": {},
   "outputs": [],
   "source": [
    "# Shape\n",
    "print(\"Number of rows and columns of imputed dataset:\", df_imputed.shape)"
   ]
  },
  {
   "cell_type": "markdown",
   "id": "1436f1be",
   "metadata": {},
   "source": [
    "#### 4.1.2 Class Distribution using Countplot\n",
    "Is the dataset balanced?\n",
    "\n",
    "Are there more diabetic or non-diabetic patients?"
   ]
  },
  {
   "cell_type": "code",
   "execution_count": null,
   "id": "88d0a218",
   "metadata": {},
   "outputs": [],
   "source": [
    "# Countplot\n",
    "sns.countplot(x='Outcome', data=df_imputed)\n",
    "plt.title(\"Distribution of Diabetes Outcome\")\n",
    "plt.xlabel(\"Diabetes Status \\n (0 = Non-Diabetic, 1 = Diabetic)\")\n",
    "plt.ylabel(\"Count\")\n",
    "plt.show()"
   ]
  },
  {
   "cell_type": "markdown",
   "id": "8920ce41",
   "metadata": {},
   "source": [
    "**Interpretation**\n",
    "\n",
    "The dataset shows a **class imbalance** in the target variable (Outcome), with more individuals labeled as non-diabetic (Outcome = 0) compared to diabetic (Outcome = 1)."
   ]
  },
  {
   "cell_type": "markdown",
   "id": "04b143af",
   "metadata": {},
   "source": [
    "#### 4.1.3 Pregnancies and Diabetes Risk\n",
    "Effect of number of pregnancies on diabetes outcome."
   ]
  },
  {
   "cell_type": "markdown",
   "id": "e3bc0a49",
   "metadata": {},
   "source": [
    "##### 4.1.3.1 Distribution Plot (Histogram) for Pregnancies"
   ]
  },
  {
   "cell_type": "code",
   "execution_count": null,
   "id": "63fa7f3d",
   "metadata": {},
   "outputs": [],
   "source": [
    "# Histogram\n",
    "plt.figure(figsize=(8,5))\n",
    "sns.histplot(df_imputed['Pregnancies'], kde=True, bins=30)\n",
    "plt.title('Distribution of Pregnancies')\n",
    "plt.xlabel('Number of Pregnancies')\n",
    "plt.ylabel('Count of Individuals')\n",
    "plt.show()"
   ]
  },
  {
   "cell_type": "markdown",
   "id": "079fba4e",
   "metadata": {},
   "source": [
    "**Interpretation**\n",
    "\n",
    "This histogram on pregnancies show a right-skewed distribution, indicating most women have fewer pregnancies, with a few having many."
   ]
  },
  {
   "cell_type": "markdown",
   "id": "18178425",
   "metadata": {},
   "source": [
    "##### 4.1.3.2 Group Comparison Box Plot (Pregnancies vs Outcome)"
   ]
  },
  {
   "cell_type": "code",
   "execution_count": null,
   "id": "f1ef4772",
   "metadata": {},
   "outputs": [],
   "source": [
    "# Box Plot\n",
    "plt.figure(figsize=(8,5))\n",
    "sns.boxplot(x='Outcome', y='Pregnancies', data=df_imputed)\n",
    "plt.title('Pregnancies by Diabetes Outcome')\n",
    "plt.xlabel('Diabetes Outcome \\n (0 = Non-Diabetic, 1 = Diabetic)')\n",
    "plt.ylabel('Pregnancies')\n",
    "plt.show()"
   ]
  },
  {
   "cell_type": "markdown",
   "id": "9d122f92",
   "metadata": {},
   "source": [
    "**Interpretation**\n",
    "\n",
    "The box plot shows that individuals with diabetes tend to have a higher median number of pregnancies and a wider range of pregnancies compared to those without diabetes. The plot suggests a positive association between the number of pregnancies and diabetes, although there is variability within both groups."
   ]
  },
  {
   "cell_type": "markdown",
   "id": "ad916b68",
   "metadata": {},
   "source": [
    "#### 4.1.4 Glucose Level Distribution and Impact\n",
    "Glucose levels and their relationship with diabetes."
   ]
  },
  {
   "cell_type": "markdown",
   "id": "a7847c8b",
   "metadata": {},
   "source": [
    "##### 4.1.4.1 Distribution Plot (Histogram) for Glucose Levels"
   ]
  },
  {
   "cell_type": "code",
   "execution_count": null,
   "id": "d942bd34",
   "metadata": {
    "scrolled": true
   },
   "outputs": [],
   "source": [
    "# Histogram\n",
    "plt.figure(figsize=(8,5))\n",
    "sns.histplot(df_imputed['Glucose'], kde=True, bins=30)\n",
    "plt.title('Distribution of Glucose Levels')\n",
    "plt.xlabel('Glucose Level (mg/dL)')\n",
    "plt.ylabel('Count of Individuals')\n",
    "plt.show()"
   ]
  },
  {
   "cell_type": "markdown",
   "id": "4f52ba8c",
   "metadata": {},
   "source": [
    "**Interpretation**\n",
    "\n",
    "The histogram shows a roughly bell-shaped distribution of glucose levels, peaking around 100-120mg/dl, indicating that most individuals have glucose levels in this range. The distribution is slightly right-skewed, suggesting a higher frequency of individuals with elevated glucose levels."
   ]
  },
  {
   "cell_type": "markdown",
   "id": "b04c7b8b",
   "metadata": {},
   "source": [
    "##### 4.1.4.2 Group Comparison Box Plot (Glucose vs Outcome)"
   ]
  },
  {
   "cell_type": "code",
   "execution_count": null,
   "id": "41ebc7fa",
   "metadata": {},
   "outputs": [],
   "source": [
    "# Box Plot\n",
    "plt.figure(figsize=(8,5))\n",
    "sns.boxplot(x='Outcome', y='Glucose', data=df_imputed)\n",
    "plt.title('Glucose by Diabetes Outcome')\n",
    "plt.xlabel('Diabetes Outcome \\n (0= Non-Diabetic, 1= Diabetic)')\n",
    "plt.ylabel('Glucose (mg/dL)')\n",
    "plt.show()"
   ]
  },
  {
   "cell_type": "markdown",
   "id": "00541ffe",
   "metadata": {},
   "source": [
    "**Interpretation**\n",
    "\n",
    "The boxplot reveals a clear difference in glucose levels between people with and without diabetes, with those having diabetes exhibiting higher median glucose levels (around 140mg/dl) and a greater range of values. In contrast, people without diabetes have lower median glucose levels (around 110mg/dl) and a smaller interquartile range."
   ]
  },
  {
   "cell_type": "markdown",
   "id": "f0e83a7f",
   "metadata": {},
   "source": [
    "#### 4.1.5 Blood Pressure and Diabetes Association\n",
    "Blood pressure patterns and relationship with diabetes."
   ]
  },
  {
   "cell_type": "markdown",
   "id": "ed49ac0c",
   "metadata": {},
   "source": [
    "##### 4.1.5.1 Distribution Plot (Histogram) for Blood Pressure"
   ]
  },
  {
   "cell_type": "code",
   "execution_count": null,
   "id": "2c2d0c86",
   "metadata": {},
   "outputs": [],
   "source": [
    "# Histogram\n",
    "plt.figure(figsize=(8,5))\n",
    "sns.histplot(df_imputed['BloodPressure'], kde=True, bins=30)\n",
    "plt.title('Distribution of Blood Pressure')\n",
    "plt.xlabel('Blood Pressure (mmHg)')\n",
    "plt.ylabel('Count of Individuals')\n",
    "plt.show()"
   ]
  },
  {
   "cell_type": "markdown",
   "id": "0377121b",
   "metadata": {},
   "source": [
    "**Interpretation**\n",
    "\n",
    "The histogram shows a normal distribution of blood pressure readings, with the majority of values clustered around 60-80 mmHg and fewer readings at the extremes. The data follows a bell-shaped curve, indicating a typical Gaussian distribution of blood pressure values."
   ]
  },
  {
   "cell_type": "markdown",
   "id": "7e0e02ce",
   "metadata": {},
   "source": [
    "##### 4.1.5.2 Group Comparison Box Plot (Blood Pressure vs Outcome)"
   ]
  },
  {
   "cell_type": "code",
   "execution_count": null,
   "id": "41c63ea6",
   "metadata": {},
   "outputs": [],
   "source": [
    "# Box Plot\n",
    "plt.figure(figsize=(8,5))\n",
    "sns.boxplot(x='Outcome', y='BloodPressure', data=df_imputed)\n",
    "plt.title('Blood Pressure by Diabetes Outcome')\n",
    "plt.xlabel('Diabetes Outcome \\n (0= Non-Diabetic, 1=Diabetic)')\n",
    "plt.ylabel('Blood Pressure (mmHg)')\n",
    "plt.show()"
   ]
  },
  {
   "cell_type": "markdown",
   "id": "276f87db",
   "metadata": {},
   "source": [
    "**Interpretation**\n",
    "\n",
    "The box plot reveals that median blood pressure values for individuals with and without diabetes are relatively close, with a slight difference (around 75 mmHg for diabetics and 70 mmHg for non-diabetics). The interquartile ranges overlap significantly, suggesting a nuanced relationship between diabetes and blood pressure."
   ]
  },
  {
   "cell_type": "markdown",
   "id": "8a6b9363",
   "metadata": {},
   "source": [
    "#### 4.1.6 Skin Thickness and Diabetes\n",
    "Skin thickness measurements in diabetic vs. non-diabetic groups."
   ]
  },
  {
   "cell_type": "markdown",
   "id": "10174b40",
   "metadata": {},
   "source": [
    "##### 4.1.6.1 Distribution Plot (Histogram) for Skin Thickness"
   ]
  },
  {
   "cell_type": "code",
   "execution_count": null,
   "id": "b6b86770",
   "metadata": {},
   "outputs": [],
   "source": [
    "# Histogram\n",
    "plt.figure(figsize=(8,5))\n",
    "sns.histplot(df_imputed['SkinThickness'], kde=True, bins=30)\n",
    "plt.title('Distribution of Skin Thickness')\n",
    "plt.xlabel('Skin Thickness (mm)')\n",
    "plt.ylabel('Count of Individuals')\n",
    "plt.show()"
   ]
  },
  {
   "cell_type": "markdown",
   "id": "14698318",
   "metadata": {},
   "source": [
    "**Interpretation**\n",
    "\n",
    "The histogram shows a unimodal distribution of skin thickness, peaking around 30mm, with the majority of values falling between 15mm and 45mm. The distribution is right-skewed, indicating a higher frequency of individuals with lower skin thicknesses and fewer individuals with higher skin thicknesses."
   ]
  },
  {
   "cell_type": "markdown",
   "id": "5d7069e5",
   "metadata": {},
   "source": [
    "##### 4.1.6.2 Group Comparison Box Plot (Skin Thickness vs Outcome)"
   ]
  },
  {
   "cell_type": "code",
   "execution_count": null,
   "id": "4b052231",
   "metadata": {},
   "outputs": [],
   "source": [
    "# Box Plot\n",
    "plt.figure(figsize=(8,5))\n",
    "sns.boxplot(x='Outcome', y='SkinThickness', data=df_imputed)\n",
    "plt.title('Skin Thickness by Diabetes Outcome')\n",
    "plt.xlabel('Diabetes Outcome \\n (0 = Non-Diabetic, 1= Diabetic)')\n",
    "plt.ylabel('Skin Thickness (mm)')\n",
    "plt.show()"
   ]
  },
  {
   "cell_type": "markdown",
   "id": "7fe83d71",
   "metadata": {},
   "source": [
    "**Interpretation**\n",
    "\n",
    "The box plot shows that, on average, individuals with diabetes may have slightly thicker skin than those without diabetes. The difference in median values is relatively modest, suggesting weaker predictive power of skin thickness. However, there is variability within both groups, and the presence of outliers indicates that some individuals have skin thickness measurements that deviate significantly from the typical range.\n"
   ]
  },
  {
   "cell_type": "markdown",
   "id": "9d1fe2e1",
   "metadata": {},
   "source": [
    "#### 4.1.7 Insulin Levels and Impact on Diabetes"
   ]
  },
  {
   "cell_type": "markdown",
   "id": "3268b27d",
   "metadata": {},
   "source": [
    "##### 4.1.7.1 Distribution Plot (Histogram) for Insulin Levels"
   ]
  },
  {
   "cell_type": "code",
   "execution_count": null,
   "id": "2c37625f",
   "metadata": {},
   "outputs": [],
   "source": [
    "# Histogram\n",
    "plt.figure(figsize=(8,5))\n",
    "sns.histplot(df_imputed['Insulin'], kde=True, bins=30)\n",
    "plt.title('Distribution of Insulin Levels')\n",
    "plt.xlabel('Insulin Levels (µU/mL)')\n",
    "plt.ylabel('Count of Individuals')\n",
    "plt.show()"
   ]
  },
  {
   "cell_type": "markdown",
   "id": "8e5b1fda",
   "metadata": {},
   "source": [
    "**Interpretation**\n",
    "\n",
    "The histogram shows the distribution of insulin levels, with most individuals having levels around 100-150 µU/mL. The distribution is right-skewed, indicating a few individuals with significantly higher insulin levels, up to approximately 800 µU/mL."
   ]
  },
  {
   "cell_type": "markdown",
   "id": "66ad533d",
   "metadata": {},
   "source": [
    "##### 4.1.7.2 Group Comparison Box Plot (Insulin vs Outcome)"
   ]
  },
  {
   "cell_type": "code",
   "execution_count": null,
   "id": "0c7cab30",
   "metadata": {},
   "outputs": [],
   "source": [
    "# Box Plot\n",
    "plt.figure(figsize=(8,5))\n",
    "sns.boxplot(x='Outcome', y='Insulin', data=df_imputed)\n",
    "plt.title('Insulin by Diabetes Outcome')\n",
    "plt.xlabel('Diabetes Outcome \\n (0 = Non-Diabetic, 1 = Diabetic)')\n",
    "plt.ylabel('Insulin (µU/mL)')\n",
    "plt.show()"
   ]
  },
  {
   "cell_type": "markdown",
   "id": "0320e373",
   "metadata": {},
   "source": [
    "**Interpretation**\n",
    "\n",
    "The box plot analysis reveals that individuals with diabetes tend to have higher median insulin levels and a wider range of insulin levels compared to non-diabetic individuals. Both groups have outliers with significantly higher insulin levels, indicating variability within each group."
   ]
  },
  {
   "cell_type": "markdown",
   "id": "d19478b9",
   "metadata": {},
   "source": [
    "#### 4.1.8 Body Mass Index (BMI) and Diabetes\n",
    "BMI’s influence on diabetes risk."
   ]
  },
  {
   "cell_type": "markdown",
   "id": "3a0e849b",
   "metadata": {},
   "source": [
    "##### 4.1.8.1 Distribution Plot (Histogram) for BMI"
   ]
  },
  {
   "cell_type": "code",
   "execution_count": null,
   "id": "5d5aebb0",
   "metadata": {},
   "outputs": [],
   "source": [
    "# Histogram\n",
    "plt.figure(figsize=(8,5))\n",
    "sns.histplot(df_imputed['BMI'], kde=True, bins=30)\n",
    "plt.title('Distribution of BMI')\n",
    "plt.xlabel('BMI (kg/m²)')\n",
    "plt.ylabel('Count of Individuals')\n",
    "plt.show()"
   ]
  },
  {
   "cell_type": "markdown",
   "id": "aec75d29",
   "metadata": {},
   "source": [
    "**Interpretation**\n",
    "\n",
    "The BMI distribution is roughly normal with a slight right skew, peaking around 32kg/m². Most individuals have BMIs between 25kg/m² and 40kg/m², with a tail of higher BMIs indicating some individuals with significantly elevated BMIs."
   ]
  },
  {
   "cell_type": "markdown",
   "id": "921314d7",
   "metadata": {},
   "source": [
    "##### 4.1.8.2 Group Comparison Box Plot (BMI vs Outcome)"
   ]
  },
  {
   "cell_type": "code",
   "execution_count": null,
   "id": "c2a98fda",
   "metadata": {},
   "outputs": [],
   "source": [
    "# Box Plot\n",
    "plt.figure(figsize=(8,5))\n",
    "sns.boxplot(x='Outcome', y='BMI', data=df_imputed)\n",
    "plt.title('BMI by Diabetes Outcome')\n",
    "plt.xlabel('Diabetes Outcome \\n(0 = Non-Diabetic, 1 = Diabetic)')\n",
    "plt.ylabel('BMI (kg/m²)')\n",
    "plt.show()"
   ]
  },
  {
   "cell_type": "markdown",
   "id": "e5965ea7",
   "metadata": {},
   "source": [
    "**Interpretation**\n",
    "\n",
    "The boxplot analysis indicates a correlation between higher BMI and diabetes, with individuals with diabetes having a higher median BMI and a wider range of BMI values. However, the presence of outliers in both groups suggests that BMI is not the sole determining factor for diabetes."
   ]
  },
  {
   "cell_type": "markdown",
   "id": "3f218ac4",
   "metadata": {},
   "source": [
    "#### 4.1.9 Diabetes Pedigree Function (Genetic Risk)\n",
    "Genetic predisposition to diabetes through pedigree function."
   ]
  },
  {
   "cell_type": "markdown",
   "id": "00eade68",
   "metadata": {},
   "source": [
    "##### 4.1.9.1 Distribution Plot (Histogram) for Diabetes Pedigree Function"
   ]
  },
  {
   "cell_type": "code",
   "execution_count": null,
   "id": "d057b008",
   "metadata": {},
   "outputs": [],
   "source": [
    "# Histogram\n",
    "plt.figure(figsize=(8,5))\n",
    "sns.histplot(df_imputed['DiabetesPedigreeFunction'], kde=True, bins=30)\n",
    "plt.title('Distribution of Diabetes Pedigree Function')\n",
    "plt.xlabel('Diabetes Pedigree Function')\n",
    "plt.ylabel('Count of Individuals')\n",
    "plt.show()"
   ]
  },
  {
   "cell_type": "markdown",
   "id": "13f0f894",
   "metadata": {},
   "source": [
    "**Interpretation**\n",
    "\n",
    "The histogram shows a right-skewed distribution of Diabetes Pedigree Function values, peaking around 0.2 and decreasing as values increase, with a tail extending towards higher values up to 2.5. This suggests that most individuals have lower Diabetes Pedigree Function values, while a few have significantly higher values."
   ]
  },
  {
   "cell_type": "markdown",
   "id": "833e5306",
   "metadata": {},
   "source": [
    "##### 4.1.9.2 Group Comparison Box Plot (Diabetes Pedigree Function vs Outcome)"
   ]
  },
  {
   "cell_type": "code",
   "execution_count": null,
   "id": "f4efa371",
   "metadata": {},
   "outputs": [],
   "source": [
    "# Box Plot\n",
    "plt.figure(figsize=(8,5))\n",
    "sns.boxplot(x='Outcome', y='DiabetesPedigreeFunction', data=df_imputed)\n",
    "plt.title('Diabetes Pedigree Function by Diabetes Outcome')\n",
    "plt.xlabel('Diabetes Outcome \\n (0 = Non-Diabetic, 1 = Diabetic)')\n",
    "plt.ylabel('Diabetes Pedigree Function')\n",
    "plt.show()"
   ]
  },
  {
   "cell_type": "markdown",
   "id": "4fae470b",
   "metadata": {},
   "source": [
    "**Interpretation**\n",
    "\n",
    "The boxplot analysis reveals that individuals with diabetes tend to have a higher median Diabetes Pedigree Function (DPF) value and a wider range of DPF values compared to those without diabetes. The data suggests a positive association between DPF and diabetes likelihood, indicating that individuals with a stronger genetic predisposition are more likely to develop the disease."
   ]
  },
  {
   "cell_type": "markdown",
   "id": "8391d0ac",
   "metadata": {},
   "source": [
    "#### 4.1.10 Age Distribution and Diabetes Prevalence\n",
    "Age-related trends in diabetes occurrence."
   ]
  },
  {
   "cell_type": "markdown",
   "id": "bc00ae4a",
   "metadata": {},
   "source": [
    "##### 4.1.10.1 Distribution Plot (Histogram) for Age"
   ]
  },
  {
   "cell_type": "code",
   "execution_count": null,
   "id": "aabb3137",
   "metadata": {},
   "outputs": [],
   "source": [
    "# Histogram\n",
    "plt.figure(figsize=(8,5))\n",
    "sns.histplot(df_imputed['Age'], kde=True, bins=30)\n",
    "plt.title('Distribution of Age')\n",
    "plt.xlabel('Age (years)')\n",
    "plt.ylabel('Count of Individuals')\n",
    "plt.show()"
   ]
  },
  {
   "cell_type": "markdown",
   "id": "616e0d76",
   "metadata": {},
   "source": [
    "**Interpretation**\n",
    "\n",
    "The histogram shows a right-skewed distribution of age, with most individuals clustered between 20-30 years old. The count decreases as age increases, indicating fewer individuals in older age groups, with a peak around 20-25 years old."
   ]
  },
  {
   "cell_type": "markdown",
   "id": "53201b51",
   "metadata": {},
   "source": [
    "##### 4.1.10.2 Group Comparison Box Plot (Age vs Outcome)"
   ]
  },
  {
   "cell_type": "code",
   "execution_count": null,
   "id": "068961d6",
   "metadata": {},
   "outputs": [],
   "source": [
    "# Box Plot\n",
    "plt.figure(figsize=(8,5))\n",
    "sns.boxplot(x='Outcome', y='Age', data=df_imputed)\n",
    "plt.title('Age by Diabetes Outcome')\n",
    "plt.xlabel('Diabetes Outcome \\n (0 = Non-Diabetic, 1 = Diabetic)')\n",
    "plt.ylabel('Age (years)')\n",
    "plt.show()"
   ]
  },
  {
   "cell_type": "markdown",
   "id": "2899dbae",
   "metadata": {},
   "source": [
    "**Interpretation**\n",
    "\n",
    "The box plot analysis shows that individuals with diabetes tend to be older, with a higher median age and a wider age range compared to those without diabetes. Both groups have outliers, but the data suggests a general trend of older age being associated with diabetes."
   ]
  },
  {
   "cell_type": "markdown",
   "id": "11c490f5",
   "metadata": {},
   "source": [
    "#### 4.1.11 Correlation Matrix and Multicollinearity Check"
   ]
  },
  {
   "cell_type": "markdown",
   "id": "b03599ef",
   "metadata": {},
   "source": [
    "##### 4.1.11.1 Correlation Matrix demonstrated using Heatmap"
   ]
  },
  {
   "cell_type": "code",
   "execution_count": null,
   "id": "ec91a843",
   "metadata": {},
   "outputs": [],
   "source": [
    "# Select numeric columns\n",
    "columns = ['Pregnancies', 'Glucose', 'BloodPressure', 'BMI', 'Age',\n",
    "           'Insulin', 'SkinThickness', 'DiabetesPedigreeFunction', 'Outcome']\n",
    "\n",
    "# Compute Spearman correlation matrix\n",
    "corr_matrix = df_imputed[columns].corr(method='spearman')\n",
    "\n",
    "# Create the heatmap\n",
    "plt.figure(figsize=(10, 8))\n",
    "sns.heatmap(corr_matrix, annot=True, cmap='coolwarm', center=0, linewidths=0.5)\n",
    "plt.title('Correlation Heatmap of Diabetes Dataset')\n",
    "plt.show()\n"
   ]
  },
  {
   "cell_type": "markdown",
   "id": "90bf99c7",
   "metadata": {},
   "source": [
    "**Intepretation**\n",
    "\n",
    "The strongest positive correlation is between glucose and insulin levels.\n",
    "\n",
    "Glucose has the strongest positive correlation with Outcome.\n",
    "\n",
    "BMI and SkinThickness correlation indicate a strong positive linear relationship.\n",
    "\n",
    "Pregnancies and Age correlation indicates a moderate to strong postive linear relationship.\n",
    "\n",
    "DPF may show weak-to-moderate correlation but still contributes."
   ]
  },
  {
   "cell_type": "markdown",
   "id": "da916038",
   "metadata": {},
   "source": [
    "##### 4.1.11.2 Multicollinearity Check using Variance Inflation Factor (VIF)\n",
    "VIF does quantitative measure of multicollinearity"
   ]
  },
  {
   "cell_type": "code",
   "execution_count": null,
   "id": "bbedb3aa",
   "metadata": {},
   "outputs": [],
   "source": [
    "features = ['Pregnancies', 'Glucose', 'BloodPressure', 'BMI', 'Age', 'Insulin', 'SkinThickness', 'DiabetesPedigreeFunction']\n",
    "\n",
    "X = df_imputed[features]\n",
    "X_const = sm.add_constant(X)\n",
    "\n",
    "vif_data = pd.DataFrame()\n",
    "vif_data['Feature'] = X.columns\n",
    "vif_data['VIF'] = [variance_inflation_factor(X_const.values, i+1) for i in range(len(X.columns))]\n",
    "\n",
    "vif_data"
   ]
  },
  {
   "cell_type": "markdown",
   "id": "c4f62c08",
   "metadata": {},
   "source": [
    "**Interpretation**\n",
    "\n",
    "All VIF values are well below 5, which is commonly used as a threshold for concern.\n",
    "\n",
    "This means multicollinearity is not a concern in this dataset.\n",
    "\n",
    "All features can be safely kept in the classification model to be built without worrying about multicollinearity inflating variances."
   ]
  },
  {
   "cell_type": "markdown",
   "id": "6438bd39",
   "metadata": {},
   "source": [
    "#### 4.1.12 Key Findings from EDA"
   ]
  },
  {
   "cell_type": "markdown",
   "id": "20c3a225",
   "metadata": {},
   "source": [
    "##### 1. Glucose\n",
    "Patients with diabetes have **significantly higher glucose levels**, as shown by histograms and boxplots.\n",
    "Glucose also shows one of the **strongest positive correlations with the Outcome variable**. Higher glucose levels are **strongly associated** with diabetic cases. It is a **key predictor of diabetes risk** and should be prioritized in model development.\n",
    "##### 2. BMI (Body Mass Index)\n",
    "Diabetic patients tend to have a **higher BMI distribution** compared to non-diabetics. Boxplots indicate a clear upward shift in BMI for the diabetic group. This supports the established medical link between **obesity and diabetes**. Higher BMI correlates with increased diabetes risk, as obesity is a **known contributor** to insulin resistance.\n",
    "##### 3. Insulin\n",
    "The insulin levels of diabetics are **more varied and generally higher**.\n",
    "Some imputed values exist, but the trend remains visible.\n",
    "Though slightly less correlated to the outcome variable than glucose or BMI, insulin still adds **predictive value**.\n",
    "##### 4. Age\n",
    "The average age of diabetic patients is higher, and age has a **moderate correlation** with the diabetes outcome.\n",
    "This implies that **increasing age is associated with increased risk**. Older age groups show higher diabetes incidence, likely due to cumulative metabolic stress and declining insulin sensitivity.\n",
    "##### 5. Diabetes Pedigree Function (DPF)\n",
    "Diabetics exhibit **higher DPF values**.\n",
    "While its correlation with Outcome is weaker than glucose or BMI, it still contributes to **risk profiling based on family history**, highlighting the role of heredity.\n",
    "##### 6. Pregnancies\n",
    "The variable is skewed, with a long tail, but still shows potential as a **contributing feature**, especially in this female-only dataset. Higher pregnancy counts correlate with increased diabetes risk, potentially due to gestational diabetes history or metabolic changes post-pregnancy.\n",
    "##### 7. Skin Thickness & Blood Pressure\n",
    "These features showed **less distinct separation** between diabetic and non-diabetic groups in boxplots.\n",
    "They may carry **limited individual predictive power**, but could still add value in combination with stronger predictors.\n",
    "**Higher skinfold thickness** (a proxy for body fat) correlates with **insulin resistance** and **diabetes risk**.\n",
    "##### 8. Correlation of Insulin and Glucose\n",
    "There is a **strong positive correlation** between glucose and insulin levels. Correlation heatmap shows that as glucose levels increase, insulin levels tend to increase as well. This relationship is expected, as insulin is the hormone responsible for lowering blood glucose, and higher glucose often triggers higher insulin production (unless insulin resistance or deficiency is present).\n",
    "##### 9. Correlation between BMI and Skin Thickness\n",
    "There is a **strong positive linear relationship** between BMI and skin thickness. This suggests that individuals with **higher BMI** tend to have **thicker skinfolds**, which aligns with the fact that both are **indicators of body fat**. Both BMI and SkinThickness are **biologically relevant** to **diabetes risk** (they relate to body fat and insulin resistance), so including them can improve model accuracy.\n",
    "##### 10. Correlation between Pregnancies and Age\n",
    "There is a **moderate to strong positive linear relationship** between age and the number of pregnancies. Older individuals tend to report more pregnancies, which is logically expected due to increased reproductive time. Both features are **logically linked to diabetes risk** — age is a major risk factor, and number of pregnancies (especially gestational diabetes) is also relevant.\n",
    "##### 11. Multicollinearity (VIF Analysis)\n",
    "All features had **VIF < 5**, indicating **no problematic multicollinearity**.\n",
    "This means the features are not redundant and can be **safely included together** in the model.\n",
    "##### 12. Outcome\n",
    "There is **class imbalance**. The dataset is skewed: 500 non-diabetic (Class 0) vs. 268 diabetic (Class 1) cases. This imbalance may affect model accuracy if unaddressed."
   ]
  },
  {
   "cell_type": "markdown",
   "id": "e3ffb748",
   "metadata": {},
   "source": [
    "### 4.2 Descriptive Statistics <a id=\"42-descriptive-statistics\"></a>"
   ]
  },
  {
   "cell_type": "markdown",
   "id": "bb6ed258",
   "metadata": {},
   "source": [
    "#### 4.2.1 Overall Descriptive Analysis"
   ]
  },
  {
   "cell_type": "code",
   "execution_count": null,
   "id": "895edf73",
   "metadata": {},
   "outputs": [],
   "source": [
    "features = [\"Pregnancies\", \"BloodPressure\", \"SkinThickness\", \n",
    "            \"Glucose\", \"Insulin\", \"BMI\", \"DiabetesPedigreeFunction\", \"Age\"]\n",
    "\n",
    "# Get the descriptive stats\n",
    "combined_desc = df_imputed[features].describe().round(2).T\n",
    "\n",
    "# Reset the index to turn the index into a column\n",
    "combined_desc = combined_desc.reset_index()\n",
    "\n",
    "# Rename the new column to 'Feature'\n",
    "combined_desc.columns.values[0] = 'Feature'  \n",
    "\n",
    "# Display the table\n",
    "print(\"\\nOverall Descriptive Analysis:\")\n",
    "combined_desc"
   ]
  },
  {
   "cell_type": "markdown",
   "id": "b856b9d9",
   "metadata": {},
   "source": [
    "#### 4.2.2 Descriptive Analysis based on Diabetic Status"
   ]
  },
  {
   "cell_type": "code",
   "execution_count": null,
   "id": "b072b783",
   "metadata": {},
   "outputs": [],
   "source": [
    "# Define the features to analyze\n",
    "features = [\"Pregnancies\", \"BloodPressure\", \"SkinThickness\", \n",
    "            \"Glucose\", \"Insulin\", \"BMI\", \"DiabetesPedigreeFunction\", \"Age\"]\n",
    "\n",
    "# Compute grouped descriptive statistics by Outcome\n",
    "grouped_desc = df_imputed.groupby(\"Outcome\")[features].describe().round(2)\n",
    "\n",
    "# For Non-Diabetics (Outcome = 0)\n",
    "non_diabetic_desc = grouped_desc.loc[0].T.reset_index()\n",
    "non_diabetic_desc.columns = ['Feature', 'Statistic', 'Value']\n",
    "non_diabetic_table = non_diabetic_desc.pivot(index='Feature', columns='Statistic', values='Value').reset_index()\n",
    "non_diabetic_table = non_diabetic_table.round(2)\n",
    "\n",
    "# For Diabetics (Outcome = 1)\n",
    "diabetic_desc = grouped_desc.loc[1].T.reset_index()\n",
    "diabetic_desc.columns = ['Feature', 'Statistic', 'Value']\n",
    "diabetic_table = diabetic_desc.pivot(index='Feature', columns='Statistic', values='Value').reset_index()\n",
    "diabetic_table = diabetic_table.round(2)"
   ]
  },
  {
   "cell_type": "code",
   "execution_count": null,
   "id": "a252c321",
   "metadata": {},
   "outputs": [],
   "source": [
    "# Print table for Diabetics\n",
    "print(\"\\nDescriptive Statistics for Diabetics:\")\n",
    "diabetic_table"
   ]
  },
  {
   "cell_type": "code",
   "execution_count": null,
   "id": "5a7219f5",
   "metadata": {},
   "outputs": [],
   "source": [
    "# Print table for Diabetics\n",
    "print(\"Descriptive Statistics for Non-Diabetics:\")\n",
    "non_diabetic_table"
   ]
  },
  {
   "cell_type": "markdown",
   "id": "19a8611b",
   "metadata": {},
   "source": [
    "#### 4.2.3 Save Descriptive Statistics into Excel Workbook"
   ]
  },
  {
   "cell_type": "code",
   "execution_count": null,
   "id": "fd29409e",
   "metadata": {},
   "outputs": [],
   "source": [
    "with pd.ExcelWriter(\"diabetes_descriptive_stats.xlsx\") as writer:\n",
    "    combined_desc.to_excel(writer, sheet_name=\"Overall Descriptive Analysis\", index=False)\n",
    "    non_diabetic_table.to_excel(writer, sheet_name=\"Non-Diabetics\", index=False)\n",
    "    diabetic_table.to_excel(writer, sheet_name=\"Diabetics\", index=False)\n",
    "\n",
    "print(\"Dataset saved as 'diabetes_descriptive_stats.xlsx'\")"
   ]
  },
  {
   "cell_type": "markdown",
   "id": "a6f27f37",
   "metadata": {},
   "source": [
    "#### 4.2.4 Key Findings from Descriptive Statistics"
   ]
  },
  {
   "cell_type": "markdown",
   "id": "07cd07b5",
   "metadata": {},
   "source": [
    "##### 1. Glucose Levels\n",
    "Diabetic patients have a **significantly higher mean glucose** (approx. 141 mg/dL) than non-diabetics (approx. 110 mg/dL).\n",
    "This confirms that **glucose is a strong predictor** of diabetes.\n",
    "##### 2. Insulin Levels\n",
    "Though there are missing/imputed values, the **mean insulin** level is higher in diabetics.\n",
    "There's also **greater variance** in insulin values among diabetics, suggesting that abnormal insulin response is a factor.\n",
    "##### 3. BMI (Body Mass Index)\n",
    "Diabetics tend to have **higher average BMI** than non-diabetics.\n",
    "This supports the known link between obesity and diabetes risk.\n",
    "##### 4. Age\n",
    "The average age of diabetics is **significantly higher** than non-diabetics.\n",
    "This indicates increasing age is associated with greater diabetes risk.\n",
    "##### 5. Diabetes Pedigree Function (DPF)\n",
    "Diabetics show a **higher average DPF**, suggesting **family history is also a contributing factor**.\n",
    "##### 6. Other Features (like Pregnancies, Blood Pressure, Skin Thickness)\n",
    "Some differences exist but are **less distinct** than glucose or BMI.\n",
    "They may contribute moderately to prediction but likely **less influential individually**."
   ]
  },
  {
   "cell_type": "markdown",
   "id": "c80f7141",
   "metadata": {},
   "source": [
    "### 4.3 Inferential Statistics <a id=\"43-inferential-statistics\"></a>"
   ]
  },
  {
   "cell_type": "markdown",
   "id": "990ce64a",
   "metadata": {},
   "source": [
    "#### 4.3.1 Grouping Pregnancy and Age columns"
   ]
  },
  {
   "cell_type": "code",
   "execution_count": null,
   "id": "5e68e0e2",
   "metadata": {},
   "outputs": [],
   "source": [
    "# Group Age into categories\n",
    "def age_group(age):\n",
    "    if age < 30:\n",
    "        return \"Young\"\n",
    "    elif 30 <= age <= 50:\n",
    "        return \"Middle-aged\"\n",
    "    else:\n",
    "        return \"Old\"\n",
    "df_imputed['AgeGroup'] = df_imputed['Age'].apply(age_group)\n",
    "\n",
    "# Group Pregnancies into categories\n",
    "def pregnancy_group(preg):\n",
    "    if preg == 0:\n",
    "        return \"None\"\n",
    "    elif preg == 1:\n",
    "        return \"Low\"\n",
    "    elif 2<= preg <= 4:\n",
    "        return \"Medium\"\n",
    "    else:\n",
    "        return \"High\"\n",
    "\n",
    "df_imputed['PregnancyGroup'] = df_imputed['Pregnancies'].apply(pregnancy_group)\n",
    "\n",
    "df_imputed[['Pregnancies', 'PregnancyGroup', 'Age', 'AgeGroup']].head()"
   ]
  },
  {
   "cell_type": "markdown",
   "id": "bb8695bb",
   "metadata": {},
   "source": [
    "#### 4.3.2 Hypothesis Testing"
   ]
  },
  {
   "cell_type": "markdown",
   "id": "1ccfc325",
   "metadata": {},
   "source": [
    "##### 4.3.2.1 Mean Glucose (Diabetic vs Non-Diabetic)"
   ]
  },
  {
   "cell_type": "markdown",
   "id": "96f64450",
   "metadata": {},
   "source": [
    "The goal is to compare the glucose mean across the 2 groups (diabetic and non-diabetic) and see if there's a difference\n",
    "\n",
    "null hypothesis: There is no significant difference in the glucose mean across the 2 groups.\n",
    "\n",
    "alternative hypothesis: There is a significant difference in the glucose mean across the 2 groups\n",
    "\n",
    "Decision rule: Reject null hypothesis if p-value is lesser than the significant level."
   ]
  },
  {
   "cell_type": "code",
   "execution_count": null,
   "id": "8237c225",
   "metadata": {},
   "outputs": [],
   "source": [
    "# At 95% level of significance\n",
    "glucose1 = df_imputed[df_imputed['Outcome'] == 1]['Glucose']\n",
    "glucose2 = df_imputed[df_imputed['Outcome'] == 0]['Glucose']\n",
    "\n",
    "# Using t-test because it's between 2 groups\n",
    "t_stat_glucose, p_val_glucose = ttest_ind(glucose1, glucose2)\n",
    "print(f\"The T-test result for glucose includes: t-statistic= {t_stat_glucose} and the p-value= {p_val_glucose}.\")\n",
    "\n",
    "if p_val_glucose < 0.05: # level of significance\n",
    "    print(\"Reject the null hypothesis. \\nThere is a significant difference in the glucose mean across the 2 groups\")\n",
    "else:\n",
    "    print(\"Fail to reject the null hypothesis. \\nThere is no significant difference in the glucose mean across the 2 groups\")"
   ]
  },
  {
   "cell_type": "markdown",
   "id": "24af6be7",
   "metadata": {},
   "source": [
    "##### 4.3.2.2 Mean Insulin (Diabetic vs Non-Diabetic)\n"
   ]
  },
  {
   "cell_type": "markdown",
   "id": "36d19d90",
   "metadata": {},
   "source": [
    "The goal is to compare the insulin mean across the 2 groups (diabetic and non-diabetic) and see if there's a difference\n",
    "\n",
    "null hypothesis: There is no significant difference in the insulin mean across the 2 groups.\n",
    "\n",
    "alternative hypothesis: There is a significant difference in the insulin mean across the 2 groups\n",
    "\n",
    "Decision rule: Reject null hypothesis if p-value is lesser than the significant level."
   ]
  },
  {
   "cell_type": "code",
   "execution_count": null,
   "id": "6d8d9255",
   "metadata": {},
   "outputs": [],
   "source": [
    "# At 95% level of significance\n",
    "insulin1 = df_imputed[df_imputed['Outcome'] == 1]['Insulin']\n",
    "insulin2 = df_imputed[df_imputed['Outcome'] == 0]['Insulin']\n",
    "\n",
    "# Using t-test because it's between 2 groups\n",
    "t_stat_insulin, p_val_insulin = ttest_ind(insulin1, insulin2)\n",
    "print(f\"The T-test result for insulin includes: t-statistic= {t_stat_insulin} and the p-value= {p_val_insulin}.\")\n",
    "\n",
    "if p_val_insulin < 0.05: # level of significance\n",
    "    print(\"Reject the null hypothesis. \\nThere is a significant difference in the insulin mean across the 2 groups\")\n",
    "else:\n",
    "    print(\"Fail to reject the null hypothesis. \\nThere is no significant difference in the insulin mean across the 2 groups\")"
   ]
  },
  {
   "cell_type": "markdown",
   "id": "17a832ef",
   "metadata": {},
   "source": [
    "##### 4.3.2.3 Mean BloodPressure (Diabetic vs Non-Diabetic)"
   ]
  },
  {
   "cell_type": "markdown",
   "id": "1904e5fb",
   "metadata": {},
   "source": [
    "The goal is to compare the bloodpressure mean across the 2 groups (diabetic and non-diabetic) and see if there's a difference\n",
    "\n",
    "null hypothesis: There is no significant difference in the bloodpressure mean across the 2 groups.\n",
    "\n",
    "alternative hypothesis: There is a significant difference in the bloodpressure mean across the 2 groups\n",
    "\n",
    "Decision rule: Reject null hypothesis if p-value is lesser than the significant level."
   ]
  },
  {
   "cell_type": "code",
   "execution_count": null,
   "id": "28592df8",
   "metadata": {},
   "outputs": [],
   "source": [
    "# At 95% level of significance\n",
    "bp1 = df_imputed[df_imputed['Outcome'] == 1]['BloodPressure']\n",
    "bp2 = df_imputed[df_imputed['Outcome'] == 0]['BloodPressure']\n",
    "\n",
    "# Using t-test because it's between 2 groups\n",
    "t_stat_bp, p_val_bp = ttest_ind(bp1, bp2)\n",
    "print(f\"The T-test result for bloodpressure includes: t-statistic= {t_stat_bp} and the p-value= {p_val_bp}.\")\n",
    "\n",
    "if p_val_bp < 0.05: # level of significance\n",
    "    print(\"Reject the null hypothesis. \\nThere is a significant difference in the bloodpressure mean across the 2 groups\")\n",
    "else:\n",
    "    print(\"Fail to reject the null hypothesis. \\nThere is no significant difference in the bloodpressure mean across the 2 groups\")"
   ]
  },
  {
   "cell_type": "markdown",
   "id": "b703850b",
   "metadata": {},
   "source": [
    "##### 4.3.2.4 Mean DiabetesPedigreeFunction (Diabetic vs Non-Diabetic)"
   ]
  },
  {
   "cell_type": "markdown",
   "id": "cb3ff8be",
   "metadata": {},
   "source": [
    "The goal is to compare the DiabetesPedigreeFunction mean across the 2 groups (diabetic and non-diabetic) and see if there's a difference\n",
    "\n",
    "null hypothesis: There is no significant difference in the DiabetesPedigreeFunction mean across the 2 groups.\n",
    "\n",
    "alternative hypothesis: There is a significant difference in the DiabetesPedigreeFunction mean across the 2 groups\n",
    "\n",
    "Decision rule: Reject null hypothesis if p-value is lesser than the significant level."
   ]
  },
  {
   "cell_type": "code",
   "execution_count": null,
   "id": "83afdc71",
   "metadata": {},
   "outputs": [],
   "source": [
    "# At 95% level of significance\n",
    "DPF1 = df_imputed[df_imputed['Outcome'] == 1]['DiabetesPedigreeFunction']\n",
    "DPF2 = df_imputed[df_imputed['Outcome'] == 0]['DiabetesPedigreeFunction']\n",
    "\n",
    "# Using t-test because it's between 2 groups\n",
    "t_stat_DPF, p_val_DPF = ttest_ind(DPF1, DPF2)\n",
    "print(f\"The T-test result for DiabetesPedigreeFunction includes: t-statistic= {t_stat_DPF} and the p-value= {p_val_DPF}.\")\n",
    "\n",
    "if p_val_DPF < 0.05: # level of significance\n",
    "    print(\"Reject the null hypothesis. \\nThere is a significant difference in the DiabetesPedigreeFunction mean across the 2 groups\")\n",
    "else:\n",
    "    print(\"Fail to reject the null hypothesis. \\nThere is no significant difference in the DiabetesPedigreeFunction mean across the 2 groups\")"
   ]
  },
  {
   "cell_type": "markdown",
   "id": "95daffee",
   "metadata": {},
   "source": [
    "##### 4.3.2.5 Mean BMI across age groups"
   ]
  },
  {
   "cell_type": "markdown",
   "id": "043cd3c4",
   "metadata": {},
   "source": [
    "The goal is to see if the BMI mean across the different age groups(Youth-Old) differ.\n",
    "\n",
    "null hypothesis: BMI mean is equal across age groups\n",
    "\n",
    "alternative hypothesis: At least one age group has a BMI mean different from the others.\n",
    "\n",
    "Decision rule: Reject null hypothesis if p-value is lesser than the significant level."
   ]
  },
  {
   "cell_type": "code",
   "execution_count": null,
   "id": "5cc99745",
   "metadata": {},
   "outputs": [],
   "source": [
    "# At 95% significant level\n",
    "BMI_young = df_imputed[df_imputed['AgeGroup'] == 'Young']['BMI']\n",
    "BMI_middle_aged = df_imputed[df_imputed['AgeGroup'] == 'Middle-aged']['BMI']\n",
    "BMI_old = df_imputed[df_imputed['AgeGroup'] == 'Old']['BMI']\n",
    "\n",
    "# Using ANOVA because the groups are more than 2\n",
    "f_stat_BMI, p_val_BMI = f_oneway(BMI_young, BMI_middle_aged, BMI_old)\n",
    "print(f\"ANOVA result for BMI: F-statistic= {f_stat_BMI} and p-value= {p_val_BMI}\")\n",
    "\n",
    "if p_val_BMI < 0.05: # level of significance\n",
    "    print(\"Reject the null hypothesis. \\nAt least one age group BMI mean differs from the others\")\n",
    "else:\n",
    "    print(\"Fail to reject the null hypothesis. \\nBMI mean is not equal across the age groups\")"
   ]
  },
  {
   "cell_type": "markdown",
   "id": "b2b9ac4d",
   "metadata": {},
   "source": [
    "##### 4.3.2.6 Mean BloodPressure across age groups"
   ]
  },
  {
   "cell_type": "markdown",
   "id": "02654f91",
   "metadata": {},
   "source": [
    "The goal is to see if the mean bloodpressure across the different age groups(Youth-Old) are differ.\n",
    "\n",
    "null hypothesis: Bloodpressure mean is equal across age groups\n",
    "\n",
    "alternative hypothesis: At least one age group has a BloodPressure mean different from the others.\n",
    "\n",
    "Decision rule: Reject null hypothesis if p-value is lesser than the significant level."
   ]
  },
  {
   "cell_type": "code",
   "execution_count": null,
   "id": "581db8bc",
   "metadata": {},
   "outputs": [],
   "source": [
    "# At 95% significant level\n",
    "bp_young = df_imputed[df_imputed['AgeGroup'] == 'Young']['BloodPressure']\n",
    "bp_middle_aged = df_imputed[df_imputed['AgeGroup'] == 'Middle-aged']['BloodPressure']\n",
    "bp_old = df_imputed[df_imputed['AgeGroup'] == 'Old']['BloodPressure']\n",
    "\n",
    "# Using ANOVA because the groups are more than 2\n",
    "f_stat_BP, p_val_BP = f_oneway(bp_young, bp_middle_aged, bp_old)\n",
    "print(f\"ANOVA result for BloodPressure: F-statistic= {f_stat_BP} and p-value= {p_val_BP}\")\n",
    "\n",
    "if p_val_BP < 0.05: # level of significance\n",
    "    print(\"Reject the null hypothesis. \\nAt least one age group BloodPressure mean differs from the others\")\n",
    "else:\n",
    "    print(\"Fail to reject the null hypothesis. \\nBloodPressure mean is not equal across the age groups\")"
   ]
  },
  {
   "cell_type": "markdown",
   "id": "7eba5efe",
   "metadata": {},
   "source": [
    "##### 4.3.2.7 Mean SkinThickness across pregnancy groups"
   ]
  },
  {
   "cell_type": "markdown",
   "id": "0fe9775b",
   "metadata": {},
   "source": [
    "The goal is to see if the mean skinthickness across the different pregnancy groups(none-high) are equal.\n",
    "\n",
    "null hypothesis: Skinthickness mean is equal across pregnancy groups\n",
    "\n",
    "alternative hypothesis: At least one pregnancy group has a SkinThickness mean different from the others.\n",
    "\n",
    "Decision rule: Reject null hypothesis if p-value is lesser than the significant level."
   ]
  },
  {
   "cell_type": "code",
   "execution_count": null,
   "id": "dd00ce07",
   "metadata": {},
   "outputs": [],
   "source": [
    "# At 95% significant level\n",
    "skinthickness_none = df_imputed[df_imputed['PregnancyGroup'] == 'None']['SkinThickness']\n",
    "skinthickness_low = df_imputed[df_imputed['PregnancyGroup'] == 'Low']['SkinThickness']\n",
    "skinthickness_medium = df_imputed[df_imputed['PregnancyGroup'] == 'Medium']['SkinThickness']\n",
    "skinthickness_high = df_imputed[df_imputed['PregnancyGroup'] == 'High']['SkinThickness']\n",
    "\n",
    "# Using ANOVA because the groups are more than 2\n",
    "f_stat_skinThi, p_val_skinThi = f_oneway(skinthickness_none, skinthickness_low, skinthickness_medium, skinthickness_high)\n",
    "print(f\"ANOVA result for SkinThickness: F-statistic= {f_stat_skinThi} and p-value= {p_val_skinThi}\")\n",
    "\n",
    "if p_val_skinThi < 0.05: # level of significance\n",
    "    print(\"Reject the null hypothesis. \\nAt least one pregnancy group SkinThickness mean differs from the others\")\n",
    "else:\n",
    "    print(\"Fail to reject the null hypothesis. \\nSkinThickness mean is not equal across the pregnancy groups\")"
   ]
  },
  {
   "cell_type": "markdown",
   "id": "de29802f",
   "metadata": {},
   "source": [
    "##### 4.3.2.8 Mean Glucose across pregnancy groups"
   ]
  },
  {
   "cell_type": "markdown",
   "id": "046bd42f",
   "metadata": {},
   "source": [
    "The goal is to see if the mean glucose across the different pregnancy groups(none-high) are equal.\n",
    "\n",
    "null hypothesis: Glucose mean is equal across pregnancy groups\n",
    "\n",
    "alternative hypothesis: At least one pregnancy group has a Glucose mean different from the others.\n",
    "\n",
    "Decision rule: Reject null hypothesis if p-value is lesser than the significant level."
   ]
  },
  {
   "cell_type": "code",
   "execution_count": null,
   "id": "839ab0d9",
   "metadata": {},
   "outputs": [],
   "source": [
    "# At 95% significant level\n",
    "glucose_none = df_imputed[df_imputed['PregnancyGroup'] == 'None']['Glucose']\n",
    "glucose_low = df_imputed[df_imputed['PregnancyGroup'] == 'Low']['Glucose']\n",
    "glucose_medium = df_imputed[df_imputed['PregnancyGroup'] == 'Medium']['Glucose']\n",
    "glucose_high = df_imputed[df_imputed['PregnancyGroup'] == 'High']['Glucose']\n",
    "\n",
    "# Using ANOVA because the groups are more than 2\n",
    "f_stat_gluc, p_val_gluc = f_oneway(glucose_none, glucose_low, glucose_medium, glucose_high)\n",
    "print(f\"ANOVA result for Glucose: F-statistic= {f_stat_gluc} and p-value= {p_val_gluc}\")\n",
    "\n",
    "if p_val_gluc < 0.05: # level of significance\n",
    "    print(\"Reject the null hypothesis. \\nAt least one pregnancy group Glucose mean differs from the others\")\n",
    "else:\n",
    "    print(\"Fail to reject the null hypothesis. \\nGlucose mean is not equal across the pregnancy groups\")"
   ]
  },
  {
   "cell_type": "markdown",
   "id": "e8bd0890",
   "metadata": {},
   "source": [
    "##### 4.3.2.9 Mean BloodPressure across pregnancy groups"
   ]
  },
  {
   "cell_type": "markdown",
   "id": "f41056ae",
   "metadata": {},
   "source": [
    "The goal is to see if the mean bloodpressure across the different pregnancy groups(none-high) are equal.\n",
    "\n",
    "null hypothesis: BloodPressure mean is equal across pregnancy groups\n",
    "\n",
    "alternative hypothesis: At least one pregnancy group has a BloodPressure mean different from the others.\n",
    "\n",
    "Decision rule: Reject null hypothesis if p-value is lesser than the significant level."
   ]
  },
  {
   "cell_type": "code",
   "execution_count": null,
   "id": "a11b1184",
   "metadata": {},
   "outputs": [],
   "source": [
    "# At 95% significant level\n",
    "BP_none = df_imputed[df_imputed['PregnancyGroup'] == 'None']['BloodPressure']\n",
    "BP_low = df_imputed[df_imputed['PregnancyGroup'] == 'Low']['BloodPressure']\n",
    "BP_medium = df_imputed[df_imputed['PregnancyGroup'] == 'Medium']['BloodPressure']\n",
    "BP_high = df_imputed[df_imputed['PregnancyGroup'] == 'High']['BloodPressure']\n",
    "\n",
    "# Using ANOVA because the groups are more than 2\n",
    "f_stat_bloodP, p_val_bloodP = f_oneway(BP_none, BP_low, BP_medium, BP_high)\n",
    "print(f\"ANOVA result for BloodPressure: F-statistic= {f_stat_bloodP} and p-value= {p_val_bloodP}\")\n",
    "\n",
    "if p_val_gluc < 0.05: # level of significance\n",
    "    print(\"Reject the null hypothesis. \\nAt least one pregnancy group BloodPressure mean differs from the others\")\n",
    "else:\n",
    "    print(\"Fail to reject the null hypothesis. \\nBloodPressure mean is not equal across the pregnancy groups\")"
   ]
  },
  {
   "cell_type": "markdown",
   "id": "fa9b344a",
   "metadata": {},
   "source": [
    "#### 4.3.3 Test of Independence"
   ]
  },
  {
   "cell_type": "markdown",
   "id": "c978e3ee",
   "metadata": {},
   "source": [
    "##### 4.3.3.1 AgeGroup and Outcome"
   ]
  },
  {
   "cell_type": "markdown",
   "id": "06c6eaa6",
   "metadata": {},
   "source": [
    "The goal is to test if the 2 categorical variables are independent.\n",
    "\n",
    "null hypothesis: AgeGroup and Outcome are independent\n",
    "\n",
    "alternative hypothesis: AgeGroup and Outcome are dependent\n",
    "\n",
    "Decision rule: Reject null hypothesis if p-value is lesser than the significant level."
   ]
  },
  {
   "cell_type": "code",
   "execution_count": null,
   "id": "2b2517a0",
   "metadata": {},
   "outputs": [],
   "source": [
    "# Cross-tab for AgeGroup vs Outcome\n",
    "contingency_ageGroup = pd.crosstab(df_imputed['AgeGroup'], df_imputed['Outcome'])\n",
    "\n",
    "# At 95% level of confidence\n",
    "chi2_age, p_age, dof_age, expected_age = chi2_contingency(contingency_ageGroup)\n",
    "print(\"Chi-square test result:\", chi2_age, p_age)\n",
    "\n",
    "if p_age < 0.05: # level of significance\n",
    "    print(\"Reject the null hypothesis. \\nAgeGroup and Outcome are dependent\")\n",
    "else:\n",
    "    print(\"Fail to reject the null hypothesis. \\nAgeGroup and Outcome are independent\")"
   ]
  },
  {
   "cell_type": "markdown",
   "id": "423058e9",
   "metadata": {},
   "source": [
    "##### 4.3.3.2 PregnancyGroup and Outcome"
   ]
  },
  {
   "cell_type": "markdown",
   "id": "4a61ca7f",
   "metadata": {},
   "source": [
    "The goal is to test if the 2 categorical variables are independent.\n",
    "\n",
    "null hypothesis: PregnancyGroup and Outcome are independent\n",
    "\n",
    "alternative hypothesis: PregnancyGroup and Outcome are dependent\n",
    "\n",
    "Decision rule: Reject null hypothesis if p-value is lesser than the significant level."
   ]
  },
  {
   "cell_type": "code",
   "execution_count": null,
   "id": "386b0aac",
   "metadata": {},
   "outputs": [],
   "source": [
    "# Cross-tab for PregnancyGroup vs Outcome\n",
    "contingency_pregnancyGroup = pd.crosstab(df_imputed['PregnancyGroup'], df_imputed['Outcome'])\n",
    "\n",
    "# At 95% level of confidence\n",
    "chi2_pregnancy, p_pregnancy, dof_pregnancy, expected_pregnancy = chi2_contingency(contingency_ageGroup)\n",
    "print(\"Chi-square test result:\", chi2_pregnancy, p_pregnancy)\n",
    "\n",
    "if p_pregnancy < 0.05: # level of significance\n",
    "    print(\"Reject the null hypothesis. \\nPregnancyGroup and Outcome are dependent\")\n",
    "else:\n",
    "    print(\"Fail to reject the null hypothesis. \\nPregnancyGroup and Outcome are independent\")"
   ]
  },
  {
   "cell_type": "markdown",
   "id": "f5045168",
   "metadata": {},
   "source": [
    "#### 4.3.4 Key Findings from Inferential Statistics"
   ]
  },
  {
   "cell_type": "markdown",
   "id": "378e4172",
   "metadata": {},
   "source": [
    "##### 1. Mean Glucose (Diabetic vs Non-Diabetic)\n",
    "We rejected the null hypothesis, concluding that there's a significant difference in the glucose mean across the 2 groups. Therefore, diabetics tend to have higher glucose levels than non-diabetics — a strong indicator that Glucose is a key predictor of diabetes.\n",
    "\n",
    "##### 2. Mean Insulin (Diabetic vs Non-Diabetic)\n",
    "We rejected the null hypothesis, concluding that there's a significant difference in the insulin mean across the 2 groups. Therefore, Insulin levels differ significantly between diabetic and non-diabetic individuals, suggesting insulin could help the model distinguish outcomes.\n",
    "\n",
    "##### 3. Mean Blood Pressure (Diabetic vs Non-Diabetic)\n",
    "We rejected the null hypothesis, concluding that there's a significant difference in the blood pressure mean across the 2 groups. Therefore, BloodPressure may contribute modestly to diabetes classification.\n",
    "\n",
    "##### 4. Mean Diabetes Pedigree Function (Diabetic vs Non-Diabetic)\n",
    "We rejected the null hypothesis, concluding that there's a significant difference in the diabetes pedigree function mean across the 2 groups, Therefore, Family history (DPF) is statistically associated with diabetes status.\n",
    "\n",
    "##### 5. Mean BMI across Age Groups\n",
    "We rejected the null hypothesis, concluding that at least one age group has a BMI mean different from the others. BMI changes across age groups and might suggest that age moderates the effect of BMI on diabetes. It could be useful for model interactions.\n",
    "\n",
    "##### 6. Mean Blood Pressure across Age Groups\n",
    "We rejected the null hypothesis, concluding that at least one age group has a BloodPressure mean different from the others. If BP increases with age, this reflects real-world health patterns and supports age as a strong contextual variable.\n",
    "\n",
    "##### 7. Mean SkinThickness across Pregnancy Groups\n",
    "We rejected the null hypothesis, concluding that at least one pregnancy group has a SkinThickness mean different from the others. It may be worth including as a feature in age-adjusted or pregnancy-adjusted models. This suggests that metabolic changes associated with pregnancy count may influence subcutaneous fat storage, reflected in skin thickness measurements. While skin thickness may not be a direct predictor of diabetes on its own, it could serve as a supporting feature in models when combined with variables like BMI, insulin, or pregnancy count.\n",
    "\n",
    "##### 8. Mean Glucose across Pregnancy Groups\n",
    "We rejected the null hypothesis, concluding that at least one pregnancy group has a glucose mean different from the others. Glucose increases with pregnancy, this supports the idea that higher pregnancies may correlate with higher glucose/diabetes risk.\n",
    "\n",
    "##### 9. Mean BloodPressure across Pregnancy Groups\n",
    "We rejected the null hypothesis, concluding that at least one pregnancy group has a bloodpressure mean different from the others. The difference was statistically significant, this suggests that pregnancy count may influence cardiovascular health, making blood pressure a potentially useful variable in combination with pregnancy-related features.\n",
    "\n",
    "##### 10. AgeGroup and Outcome\n",
    "We rejected the null hypothesis, concluding that AgeGroups and Outcome show a statistically significant association, indicating that the likelihood of having diabetes varies across age groups. Older age groups tended to have a higher proportion of diabetic cases, reflecting known clinical risk patterns. This supports the inclusion of Age or AgeGroup as a predictive feature in the model, either as a continuous variable or a binned categorical one. It may also justify interaction terms with features like BMI or Glucose in more complex models.\n",
    "\n",
    "##### 11. PregnancyGroup and Outcome\n",
    "We rejected the null hypothesis, concluding that PregnancyGroup and Outcome show a significant relationship, suggesting that individuals with higher pregnancy counts are more likely to have diabetes. This pattern aligns with clinical insights about gestational diabetes and metabolic changes with multiple pregnancies. As a result, the PregnancyGroup variable can serve as a useful categorical predictor in classification models. This also highlights the value of binning numerical variables to uncover hidden associations that raw counts might not reveal."
   ]
  },
  {
   "cell_type": "markdown",
   "id": "72b0f014",
   "metadata": {},
   "source": [
    "### 4.4 Summary of Key Findings from Data Analysis <a id=\"44-summary-of-key-findings-from-data-analysis\"></a>"
   ]
  },
  {
   "cell_type": "markdown",
   "id": "86aab5ea",
   "metadata": {},
   "source": [
    "**Exploratory data analysis (EDA)** identified Glucose, BMI, Insulin, and Age as the most influential features in assessing diabetes risk. These variables demonstrated distinct distributions across diabetic and non-diabetic groups, with moderate correlations to the diabetes outcome. The absence of multicollinearity (all Variance Inflation Factors below 5) indicates that these features can be reliably incorporated together in predictive classification models. This evidence provides a strong foundation for informed feature selection and enhances model interpretability.\n",
    "\n",
    "**Descriptive statistics** confirmed that individuals with diabetes consistently present higher levels of glucose, BMI, insulin, age, and diabetes pedigree function compared to non-diabetics. These findings are consistent with established medical knowledge, validating the dataset’s reliability and supporting the selection of these variables as key predictors in further modeling efforts.\n",
    "\n",
    "**Inferential statistics** further revealed statistically significant differences between diabetic and non-diabetic groups across multiple clinical and demographic variables. Elevated glucose and insulin levels, alongside differences in blood pressure and family history, underscore their relevance in diabetes classification. Additionally, BMI and blood pressure were shown to vary significantly by age group, suggesting that age moderates their influence on diabetes risk. Pregnancy count was also associated with variations in skin thickness, glucose, and blood pressure, reflecting metabolic and cardiovascular changes linked to pregnancy history. Both age and pregnancy group demonstrated strong associations with diabetes outcomes, reinforcing their importance as predictive features.\n",
    "\n",
    "Together, these insights directly inform feature engineering by highlighting key variables and their interactions —such as **Glucose**, **BMI**, **Insulin**, **Age**, and **Diabetes Pedigree Function** —that should be incorporated or transformed to improve model accuracy. Incorporating these variables and their interactions enables the development of more robust and interpretable classification models, ultimately enhancing diabetes risk prediction and supporting clinical decision-making."
   ]
  },
  {
   "cell_type": "markdown",
   "id": "0d07bb2a",
   "metadata": {},
   "source": [
    "###\n",
    "Back to :\n",
    "\n",
    "- [Table of Contents](#table-of-contents)"
   ]
  },
  {
   "cell_type": "markdown",
   "id": "2f0bab7d",
   "metadata": {},
   "source": [
    "## **5.0 FEATURE ENGINEERING** <a id=\"50-feature-engineering\"></a>"
   ]
  },
  {
   "cell_type": "markdown",
   "id": "55366791",
   "metadata": {},
   "source": [
    "### 5.1 Feature Interaction and Log Transformations <a id=\"51-feature-interaction-and-log-transformations\"></a>"
   ]
  },
  {
   "cell_type": "code",
   "execution_count": null,
   "id": "f6487b21",
   "metadata": {},
   "outputs": [],
   "source": [
    "# Creating new interaction features to potentially improve model performance\n",
    "df_imputed['Glucose_Insulin_Interaction'] = df_imputed['Glucose']* df_imputed['Insulin']\n",
    "df_imputed['BMI_Age'] = df_imputed['BMI'] * df_imputed['Age']\n",
    "df_imputed['Skin_per_Age'] = df_imputed['SkinThickness'] / (df_imputed['Age'] + 1e-5)\n",
    "\n",
    "# List of columns that are potentially skewed and could benefit from log transformation\n",
    "skewed_columns = ['Glucose', 'SkinThickness', 'Insulin', 'BMI',\n",
    "                  'Glucose_Insulin_Interaction', 'BMI_Age', 'DiabetesPedigreeFunction', 'Skin_per_Age']\n",
    "\n",
    "# Applying log transformation to reduce skewness and stabilize variance\n",
    "for col in skewed_columns:\n",
    "    new_col = 'Log_' + col.replace(' ', '') # Generating a name for the log-transformed column\n",
    "    df_imputed[new_col] = np.log(df_imputed[col] + 1) # Apply log1p-like transformation to handle zeros\n",
    "\n",
    "# Return edited dataframe\n",
    "print (\"Edited Dataframe\")\n",
    "df_imputed"
   ]
  },
  {
   "cell_type": "markdown",
   "id": "f5077d6f",
   "metadata": {},
   "source": [
    "### 5.2 Encoding the Categorical Variables <a id=\"52-encoding-the-categorical-variables\"></a>"
   ]
  },
  {
   "cell_type": "code",
   "execution_count": null,
   "id": "13e910aa",
   "metadata": {},
   "outputs": [],
   "source": [
    "# Define the order of categories explicitly\n",
    "Pregnancy_encoder = OrdinalEncoder(categories=[['None', 'Low', 'Medium', 'High']])\n",
    "Age_encoder = OrdinalEncoder(categories=[['Young', 'Middle-aged', 'Old']])\n",
    "\n",
    "# Encode PregnancyGroup & AgeGroup\n",
    "df_imputed['PregnancyGroup_encoded'] = Pregnancy_encoder.fit_transform(df_imputed[['PregnancyGroup']])\n",
    "df_imputed['AgeGroup_encoded'] = Age_encoder.fit_transform(df_imputed[['AgeGroup']])"
   ]
  },
  {
   "cell_type": "markdown",
   "id": "d23d2761",
   "metadata": {},
   "source": [
    "### 5.3 Setting the X and y Variables <a id=\"53-setting-the-x-and-y-variables\"></a>"
   ]
  },
  {
   "cell_type": "code",
   "execution_count": null,
   "id": "0ce00e8b",
   "metadata": {},
   "outputs": [],
   "source": [
    "# Dropping the columns not to be used\n",
    "X=df_imputed.drop(columns=['Pregnancies', 'Age', 'Outcome', 'Glucose_missing', 'BloodPressure_missing',\n",
    "                          'SkinThickness_missing', 'Insulin_missing', 'BMI_missing', 'PregnancyGroup', 'AgeGroup'])\n",
    "y=df_imputed['Outcome']"
   ]
  },
  {
   "cell_type": "markdown",
   "id": "7983202f-27cf-4abb-8165-24c2e8c10523",
   "metadata": {},
   "source": [
    "### 5.4 Train-Test Split 80/20 <a id=\"54-train-test-split-8020\"></a>"
   ]
  },
  {
   "cell_type": "code",
   "execution_count": null,
   "id": "397928f9-7a19-49fc-a3aa-fe484c39c397",
   "metadata": {},
   "outputs": [],
   "source": [
    "# Split data: 80% training, 20% testing\n",
    "X_train, X_test, y_train, y_test = train_test_split(X, y, test_size=0.2, random_state=42, stratify=y)\n",
    "# Check the shape\n",
    "print(\"Training set:\", X_train.shape, y_train.shape)\n",
    "print(\"Test set:\", X_test.shape, y_test.shape)"
   ]
  },
  {
   "cell_type": "markdown",
   "id": "a29b0804-5cf9-4f9e-9b86-aceb10b89120",
   "metadata": {},
   "source": [
    "### 5.5 Scaling Numeric Features with StandardScaler <a id=\"55-scaling-numeric-features-with-standardscaler\"></a>"
   ]
  },
  {
   "cell_type": "code",
   "execution_count": null,
   "id": "a9431c0d",
   "metadata": {},
   "outputs": [],
   "source": [
    "# Select only numeric columns from the feature set\n",
    "numeric_cols = X.select_dtypes(include=['number']).columns\n",
    "\n",
    "# Print numeric columns to confirm\n",
    "print(\"Numeric columns:\", numeric_cols)"
   ]
  },
  {
   "cell_type": "code",
   "execution_count": null,
   "id": "956b093c-f54e-4a10-b9e9-bba6cf74739c",
   "metadata": {},
   "outputs": [],
   "source": [
    "# Initialize the scaler\n",
    "scaler = StandardScaler()\n",
    "\n",
    "# Fit on training data and transform both train and test sets\n",
    "X_train_scaled = X_train.copy()\n",
    "\n",
    "X_test_scaled = X_test.copy()\n",
    "\n",
    "X_train_scaled[numeric_cols] = scaler.fit_transform(X_train[numeric_cols])\n",
    "X_test_scaled[numeric_cols] = scaler.transform(X_test[numeric_cols])"
   ]
  },
  {
   "cell_type": "markdown",
   "id": "75fad1ab",
   "metadata": {},
   "source": [
    "\n",
    "### 5.6 Final Training and Testing Data <a id=\"56-final-training-and-testing-data\"></a>"
   ]
  },
  {
   "cell_type": "code",
   "execution_count": null,
   "id": "1dd2586b",
   "metadata": {},
   "outputs": [],
   "source": [
    "# Full X-training data\n",
    "print (\"X-train data:\")\n",
    "X_train_scaled"
   ]
  },
  {
   "cell_type": "code",
   "execution_count": null,
   "id": "0307c497",
   "metadata": {},
   "outputs": [],
   "source": [
    "# Full X-testing data\n",
    "print (\"X-test data:\")\n",
    "X_test_scaled"
   ]
  },
  {
   "cell_type": "code",
   "execution_count": null,
   "id": "4b6386fc",
   "metadata": {},
   "outputs": [],
   "source": [
    "# Full y-training data\n",
    "print (\"y-train data:\")\n",
    "y_train"
   ]
  },
  {
   "cell_type": "code",
   "execution_count": null,
   "id": "b98dcf30",
   "metadata": {},
   "outputs": [],
   "source": [
    "# Full y-testing data\n",
    "print (\"y-test data:\")\n",
    "y_test"
   ]
  },
  {
   "cell_type": "markdown",
   "id": "c574679d",
   "metadata": {},
   "source": [
    "These **three classification models** will be built using the above data:\n",
    "\n",
    "1. Logistic Regression (LR)\n",
    "2. Random Forest (RF)\n",
    "3. K-Nearest Neighbours (KNN)"
   ]
  },
  {
   "cell_type": "markdown",
   "id": "be72dd5d",
   "metadata": {},
   "source": [
    "### 5.7 Handling Class Imbalance <a id=\"57-handling-class-imbalance\"></a>"
   ]
  },
  {
   "cell_type": "markdown",
   "id": "45198761",
   "metadata": {},
   "source": [
    "#### 5.7.1 Applying Class Weight Balancing for LR & RF"
   ]
  },
  {
   "cell_type": "code",
   "execution_count": null,
   "id": "47ef3148",
   "metadata": {},
   "outputs": [],
   "source": [
    "# Check original class distribution\n",
    "print(\"Class distribution before balancing (for LR & RF):\")\n",
    "print(y_train.value_counts())"
   ]
  },
  {
   "cell_type": "code",
   "execution_count": null,
   "id": "bf374ab8",
   "metadata": {},
   "outputs": [],
   "source": [
    "# Use class_weight = 'balanced' for handling class imbalance\n",
    "class_weight = 'balanced'"
   ]
  },
  {
   "cell_type": "markdown",
   "id": "8f3631e9",
   "metadata": {},
   "source": [
    "#### 5.7.2 Applying SMOTE (Synthetic Minority Over-sampling Technique) for KNN"
   ]
  },
  {
   "cell_type": "code",
   "execution_count": null,
   "id": "63104487",
   "metadata": {},
   "outputs": [],
   "source": [
    "# Check original class distribution before SMOTE\n",
    "print(\"Class distribution Before SMOTE:\")\n",
    "print(y_train.value_counts())"
   ]
  },
  {
   "cell_type": "code",
   "execution_count": null,
   "id": "1afd6e54",
   "metadata": {},
   "outputs": [],
   "source": [
    "# Setting the X train & test for the knn model\n",
    "X_train_knn=X_train_scaled.drop(columns=['Glucose','SkinThickness','Insulin','BMI','DiabetesPedigreeFunction','Glucose_Insulin_Interaction', 'BMI_Age', 'Skin_per_Age'])\n",
    "X_test_knn=X_test_scaled.drop(columns=['Glucose','SkinThickness','Insulin','BMI','DiabetesPedigreeFunction', 'Glucose_Insulin_Interaction', 'BMI_Age', 'Skin_per_Age'])"
   ]
  },
  {
   "cell_type": "code",
   "execution_count": null,
   "id": "5070e433",
   "metadata": {},
   "outputs": [],
   "source": [
    "# Apply SMOTE only to training set for KNN\n",
    "smote = SMOTE(random_state=42)\n",
    "X_knn, y_knn = smote.fit_resample(X_train_knn, y_train)"
   ]
  },
  {
   "cell_type": "code",
   "execution_count": null,
   "id": "9b69fe78",
   "metadata": {},
   "outputs": [],
   "source": [
    "# Check class distribution after SMOTE\n",
    "print(\"\\nClass distribution After SMOTE:\")\n",
    "print(y_knn.value_counts())"
   ]
  },
  {
   "cell_type": "markdown",
   "id": "5c6cb564",
   "metadata": {},
   "source": [
    "###\n",
    "Back to :\n",
    "\n",
    "- [Table of Contents](#table-of-contents)"
   ]
  },
  {
   "cell_type": "markdown",
   "id": "d5509f4a",
   "metadata": {},
   "source": [
    "## **6.0 MODEL BUILDING & EVALUATION** <a id=\"60-model-building--evaluation\"></a>"
   ]
  },
  {
   "cell_type": "markdown",
   "id": "192affb9",
   "metadata": {},
   "source": [
    "### 6.1 Baseline Model Training <a id=\"61-baseline-model-training\"></a>"
   ]
  },
  {
   "cell_type": "code",
   "execution_count": null,
   "id": "17d2437e",
   "metadata": {},
   "outputs": [],
   "source": [
    "# Setting the X train & test for the logistics model\n",
    "X_train_log=X_train_scaled.drop(columns=['Glucose','SkinThickness','Insulin','BMI','DiabetesPedigreeFunction', 'Glucose_Insulin_Interaction', 'BMI_Age', 'BloodPressure', 'Skin_per_Age'])\n",
    "X_test_log=X_test_scaled.drop(columns=['Glucose','SkinThickness','Insulin','BMI','DiabetesPedigreeFunction', 'Glucose_Insulin_Interaction', 'BMI_Age', 'BloodPressure', 'Skin_per_Age'])"
   ]
  },
  {
   "cell_type": "code",
   "execution_count": null,
   "id": "e2a0c5c8",
   "metadata": {},
   "outputs": [],
   "source": [
    "# Setting the X train & test for the random forest model\n",
    "X_train_rf=X_train_scaled.drop(columns=['Log_Glucose','Log_SkinThickness','Log_Insulin','Log_BMI', 'Log_Glucose_Insulin_Interaction', 'Log_BMI_Age', 'Log_Skin_per_Age'])\n",
    "X_test_rf=X_test_scaled.drop(columns=['Log_Glucose','Log_SkinThickness','Log_Insulin','Log_BMI', 'Log_Glucose_Insulin_Interaction', 'Log_BMI_Age', 'Log_Skin_per_Age'])"
   ]
  },
  {
   "cell_type": "code",
   "execution_count": null,
   "id": "0cca3f21",
   "metadata": {},
   "outputs": [],
   "source": [
    "# Logistic Regression\n",
    "log_model = LogisticRegression(class_weight='balanced', random_state=42)\n",
    "log_model.fit(X_train_log, y_train)\n",
    "y_pred_log = log_model.predict(X_test_log)"
   ]
  },
  {
   "cell_type": "code",
   "execution_count": null,
   "id": "6f23cfdb",
   "metadata": {},
   "outputs": [],
   "source": [
    "# Random Forest\n",
    "rf_model = RandomForestClassifier(class_weight='balanced', random_state=42)\n",
    "rf_model.fit(X_train_rf, y_train)\n",
    "y_pred_rf = rf_model.predict(X_test_rf)"
   ]
  },
  {
   "cell_type": "code",
   "execution_count": null,
   "id": "92999c84",
   "metadata": {},
   "outputs": [],
   "source": [
    "# K-Nearest Neighbours (KNN)\n",
    "knn_model = KNeighborsClassifier()\n",
    "knn_model.fit(X_knn, y_knn)\n",
    "y_pred_knn = knn_model.predict(X_test_knn)"
   ]
  },
  {
   "cell_type": "markdown",
   "id": "e0bdf926",
   "metadata": {},
   "source": [
    "### 6.2 Baseline Model Evaluation <a id=\"61-baseline-model-evalution\"></a>"
   ]
  },
  {
   "cell_type": "code",
   "execution_count": null,
   "id": "ad0bfb11",
   "metadata": {},
   "outputs": [],
   "source": [
    "# Evaluating metrics (Accuracy, Precision,Recall, F1 Score, ROC AUC)\n",
    "metrics = {\n",
    "    'Model': ['Logistic Regression', 'Random Forest', 'KNN'],\n",
    "    'Accuracy': [\n",
    "        accuracy_score(y_test, y_pred_log),\n",
    "        accuracy_score(y_test, y_pred_rf),\n",
    "        accuracy_score(y_test, y_pred_knn)\n",
    "    ],\n",
    "    'Precision': [\n",
    "        precision_score(y_test, y_pred_log),\n",
    "        precision_score(y_test, y_pred_rf),\n",
    "        precision_score(y_test, y_pred_knn)\n",
    "    ],\n",
    "    'Recall': [\n",
    "        recall_score(y_test, y_pred_log),\n",
    "        recall_score(y_test, y_pred_rf),\n",
    "        recall_score(y_test, y_pred_knn)\n",
    "    ],\n",
    "    'F1 Score': [\n",
    "        f1_score(y_test, y_pred_log),\n",
    "        f1_score(y_test, y_pred_rf),\n",
    "        f1_score(y_test, y_pred_knn)\n",
    "    ],\n",
    "    'ROC AUC': [\n",
    "        roc_auc_score(y_test, log_model.predict_proba(X_test_log)[:, 1]),\n",
    "        roc_auc_score(y_test, rf_model.predict_proba(X_test_rf)[:, 1]),\n",
    "        roc_auc_score(y_test, knn_model.predict_proba(X_test_knn)[:, 1])\n",
    "    ]\n",
    "}"
   ]
  },
  {
   "cell_type": "code",
   "execution_count": null,
   "id": "737afced",
   "metadata": {},
   "outputs": [],
   "source": [
    "# Evaluation Results\n",
    "results_df = pd.DataFrame(metrics)\n",
    "print(\"\\nBaseline Model Performance Comparison:\")\n",
    "print(results_df.sort_values(by='Recall', ascending=False).to_string(index=False))"
   ]
  },
  {
   "cell_type": "code",
   "execution_count": null,
   "id": "e1497ac4",
   "metadata": {},
   "outputs": [],
   "source": [
    "# Visualising Baseline Metrics Results\n",
    "plt.figure(figsize=(20, 6))\n",
    "for i, metric in enumerate(['Accuracy', 'Precision', 'Recall', 'F1 Score', 'ROC AUC']):\n",
    "    plt.subplot(1, 5, i+1)\n",
    "    sns.barplot(data=results_df, x='Model', y=metric, hue='Model', palette='Set2')\n",
    "    plt.title(f'Baseline {metric}')\n",
    "    plt.ylim(0, 1)\n",
    "    plt.xticks(rotation=20)\n",
    "    plt.legend([],[], frameon=False)\n",
    "plt.tight_layout()\n",
    "plt.show()"
   ]
  },
  {
   "cell_type": "markdown",
   "id": "4d0990a1",
   "metadata": {},
   "source": [
    "**Interpretation**\n",
    "\n",
    "**K-Nearest Neighbors (KNN)** demonstrated the **highest recall** and **overall balanced performance**, making it the **most suitable model for diabetes prediction** where identifying all true cases is critical. Logistic Regression is a viable alternative with strong discrimination ability, while Random Forest's low recall limits its utility in a medical screening context."
   ]
  },
  {
   "cell_type": "markdown",
   "id": "971b0325",
   "metadata": {},
   "source": [
    "### 6.3 Best Model (Based on Recall) <a id=\"63-best-model-based-on-recall\"></a>\n"
   ]
  },
  {
   "cell_type": "code",
   "execution_count": null,
   "id": "9ff594f0",
   "metadata": {},
   "outputs": [],
   "source": [
    "best_model_name = results_df.sort_values(by='Recall', ascending=False).iloc[0]['Model']\n",
    "print(f\"\\nBest Model Based on Recall: {best_model_name}\")"
   ]
  },
  {
   "cell_type": "markdown",
   "id": "a31276a0",
   "metadata": {},
   "source": [
    "### 6.4 Hyperparameter Tuning of Best Model <a id=\"64-hyperparameter-tuning-of-best-model\"></a>"
   ]
  },
  {
   "cell_type": "code",
   "execution_count": null,
   "id": "448f3ed8",
   "metadata": {},
   "outputs": [],
   "source": [
    "# Define cross-validation strategy\n",
    "cv = StratifiedKFold(n_splits=10, shuffle=True, random_state=42)\n",
    "\n",
    "if best_model_name == 'Logistic Regression':\n",
    "    param_grid = {\n",
    "        'C': [0.01, 0.1, 1, 10, 100],\n",
    "        'penalty': ['l2'],\n",
    "    } # Hyperparameter grid\n",
    "\n",
    "    grid = GridSearchCV(LogisticRegression(class_weight='balanced', random_state=42), \n",
    "                        param_grid, scoring='recall', cv=cv) # GridSearchCV with recall as the scoring metric\n",
    "    \n",
    "    grid.fit(X_train_log, y_train) # Fitting model\n",
    "\n",
    "    # Best estimator and predictions\n",
    "    best_model = grid.best_estimator_\n",
    "    best_pred = best_model.predict(X_test_log)\n",
    "    best_proba = best_model.predict_proba(X_test_log)[:, 1]\n",
    "\n",
    "elif best_model_name == 'Random Forest':\n",
    "    param_grid = {\n",
    "        'n_estimators': [50, 100, 200],\n",
    "        'max_depth': [None, 10, 20],\n",
    "        'min_samples_split': [2, 5, 10]\n",
    "    } # Hyperparameter grid\n",
    "\n",
    "    grid = GridSearchCV(RandomForestClassifier(class_weight='balanced', random_state=42),\n",
    "                        param_grid, scoring='recall', cv=cv) # GridSearchCV with recall as the scoring metric\n",
    "    \n",
    "    grid.fit(X_train_rf, y_train) # Fitting model\n",
    "\n",
    "    # Best estimator and predictions\n",
    "    best_model = grid.best_estimator_\n",
    "    best_pred = best_model.predict(X_test_rf)\n",
    "    best_proba = best_model.predict_proba(X_test_rf)[:, 1]\n",
    "\n",
    "else:  # KNN\n",
    "    param_grid = {\n",
    "        'n_neighbors': [3, 5, 7, 9],\n",
    "        'weights': ['uniform', 'distance'],\n",
    "        'p': [1, 2]  # Manhattan and Euclidean\n",
    "    } # Hyperparameter grid\n",
    "\n",
    "    grid = GridSearchCV(KNeighborsClassifier(), param_grid, scoring='recall', cv=cv) # GridSearchCV with recall as the scoring metric\n",
    "\n",
    "    grid.fit(X_knn, y_knn) # Fitting model\n",
    "\n",
    "    # Best estimator and predictions\n",
    "    best_model = grid.best_estimator_\n",
    "    best_pred = best_model.predict(X_test_knn)\n",
    "    best_proba = best_model.predict_proba(X_test_knn)[:, 1]\n",
    "\n",
    "print(f\"\\nBest Parameters for {best_model_name}: {grid.best_params_}\")"
   ]
  },
  {
   "cell_type": "markdown",
   "id": "a797d70e",
   "metadata": {},
   "source": [
    "### 6.5 Tuned Model Evaluation  <a id=\"65-tuned-model-evaluation\"></a>"
   ]
  },
  {
   "cell_type": "code",
   "execution_count": null,
   "id": "883f2d93",
   "metadata": {},
   "outputs": [],
   "source": [
    "# Calculate tuned metrics (Accuracy, Precision, Recall, F1 Score, ROC AUC)\n",
    "accuracy_tuned = accuracy_score(y_test, best_pred)\n",
    "precision_tuned = precision_score(y_test, best_pred)\n",
    "recall_tuned = recall_score(y_test, best_pred)\n",
    "f1_tuned = f1_score(y_test, best_pred)\n",
    "roc_auc_tuned = roc_auc_score(y_test, best_proba)\n",
    "\n",
    "# Print results\n",
    "print(f\"Evaluation of Tuned {best_model_name}\")\n",
    "print(f\"Accuracy:  {accuracy_tuned:.4f}\")\n",
    "print(f\"Precision: {precision_tuned:.4f}\")\n",
    "print(f\"Recall:    {recall_tuned:.4f}\")\n",
    "print(f\"F1 Score:  {f1_tuned:.4f}\")\n",
    "print(f\"ROC AUC:   {roc_auc_tuned:.4f}\")"
   ]
  },
  {
   "cell_type": "code",
   "execution_count": null,
   "id": "a1e0261b",
   "metadata": {},
   "outputs": [],
   "source": [
    "# Setting tuned metrics into a dataframe\n",
    "metrics_tuned = pd.DataFrame({\n",
    "    'Metric': ['Accuracy', 'Precision', 'Recall', 'F1 Score', 'ROC AUC'],\n",
    "    'Score': [accuracy_tuned, precision_tuned, recall_tuned, f1_tuned, roc_auc_tuned]\n",
    "})\n",
    "\n",
    "# Visualizing tuned metrics results\n",
    "plt.figure(figsize=(8, 5))\n",
    "sns.barplot(data=metrics_tuned, x='Metric', y='Score', hue='Metric', palette='viridis')\n",
    "plt.ylim(0, 1)\n",
    "plt.title(f\"Evaluation Metrics for Tuned {best_model_name}\")\n",
    "plt.ylabel(\"Score\")\n",
    "plt.xticks(rotation=45)\n",
    "plt.legend([],[], frameon=False)\n",
    "plt.tight_layout()\n",
    "plt.show()"
   ]
  },
  {
   "cell_type": "markdown",
   "id": "68ae7749",
   "metadata": {},
   "source": [
    "**Interpretation**\n",
    "\n",
    "The **tuned K-Nearest Neighbors (KNN)** model maintained strong performance with a **recall of 0.7778**, affirming its effectiveness in correctly identifying diabetes cases—crucial for medical applications. With an **accuracy of 0.7532**, **F1 score of 0.6885**, and a **ROC AUC of 0.7959**, the model continues to offer a well-balanced and clinically reliable solution for early diabetes detection.\n"
   ]
  },
  {
   "cell_type": "markdown",
   "id": "a9ede6c8",
   "metadata": {},
   "source": [
    "### 6.6 Confusion Matrix for Tuned Model <a id=\"66-confusion-matric-for-tuned-model\"></a>"
   ]
  },
  {
   "cell_type": "code",
   "execution_count": null,
   "id": "d483bbf0",
   "metadata": {},
   "outputs": [],
   "source": [
    "# Plot the confusion matrix for the tuned KNN model to visualize classification performance\n",
    "cm = confusion_matrix(y_test, best_pred)\n",
    "disp = ConfusionMatrixDisplay(confusion_matrix=cm, display_labels=best_model.classes_)\n",
    "disp.plot(cmap='Blues')\n",
    "plt.title(f\"Confusion Matrix - Tuned {best_model_name}\")\n",
    "plt.show()"
   ]
  },
  {
   "cell_type": "markdown",
   "id": "53123b37",
   "metadata": {},
   "source": [
    "**Key Metrics**\n",
    "\n",
    "**1. True Negatives (TN):** 74\n",
    "\n",
    "Model correctly predicted 74 non-diabetic patients as non-diabetic.\n",
    "\n",
    "**2. False Positives (FP):** 26\n",
    "\n",
    "Model incorrectly predicted 26 non-diabetic patients as diabetic.\n",
    "\n",
    "**3. False Negatives (FN):** 12\n",
    "\n",
    "Model incorrectly predicted 12 diabetic patients as non-diabetic.\n",
    "\n",
    "**4. True Positives (TP):** 42\n",
    "\n",
    "Model correctly predicted 42 diabetic patients as diabetic."
   ]
  },
  {
   "cell_type": "markdown",
   "id": "b9dda4b3",
   "metadata": {},
   "source": [
    "**Interpretation**\n",
    "\n",
    "The model performs reasonably well, especially with a recall of ~78%, which is crucial in healthcare—correctly identifying actual diabetic cases is more important than falsely predicting a few non-diabetics as diabetic.\n",
    "\n",
    "However, precision is moderate (62%), indicating that out of all predicted diabetic cases, about 38% were actually non-diabetic (false alarms).\n",
    "\n",
    "False positives (26) are higher than false negatives (12), which may be acceptable in a medical screening context where early intervention is better than missing a diagnosis."
   ]
  },
  {
   "cell_type": "markdown",
   "id": "17604ba1",
   "metadata": {},
   "source": [
    "### 6.7 Feature Importance / Coefficients for Tuned Model <a id=\"67-feature-importance--coefficients-for-tuned-model\"></a>"
   ]
  },
  {
   "cell_type": "code",
   "execution_count": null,
   "id": "e8452daf",
   "metadata": {},
   "outputs": [],
   "source": [
    "# Check which model performed best\n",
    "if best_model_name == 'Logistic Regression':\n",
    "    # Extract coefficients for each feature from the logistic regression model\n",
    "    log_features = pd.DataFrame({\n",
    "        'Feature': X.columns,\n",
    "        'Coefficient': best_model.coef_[0]\n",
    "    }).sort_values(by='Coefficient', key=abs, ascending=False) # Sort by absolute coefficient values\n",
    "\n",
    "    # Plot feature coefficients\n",
    "    plt.figure(figsize=(10, 5))\n",
    "    sns.barplot(data=log_features, x='Coefficient', y='Feature', hue='Feature', palette='coolwarm')\n",
    "    plt.title(\"Logistic Regression Feature Coefficients\")\n",
    "    plt.axvline(0, color='black', linewidth=0.7)\n",
    "    plt.legend([],[], frameon=False) # Remove legend\n",
    "    plt.show()\n",
    "\n",
    "elif best_model_name == 'Random Forest':\n",
    "    # Extract feature importances from the random forest model\n",
    "    rf_features = pd.DataFrame({\n",
    "        'Feature': X.columns,\n",
    "        'Importance': best_model.feature_importances_\n",
    "    }).sort_values(by='Importance', ascending=False) # Sort features by importance\n",
    "\n",
    "    # Plot feature importances\n",
    "    plt.figure(figsize=(10, 5))\n",
    "    sns.barplot(data=rf_features, x='Importance', y='Feature', hue='Feature', palette='viridis')\n",
    "    plt.title(\"Random Forest Feature Importance\")\n",
    "    plt.legend([],[], frameon=False) # Remove legend\n",
    "    plt.tight_layout()\n",
    "    plt.show()\n",
    "\n",
    "else:\n",
    "    # For KNN, use permutation importance\n",
    "    result = permutation_importance(best_model, X_test_knn, y_test, n_repeats=10, random_state=42)\n",
    "    # Create DataFrame of feature importances\n",
    "    knn_features = pd.DataFrame({\n",
    "        'Feature': X_test_knn.columns,\n",
    "        'Importance': result.importances_mean\n",
    "    }).sort_values(by='Importance', ascending=False)\n",
    "    \n",
    "    # Plot permutation feature importances\n",
    "    plt.figure(figsize=(10,5))\n",
    "    sns.barplot(data=knn_features, x='Importance', y='Feature', hue='Feature', palette='vlag')\n",
    "    plt.title(\"Permutation Feature Importance\")\n",
    "    plt.legend([],[], frameon=False) # Remove legend\n",
    "    plt.tight_layout()\n",
    "    plt.show()"
   ]
  },
  {
   "cell_type": "markdown",
   "id": "cc8c9ebd",
   "metadata": {},
   "source": [
    "**Interpretation**\n",
    "\n",
    "**Top predictive features** are:\n",
    "\n",
    "1. AgeGroup_encoded\n",
    "\n",
    "2. Log_BMI\n",
    "\n",
    "3. Log_Glucose\n",
    "\n",
    "4. Log_DiabetesPedigreeFunction\n",
    "\n",
    "5. Log_BMI_Age\n",
    "\n",
    "Features related to age, body mass index, and glucose are most important. This is consistent with clinical knowledge.\n",
    "\n",
    "**Least important features** are:\n",
    "\n",
    "1. BloodPressure\n",
    "\n",
    "2. Log_Skin_per_Age\n",
    "\n",
    "3. Log_Insulin\n",
    "\n",
    "These features contributed less, possibly due to lower variability, weaker correlation with diabetes, or noise in the dataset."
   ]
  },
  {
   "cell_type": "markdown",
   "id": "83b4a757",
   "metadata": {},
   "source": [
    "### 6.8 Saving Best Model and Scaler"
   ]
  },
  {
   "cell_type": "code",
   "execution_count": null,
   "id": "8990ccb5",
   "metadata": {},
   "outputs": [],
   "source": [
    "# Save best model\n",
    "joblib.dump(best_model, 'best_diabetes_model.pkl')\n",
    "print(f\"\\nBest Model saved as 'best_diabetes_model.pkl'\")\n",
    "\n",
    "# Save Scaler\n",
    "print (f\"\\nScaler saved as:\") \n",
    "joblib.dump(scaler, 'scaler.pkl')\n"
   ]
  },
  {
   "cell_type": "markdown",
   "id": "57657648",
   "metadata": {},
   "source": [
    "###\n",
    "Back to :\n",
    "\n",
    "- [Table of Contents](#table-of-contents)"
   ]
  },
  {
   "cell_type": "markdown",
   "id": "0c4732c7",
   "metadata": {},
   "source": [
    "## **7.0 CONCLUSION** <a id=\"70-conclusion\"></a>"
   ]
  },
  {
   "cell_type": "markdown",
   "id": "2513c533",
   "metadata": {},
   "source": [
    "This case study aimed to develop an **effective machine learning model** for the **early detection of diabetes** using the *Pima Indians Diabetes dataset*. Through a comprehensive pipeline involving data cleaning, exploratory data analysis, feature engineering, model building and evaluation, the potential of predictive analytics in healthcare was demonstrated.\n",
    "\n",
    "Identification and imputation of missing values using the MICE (Multivariate Imputation by Chained Equations) method was firstly done, ensuring data quality and consistency. The exploratory and statistical analyses highlighted important relationships between diabetes status and clinical features such as glucose level, BMI, and age.\n",
    "\n",
    "Multiple models were trained and evaluated, with recall as the primary metric due to the clinical importance of minimizing false negatives in diabetes diagnosis. After baseline comparisons and hyperparameter tuning, the **K-Nearest Neighbours (KNN)** emerged as the best-performing model, showing strong recall and overall predictive performance.\n",
    "\n",
    "The final model's insights, such as feature importance rankings, aligned well with established medical knowledge, further supporting the model’s validity. This confirms that data-driven approaches can significantly aid in early screening, potentially improving patient outcomes through timely intervention.\n",
    "\n",
    "Overall, this project highlights the value of machine learning in healthcare analytics and serves as a foundational step toward more advanced predictive modeling in medical diagnostics. Future work could explore model deployment, integration with electronic health records (EHRs), or expansion to larger, more diverse datasets."
   ]
  },
  {
   "cell_type": "markdown",
   "id": "66852117",
   "metadata": {},
   "source": [
    "##\n",
    "Back to :\n",
    "\n",
    "- [Table of Contents](#table-of-contents)\n",
    "\n"
   ]
  }
 ],
 "metadata": {
  "kernelspec": {
   "display_name": "base",
   "language": "python",
   "name": "python3"
  },
  "language_info": {
   "codemirror_mode": {
    "name": "ipython",
    "version": 3
   },
   "file_extension": ".py",
   "mimetype": "text/x-python",
   "name": "python",
   "nbconvert_exporter": "python",
   "pygments_lexer": "ipython3",
   "version": "3.12.7"
  }
 },
 "nbformat": 4,
 "nbformat_minor": 5
}
