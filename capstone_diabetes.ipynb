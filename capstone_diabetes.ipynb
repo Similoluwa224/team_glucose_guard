{
 "cells": [
  {
   "cell_type": "markdown",
   "id": "a7ca0b1c",
   "metadata": {},
   "source": [
    "# CASE STUDY II: HEALTHCARE – EARLY DETECTION OF DIABETES\n",
    "### TEAM GLUCOSE-GUARD DATA SCIENCE CAPSTONE PROJECT"
   ]
  },
  {
   "cell_type": "markdown",
   "id": "893342a7",
   "metadata": {},
   "source": [
    "##### Background  \n",
    "A mobile health clinic wants to pre-screen patients for diabetes using basic health indicators to reduce hospital crowding and focus on at-risk individuals."
   ]
  },
  {
   "cell_type": "markdown",
   "id": "565fb849",
   "metadata": {},
   "source": [
    "##### Objectives\n",
    "1) To use EDA to uncover factors that greatly influence the risk of diabetes.\n",
    "2) To develop a classification model to predict if a person has diabetes based on attributes like BMI, glucose levels, insulin levels, and age."
   ]
  },
  {
   "cell_type": "markdown",
   "id": "0f9ec1d3",
   "metadata": {},
   "source": [
    "## DATA CLEANING"
   ]
  },
  {
   "cell_type": "markdown",
   "id": "f3e9389b",
   "metadata": {},
   "source": [
    "### 1. Loading and Inspection of Dataset with Importation of necessary libraries"
   ]
  },
  {
   "cell_type": "code",
   "execution_count": 1,
   "id": "33cc99e0",
   "metadata": {},
   "outputs": [],
   "source": [
    "# Import Libaries\n",
    "import pandas as pd"
   ]
  },
  {
   "cell_type": "code",
   "execution_count": 2,
   "id": "b1f979ab",
   "metadata": {},
   "outputs": [],
   "source": [
    "# Import Libaries\n",
    "import numpy as np\n",
    "from sklearn.experimental import enable_iterative_imputer\n",
    "from sklearn.impute import IterativeImputer"
   ]
  },
  {
   "cell_type": "code",
   "execution_count": 3,
   "id": "dfa1bde9",
   "metadata": {},
   "outputs": [
    {
     "name": "stdout",
     "output_type": "stream",
     "text": [
      "   Pregnancies  Glucose  BloodPressure  SkinThickness  Insulin   BMI  \\\n",
      "0            6      148             72             35        0  33.6   \n",
      "1            1       85             66             29        0  26.6   \n",
      "2            8      183             64              0        0  23.3   \n",
      "3            1       89             66             23       94  28.1   \n",
      "4            0      137             40             35      168  43.1   \n",
      "\n",
      "   DiabetesPedigreeFunction  Age  Outcome  \n",
      "0                     0.627   50        1  \n",
      "1                     0.351   31        0  \n",
      "2                     0.672   32        1  \n",
      "3                     0.167   21        0  \n",
      "4                     2.288   33        1  \n",
      "<class 'pandas.core.frame.DataFrame'>\n",
      "RangeIndex: 768 entries, 0 to 767\n",
      "Data columns (total 9 columns):\n",
      " #   Column                    Non-Null Count  Dtype  \n",
      "---  ------                    --------------  -----  \n",
      " 0   Pregnancies               768 non-null    int64  \n",
      " 1   Glucose                   768 non-null    int64  \n",
      " 2   BloodPressure             768 non-null    int64  \n",
      " 3   SkinThickness             768 non-null    int64  \n",
      " 4   Insulin                   768 non-null    int64  \n",
      " 5   BMI                       768 non-null    float64\n",
      " 6   DiabetesPedigreeFunction  768 non-null    float64\n",
      " 7   Age                       768 non-null    int64  \n",
      " 8   Outcome                   768 non-null    int64  \n",
      "dtypes: float64(2), int64(7)\n",
      "memory usage: 54.1 KB\n",
      "None\n"
     ]
    }
   ],
   "source": [
    "# Loading dataset\n",
    "df = pd.read_csv (\"./diabetes.csv\")\n",
    "print (df.head())\n",
    "print (df.info())"
   ]
  },
  {
   "cell_type": "markdown",
   "id": "c4e545bb",
   "metadata": {},
   "source": [
    "### 2. Identifying columns where zeros are invalid"
   ]
  },
  {
   "cell_type": "code",
   "execution_count": 4,
   "id": "4c70e1f5",
   "metadata": {},
   "outputs": [
    {
     "name": "stdout",
     "output_type": "stream",
     "text": [
      "These features should not be zero for real patients:['Glucose', 'BloodPressure', 'SkinThickness', 'Insulin', 'BMI']\n"
     ]
    }
   ],
   "source": [
    "# Columns where 0 is likely a missing value\n",
    "zero_as_missing = [\"Glucose\", \"BloodPressure\", \"SkinThickness\", \"Insulin\", \"BMI\"]\n",
    "print (f\"These features should not be zero for real patients:{zero_as_missing}\")"
   ]
  },
  {
   "cell_type": "markdown",
   "id": "3b8189a9",
   "metadata": {},
   "source": [
    "### 3. Creating Missingness Indicator Flags"
   ]
  },
  {
   "cell_type": "code",
   "execution_count": 5,
   "id": "88419b78",
   "metadata": {},
   "outputs": [],
   "source": [
    "# Adding missingness flags\n",
    "for col in zero_as_missing:\n",
    "    df[col + \"_missing\"] = df [col] == 0"
   ]
  },
  {
   "cell_type": "code",
   "execution_count": 6,
   "id": "99c42970",
   "metadata": {},
   "outputs": [
    {
     "name": "stdout",
     "output_type": "stream",
     "text": [
      "   Insulin  Insulin_missing\n",
      "0        0             True\n",
      "1        0             True\n",
      "2        0             True\n",
      "3       94            False\n",
      "4      168            False\n",
      "5        0             True\n",
      "6       88            False\n",
      "7        0             True\n",
      "8      543            False\n",
      "9        0             True\n"
     ]
    }
   ],
   "source": [
    "# To verify that the flags are being correctly created\n",
    "print(df[[\"Insulin\", \"Insulin_missing\"]].head(10))"
   ]
  },
  {
   "cell_type": "markdown",
   "id": "60bb13d2",
   "metadata": {},
   "source": [
    "### 4. Replacing Zeros with NaN"
   ]
  },
  {
   "cell_type": "code",
   "execution_count": 7,
   "id": "c6d20e62",
   "metadata": {},
   "outputs": [],
   "source": [
    "# Replace 0s with NaN\n",
    "df[zero_as_missing] = df[zero_as_missing].replace(0,np.nan)"
   ]
  },
  {
   "cell_type": "code",
   "execution_count": 9,
   "id": "1d79b8e3",
   "metadata": {},
   "outputs": [
    {
     "name": "stdout",
     "output_type": "stream",
     "text": [
      "This is the missing values existing in specified columns:\n",
      "Glucose            5\n",
      "BloodPressure     35\n",
      "SkinThickness    227\n",
      "Insulin          374\n",
      "BMI               11\n",
      "dtype: int64\n"
     ]
    }
   ],
   "source": [
    "# To confirm how many missing values exist in each column\n",
    "print(\"This is the missing values existing in specified columns:\")\n",
    "print(df[zero_as_missing].isnull().sum())"
   ]
  },
  {
   "cell_type": "markdown",
   "id": "46f4d743",
   "metadata": {},
   "source": [
    "### 5. Applying Iterative Imputer (Multivariate Imputation by Chained Equations [MICE])"
   ]
  },
  {
   "cell_type": "markdown",
   "id": "2f0630ef",
   "metadata": {},
   "source": [
    "#### What is Iterative Imputer?\n",
    "Iterative Imputer fills in missing values by modeling each feature with missing values as a function of the other features. It's based on Multiple Imputation by Chained Equations (MICE).\n",
    "\n",
    "So instead of guessing missing values with a mean or median, it:\n",
    "\n",
    "1. Picks one feature with missing values.\n",
    "\n",
    "2. Predicts those missing values using a regression model trained on the other columns.\n",
    "\n",
    "3. Repeats this process for each feature with missing values, in a cycle, until the values stabilize.\n",
    "\n",
    "This method preserves relationships between variables, which is critical in medical and clinical datasets."
   ]
  },
  {
   "cell_type": "code",
   "execution_count": 10,
   "id": "7b8482f0",
   "metadata": {},
   "outputs": [],
   "source": [
    "# Separating target from features\n",
    "X = df.drop(columns= \"Outcome\")\n",
    "y = df[\"Outcome\"]"
   ]
  },
  {
   "cell_type": "code",
   "execution_count": null,
   "id": "317a81c6",
   "metadata": {},
   "outputs": [],
   "source": [
    "# Applying Iterative Imputer\n",
    "imputer = IterativeImputer(random_state=0)\n",
    "X_imputed = pd.DataFrame(imputer.fit_transform(X), columns=X.columns)"
   ]
  },
  {
   "cell_type": "code",
   "execution_count": 12,
   "id": "065ce217",
   "metadata": {},
   "outputs": [
    {
     "name": "stdout",
     "output_type": "stream",
     "text": [
      "Any missing after imputation? 0\n"
     ]
    }
   ],
   "source": [
    "# Checking for any remaining NaNs\n",
    "print(\"Any missing after imputation?\", X_imputed.isna().sum().sum())"
   ]
  },
  {
   "cell_type": "code",
   "execution_count": 13,
   "id": "03a83c7a",
   "metadata": {},
   "outputs": [
    {
     "name": "stdout",
     "output_type": "stream",
     "text": [
      "Pregnancies                 0\n",
      "Glucose                     0\n",
      "BloodPressure               0\n",
      "SkinThickness               0\n",
      "Insulin                     0\n",
      "BMI                         0\n",
      "DiabetesPedigreeFunction    0\n",
      "Age                         0\n",
      "Glucose_missing             0\n",
      "BloodPressure_missing       0\n",
      "SkinThickness_missing       0\n",
      "Insulin_missing             0\n",
      "BMI_missing                 0\n",
      "dtype: int64\n"
     ]
    }
   ],
   "source": [
    "# Ensuring all NaNs are gone and imputation worked\n",
    "print(X_imputed.isnull().sum())"
   ]
  },
  {
   "cell_type": "markdown",
   "id": "31580bb1",
   "metadata": {},
   "source": [
    "### 6. Comparison of Values Before and After"
   ]
  },
  {
   "cell_type": "code",
   "execution_count": 15,
   "id": "ee948e02",
   "metadata": {},
   "outputs": [
    {
     "name": "stdout",
     "output_type": "stream",
     "text": [
      "These features should not be zero for real patients:['Glucose', 'BloodPressure', 'SkinThickness', 'Insulin', 'BMI']\n"
     ]
    }
   ],
   "source": [
    "# Reprinting columns where 0 is likely a missing value\n",
    "zero_as_missing = [\"Glucose\", \"BloodPressure\", \"SkinThickness\", \"Insulin\", \"BMI\"]\n",
    "print (f\"These features should not be zero for real patients:{zero_as_missing}\")"
   ]
  },
  {
   "cell_type": "markdown",
   "id": "74908946",
   "metadata": {},
   "source": [
    "#### Glucose Comparison"
   ]
  },
  {
   "cell_type": "code",
   "execution_count": 16,
   "id": "efc2bf04",
   "metadata": {},
   "outputs": [
    {
     "name": "stdout",
     "output_type": "stream",
     "text": [
      "  Metric  Before Imputation  After Imputation\n",
      "0  count         763.000000        768.000000\n",
      "1   mean         121.686763        121.641747\n",
      "2    std          30.535641         30.466564\n",
      "3    min          44.000000         44.000000\n",
      "4    25%          99.000000         99.000000\n",
      "5    50%         117.000000        117.000000\n",
      "6    75%         141.000000        140.250000\n",
      "7    max         199.000000        199.000000\n"
     ]
    }
   ],
   "source": [
    "# Comparing values before and after for Glucose\n",
    "\n",
    "# Get the describe() outputs\n",
    "before_desc_glucose = df[\"Glucose\"].describe()\n",
    "after_desc_glucose = X_imputed[\"Glucose\"].describe()\n",
    "\n",
    "# Combine into a DataFrame\n",
    "glucose_comparison = pd.DataFrame({\n",
    "    \"Metric\": before_desc_glucose.index,\n",
    "    \"Before Imputation\": before_desc_glucose.values,\n",
    "    \"After Imputation\": after_desc_glucose.values\n",
    "})\n",
    "\n",
    "# Display as a table\n",
    "print(glucose_comparison)"
   ]
  },
  {
   "cell_type": "markdown",
   "id": "16c856ff",
   "metadata": {},
   "source": [
    "#### Blood Pressure Comparison"
   ]
  },
  {
   "cell_type": "code",
   "execution_count": null,
   "id": "b51b5bee",
   "metadata": {},
   "outputs": [
    {
     "name": "stdout",
     "output_type": "stream",
     "text": [
      "  Metric  Before Imputation  After Imputation\n",
      "0  count         733.000000        768.000000\n",
      "1   mean          72.405184         72.361292\n",
      "2    std          12.382158         12.147518\n",
      "3    min          24.000000         24.000000\n",
      "4    25%          64.000000         64.000000\n",
      "5    50%          72.000000         72.000000\n",
      "6    75%          80.000000         80.000000\n",
      "7    max         122.000000        122.000000\n"
     ]
    }
   ],
   "source": [
    "# Comparing values before and after for Blood Pressure\n",
    "\n",
    "# Get the describe() outputs\n",
    "before_desc_BloodPressure = df[\"BloodPressure\"].describe()\n",
    "after_desc_BloodPressure = X_imputed[\"BloodPressure\"].describe()\n",
    "\n",
    "# Combine into a DataFrame\n",
    "BloodPressure_comparison = pd.DataFrame({\n",
    "    \"Metric\": before_desc_BloodPressure.index,\n",
    "    \"Before Imputation\": before_desc_BloodPressure.values,\n",
    "    \"After Imputation\": after_desc_BloodPressure.values\n",
    "})\n",
    "\n",
    "# Display as a table\n",
    "print(BloodPressure_comparison)"
   ]
  },
  {
   "cell_type": "markdown",
   "id": "79e991a8",
   "metadata": {},
   "source": [
    "#### Skin Thickness"
   ]
  },
  {
   "cell_type": "code",
   "execution_count": null,
   "id": "dbd618aa",
   "metadata": {},
   "outputs": [
    {
     "name": "stdout",
     "output_type": "stream",
     "text": [
      "  Metric  Before Imputation  After Imputation\n",
      "0  count         541.000000        768.000000\n",
      "1   mean          29.153420         28.926373\n",
      "2    std          10.476982          9.521595\n",
      "3    min           7.000000          7.000000\n",
      "4    25%          22.000000         22.217409\n",
      "5    50%          29.000000         28.442091\n",
      "6    75%          36.000000         35.000000\n",
      "7    max          99.000000         99.000000\n"
     ]
    }
   ],
   "source": [
    "# Comparing values before and after for Skin Thickness\n",
    "\n",
    "# Get the describe() outputs\n",
    "before_desc_SkinThickness = df[\"SkinThickness\"].describe()\n",
    "after_desc_SkinThickness = X_imputed[\"SkinThickness\"].describe()\n",
    "\n",
    "# Combine into a DataFrame\n",
    "SkinThickness_comparison = pd.DataFrame({\n",
    "    \"Metric\": before_desc_SkinThickness.index,\n",
    "    \"Before Imputation\": before_desc_SkinThickness.values,\n",
    "    \"After Imputation\": after_desc_SkinThickness.values\n",
    "})\n",
    "\n",
    "# Display as a table\n",
    "print(SkinThickness_comparison)"
   ]
  },
  {
   "cell_type": "markdown",
   "id": "f7899e20",
   "metadata": {},
   "source": [
    "#### Insulin Comparison"
   ]
  },
  {
   "cell_type": "code",
   "execution_count": null,
   "id": "57d10efd",
   "metadata": {},
   "outputs": [
    {
     "name": "stdout",
     "output_type": "stream",
     "text": [
      "  Metric  Before Imputation  After Imputation\n",
      "0  count         394.000000        768.000000\n",
      "1   mean         155.548223        152.640510\n",
      "2    std         118.775855         97.347662\n",
      "3    min          14.000000        -19.487740\n",
      "4    25%          76.250000         89.986466\n",
      "5    50%         125.000000        130.196342\n",
      "6    75%         190.000000        190.000000\n",
      "7    max         846.000000        846.000000\n"
     ]
    }
   ],
   "source": [
    "# Comparing values before and after for Insulin\n",
    "\n",
    "# Get the describe() outputs\n",
    "before_desc_insulin = df[\"Insulin\"].describe()\n",
    "after_desc_insulin = X_imputed[\"Insulin\"].describe()\n",
    "\n",
    "# Combine into a DataFrame\n",
    "insulin_comparison = pd.DataFrame({\n",
    "    \"Metric\": before_desc_insulin.index,\n",
    "    \"Before Imputation\": before_desc_insulin.values,\n",
    "    \"After Imputation\": after_desc_insulin.values\n",
    "})\n",
    "\n",
    "# Display as a table\n",
    "print(insulin_comparison)"
   ]
  },
  {
   "cell_type": "markdown",
   "id": "8c4f3cd0",
   "metadata": {},
   "source": [
    "All descriptive statistics are similar except **min** whose after imputation value is negative, which is not physiologically valid for Insulin.\n",
    "\n",
    "To fix this, we will clip negative values to a realistic minimum"
   ]
  },
  {
   "cell_type": "code",
   "execution_count": null,
   "id": "376df833",
   "metadata": {},
   "outputs": [],
   "source": [
    "# Clipping insulin negative values to a realistic minimum of 14\n",
    "X_imputed['Insulin'] = X_imputed['Insulin'].clip(lower=14)"
   ]
  },
  {
   "cell_type": "markdown",
   "id": "007c496b",
   "metadata": {},
   "source": [
    "##### Updated Insulin Comparison"
   ]
  },
  {
   "cell_type": "code",
   "execution_count": 23,
   "id": "98310f68",
   "metadata": {},
   "outputs": [
    {
     "name": "stdout",
     "output_type": "stream",
     "text": [
      "  Metric  Before Imputation  After Imputation & Clipping\n",
      "0  count         394.000000                   768.000000\n",
      "1   mean         155.548223                   152.684350\n",
      "2    std         118.775855                    97.277600\n",
      "3    min          14.000000                    14.000000\n",
      "4    25%          76.250000                    89.986466\n",
      "5    50%         125.000000                   130.196342\n",
      "6    75%         190.000000                   190.000000\n",
      "7    max         846.000000                   846.000000\n"
     ]
    }
   ],
   "source": [
    "# Get updated describe() output\n",
    "after_clipping_desc_insulin = X_imputed[\"Insulin\"].describe()\n",
    "\n",
    "# Re-create the comparison table\n",
    "insulin_comparison_clipped = pd.DataFrame({\n",
    "    \"Metric\": before_desc_insulin.index,\n",
    "    \"Before Imputation\": before_desc_insulin.values,\n",
    "    \"After Imputation & Clipping\": after_clipping_desc_insulin.values\n",
    "})\n",
    "\n",
    "# Display the new comparison table\n",
    "print(insulin_comparison_clipped)"
   ]
  },
  {
   "cell_type": "markdown",
   "id": "a1c95f93",
   "metadata": {},
   "source": [
    "#### Body Mass Index (BMI) Comparison"
   ]
  },
  {
   "cell_type": "code",
   "execution_count": 21,
   "id": "bd46394e",
   "metadata": {},
   "outputs": [
    {
     "name": "stdout",
     "output_type": "stream",
     "text": [
      "  Metric  Before Imputation  After Imputation\n",
      "0  count         757.000000        768.000000\n",
      "1   mean          32.457464         32.436839\n",
      "2    std           6.924988          6.879242\n",
      "3    min          18.200000         18.200000\n",
      "4    25%          27.500000         27.500000\n",
      "5    50%          32.300000         32.000000\n",
      "6    75%          36.600000         36.600000\n",
      "7    max          67.100000         67.100000\n"
     ]
    }
   ],
   "source": [
    "# Get the describe() outputs\n",
    "before_desc_BMI = df[\"BMI\"].describe()\n",
    "after_desc_BMI = X_imputed[\"BMI\"].describe()\n",
    "\n",
    "# Combine into a DataFrame\n",
    "BMI_comparison = pd.DataFrame({\n",
    "    \"Metric\": before_desc_BMI.index,\n",
    "    \"Before Imputation\": before_desc_BMI.values,\n",
    "    \"After Imputation\": after_desc_BMI.values\n",
    "})\n",
    "\n",
    "# Display as a table\n",
    "print(BMI_comparison)"
   ]
  },
  {
   "cell_type": "markdown",
   "id": "249cdb51",
   "metadata": {},
   "source": [
    "### 7. Combining Imputed Data with Target"
   ]
  },
  {
   "cell_type": "code",
   "execution_count": 24,
   "id": "a11e4cce",
   "metadata": {},
   "outputs": [],
   "source": [
    "# Combine Imputed Data with Target\n",
    "df_imputed = X_imputed.copy()\n",
    "df_imputed['Outcome'] = y.values # to ensure proper alignment"
   ]
  },
  {
   "cell_type": "code",
   "execution_count": 25,
   "id": "4f36125a",
   "metadata": {},
   "outputs": [
    {
     "name": "stdout",
     "output_type": "stream",
     "text": [
      "Target column added. Final DataFrame shape: (768, 14)\n",
      "Column names: ['Pregnancies', 'Glucose', 'BloodPressure', 'SkinThickness', 'Insulin', 'BMI', 'DiabetesPedigreeFunction', 'Age', 'Glucose_missing', 'BloodPressure_missing', 'SkinThickness_missing', 'Insulin_missing', 'BMI_missing', 'Outcome']\n"
     ]
    }
   ],
   "source": [
    "# Confirming combination\n",
    "print(\"Target column added. Final DataFrame shape:\", df_imputed.shape)\n",
    "print(\"Column names:\", df_imputed.columns.tolist())"
   ]
  },
  {
   "cell_type": "code",
   "execution_count": 26,
   "id": "cd31fab6",
   "metadata": {},
   "outputs": [
    {
     "name": "stdout",
     "output_type": "stream",
     "text": [
      "Preview of final dataset:\n",
      "   Pregnancies  Glucose  BloodPressure  SkinThickness     Insulin   BMI  \\\n",
      "0          6.0    148.0           72.0      35.000000  218.923435  33.6   \n",
      "1          1.0     85.0           66.0      29.000000   70.306082  26.6   \n",
      "2          8.0    183.0           64.0      21.640837  268.531745  23.3   \n",
      "3          1.0     89.0           66.0      23.000000   94.000000  28.1   \n",
      "4          0.0    137.0           40.0      35.000000  168.000000  43.1   \n",
      "\n",
      "   DiabetesPedigreeFunction   Age  Glucose_missing  BloodPressure_missing  \\\n",
      "0                     0.627  50.0              0.0                    0.0   \n",
      "1                     0.351  31.0              0.0                    0.0   \n",
      "2                     0.672  32.0              0.0                    0.0   \n",
      "3                     0.167  21.0              0.0                    0.0   \n",
      "4                     2.288  33.0              0.0                    0.0   \n",
      "\n",
      "   SkinThickness_missing  Insulin_missing  BMI_missing  Outcome  \n",
      "0                    0.0              1.0          0.0        1  \n",
      "1                    0.0              1.0          0.0        0  \n",
      "2                    1.0              1.0          0.0        1  \n",
      "3                    0.0              0.0          0.0        0  \n",
      "4                    0.0              0.0          0.0        1  \n"
     ]
    }
   ],
   "source": [
    "# Ensuring final dataframe is assembled properly\n",
    "print(\"Preview of final dataset:\")\n",
    "print(df_imputed.head())"
   ]
  },
  {
   "cell_type": "markdown",
   "id": "cfc9fd9a",
   "metadata": {},
   "source": [
    "### 8. Final Imputed Dataset"
   ]
  },
  {
   "cell_type": "code",
   "execution_count": 27,
   "id": "8e253fc1",
   "metadata": {},
   "outputs": [
    {
     "name": "stdout",
     "output_type": "stream",
     "text": [
      "Dataset saved as 'diabetes_imputed.csv'\n"
     ]
    }
   ],
   "source": [
    "# Save the imputed dataset\n",
    "df_imputed.to_csv(\"diabetes_imputed.csv\", index=False)\n",
    "print(\"Dataset saved as 'diabetes_imputed.csv'\")"
   ]
  }
 ],
 "metadata": {
  "kernelspec": {
   "display_name": "base",
   "language": "python",
   "name": "python3"
  },
  "language_info": {
   "codemirror_mode": {
    "name": "ipython",
    "version": 3
   },
   "file_extension": ".py",
   "mimetype": "text/x-python",
   "name": "python",
   "nbconvert_exporter": "python",
   "pygments_lexer": "ipython3",
   "version": "3.12.7"
  }
 },
 "nbformat": 4,
 "nbformat_minor": 5
}
